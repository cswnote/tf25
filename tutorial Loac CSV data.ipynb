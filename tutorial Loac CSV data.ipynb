{
 "cells": [
  {
   "cell_type": "code",
   "execution_count": 16,
   "id": "89e29bf2",
   "metadata": {},
   "outputs": [],
   "source": [
    "dict = {1: [1, 2, 3], 2: ['a', 'b', 'c']}"
   ]
  },
  {
   "cell_type": "code",
   "execution_count": 20,
   "id": "bc969188",
   "metadata": {},
   "outputs": [
    {
     "name": "stdout",
     "output_type": "stream",
     "text": [
      "=====\n",
      "=====\n"
     ]
    }
   ],
   "source": [
    "for name, inputs in dict.items():\n",
    "    if type(inputs) is int:\n",
    "        print('before continue')\n",
    "        continue\n",
    "    \n",
    "    print('=====')"
   ]
  },
  {
   "cell_type": "code",
   "execution_count": 23,
   "id": "ca05477a",
   "metadata": {},
   "outputs": [],
   "source": [
    "a = dict.keys()"
   ]
  },
  {
   "cell_type": "code",
   "execution_count": 24,
   "id": "8d28c9a0",
   "metadata": {},
   "outputs": [
    {
     "ename": "TypeError",
     "evalue": "unhashable type: 'dict_keys'",
     "output_type": "error",
     "traceback": [
      "\u001b[1;31m---------------------------------------------------------------------------\u001b[0m",
      "\u001b[1;31mTypeError\u001b[0m                                 Traceback (most recent call last)",
      "Input \u001b[1;32mIn [24]\u001b[0m, in \u001b[0;36m<cell line: 1>\u001b[1;34m()\u001b[0m\n\u001b[1;32m----> 1\u001b[0m np\u001b[38;5;241m.\u001b[39marray(\u001b[38;5;28;43mdict\u001b[39;49m\u001b[43m[\u001b[49m\u001b[43ma\u001b[49m\u001b[43m]\u001b[49m)\n",
      "\u001b[1;31mTypeError\u001b[0m: unhashable type: 'dict_keys'"
     ]
    }
   ],
   "source": [
    "np.array(dict[a])"
   ]
  },
  {
   "cell_type": "code",
   "execution_count": null,
   "id": "fb2fe0fc",
   "metadata": {},
   "outputs": [],
   "source": []
  }
 ],
 "metadata": {
  "kernelspec": {
   "display_name": "tf25",
   "language": "python",
   "name": "tf25"
  },
  "language_info": {
   "codemirror_mode": {
    "name": "ipython",
    "version": 3
   },
   "file_extension": ".py",
   "mimetype": "text/x-python",
   "name": "python",
   "nbconvert_exporter": "python",
   "pygments_lexer": "ipython3",
   "version": "3.9.12"
  }
 },
 "nbformat": 4,
 "nbformat_minor": 5
}
