{
 "cells": [
  {
   "cell_type": "code",
   "execution_count": 1,
   "id": "0323f984",
   "metadata": {},
   "outputs": [
    {
     "name": "stdout",
     "output_type": "stream",
     "text": [
      "Python 3.9.10\r\n"
     ]
    }
   ],
   "source": [
    "!python --version"
   ]
  },
  {
   "cell_type": "code",
   "execution_count": 2,
   "id": "6f6535e8",
   "metadata": {},
   "outputs": [
    {
     "ename": "ImportError",
     "evalue": "dlopen(/Users/rainyseason/miniforge3/envs/tf25/lib/python3.8/site-packages/tensorflow/python/_pywrap_tfe.so, 0x0002): Library not loaded: '@rpath/_pywrap_tensorflow_internal.so'\n  Referenced from: '/Users/rainyseason/miniforge3/envs/tf25/lib/python3.8/site-packages/tensorflow/python/_pywrap_tfe.so'\n  Reason: tried: '/Users/rainyseason/miniforge3/envs/tf25/lib/python3.8/site-packages/tensorflow/python/../../_solib_darwin_arm64/_U_S_Stensorflow_Spython_C_Upywrap_Utfe.so___Utensorflow/_pywrap_tensorflow_internal.so' (no such file), '/Users/rainyseason/miniforge3/envs/tf25/lib/python3.8/site-packages/tensorflow/python/../../_solib_darwin_arm64/_U_S_Stensorflow_Spython_C_Upywrap_Utensorflow_Uinternal_Umacos___Utensorflow_Spython/_pywrap_tensorflow_internal.so' (no such file), '/Users/rainyseason/miniforge3/envs/tf25/lib/python3.8/site-packages/tensorflow/python/_pywrap_tensorflow_internal.so' (no such file), '/Users/rainyseason/miniforge3/envs/tf25/lib/python3.8/site-packages/tensorflow/python/../_pywrap_tensorflow_internal.so' (no such file), '/Users/rainyseason/miniforge3/envs/tf25/lib/python3.8/site-packages/tensorflow/python/../../_solib_darwin_arm64/_U_S_Stensorflow_Spython_C_Upywrap_Utfe.so___Utensorflow/_pywrap_tensorflow_internal.so' (no such file), '/Users/rainyseason/miniforge3/envs/tf25/lib/python3.8/site-packages/tensorflow/python/../../_solib_darwin_arm64/_U_S_Stensorflow_Spython_C_Upywrap_Utensorflow_Uinternal_Umacos___Utensorflow_Spython/_pywrap_tensorflow_internal.so' (no such file), '/Users/rainyseason/miniforge3/envs/tf25/lib/python3.8/site-packages/tensorflow/python/_pywrap_tensorflow_internal.so' (no such file), '/Users/rainyseason/miniforge3/envs/tf25/lib/python3.8/site-packages/tensorflow/python/../_pywrap_tensorflow_internal.so' (no such file), '/Users/rainyseason/miniforge3/envs/tf25/bin/../lib/_pywrap_tensorflow_internal.so' (no such file), '/Users/rainyseason/miniforge3/envs/tf25/bin/../lib/_pywrap_tensorflow_internal.so' (no such file), '/usr/local/lib/_pywrap_tensorflow_internal.so' (no such file), '/usr/lib/_pywrap_tensorflow_internal.so' (no such file)",
     "output_type": "error",
     "traceback": [
      "\u001b[0;31m---------------------------------------------------------------------------\u001b[0m",
      "\u001b[0;31mImportError\u001b[0m                               Traceback (most recent call last)",
      "Input \u001b[0;32mIn [2]\u001b[0m, in \u001b[0;36m<cell line: 4>\u001b[0;34m()\u001b[0m\n\u001b[1;32m      1\u001b[0m \u001b[38;5;28;01mimport\u001b[39;00m \u001b[38;5;21;01mcollections\u001b[39;00m\n\u001b[1;32m      2\u001b[0m \u001b[38;5;28;01mimport\u001b[39;00m \u001b[38;5;21;01mpathlib\u001b[39;00m\n\u001b[0;32m----> 4\u001b[0m \u001b[38;5;28;01mimport\u001b[39;00m \u001b[38;5;21;01mtensorflow\u001b[39;00m \u001b[38;5;28;01mas\u001b[39;00m \u001b[38;5;21;01mtf\u001b[39;00m\n\u001b[1;32m      6\u001b[0m \u001b[38;5;28;01mfrom\u001b[39;00m \u001b[38;5;21;01mtensorflow\u001b[39;00m\u001b[38;5;21;01m.\u001b[39;00m\u001b[38;5;21;01mkeras\u001b[39;00m \u001b[38;5;28;01mimport\u001b[39;00m layers\n\u001b[1;32m      7\u001b[0m \u001b[38;5;28;01mfrom\u001b[39;00m \u001b[38;5;21;01mtensorflow\u001b[39;00m\u001b[38;5;21;01m.\u001b[39;00m\u001b[38;5;21;01mkeras\u001b[39;00m \u001b[38;5;28;01mimport\u001b[39;00m losses\n",
      "File \u001b[0;32m~/miniforge3/envs/tf25/lib/python3.8/site-packages/tensorflow/__init__.py:37\u001b[0m, in \u001b[0;36m<module>\u001b[0;34m\u001b[0m\n\u001b[1;32m     34\u001b[0m \u001b[38;5;28;01mimport\u001b[39;00m \u001b[38;5;21;01msys\u001b[39;00m \u001b[38;5;28;01mas\u001b[39;00m \u001b[38;5;21;01m_sys\u001b[39;00m\n\u001b[1;32m     35\u001b[0m \u001b[38;5;28;01mimport\u001b[39;00m \u001b[38;5;21;01mtyping\u001b[39;00m \u001b[38;5;28;01mas\u001b[39;00m \u001b[38;5;21;01m_typing\u001b[39;00m\n\u001b[0;32m---> 37\u001b[0m \u001b[38;5;28;01mfrom\u001b[39;00m \u001b[38;5;21;01mtensorflow\u001b[39;00m\u001b[38;5;21;01m.\u001b[39;00m\u001b[38;5;21;01mpython\u001b[39;00m\u001b[38;5;21;01m.\u001b[39;00m\u001b[38;5;21;01mtools\u001b[39;00m \u001b[38;5;28;01mimport\u001b[39;00m module_util \u001b[38;5;28;01mas\u001b[39;00m _module_util\n\u001b[1;32m     38\u001b[0m \u001b[38;5;28;01mfrom\u001b[39;00m \u001b[38;5;21;01mtensorflow\u001b[39;00m\u001b[38;5;21;01m.\u001b[39;00m\u001b[38;5;21;01mpython\u001b[39;00m\u001b[38;5;21;01m.\u001b[39;00m\u001b[38;5;21;01mutil\u001b[39;00m\u001b[38;5;21;01m.\u001b[39;00m\u001b[38;5;21;01mlazy_loader\u001b[39;00m \u001b[38;5;28;01mimport\u001b[39;00m LazyLoader \u001b[38;5;28;01mas\u001b[39;00m _LazyLoader\n\u001b[1;32m     40\u001b[0m \u001b[38;5;66;03m# Make sure code inside the TensorFlow codebase can use tf2.enabled() at import.\u001b[39;00m\n",
      "File \u001b[0;32m~/miniforge3/envs/tf25/lib/python3.8/site-packages/tensorflow/python/__init__.py:37\u001b[0m, in \u001b[0;36m<module>\u001b[0;34m\u001b[0m\n\u001b[1;32m     29\u001b[0m \u001b[38;5;66;03m# We aim to keep this file minimal and ideally remove completely.\u001b[39;00m\n\u001b[1;32m     30\u001b[0m \u001b[38;5;66;03m# If you are adding a new file with @tf_export decorators,\u001b[39;00m\n\u001b[1;32m     31\u001b[0m \u001b[38;5;66;03m# import it in modules_with_exports.py instead.\u001b[39;00m\n\u001b[1;32m     32\u001b[0m \n\u001b[1;32m     33\u001b[0m \u001b[38;5;66;03m# go/tf-wildcard-import\u001b[39;00m\n\u001b[1;32m     34\u001b[0m \u001b[38;5;66;03m# pylint: disable=wildcard-import,g-bad-import-order,g-import-not-at-top\u001b[39;00m\n\u001b[1;32m     36\u001b[0m \u001b[38;5;28;01mfrom\u001b[39;00m \u001b[38;5;21;01mtensorflow\u001b[39;00m\u001b[38;5;21;01m.\u001b[39;00m\u001b[38;5;21;01mpython\u001b[39;00m \u001b[38;5;28;01mimport\u001b[39;00m pywrap_tensorflow \u001b[38;5;28;01mas\u001b[39;00m _pywrap_tensorflow\n\u001b[0;32m---> 37\u001b[0m \u001b[38;5;28;01mfrom\u001b[39;00m \u001b[38;5;21;01mtensorflow\u001b[39;00m\u001b[38;5;21;01m.\u001b[39;00m\u001b[38;5;21;01mpython\u001b[39;00m\u001b[38;5;21;01m.\u001b[39;00m\u001b[38;5;21;01meager\u001b[39;00m \u001b[38;5;28;01mimport\u001b[39;00m context\n\u001b[1;32m     39\u001b[0m \u001b[38;5;66;03m# pylint: enable=wildcard-import\u001b[39;00m\n\u001b[1;32m     40\u001b[0m \n\u001b[1;32m     41\u001b[0m \u001b[38;5;66;03m# Bring in subpackages.\u001b[39;00m\n\u001b[1;32m     42\u001b[0m \u001b[38;5;28;01mfrom\u001b[39;00m \u001b[38;5;21;01mtensorflow\u001b[39;00m\u001b[38;5;21;01m.\u001b[39;00m\u001b[38;5;21;01mpython\u001b[39;00m \u001b[38;5;28;01mimport\u001b[39;00m data\n",
      "File \u001b[0;32m~/miniforge3/envs/tf25/lib/python3.8/site-packages/tensorflow/python/eager/context.py:33\u001b[0m, in \u001b[0;36m<module>\u001b[0;34m\u001b[0m\n\u001b[1;32m     31\u001b[0m \u001b[38;5;28;01mfrom\u001b[39;00m \u001b[38;5;21;01mtensorflow\u001b[39;00m\u001b[38;5;21;01m.\u001b[39;00m\u001b[38;5;21;01mcore\u001b[39;00m\u001b[38;5;21;01m.\u001b[39;00m\u001b[38;5;21;01mprotobuf\u001b[39;00m \u001b[38;5;28;01mimport\u001b[39;00m coordination_config_pb2\n\u001b[1;32m     32\u001b[0m \u001b[38;5;28;01mfrom\u001b[39;00m \u001b[38;5;21;01mtensorflow\u001b[39;00m\u001b[38;5;21;01m.\u001b[39;00m\u001b[38;5;21;01mcore\u001b[39;00m\u001b[38;5;21;01m.\u001b[39;00m\u001b[38;5;21;01mprotobuf\u001b[39;00m \u001b[38;5;28;01mimport\u001b[39;00m rewriter_config_pb2\n\u001b[0;32m---> 33\u001b[0m \u001b[38;5;28;01mfrom\u001b[39;00m \u001b[38;5;21;01mtensorflow\u001b[39;00m\u001b[38;5;21;01m.\u001b[39;00m\u001b[38;5;21;01mpython\u001b[39;00m \u001b[38;5;28;01mimport\u001b[39;00m pywrap_tfe\n\u001b[1;32m     34\u001b[0m \u001b[38;5;28;01mfrom\u001b[39;00m \u001b[38;5;21;01mtensorflow\u001b[39;00m\u001b[38;5;21;01m.\u001b[39;00m\u001b[38;5;21;01mpython\u001b[39;00m \u001b[38;5;28;01mimport\u001b[39;00m tf2\n\u001b[1;32m     35\u001b[0m \u001b[38;5;28;01mfrom\u001b[39;00m \u001b[38;5;21;01mtensorflow\u001b[39;00m\u001b[38;5;21;01m.\u001b[39;00m\u001b[38;5;21;01mpython\u001b[39;00m\u001b[38;5;21;01m.\u001b[39;00m\u001b[38;5;21;01mclient\u001b[39;00m \u001b[38;5;28;01mimport\u001b[39;00m pywrap_tf_session\n",
      "File \u001b[0;32m~/miniforge3/envs/tf25/lib/python3.8/site-packages/tensorflow/python/pywrap_tfe.py:25\u001b[0m, in \u001b[0;36m<module>\u001b[0;34m\u001b[0m\n\u001b[1;32m     23\u001b[0m \u001b[38;5;66;03m# pylint: disable=invalid-import-order,g-bad-import-order, wildcard-import, unused-import\u001b[39;00m\n\u001b[1;32m     24\u001b[0m \u001b[38;5;28;01mfrom\u001b[39;00m \u001b[38;5;21;01mtensorflow\u001b[39;00m\u001b[38;5;21;01m.\u001b[39;00m\u001b[38;5;21;01mpython\u001b[39;00m \u001b[38;5;28;01mimport\u001b[39;00m pywrap_tensorflow\n\u001b[0;32m---> 25\u001b[0m \u001b[38;5;28;01mfrom\u001b[39;00m \u001b[38;5;21;01mtensorflow\u001b[39;00m\u001b[38;5;21;01m.\u001b[39;00m\u001b[38;5;21;01mpython\u001b[39;00m\u001b[38;5;21;01m.\u001b[39;00m\u001b[38;5;21;01m_pywrap_tfe\u001b[39;00m \u001b[38;5;28;01mimport\u001b[39;00m \u001b[38;5;241m*\u001b[39m\n",
      "\u001b[0;31mImportError\u001b[0m: dlopen(/Users/rainyseason/miniforge3/envs/tf25/lib/python3.8/site-packages/tensorflow/python/_pywrap_tfe.so, 0x0002): Library not loaded: '@rpath/_pywrap_tensorflow_internal.so'\n  Referenced from: '/Users/rainyseason/miniforge3/envs/tf25/lib/python3.8/site-packages/tensorflow/python/_pywrap_tfe.so'\n  Reason: tried: '/Users/rainyseason/miniforge3/envs/tf25/lib/python3.8/site-packages/tensorflow/python/../../_solib_darwin_arm64/_U_S_Stensorflow_Spython_C_Upywrap_Utfe.so___Utensorflow/_pywrap_tensorflow_internal.so' (no such file), '/Users/rainyseason/miniforge3/envs/tf25/lib/python3.8/site-packages/tensorflow/python/../../_solib_darwin_arm64/_U_S_Stensorflow_Spython_C_Upywrap_Utensorflow_Uinternal_Umacos___Utensorflow_Spython/_pywrap_tensorflow_internal.so' (no such file), '/Users/rainyseason/miniforge3/envs/tf25/lib/python3.8/site-packages/tensorflow/python/_pywrap_tensorflow_internal.so' (no such file), '/Users/rainyseason/miniforge3/envs/tf25/lib/python3.8/site-packages/tensorflow/python/../_pywrap_tensorflow_internal.so' (no such file), '/Users/rainyseason/miniforge3/envs/tf25/lib/python3.8/site-packages/tensorflow/python/../../_solib_darwin_arm64/_U_S_Stensorflow_Spython_C_Upywrap_Utfe.so___Utensorflow/_pywrap_tensorflow_internal.so' (no such file), '/Users/rainyseason/miniforge3/envs/tf25/lib/python3.8/site-packages/tensorflow/python/../../_solib_darwin_arm64/_U_S_Stensorflow_Spython_C_Upywrap_Utensorflow_Uinternal_Umacos___Utensorflow_Spython/_pywrap_tensorflow_internal.so' (no such file), '/Users/rainyseason/miniforge3/envs/tf25/lib/python3.8/site-packages/tensorflow/python/_pywrap_tensorflow_internal.so' (no such file), '/Users/rainyseason/miniforge3/envs/tf25/lib/python3.8/site-packages/tensorflow/python/../_pywrap_tensorflow_internal.so' (no such file), '/Users/rainyseason/miniforge3/envs/tf25/bin/../lib/_pywrap_tensorflow_internal.so' (no such file), '/Users/rainyseason/miniforge3/envs/tf25/bin/../lib/_pywrap_tensorflow_internal.so' (no such file), '/usr/local/lib/_pywrap_tensorflow_internal.so' (no such file), '/usr/lib/_pywrap_tensorflow_internal.so' (no such file)"
     ]
    }
   ],
   "source": [
    "import collections\n",
    "import pathlib\n",
    "\n",
    "import tensorflow as tf\n",
    "\n",
    "from tensorflow.keras import layers\n",
    "from tensorflow.keras import losses\n",
    "from tensorflow.keras import utils\n",
    "from tensorflow.keras.layers import TextVectorization\n",
    "\n",
    "import tensorflow_datasets as tfds\n",
    "import tensorflow_text as tf_text"
   ]
  },
  {
   "cell_type": "code",
   "execution_count": 3,
   "id": "1fbb39d0",
   "metadata": {},
   "outputs": [
    {
     "data": {
      "text/plain": [
       "'2.8.0'"
      ]
     },
     "execution_count": 3,
     "metadata": {},
     "output_type": "execute_result"
    }
   ],
   "source": [
    "tf.__version__"
   ]
  },
  {
   "cell_type": "markdown",
   "id": "c64ac261",
   "metadata": {},
   "source": [
    "## Example1 : Predict the tag for a Stack Overflow question"
   ]
  },
  {
   "cell_type": "markdown",
   "id": "609d30cf",
   "metadata": {},
   "source": [
    "### Download and explore the dataset"
   ]
  },
  {
   "cell_type": "code",
   "execution_count": 4,
   "id": "267494f2",
   "metadata": {
    "scrolled": true
   },
   "outputs": [],
   "source": [
    "data_url = 'https://storage.googleapis.com/download.tensorflow.org/data/stack_overflow_16k.tar.gz'\n",
    "\n",
    "dataset_dir = utils.get_file(origin=data_url,\n",
    "                            untar=True,\n",
    "                            cache_dir='/Users/rainyseason/winston/Workspace/python/Pycharm Project/tf25/stack_overflow/cache',\n",
    "                            cache_subdir='/Users/rainyseason/winston/Workspace/python/Pycharm Project/tf25/stack_overflow')\n",
    "\n",
    "dataset_dir = pathlib.Path(dataset_dir).parent"
   ]
  },
  {
   "cell_type": "code",
   "execution_count": 5,
   "id": "1521dd1f",
   "metadata": {},
   "outputs": [
    {
     "data": {
      "text/plain": [
       "[PosixPath('/Users/rainyseason/winston/Workspace/python/Pycharm Project/tf25/stack_overflow/test'),\n",
       " PosixPath('/Users/rainyseason/winston/Workspace/python/Pycharm Project/tf25/stack_overflow/stack_overflow_16k.tar.gz'),\n",
       " PosixPath('/Users/rainyseason/winston/Workspace/python/Pycharm Project/tf25/stack_overflow/README.md'),\n",
       " PosixPath('/Users/rainyseason/winston/Workspace/python/Pycharm Project/tf25/stack_overflow/train')]"
      ]
     },
     "execution_count": 5,
     "metadata": {},
     "output_type": "execute_result"
    }
   ],
   "source": [
    "list(dataset_dir.iterdir())"
   ]
  },
  {
   "cell_type": "code",
   "execution_count": 6,
   "id": "aaa5d62d",
   "metadata": {},
   "outputs": [
    {
     "data": {
      "text/plain": [
       "[PosixPath('/Users/rainyseason/winston/Workspace/python/Pycharm Project/tf25/stack_overflow/train/python'),\n",
       " PosixPath('/Users/rainyseason/winston/Workspace/python/Pycharm Project/tf25/stack_overflow/train/java'),\n",
       " PosixPath('/Users/rainyseason/winston/Workspace/python/Pycharm Project/tf25/stack_overflow/train/csharp'),\n",
       " PosixPath('/Users/rainyseason/winston/Workspace/python/Pycharm Project/tf25/stack_overflow/train/javascript')]"
      ]
     },
     "execution_count": 6,
     "metadata": {},
     "output_type": "execute_result"
    }
   ],
   "source": [
    "train_dir = dataset_dir / 'train'\n",
    "list(train_dir.iterdir())"
   ]
  },
  {
   "cell_type": "code",
   "execution_count": 7,
   "id": "a6d5d0d5",
   "metadata": {},
   "outputs": [],
   "source": [
    "train_py_dir = train_dir / 'python'"
   ]
  },
  {
   "cell_type": "code",
   "execution_count": 8,
   "id": "07443acf",
   "metadata": {},
   "outputs": [
    {
     "data": {
      "text/plain": [
       "PosixPath('/Users/rainyseason/winston/Workspace/python/Pycharm Project/tf25/stack_overflow/train/python/1053.txt')"
      ]
     },
     "execution_count": 8,
     "metadata": {},
     "output_type": "execute_result"
    }
   ],
   "source": [
    "list(train_py_dir.iterdir())[0]"
   ]
  },
  {
   "cell_type": "code",
   "execution_count": 9,
   "id": "b6eb82cf",
   "metadata": {},
   "outputs": [
    {
     "data": {
      "text/plain": [
       "True"
      ]
     },
     "execution_count": 9,
     "metadata": {},
     "output_type": "execute_result"
    }
   ],
   "source": [
    "sample_file = train_py_dir / '1053.txt'\n",
    "sample_file.is_file()"
   ]
  },
  {
   "cell_type": "code",
   "execution_count": 10,
   "id": "ac663fe7",
   "metadata": {
    "scrolled": true
   },
   "outputs": [
    {
     "name": "stdout",
     "output_type": "stream",
     "text": [
      "\"how to put multiple pickles files in a single pickle file i have two pickle files that are contain a list of numpy ndarrays...first pickle file:..{'encodings': [array([-0.18668848,  0.09167872,  0.02361359, -0.04610855, -0.11987427,.       -0.06734911,  0.00542389,  0.02105863,  0.17828396, -0.00141097,.        0.166828s45, -0.01075029, -0.20508201,  0.02762154, -0.00806585,.        0.098497  , -0.17736666, -0.11334869, -0.10142692, -0.1134191 ,.        0.06917755,  0.07989676, -0.04121129,  0.04280601, -0.12306173,.       -0.29819348, -0.07650399, -0.10041754,  0.02334423, -0.06270325,.        0.12638046,  0.10296188, -0.10587093, -0.08311734,  0.06213638,.        0.08304631, -0.03443629, -0.08486824,  0.23685798,  0.01827276,.       -0.10278646,  0.01152256,  0.08467054,  0.37257931,  0.15582474,.        0.02709438,  0.04016857, -0.08466265,  0.14121686, -0.27717495,.        0.13716345,  0.18896437,  0.05110805,  0.106585  ,  0.15150583,.       -0.1350172 ,  0.02701535,  0.14240757, -0.17536291,  0.07862181,.        0.06092819,  0.00497432, -0.03655054, -0.15420173,  0.1805391 ,.        0.10382829, -0.07878115, -0.08832525,  0.15745324, -0.07997591,.       -0.13981505,  0.04213319, -0.19279024, -0.15900737, -0.29393584,.        0.10862678,  0.41602921,  0.15656555, -0.11855101,  0.04216752,.       -0.0232455 , -0.03370954,  0.0355633 ,  0.03816839, -0.13917619,.       -0.06723036, -0.04189514,  0.11147611,  0.1995673 ,  0.03261004,.       -0.10638862,  0.1559474 ,  0.05621403, -0.05708034,  0.0482568 ,.        0.01418147, -0.04671318, -0.06601512, -0.20332824, -0.0691556 ,.        0.12811929, -0.07675947, -0.01019647,  0.12645237, -0.19479996,.        0.10532782,  0.03804317, -0.04418825, -0.06108642,  0.02885859,.       -0.15403567,  0.05608891,  0.19509147, -0.15066354,  0.22698388,.        0.12219262,  0.05469556,  0.15206271,  0.06922045,  0.04643065,.       -0.02632714, -0.01712689, -0.09087028, -0.06960677,  0.08032852,.        0.13741611,  0.06458308,  0.07958878])], 'names': ['tom']}...second pickle file:..{'encodings': [array([-1.10906549e-01,  2.82760076e-02,  1.40928570e-02, -7.55623430e-02,.       -1.18420059e-02, -6.79435134e-02,  7.94159248e-04, -2.11588703e-02,.        1.68759167e-01, -6.51913695e-03,  1.54918343e-01,  2.80910246e-02,.       -2.08628818e-01, -2.71124691e-02,  2.27540880e-02,  3.07342559e-02,.       -1.96070462e-01, -9.49537754e-02, -8.10625032e-02, -8.46448690e-02,.        3.26108336e-02,  4.36929706e-03,  4.52538766e-02,  1.06669012e-02,.       -1.42774120e-01, -3.27435136e-01, -9.54359397e-02, -1.95318609e-01,.        6.05729260e-02, -7.79287443e-02,  6.29613698e-02, -1.52168227e-02,.       -1.35686964e-01, -3.66957076e-02,  2.39675865e-04,  4.68941033e-02,.       -4.50511239e-02, -3.71131971e-02,  1.89375550e-01,  4.80678454e-02,.       -1.22665457e-01, -3.68929692e-02, -3.50655429e-03,  3.41097176e-01,.        1.51335686e-01,  8.24191347e-02,  9.05722976e-02, -2.97215953e-03,.        1.33755967e-01, -2.90517062e-01,  1.33845448e-01,  9.89130512e-02,.        6.75613731e-02,  3.23878974e-02,  1.52221993e-01, -1.62803844e-01,.        8.13175887e-02,  1.11765333e-01, -2.38216847e-01,  1.41546726e-01,.        9.62506086e-02,  3.70164961e-03, -5.48346117e-02,  3.90823977e-03,.        2.20120877e-01,  1.01806007e-01, -1.14795811e-01, -1.18746825e-01,.        7.93062896e-02, -1.68676943e-01, -1.02184657e-02,  8.04015025e-02,.       -1.35200977e-01, -1.91683397e-01, -2.35828787e-01,  1.02385968e-01,.        4.50523496e-01,  1.27005681e-01, -7.58898705e-02,  4.50269431e-02,.       -5.20654880e-02, -4.20882925e-02,  1.13409899e-01,  6.25026077e-02,.       -1.17209882e-01,  2.94286814e-02, -1.15291528e-01,  5.63262142e-02,.        1.39795944e-01, -1.62808914e-02, -4.35662456e-02,  1.33413598e-01,.       -3.00255269e-02, -1.28360288e-02, -3.27749550e-03,  8.85868631e-03,.       -1.23581521e-01,  4.58956361e-02, -5.75632229e-02,  6.86901249e-03,.        1.01847328e-01, -7.13049620e-02, -4.22733976e-03,  5.29949181e-02,.       -1.64895400e-01,  1.34815559e-01, -2.89627630e-02, -6.24453239e-02,.       -3.33562531e-02, -2.41741575e-02, -9.46198851e-02, -3.14747319e-02,.        1.33324310e-01, -2.73984402e-01,  1.59612253e-01,  2.19413936e-01,.        4.25861105e-02,  1.33684829e-01, -2.11685020e-02, -3.15915793e-04,.        1.95543766e-02,  8.47738683e-02, -1.88602582e-01, -2.10027974e-02,.       -6.66024908e-03,  2.21308358e-02, -1.30187161e-03, -5.09036798e-03])], 'names': ['jack']}...i want to have:..{'encodings': [array([-1.10906549e-01,  2.82760076e-02,  1.40928570e-02, -7.55623430e-02,.       -1.18420059e-02, -6.79435134e-02,  7.94159248e-04, -2.11588703e-02,.        1.68759167e-01, -6.51913695e-03,  1.54918343e-01,  2.80910246e-02,.       -2.08628818e-01, -2.71124691e-02,  2.27540880e-02,  3.07342559e-02,.       -1.96070462e-01, -9.49537754e-02, -8.10625032e-02, -8.46448690e-02,.        3.26108336e-02,  4.36929706e-03,  4.52538766e-02,  1.06669012e-02,.       -1.42774120e-01, -3.27435136e-01, -9.54359397e-02, -1.95318609e-01,.        6.05729260e-02, -7.79287443e-02,  6.29613698e-02, -1.52168227e-02,.       -1.35686964e-01, -3.66957076e-02,  2.39675865e-04,  4.68941033e-02,.       -4.50511239e-02, -3.71131971e-02,  1.89375550e-01,  4.80678454e-02,.       -1.22665457e-01, -3.68929692e-02, -3.50655429e-03,  3.41097176e-01,.        1.51335686e-01,  8.24191347e-02,  9.05722976e-02, -2.97215953e-03,.        1.33755967e-01, -2.90517062e-01,  1.33845448e-01,  9.89130512e-02,.        6.75613731e-02,  3.23878974e-02,  1.52221993e-01, -1.62803844e-01,.        8.13175887e-02,  1.11765333e-01, -2.38216847e-01,  1.41546726e-01,.        9.62506086e-02,  3.70164961e-03, -5.48346117e-02,  3.90823977e-03,.        2.20120877e-01,  1.01806007e-01, -1.14795811e-01, -1.18746825e-01,.        7.93062896e-02, -1.68676943e-01, -1.02184657e-02,  8.04015025e-02,.       -1.35200977e-01, -1.91683397e-01, -2.35828787e-01,  1.02385968e-01,.        4.50523496e-01,  1.27005681e-01, -7.58898705e-02,  4.50269431e-02,.       -5.20654880e-02, -4.20882925e-02,  1.13409899e-01,  6.25026077e-02,.       -1.17209882e-01,  2.94286814e-02, -1.15291528e-01,  5.63262142e-02,.        1.39795944e-01, -1.62808914e-02, -4.35662456e-02,  1.33413598e-01,.       -3.00255269e-02, -1.28360288e-02, -3.27749550e-03,  8.85868631e-03,.       -1.23581521e-01,  4.58956361e-02, -5.75632229e-02,  6.86901249e-03,.        1.01847328e-01, -7.13049620e-02, -4.22733976e-03,  5.29949181e-02,.       -1.64895400e-01,  1.34815559e-01, -2.89627630e-02, -6.24453239e-02,.       -3.33562531e-02, -2.41741575e-02, -9.46198851e-02, -3.14747319e-02,.        1.33324310e-01, -2.73984402e-01,  1.59612253e-01,  2.19413936e-01,.        4.25861105e-02,  1.33684829e-01, -2.11685020e-02, -3.15915793e-04,.        1.95543766e-02,  8.47738683e-02, -1.88602582e-01, -2.10027974e-02,.       -6.66024908e-03,  2.21308358e-02, -1.30187161e-03, -5.09036798e-03]), array([-0.18668848,  0.09167872,  0.02361359, -0.04610855, -0.11987427,.       -0.06734911,  0.00542389,  0.02105863,  0.17828396, -0.00141097,.        0.16682845, -0.01075029, -0.20508201,  0.02762154, -0.00806585,.        0.098497  , -0.17736666, -0.11334869, -0.10142692, -0.1134191 ,.        0.06917755,  0.07989676, -0.04121129,  0.04280601, -0.12306173,.       -0.29819348, -0.07650399, -0.10041754,  0.02334423, -0.06270325,.        0.12638046,  0.10296188, -0.10587093, -0.08311734,  0.06213638,.        0.08304631, -0.03443629, -0.08486824,  0.23685798,  0.01827276,.       -0.10278646,  0.01152256,  0.08467054,  0.37257931,  0.15582474,.        0.02709438,  0.04016857, -0.08466265,  0.14121686, -0.27717495,.        0.13716345,  0.18896437,  0.05110805,  0.106585  ,  0.15150583,.       -0.1350172 ,  0.02701535,  0.14240757, -0.17536291,  0.07862181,.        0.06092819,  0.00497432, -0.03655054, -0.15420173,  0.1805391 ,.        0.10382829, -0.07878115, -0.08832525,  0.15745324, -0.07997591,.       -0.13981505,  0.04213319, -0.19279024, -0.15900737, -0.29393584,.        0.10862678,  0.41602921,  0.15656555, -0.11855101,  0.04216752,.       -0.0232455 , -0.03370954,  0.0355633 ,  0.03816839, -0.13917619,.       -0.06723036, -0.04189514,  0.11147611,  0.1995673 ,  0.03261004,.       -0.10638862,  0.1559474 ,  0.05621403, -0.05708034,  0.0482568 ,.        0.01418147, -0.04671318, -0.06601512, -0.20332824, -0.0691556 ,.        0.12811929, -0.07675947, -0.01019647,  0.12645237, -0.19479996,.        0.10532782,  0.03804317, -0.04418825, -0.06108642,  0.02885859,.       -0.15403567,  0.05608891,  0.19509147, -0.15066354,  0.22698388,.        0.12219262,  0.05469556,  0.15206271,  0.06922045,  0.04643065,.       -0.02632714, -0.01712689, -0.09087028, -0.06960677,  0.08032852,.        0.13741611,  0.06458308,  0.07958878])], 'names': ['jack', 'tom']}...how can i put these two pickle files in a single pickle file so that the 'encodings' in one place and the 'names' are in the same place..each encodings is for a corresponding names in the final pickle file.\"\n",
      "\n"
     ]
    }
   ],
   "source": [
    "with open(sample_file) as f:\n",
    "    print(f.read())"
   ]
  },
  {
   "cell_type": "markdown",
   "id": "97a66e7c",
   "metadata": {},
   "source": [
    "### Load the dataset"
   ]
  },
  {
   "cell_type": "code",
   "execution_count": 11,
   "id": "1349094d",
   "metadata": {},
   "outputs": [
    {
     "name": "stdout",
     "output_type": "stream",
     "text": [
      "Found 8000 files belonging to 4 classes.\n",
      "Using 6400 files for training.\n",
      "Metal device set to: Apple M1\n",
      "Found 8000 files belonging to 4 classes.\n",
      "Using 1600 files for validation.\n"
     ]
    },
    {
     "name": "stderr",
     "output_type": "stream",
     "text": [
      "2022-08-21 09:06:56.483205: I tensorflow/core/common_runtime/pluggable_device/pluggable_device_factory.cc:305] Could not identify NUMA node of platform GPU ID 0, defaulting to 0. Your kernel may not have been built with NUMA support.\n",
      "2022-08-21 09:06:56.483445: I tensorflow/core/common_runtime/pluggable_device/pluggable_device_factory.cc:271] Created TensorFlow device (/job:localhost/replica:0/task:0/device:GPU:0 with 0 MB memory) -> physical PluggableDevice (device: 0, name: METAL, pci bus id: <undefined>)\n"
     ]
    }
   ],
   "source": [
    "batch_size = 32\n",
    "seed = 42\n",
    "\n",
    "raw_train_ds = utils.text_dataset_from_directory(train_dir,\n",
    "                                                 batch_size=batch_size,\n",
    "                                                 validation_split=0.2,\n",
    "                                                 subset='training',\n",
    "                                                 seed=seed)\n",
    "\n",
    "raw_val_ds = utils.text_dataset_from_directory(train_dir,\n",
    "                                              batch_size=batch_size,\n",
    "                                              validation_split=0.2,\n",
    "                                              subset='validation',\n",
    "                                              seed=seed)"
   ]
  },
  {
   "cell_type": "code",
   "execution_count": 12,
   "id": "8c0795dd",
   "metadata": {
    "scrolled": true
   },
   "outputs": [
    {
     "name": "stdout",
     "output_type": "stream",
     "text": [
      " 0 Question: b'\"my tester is going to the wrong constructor i am new to programming so if i ask a question that can be easily fixed, please forgive me. my program has a tester class with a main. when i send that to my regularpolygon class, it sends it to the wrong constructor. i have two constructors. 1 without perameters..public regularpolygon().    {.       mynumsides = 5;.       mysidelength = 30;.    }//end default constructor...and my second, with perameters. ..public regularpolygon(int numsides, double sidelength).    {.        mynumsides = numsides;.        mysidelength = sidelength;.    }// end constructor...in my tester class i have these two lines:..regularpolygon shape = new regularpolygon(numsides, sidelength);.        shape.menu();...numsides and sidelength were declared and initialized earlier in the testing class...so what i want to happen, is the tester class sends numsides and sidelength to the second constructor and use it in that class. but it only uses the default constructor, which therefor ruins the whole rest of the program. can somebody help me?..for those of you who want to see more of my code: here you go..public double vertexangle().    {.        system.out.println(\"\"the vertex angle method: \"\" + mynumsides);// prints out 5.        system.out.println(\"\"the vertex angle method: \"\" + mysidelength); // prints out 30..        double vertexangle;.        vertexangle = ((mynumsides - 2.0) / mynumsides) * 180.0;.        return vertexangle;.    }//end method vertexangle..public void menu().{.    system.out.println(mynumsides); // prints out what the user puts in.    system.out.println(mysidelength); // prints out what the user puts in.    gotographic();.    calcr(mynumsides, mysidelength);.    calcr(mynumsides, mysidelength);.    print(); .}// end menu...this is my entire tester class:..public static void main(string[] arg).{.    int numsides;.    double sidelength;.    scanner keyboard = new scanner(system.in);..    system.out.println(\"\"welcome to the regular polygon program!\"\");.    system.out.println();..    system.out.print(\"\"enter the number of sides of the polygon ==&gt; \"\");.    numsides = keyboard.nextint();.    system.out.println();..    system.out.print(\"\"enter the side length of each side ==&gt; \"\");.    sidelength = keyboard.nextdouble();.    system.out.println();..    regularpolygon shape = new regularpolygon(numsides, sidelength);.    shape.menu();.}//end main...for testing it i sent it numsides 4 and sidelength 100.\"\\n'\n",
      " 0 Label:    java\n"
     ]
    },
    {
     "name": "stderr",
     "output_type": "stream",
     "text": [
      "2022-08-21 09:06:56.664399: W tensorflow/core/platform/profile_utils/cpu_utils.cc:128] Failed to get CPU frequency: 0 Hz\n"
     ]
    }
   ],
   "source": [
    "for text, label in raw_train_ds.take(1):\n",
    "    for i in range(1):\n",
    "        print(\"{:2} Question: {}\".format(i, text[i].numpy()))\n",
    "        print(\"{:2} Label:    {}\".format(i, raw_train_ds.class_names[label[i].numpy()]))"
   ]
  },
  {
   "cell_type": "code",
   "execution_count": 13,
   "id": "91eab9b2",
   "metadata": {},
   "outputs": [],
   "source": [
    "test_dir = dataset_dir / 'test'"
   ]
  },
  {
   "cell_type": "code",
   "execution_count": 14,
   "id": "287338f1",
   "metadata": {
    "scrolled": true
   },
   "outputs": [
    {
     "name": "stdout",
     "output_type": "stream",
     "text": [
      "Found 8000 files belonging to 4 classes.\n"
     ]
    }
   ],
   "source": [
    "raw_test_ds = utils.text_dataset_from_directory(test_dir,\n",
    "                                               batch_size=batch_size)"
   ]
  },
  {
   "cell_type": "markdown",
   "id": "a8d0972a",
   "metadata": {},
   "source": [
    "### Prepare the dataset for training"
   ]
  },
  {
   "cell_type": "code",
   "execution_count": 15,
   "id": "779a4ad5",
   "metadata": {},
   "outputs": [],
   "source": [
    "VOCAB_SIZE = 10000\n",
    "\n",
    "binary_vectorize_layer = TextVectorization(max_tokens=VOCAB_SIZE,\n",
    "                                         output_mode='binary')"
   ]
  },
  {
   "cell_type": "code",
   "execution_count": 16,
   "id": "c80fdd15",
   "metadata": {},
   "outputs": [],
   "source": [
    "MAX_SEQUENCE_LENGTH = 250\n",
    "\n",
    "int_vectorize_layer = TextVectorization(max_tokens=VOCAB_SIZE,\n",
    "                                       output_mode='int',\n",
    "                                       output_sequence_length=MAX_SEQUENCE_LENGTH)"
   ]
  },
  {
   "cell_type": "code",
   "execution_count": 17,
   "id": "35260262",
   "metadata": {},
   "outputs": [
    {
     "data": {
      "text/plain": [
       "(TensorSpec(shape=(None,), dtype=tf.string, name=None),\n",
       " TensorSpec(shape=(None,), dtype=tf.int32, name=None))"
      ]
     },
     "execution_count": 17,
     "metadata": {},
     "output_type": "execute_result"
    }
   ],
   "source": [
    "raw_train_ds.element_spec"
   ]
  },
  {
   "cell_type": "code",
   "execution_count": 18,
   "id": "b9d0b070",
   "metadata": {},
   "outputs": [],
   "source": [
    "train_text = raw_train_ds.map(lambda text, label: text)"
   ]
  },
  {
   "cell_type": "code",
   "execution_count": 19,
   "id": "b92ee386",
   "metadata": {
    "scrolled": true
   },
   "outputs": [
    {
     "name": "stderr",
     "output_type": "stream",
     "text": [
      "2022-08-21 09:06:56.875371: I tensorflow/core/grappler/optimizers/custom_graph_optimizer_registry.cc:113] Plugin optimizer for device_type GPU is enabled.\n",
      "2022-08-21 09:06:57.302968: I tensorflow/core/grappler/optimizers/custom_graph_optimizer_registry.cc:113] Plugin optimizer for device_type GPU is enabled.\n"
     ]
    }
   ],
   "source": [
    "binary_vectorize_layer.adapt(train_text)\n",
    "int_vectorize_layer.adapt(train_text)"
   ]
  },
  {
   "cell_type": "code",
   "execution_count": 20,
   "id": "e730936a",
   "metadata": {},
   "outputs": [],
   "source": [
    "text_batch, label_batch = next(iter(raw_train_ds))"
   ]
  },
  {
   "cell_type": "code",
   "execution_count": 21,
   "id": "606caa15",
   "metadata": {
    "scrolled": true
   },
   "outputs": [
    {
     "name": "stdout",
     "output_type": "stream",
     "text": [
      "Question: b'\"is it possible to add a static object to a list in blank? i have a bunch of static classes i would like to access easily by adding them all to a list...is there a way to add these static classes to a list? i get a \"\"this type is used like a variable\"\" error...public static class pcm1_setup : igui_to_bfc.{.    //pcm1_format.    public static void setup_tobfc().    {.        //uses the checkboxes to update the bfc.        //determine the value to write to the field based on the check boxes.        regmapinputreader.bitfield bf;.        gb.bfc.name_to_bitfield_dict.trygetvalue(\"\"pcm1_format\"\", out bf);.    }..    public static void setup_frombfc().    {.        //sets up the check boxes from the bfc.    }.}..public static class pc2.{.    list&lt;igui_to_bfc&gt; abe = new list&lt;igui_to_bfc&gt;();.    pc2().    {.        abe.add(pcm1_setup); //error here----------------------.    }.}\"\\n'\n",
      "Label:    0\n"
     ]
    }
   ],
   "source": [
    "first_question, first_label = text_batch[1], label_batch[1]\n",
    "print(\"Question: {}\".format(first_question))\n",
    "print(\"Label:    {}\".format(first_label))"
   ]
  },
  {
   "cell_type": "code",
   "execution_count": 22,
   "id": "aaa2d275",
   "metadata": {},
   "outputs": [
    {
     "data": {
      "text/plain": [
       "TensorShape([32])"
      ]
     },
     "execution_count": 22,
     "metadata": {},
     "output_type": "execute_result"
    }
   ],
   "source": [
    "text_batch.shape"
   ]
  },
  {
   "cell_type": "code",
   "execution_count": 23,
   "id": "fbcfc69c",
   "metadata": {},
   "outputs": [],
   "source": [
    "def binary_vectorize_text(text, label):\n",
    "    text = tf.expand_dims(text, -1)\n",
    "    return binary_vectorize_layer(text), label\n",
    "\n",
    "def int_vectorize_text(text, label):\n",
    "    text = tf.expand_dims(text, -1)\n",
    "    return int_vectorize_layer(text), label"
   ]
  },
  {
   "cell_type": "code",
   "execution_count": 24,
   "id": "70473a53",
   "metadata": {},
   "outputs": [
    {
     "name": "stdout",
     "output_type": "stream",
     "text": [
      "b'\"is it possible to add a static object to a list in blank? i have a bunch of static classes i would like to access easily by adding them all to a list...is there a way to add these static classes to a list? i get a \"\"this type is used like a variable\"\" error...public static class pcm1_setup : igui_to_bfc.{.    //pcm1_format.    public static void setup_tobfc().    {.        //uses the checkboxes to update the bfc.        //determine the value to write to the field based on the check boxes.        regmapinputreader.bitfield bf;.        gb.bfc.name_to_bitfield_dict.trygetvalue(\"\"pcm1_format\"\", out bf);.    }..    public static void setup_frombfc().    {.        //sets up the check boxes from the bfc.    }.}..public static class pc2.{.    list&lt;igui_to_bfc&gt; abe = new list&lt;igui_to_bfc&gt;();.    pc2().    {.        abe.add(pcm1_setup); //error here----------------------.    }.}\"\\n'\n",
      "(<tf.Tensor: shape=(1, 10000), dtype=float32, numpy=array([[1., 1., 1., ..., 0., 0., 0.]], dtype=float32)>, <tf.Tensor: shape=(), dtype=int32, numpy=0>)\n"
     ]
    }
   ],
   "source": [
    "print(f\"{first_question}\")\n",
    "print(f\"{binary_vectorize_text(first_question, first_label)}\")"
   ]
  },
  {
   "cell_type": "code",
   "execution_count": 25,
   "id": "32188ac0",
   "metadata": {
    "scrolled": true
   },
   "outputs": [
    {
     "name": "stdout",
     "output_type": "stream",
     "text": [
      "(<tf.Tensor: shape=(1, 250), dtype=int64, numpy=\n",
      "array([[   6,   11,  204,    4,  125,    5,   53,   63,    4,    5,   54,\n",
      "           7,   16,    3,   17,    5, 1147,    9,   53,  363,    3,   69,\n",
      "          48,    4,  240, 2146,   79,  405,  191,   73,    4,    5,    1,\n",
      "          67,    5,   84,    4,  125,  229,   53,  363,    4,    5,   54,\n",
      "           3,   41,    5,   13,  122,    6,  206,   48,    5,  116, 7954,\n",
      "          53,   29,    1,    1,    1,   22,   53,   42,    1,  722,    2,\n",
      "        2022,    4,  497,    2,    1,  693,    2,   51,    4,  174,    4,\n",
      "           2,  362,  364,   37,    2,  186, 1352,    1, 6867,    1,   94,\n",
      "        6867,   22,   53,   42,    1, 1089,  162,    2,  186, 1352,   31,\n",
      "           2,    1,   22,   53,   29, 3887,    1,    1,   15,    1, 3887,\n",
      "           1,   65,  101,    0,    0,    0,    0,    0,    0,    0,    0,\n",
      "           0,    0,    0,    0,    0,    0,    0,    0,    0,    0,    0,\n",
      "           0,    0,    0,    0,    0,    0,    0,    0,    0,    0,    0,\n",
      "           0,    0,    0,    0,    0,    0,    0,    0,    0,    0,    0,\n",
      "           0,    0,    0,    0,    0,    0,    0,    0,    0,    0,    0,\n",
      "           0,    0,    0,    0,    0,    0,    0,    0,    0,    0,    0,\n",
      "           0,    0,    0,    0,    0,    0,    0,    0,    0,    0,    0,\n",
      "           0,    0,    0,    0,    0,    0,    0,    0,    0,    0,    0,\n",
      "           0,    0,    0,    0,    0,    0,    0,    0,    0,    0,    0,\n",
      "           0,    0,    0,    0,    0,    0,    0,    0,    0,    0,    0,\n",
      "           0,    0,    0,    0,    0,    0,    0,    0,    0,    0,    0,\n",
      "           0,    0,    0,    0,    0,    0,    0,    0,    0,    0,    0,\n",
      "           0,    0,    0,    0,    0,    0,    0,    0]])>, <tf.Tensor: shape=(), dtype=int32, numpy=0>)\n"
     ]
    }
   ],
   "source": [
    "print(f\"{int_vectorize_text(first_question, first_label)}\")"
   ]
  },
  {
   "cell_type": "code",
   "execution_count": 26,
   "id": "3de0911e",
   "metadata": {
    "scrolled": true
   },
   "outputs": [
    {
     "name": "stdout",
     "output_type": "stream",
     "text": [
      "6     -----> is\n",
      "11    -----> it\n",
      "204   -----> possible\n",
      "Vocabulary size: 10000\n"
     ]
    }
   ],
   "source": [
    "print(\"6     -----> {}\".format(int_vectorize_layer.get_vocabulary()[6]))\n",
    "print(\"11    -----> {}\".format(int_vectorize_layer.get_vocabulary()[11]))\n",
    "print(\"204   -----> {}\".format(int_vectorize_layer.get_vocabulary()[204]))\n",
    "print(\"Vocabulary size: {}\".format(len(int_vectorize_layer.get_vocabulary())))"
   ]
  },
  {
   "cell_type": "code",
   "execution_count": 27,
   "id": "80ac303e",
   "metadata": {},
   "outputs": [],
   "source": [
    "binary_train_ds = raw_train_ds.map(binary_vectorize_text)\n",
    "binary_val_ds = raw_val_ds.map(binary_vectorize_text)\n",
    "binary_test_ds = raw_test_ds.map(binary_vectorize_text)\n",
    "\n",
    "int_train_ds = raw_train_ds.map(int_vectorize_text)\n",
    "int_val_ds = raw_val_ds.map(int_vectorize_text)\n",
    "int_test_ds = raw_test_ds.map(int_vectorize_text)"
   ]
  },
  {
   "cell_type": "markdown",
   "id": "363d46c2",
   "metadata": {},
   "source": [
    "### Configure the dataset for performance"
   ]
  },
  {
   "cell_type": "code",
   "execution_count": 28,
   "id": "763f2fac",
   "metadata": {},
   "outputs": [],
   "source": [
    "AUTOTUNE = tf.data.AUTOTUNE\n",
    "\n",
    "def configure_dataset(dataset):\n",
    "    return dataset.cache().prefetch(buffer_size=AUTOTUNE)"
   ]
  },
  {
   "cell_type": "code",
   "execution_count": 29,
   "id": "ded1810e",
   "metadata": {},
   "outputs": [],
   "source": [
    "binary_train_ds = configure_dataset(binary_train_ds)\n",
    "binary_val_ds = configure_dataset(binary_val_ds)\n",
    "binary_test_ds = configure_dataset(binary_test_ds)\n",
    "\n",
    "int_train_ds = configure_dataset(int_train_ds)\n",
    "int_val_ds = configure_dataset(int_val_ds)\n",
    "int_test_ds = configure_dataset(int_test_ds)"
   ]
  },
  {
   "cell_type": "markdown",
   "id": "2fa810ba",
   "metadata": {},
   "source": [
    "### Train the model"
   ]
  },
  {
   "cell_type": "code",
   "execution_count": 30,
   "id": "3832d6da",
   "metadata": {},
   "outputs": [
    {
     "name": "stdout",
     "output_type": "stream",
     "text": [
      "Epoch 1/10\n",
      " 27/200 [===>..........................] - ETA: 0s - loss: 1.3501 - accuracy: 0.3275"
     ]
    },
    {
     "name": "stderr",
     "output_type": "stream",
     "text": [
      "2022-08-21 09:06:58.103596: I tensorflow/core/grappler/optimizers/custom_graph_optimizer_registry.cc:113] Plugin optimizer for device_type GPU is enabled.\n"
     ]
    },
    {
     "name": "stdout",
     "output_type": "stream",
     "text": [
      "200/200 [==============================] - 1s 5ms/step - loss: 1.1144 - accuracy: 0.6494 - val_loss: 0.9126 - val_accuracy: 0.7769\n",
      "Epoch 2/10\n",
      "  1/200 [..............................] - ETA: 0s - loss: 0.8778 - accuracy: 0.7812"
     ]
    },
    {
     "name": "stderr",
     "output_type": "stream",
     "text": [
      "2022-08-21 09:06:59.017006: I tensorflow/core/grappler/optimizers/custom_graph_optimizer_registry.cc:113] Plugin optimizer for device_type GPU is enabled.\n"
     ]
    },
    {
     "name": "stdout",
     "output_type": "stream",
     "text": [
      "200/200 [==============================] - 1s 4ms/step - loss: 0.7770 - accuracy: 0.8208 - val_loss: 0.7498 - val_accuracy: 0.7969\n",
      "Epoch 3/10\n",
      "200/200 [==============================] - 1s 4ms/step - loss: 0.6266 - accuracy: 0.8606 - val_loss: 0.6647 - val_accuracy: 0.8112\n",
      "Epoch 4/10\n",
      "200/200 [==============================] - 1s 4ms/step - loss: 0.5335 - accuracy: 0.8881 - val_loss: 0.6115 - val_accuracy: 0.8237\n",
      "Epoch 5/10\n",
      "200/200 [==============================] - 1s 4ms/step - loss: 0.4677 - accuracy: 0.9039 - val_loss: 0.5749 - val_accuracy: 0.8319\n",
      "Epoch 6/10\n",
      "200/200 [==============================] - 1s 4ms/step - loss: 0.4175 - accuracy: 0.9170 - val_loss: 0.5483 - val_accuracy: 0.8381\n",
      "Epoch 7/10\n",
      "200/200 [==============================] - 1s 4ms/step - loss: 0.3774 - accuracy: 0.9289 - val_loss: 0.5283 - val_accuracy: 0.8369\n",
      "Epoch 8/10\n",
      "200/200 [==============================] - 1s 4ms/step - loss: 0.3441 - accuracy: 0.9364 - val_loss: 0.5127 - val_accuracy: 0.8400\n",
      "Epoch 9/10\n",
      "200/200 [==============================] - 1s 4ms/step - loss: 0.3160 - accuracy: 0.9431 - val_loss: 0.5005 - val_accuracy: 0.8400\n",
      "Epoch 10/10\n",
      "200/200 [==============================] - 1s 4ms/step - loss: 0.2917 - accuracy: 0.9500 - val_loss: 0.4907 - val_accuracy: 0.8375\n"
     ]
    }
   ],
   "source": [
    "binary_model = tf.keras.Sequential([layers.Dense(4)])\n",
    "\n",
    "binary_model.compile(loss=losses.SparseCategoricalCrossentropy(from_logits=True),\n",
    "                    optimizer='adam',\n",
    "                    metrics=['accuracy'])\n",
    "\n",
    "history = binary_model.fit(binary_train_ds, validation_data=binary_val_ds, \n",
    "                          epochs=10)"
   ]
  },
  {
   "cell_type": "code",
   "execution_count": 31,
   "id": "e35dd406",
   "metadata": {},
   "outputs": [],
   "source": [
    "def create_model(vocab_size, num_labels):\n",
    "    model = tf.keras.Sequential([layers.Embedding(vocab_size, 64, mask_zero=True),\n",
    "                               layers.Conv1D(64, 5, padding='valid', activation='relu', strides=2),\n",
    "                               layers.GlobalMaxPooling1D(),\n",
    "                               layers.Dense(num_labels)])\n",
    "    \n",
    "    return model"
   ]
  },
  {
   "cell_type": "code",
   "execution_count": 32,
   "id": "3f7b3976",
   "metadata": {},
   "outputs": [
    {
     "name": "stdout",
     "output_type": "stream",
     "text": [
      "Model: \"sequential_1\"\n",
      "_________________________________________________________________\n",
      " Layer (type)                Output Shape              Param #   \n",
      "=================================================================\n",
      " embedding (Embedding)       (None, None, 64)          640064    \n",
      "                                                                 \n",
      " conv1d (Conv1D)             (None, None, 64)          20544     \n",
      "                                                                 \n",
      " global_max_pooling1d (Globa  (None, 64)               0         \n",
      " lMaxPooling1D)                                                  \n",
      "                                                                 \n",
      " dense_1 (Dense)             (None, 4)                 260       \n",
      "                                                                 \n",
      "=================================================================\n",
      "Total params: 660,868\n",
      "Trainable params: 660,868\n",
      "Non-trainable params: 0\n",
      "_________________________________________________________________\n"
     ]
    }
   ],
   "source": [
    "int_model = create_model(VOCAB_SIZE + 1, 4)\n",
    "int_model.compile(loss=losses.SparseCategoricalCrossentropy(from_logits=True),\n",
    "                 optimizer='adam',\n",
    "                 metrics=['accuracy'])\n",
    "int_model.summary()"
   ]
  },
  {
   "cell_type": "code",
   "execution_count": 33,
   "id": "28a681bb",
   "metadata": {},
   "outputs": [],
   "source": [
    "from tensorflow.keras.utils import plot_model"
   ]
  },
  {
   "cell_type": "code",
   "execution_count": 34,
   "id": "31b6fce2",
   "metadata": {},
   "outputs": [
    {
     "data": {
      "image/png": "[encoded data removed]",
      "text/plain": [
       "<IPython.core.display.Image object>"
      ]
     },
     "execution_count": 34,
     "metadata": {},
     "output_type": "execute_result"
    }
   ],
   "source": [
    "plot_model(int_model, show_shapes=True, dpi=300)"
   ]
  },
  {
   "cell_type": "code",
   "execution_count": 35,
   "id": "fc0c9747",
   "metadata": {
    "scrolled": true
   },
   "outputs": [
    {
     "name": "stdout",
     "output_type": "stream",
     "text": [
      "Epoch 1/5\n",
      "  3/200 [..............................] - ETA: 4s - loss: 1.3808 - accuracy: 0.2812 "
     ]
    },
    {
     "name": "stderr",
     "output_type": "stream",
     "text": [
      "2022-08-21 09:07:07.700039: I tensorflow/core/grappler/optimizers/custom_graph_optimizer_registry.cc:113] Plugin optimizer for device_type GPU is enabled.\n"
     ]
    },
    {
     "name": "stdout",
     "output_type": "stream",
     "text": [
      "200/200 [==============================] - ETA: 0s - loss: 1.1450 - accuracy: 0.5128"
     ]
    },
    {
     "name": "stderr",
     "output_type": "stream",
     "text": [
      "2022-08-21 09:07:12.633129: I tensorflow/core/grappler/optimizers/custom_graph_optimizer_registry.cc:113] Plugin optimizer for device_type GPU is enabled.\n"
     ]
    },
    {
     "name": "stdout",
     "output_type": "stream",
     "text": [
      "200/200 [==============================] - 5s 25ms/step - loss: 1.1450 - accuracy: 0.5128 - val_loss: 0.7672 - val_accuracy: 0.6787\n",
      "Epoch 2/5\n",
      "200/200 [==============================] - 5s 25ms/step - loss: 0.6249 - accuracy: 0.7573 - val_loss: 0.5430 - val_accuracy: 0.7875\n",
      "Epoch 3/5\n",
      "200/200 [==============================] - 5s 25ms/step - loss: 0.3765 - accuracy: 0.8856 - val_loss: 0.4713 - val_accuracy: 0.8125\n",
      "Epoch 4/5\n",
      "200/200 [==============================] - 5s 25ms/step - loss: 0.2092 - accuracy: 0.9511 - val_loss: 0.4674 - val_accuracy: 0.8194\n",
      "Epoch 5/5\n",
      "200/200 [==============================] - 5s 25ms/step - loss: 0.1060 - accuracy: 0.9814 - val_loss: 0.4895 - val_accuracy: 0.8206\n"
     ]
    }
   ],
   "source": [
    "histroy = int_model.fit(int_train_ds, validation_data=int_val_ds, epochs=5)"
   ]
  },
  {
   "cell_type": "code",
   "execution_count": 36,
   "id": "cc745edb",
   "metadata": {},
   "outputs": [
    {
     "name": "stdout",
     "output_type": "stream",
     "text": [
      "250/250 [==============================] - 1s 4ms/step - loss: 0.5180 - accuracy: 0.8150\n",
      "250/250 [==============================] - 1s 5ms/step - loss: 0.5048 - accuracy: 0.8121\n"
     ]
    }
   ],
   "source": [
    "binary_loss, binary_accuracy = binary_model.evaluate(binary_test_ds)\n",
    "int_loss, int_accuracy = int_model.evaluate(int_test_ds)"
   ]
  },
  {
   "cell_type": "code",
   "execution_count": 37,
   "id": "62d04bf6",
   "metadata": {},
   "outputs": [
    {
     "name": "stdout",
     "output_type": "stream",
     "text": [
      "binary accuracy: 81.50%\n",
      "int_accuracy: 81.21%\n"
     ]
    }
   ],
   "source": [
    "print(\"binary accuracy: {:2.2%}\".format(binary_accuracy))\n",
    "print('int_accuracy: {:2.2%}'.format(int_accuracy))"
   ]
  },
  {
   "cell_type": "markdown",
   "id": "dfffe3aa",
   "metadata": {},
   "source": [
    "### Export the model"
   ]
  },
  {
   "cell_type": "code",
   "execution_count": 38,
   "id": "6767cbcc",
   "metadata": {},
   "outputs": [
    {
     "name": "stdout",
     "output_type": "stream",
     "text": [
      " 16/250 [>.............................] - ETA: 1s - loss: 0.5164 - accuracy: 0.7949"
     ]
    },
    {
     "name": "stderr",
     "output_type": "stream",
     "text": [
      "2022-08-21 09:07:35.358553: I tensorflow/core/grappler/optimizers/custom_graph_optimizer_registry.cc:113] Plugin optimizer for device_type GPU is enabled.\n"
     ]
    },
    {
     "name": "stdout",
     "output_type": "stream",
     "text": [
      "250/250 [==============================] - 2s 7ms/step - loss: 0.5180 - accuracy: 0.8150\n",
      "Accuracy: 81.50%\n"
     ]
    }
   ],
   "source": [
    "binary_model2 = tf.keras.Sequential([layers.Dense(4)])\n",
    "\n",
    "export_model = tf.keras.Sequential([\n",
    "    binary_vectorize_layer, binary_model, layers.Activation('sigmoid')\n",
    "])\n",
    "\n",
    "export_model.compile(loss=losses.SparseCategoricalCrossentropy(from_logits=False),\n",
    "                    optimizer='adam',\n",
    "                    metrics=['accuracy'])\n",
    "\n",
    "loss, accuracy = export_model.evaluate(raw_test_ds)\n",
    "print(\"Accuracy: {:2.2%}\".format(accuracy))"
   ]
  },
  {
   "cell_type": "code",
   "execution_count": 39,
   "id": "ea8b0bb7",
   "metadata": {},
   "outputs": [],
   "source": [
    "def get_string_labels(predicted_scores_batch):\n",
    "    predicted_int_labels = tf.math.argmax(predicted_scores_batch, axis=1)\n",
    "    predicted_labels = tf.gather(raw_train_ds.class_names, predicted_int_labels)\n",
    "\n",
    "    return predicted_labels"
   ]
  },
  {
   "cell_type": "markdown",
   "id": "843f599e",
   "metadata": {},
   "source": [
    "### Run inference on new data"
   ]
  },
  {
   "cell_type": "code",
   "execution_count": 40,
   "id": "4a655789",
   "metadata": {},
   "outputs": [],
   "source": [
    "inputs = [\n",
    "    \"how do I extract keys from a dict into a list?\",  # 'python'\n",
    "    \"debug public static void main(string[] args) {...}\",  # 'java'\n",
    "]"
   ]
  },
  {
   "cell_type": "code",
   "execution_count": 41,
   "id": "c746aa95",
   "metadata": {},
   "outputs": [
    {
     "name": "stdout",
     "output_type": "stream",
     "text": [
      "[[0.37885544 0.25547436 0.21967159 0.8081621 ]\n",
      " [0.70447934 0.7908031  0.08547339 0.09343835]]\n",
      "tf.Tensor([b'python' b'java'], shape=(2,), dtype=string)\n"
     ]
    },
    {
     "name": "stderr",
     "output_type": "stream",
     "text": [
      "2022-08-21 09:07:37.344550: I tensorflow/core/grappler/optimizers/custom_graph_optimizer_registry.cc:113] Plugin optimizer for device_type GPU is enabled.\n"
     ]
    }
   ],
   "source": [
    "predicted_scores = export_model.predict(inputs)\n",
    "predicted_labels = get_string_labels(predicted_scores)\n",
    "print(predicted_scores)\n",
    "print(predicted_labels)"
   ]
  },
  {
   "cell_type": "markdown",
   "id": "45a670c7",
   "metadata": {},
   "source": [
    "## Example 2: Predict the author of Iliad translations"
   ]
  },
  {
   "cell_type": "code",
   "execution_count": 42,
   "id": "702d5357",
   "metadata": {},
   "outputs": [],
   "source": [
    "DIRECTORY_URL = 'https://storage.googleapis.com/download.tensorflow.org/data/illiad/'\n",
    "FILE_NAMES = ['cowper.txt', 'derby.txt', 'butler.txt']"
   ]
  },
  {
   "cell_type": "code",
   "execution_count": 43,
   "id": "c35c00ea",
   "metadata": {},
   "outputs": [],
   "source": [
    "path = '/Users/rainyseason/winston/Workspace/python/Pycharm Project/tf25/iliad/'"
   ]
  },
  {
   "cell_type": "code",
   "execution_count": 44,
   "id": "3f80ba14",
   "metadata": {},
   "outputs": [],
   "source": [
    "for name in FILE_NAMES:\n",
    "    text_dir = utils.get_file(name, origin=DIRECTORY_URL + name,\n",
    "                              cache_subdir=path,\n",
    "                              cache_dir=path+'cache')"
   ]
  },
  {
   "cell_type": "code",
   "execution_count": 45,
   "id": "11241021",
   "metadata": {},
   "outputs": [],
   "source": [
    "parent_dir = pathlib.Path(text_dir).parent"
   ]
  },
  {
   "cell_type": "code",
   "execution_count": 46,
   "id": "6b6f8fb9",
   "metadata": {},
   "outputs": [
    {
     "data": {
      "text/plain": [
       "[PosixPath('/Users/rainyseason/winston/Workspace/python/Pycharm Project/tf25/iliad/cowper.txt'),\n",
       " PosixPath('/Users/rainyseason/winston/Workspace/python/Pycharm Project/tf25/iliad/.DS_Store'),\n",
       " PosixPath('/Users/rainyseason/winston/Workspace/python/Pycharm Project/tf25/iliad/butler.txt'),\n",
       " PosixPath('/Users/rainyseason/winston/Workspace/python/Pycharm Project/tf25/iliad/derby.txt')]"
      ]
     },
     "execution_count": 46,
     "metadata": {},
     "output_type": "execute_result"
    }
   ],
   "source": [
    "list(parent_dir.iterdir())"
   ]
  },
  {
   "cell_type": "markdown",
   "id": "a25794e4",
   "metadata": {},
   "source": [
    "### Load the dataset"
   ]
  },
  {
   "cell_type": "markdown",
   "id": "7711a36e",
   "metadata": {},
   "source": [
    "Previously, with tf.keras.utils.text_dataset_from_directory all contents of a file were treated as a single example. Here, you will use tf.data.TextLineDataset, which is designed to create a tf.data.Dataset from a text file where each example is a line of text from the original file. TextLineDataset is useful for text data that is primarily line-based (for example, poetry or error logs).\n",
    "\n",
    "Iterate through these files, loading each one into its own dataset. Each example needs to be individually labeled, so use Dataset.map to apply a labeler function to each one. This will iterate over every example in the dataset, returning (example, label) pairs."
   ]
  },
  {
   "cell_type": "code",
   "execution_count": 47,
   "id": "5ab6d5ca",
   "metadata": {},
   "outputs": [],
   "source": [
    "def labeler(example, index):\n",
    "    return example, tf.cast(index, tf.int64)"
   ]
  },
  {
   "cell_type": "code",
   "execution_count": 48,
   "id": "d354e87e",
   "metadata": {},
   "outputs": [],
   "source": [
    "labeled_data_sets = []\n",
    "\n",
    "for i, file_name in enumerate(FILE_NAMES):\n",
    "    lines_dataset = tf.data.TextLineDataset(str(parent_dir / file_name))\n",
    "    labeled_dataset = lines_dataset.map(lambda ex: labeler(ex, i))\n",
    "    labeled_data_sets.append(labeled_dataset)"
   ]
  },
  {
   "cell_type": "code",
   "execution_count": 49,
   "id": "2843040b",
   "metadata": {},
   "outputs": [],
   "source": [
    "BUFFER_SIZE = 50000\n",
    "BATCH_SIZE = 64\n",
    "VALIDATION_SIZE = 5000"
   ]
  },
  {
   "cell_type": "code",
   "execution_count": 50,
   "id": "4b0790c4",
   "metadata": {},
   "outputs": [],
   "source": [
    "all_labeled_data = labeled_data_sets[0]\n",
    "for labeled_dataset in labeled_data_sets[1:]:\n",
    "    all_labeled_data = all_labeled_data.concatenate(labeled_dataset)"
   ]
  },
  {
   "cell_type": "code",
   "execution_count": 51,
   "id": "02513510",
   "metadata": {
    "scrolled": true
   },
   "outputs": [
    {
     "name": "stdout",
     "output_type": "stream",
     "text": [
      "b\"\\xef\\xbb\\xbfAchilles sing, O Goddess! Peleus' son;\"\n",
      "0\n",
      "b'His wrath pernicious, who ten thousand woes'\n",
      "0\n",
      "b\"Caused to Achaia's host, sent many a soul\"\n",
      "0\n",
      "b'Illustrious into Ades premature,'\n",
      "0\n",
      "b'And Heroes gave (so stood the will of Jove)'\n",
      "0\n"
     ]
    }
   ],
   "source": [
    "for text, label in all_labeled_data.take(5):\n",
    "    print(text.numpy())\n",
    "    print(label.numpy())"
   ]
  },
  {
   "cell_type": "code",
   "execution_count": 52,
   "id": "64123cbd",
   "metadata": {},
   "outputs": [
    {
     "data": {
      "text/plain": [
       "49608"
      ]
     },
     "execution_count": 52,
     "metadata": {},
     "output_type": "execute_result"
    }
   ],
   "source": [
    "len(list(all_labeled_data.map(lambda x, y: y)))"
   ]
  },
  {
   "cell_type": "code",
   "execution_count": 53,
   "id": "d320261f",
   "metadata": {},
   "outputs": [],
   "source": [
    "all_labeled_data = all_labeled_data.shuffle(BUFFER_SIZE, reshuffle_each_iteration=False)"
   ]
  },
  {
   "cell_type": "code",
   "execution_count": 54,
   "id": "5ed5a3ee",
   "metadata": {},
   "outputs": [
    {
     "name": "stdout",
     "output_type": "stream",
     "text": [
      "Sentense: b\"Thus pray'd he; Jove, the Lord of counsel, heard,\"\n",
      "Label: 1\n",
      "Sentense: b'Iphitus the son of Naubolus. These were they that held Cyparissus,'\n",
      "Label: 2\n",
      "Sentense: b'them. Nestor knight of Gerene was first to question them. \"Tell me,\"'\n",
      "Label: 2\n"
     ]
    }
   ],
   "source": [
    "for text, label in all_labeled_data.take(3):\n",
    "    print(f\"Sentense: {text.numpy()}\")\n",
    "    print(f\"Label: {label.numpy()}\")"
   ]
  },
  {
   "cell_type": "markdown",
   "id": "1ad8a059",
   "metadata": {},
   "source": [
    "### Prepare the dataset for training"
   ]
  },
  {
   "cell_type": "code",
   "execution_count": 55,
   "id": "98a88687",
   "metadata": {},
   "outputs": [],
   "source": [
    "tokenizer = tf_text.UnicodeScriptTokenizer()"
   ]
  },
  {
   "cell_type": "code",
   "execution_count": 56,
   "id": "ab488108",
   "metadata": {},
   "outputs": [],
   "source": [
    "def tokenize(text, unused_label):\n",
    "    lower_case = tf_text.case_fold_utf8(text)\n",
    "    # # under \"tokenize\" is not def tokenize, but is \"UnicodeScriptTokenizer().tokenize\"\n",
    "    return tokenizer.tokenize(lower_case)"
   ]
  },
  {
   "cell_type": "code",
   "execution_count": 57,
   "id": "f8382cf4",
   "metadata": {},
   "outputs": [],
   "source": [
    "tokenized_ds = all_labeled_data.map(tokenize)"
   ]
  },
  {
   "cell_type": "code",
   "execution_count": 58,
   "id": "a29d3d2c",
   "metadata": {
    "scrolled": true
   },
   "outputs": [
    {
     "name": "stdout",
     "output_type": "stream",
     "text": [
      "[b'thus' b'pray' b\"'\" b'd' b'he' b';' b'jove' b',' b'the' b'lord' b'of'\n",
      " b'counsel' b',' b'heard' b',']\n",
      "[b'iphitus' b'the' b'son' b'of' b'naubolus' b'.' b'these' b'were' b'they'\n",
      " b'that' b'held' b'cyparissus' b',']\n",
      "[b'them' b'.' b'nestor' b'knight' b'of' b'gerene' b'was' b'first' b'to'\n",
      " b'question' b'them' b'.\"' b'tell' b'me' b',\"']\n"
     ]
    }
   ],
   "source": [
    "for text_token in tokenized_ds.take(3):\n",
    "    print(text_token.numpy())"
   ]
  },
  {
   "cell_type": "markdown",
   "id": "4cfa8ad4",
   "metadata": {},
   "source": [
    "Next, you will build a vocabulary by sorting tokens by frequency and keeping the top VOCAB_SIZE tokens:"
   ]
  },
  {
   "cell_type": "code",
   "execution_count": 59,
   "id": "d2608e09",
   "metadata": {},
   "outputs": [],
   "source": [
    "tokenized_ds = configure_dataset(tokenized_ds)"
   ]
  },
  {
   "cell_type": "code",
   "execution_count": 118,
   "id": "68368ec3",
   "metadata": {},
   "outputs": [
    {
     "name": "stdout",
     "output_type": "stream",
     "text": [
      "b'thus' 1557\n",
      "b'pray' 164\n",
      "b\"'\" 15695\n",
      "b'd' 8802\n",
      "b'he' 7004\n"
     ]
    }
   ],
   "source": [
    "vocab_dict = collections.defaultdict(lambda: 0)\n",
    "for toks in tokenized_ds.as_numpy_iterator():\n",
    "    for tok in toks:\n",
    "        vocab_dict[tok] += 1\n",
    "\n",
    "temp = 0\n",
    "for tok, count in vocab_dict.items():\n",
    "    if temp == 5:\n",
    "        break\n",
    "    print(tok, count)\n",
    "    temp += 1"
   ]
  },
  {
   "cell_type": "code",
   "execution_count": 121,
   "id": "c7f5f287",
   "metadata": {},
   "outputs": [
    {
     "data": {
      "text/plain": [
       "[(b',', 45478),\n",
       " (b'the', 28299),\n",
       " (b'and', 17012),\n",
       " (b\"'\", 15695),\n",
       " (b'of', 13489)]"
      ]
     },
     "execution_count": 121,
     "metadata": {},
     "output_type": "execute_result"
    }
   ],
   "source": [
    "vocab = sorted(vocab_dict.items(), key=lambda x: x[1], reverse=True) # # return list type\n",
    "vocab[:5]"
   ]
  },
  {
   "cell_type": "code",
   "execution_count": 122,
   "id": "e76ba697",
   "metadata": {},
   "outputs": [
    {
     "data": {
      "text/plain": [
       "[b',', b'the', b'and', b\"'\", b'of']"
      ]
     },
     "execution_count": 122,
     "metadata": {},
     "output_type": "execute_result"
    }
   ],
   "source": [
    "vocab = [token for token, count in vocab] # # count is not needed to training\n",
    "vocab[:5]"
   ]
  },
  {
   "cell_type": "code",
   "execution_count": 244,
   "id": "7fb29559",
   "metadata": {},
   "outputs": [
    {
     "name": "stdout",
     "output_type": "stream",
     "text": [
      "Vocab size: 10000\n",
      "First five vocab entries: [b',', b'the', b'and', b\"'\", b'of']\n"
     ]
    }
   ],
   "source": [
    "vocab = vocab[:VOCAB_SIZE]\n",
    "vocab_size = len(vocab)\n",
    "print(f\"Vocab size: {len(vocab)}\")\n",
    "print(f\"First five vocab entries: {vocab[:5]}\")"
   ]
  },
  {
   "cell_type": "markdown",
   "id": "5a6baa34",
   "metadata": {},
   "source": [
    "To convert the tokens into integers, use the vocab set to create a tf.lookup.StaticVocabularyTable. You will map tokens to integers in the range [2, vocab_size + 2]. As with the TextVectorization layer, 0 is reserved to denote padding and 1 is reserved to denote an out-of-vocabulary (OOV) token."
   ]
  },
  {
   "cell_type": "code",
   "execution_count": 128,
   "id": "ee747ee9",
   "metadata": {},
   "outputs": [],
   "source": [
    "keys = vocab\n",
    "values = range(2, len(vocab) + 2) # # Reserve '0' for padding, '1' for ODV tokens.\n",
    "\n",
    "init = tf.lookup.KeyValueTensorInitializer(keys,\n",
    "                                          values,\n",
    "                                          key_dtype=tf.string,\n",
    "                                          value_dtype=tf.int64)\n",
    "num_odv_buckets = 1\n",
    "vocab_table = tf.lookup.StaticVocabularyTable(init, num_odv_buckets)"
   ]
  },
  {
   "cell_type": "markdown",
   "id": "dbfad0ab",
   "metadata": {},
   "source": [
    "Finally, define a function to standardize, tokenize and vectorize the dataset using the tokenizer and lookup table:"
   ]
  },
  {
   "cell_type": "code",
   "execution_count": 129,
   "id": "7cef5476",
   "metadata": {},
   "outputs": [],
   "source": [
    "def preprocess_text(text, label):\n",
    "    standardized = tf_text.case_fold_utf8(text)\n",
    "    tokenized = tokenizer.tokenize(standardized)\n",
    "    vectorized = vocab_table.lookup(tokenized)\n",
    "    return vectorized, label"
   ]
  },
  {
   "cell_type": "markdown",
   "id": "08dc7afc",
   "metadata": {},
   "source": [
    "You can try this on a single example to print the output:"
   ]
  },
  {
   "cell_type": "code",
   "execution_count": 137,
   "id": "9756a1f9",
   "metadata": {
    "scrolled": true
   },
   "outputs": [
    {
     "name": "stdout",
     "output_type": "stream",
     "text": [
      "Sentence:  b\"Thus pray'd he; Jove, the Lord of counsel, heard,\"\n",
      "Vectorized sentence:  (<tf.Tensor: shape=(15,), dtype=int64, numpy=\n",
      "array([ 45, 390,   5,   9,  12,  10,  53,   2,   3, 425,   6, 377,   2,\n",
      "       253,   2])>, <tf.Tensor: shape=(), dtype=int64, numpy=1>)\n"
     ]
    }
   ],
   "source": [
    "example_text, example_label = next(iter(all_labeled_data))\n",
    "print(\"Sentence: \", example_text.numpy())\n",
    "print(\"Vectorized sentence: \", preprocess_text(example_text, example_label))"
   ]
  },
  {
   "cell_type": "markdown",
   "id": "2fa02d13",
   "metadata": {},
   "source": [
    "Now run the preprocess function on the dataset using Dataset.map:"
   ]
  },
  {
   "cell_type": "code",
   "execution_count": 138,
   "id": "e555d875",
   "metadata": {},
   "outputs": [],
   "source": [
    "all_encoded_data = all_labeled_data.map(preprocess_text)"
   ]
  },
  {
   "cell_type": "code",
   "execution_count": 166,
   "id": "afd9c7ef",
   "metadata": {},
   "outputs": [
    {
     "name": "stdout",
     "output_type": "stream",
     "text": [
      "15     [ 45 390   5   9  12  10  53   2   3 425   6 377   2 253   2]\n",
      "13     [3768    3   28    6 7806    7  106   61   27   23  282 5605    2]\n",
      "15     [  39    7  239 1464    6 2384   36  108    8 2097   39   52  439   40\n",
      "   77]\n"
     ]
    }
   ],
   "source": [
    "for i in all_encoded_data.take(3):\n",
    "    print(len(i[0].numpy()), end='     ')\n",
    "    print(i[0].numpy())"
   ]
  },
  {
   "cell_type": "markdown",
   "id": "f5b1a5f6",
   "metadata": {},
   "source": [
    "### Split the dataset into training and test sets"
   ]
  },
  {
   "cell_type": "markdown",
   "id": "f2be8f63",
   "metadata": {},
   "source": [
    "tf.data.Dataset supports splitting and padded-batching datasets:"
   ]
  },
  {
   "cell_type": "code",
   "execution_count": 167,
   "id": "ec3b6f15",
   "metadata": {},
   "outputs": [],
   "source": [
    "train_data = all_encoded_data.skip(VALIDATION_SIZE).shuffle(BUFFER_SIZE)\n",
    "validation_data = all_encoded_data.take(VALIDATION_SIZE)"
   ]
  },
  {
   "cell_type": "code",
   "execution_count": 168,
   "id": "f9a59d6c",
   "metadata": {},
   "outputs": [],
   "source": [
    "# # check the role of padded_batch()\n",
    "train_data = train_data.padded_batch(BATCH_SIZE)\n",
    "validation_data = validation_data.padded_batch(BATCH_SIZE)"
   ]
  },
  {
   "cell_type": "code",
   "execution_count": 175,
   "id": "7c5137e3",
   "metadata": {},
   "outputs": [],
   "source": [
    "temp = iter(validation_data)"
   ]
  },
  {
   "cell_type": "code",
   "execution_count": 241,
   "id": "a4277377",
   "metadata": {},
   "outputs": [
    {
     "name": "stdout",
     "output_type": "stream",
     "text": [
      "Text batch shape:  (64, 19)\n",
      "Label batch shape:  (64,)\n",
      "First text example:  tf.Tensor(\n",
      "[  93   95  144    2 1019   17 1977    2  409   17 1564  115    2    0\n",
      "    0    0    0    0    0], shape=(19,), dtype=int64)\n",
      "First label example:  tf.Tensor(1, shape=(), dtype=int64)\n"
     ]
    }
   ],
   "source": [
    "sample_text, sample_labels = next(temp)\n",
    "print(\"Text batch shape: \", sample_text.shape)\n",
    "print(\"Label batch shape: \", sample_labels.shape)\n",
    "print(\"First text example: \", sample_text[0])\n",
    "print(\"First label example: \", sample_labels[0])"
   ]
  },
  {
   "cell_type": "markdown",
   "id": "b2216a66",
   "metadata": {},
   "source": [
    "Since you use 0 for padding and 1 for out-of-vocabulary (OOV) tokens, the vocabulary size has increased by two:"
   ]
  },
  {
   "cell_type": "code",
   "execution_count": 246,
   "id": "f824ec2d",
   "metadata": {},
   "outputs": [],
   "source": [
    "vocab_size += 2"
   ]
  },
  {
   "cell_type": "code",
   "execution_count": 247,
   "id": "057770c8",
   "metadata": {},
   "outputs": [],
   "source": [
    "train_data = configure_dataset(train_data)\n",
    "validation_data = configure_dataset(validation_data)"
   ]
  },
  {
   "cell_type": "markdown",
   "id": "5479d0ce",
   "metadata": {},
   "source": [
    "### Train the model"
   ]
  },
  {
   "cell_type": "code",
   "execution_count": 249,
   "id": "19f93126",
   "metadata": {},
   "outputs": [
    {
     "name": "stdout",
     "output_type": "stream",
     "text": [
      "Epoch 1/3\n"
     ]
    },
    {
     "name": "stderr",
     "output_type": "stream",
     "text": [
      "2022-08-21 11:05:50.846799: I tensorflow/core/grappler/optimizers/custom_graph_optimizer_registry.cc:113] Plugin optimizer for device_type GPU is enabled.\n",
      "2022-08-21 11:06:00.872376: I tensorflow/core/kernels/data/shuffle_dataset_op.cc:390] Filling up shuffle buffer (this may take a while): 40058 of 50000\n",
      "2022-08-21 11:06:01.839854: I tensorflow/core/kernels/data/shuffle_dataset_op.cc:415] Shuffle buffer filled.\n"
     ]
    },
    {
     "name": "stdout",
     "output_type": "stream",
     "text": [
      "    693/Unknown - 18s 10ms/step - loss: 0.5170 - accuracy: 0.7724"
     ]
    },
    {
     "name": "stderr",
     "output_type": "stream",
     "text": [
      "2022-08-21 11:06:09.591687: I tensorflow/core/grappler/optimizers/custom_graph_optimizer_registry.cc:113] Plugin optimizer for device_type GPU is enabled.\n"
     ]
    },
    {
     "name": "stdout",
     "output_type": "stream",
     "text": [
      "697/697 [==============================] - 20s 13ms/step - loss: 0.5164 - accuracy: 0.7725 - val_loss: 0.3672 - val_accuracy: 0.8468\n",
      "Epoch 2/3\n",
      "697/697 [==============================] - 7s 9ms/step - loss: 0.2852 - accuracy: 0.8865 - val_loss: 0.3522 - val_accuracy: 0.8534\n",
      "Epoch 3/3\n",
      "697/697 [==============================] - 6s 9ms/step - loss: 0.1945 - accuracy: 0.9262 - val_loss: 0.3854 - val_accuracy: 0.8516\n"
     ]
    }
   ],
   "source": [
    "model = create_model(vocab_size=vocab_size, num_labels=3)\n",
    "\n",
    "model.compile(optimizer='adam',\n",
    "             loss=losses.SparseCategoricalCrossentropy(from_logits=True),\n",
    "             metrics=['accuracy'])\n",
    "\n",
    "histroy = model.fit(train_data, validation_data=validation_data, epochs=3)"
   ]
  },
  {
   "cell_type": "code",
   "execution_count": 251,
   "id": "e4cafe39",
   "metadata": {},
   "outputs": [
    {
     "name": "stdout",
     "output_type": "stream",
     "text": [
      "79/79 [==============================] - 1s 4ms/step - loss: 0.3854 - accuracy: 0.8516\n",
      "loss:     0.38535428047180176\n",
      "accuracy: 85.16%\n"
     ]
    }
   ],
   "source": [
    "loss, accuracy = model.evaluate(validation_data)\n",
    "\n",
    "print(f\"loss:     {loss}\")\n",
    "print(f\"accuracy: {accuracy:2.2%}\")"
   ]
  },
  {
   "cell_type": "markdown",
   "id": "f6ac79cb",
   "metadata": {},
   "source": [
    "### Export the model"
   ]
  },
  {
   "cell_type": "markdown",
   "id": "461ad3fd",
   "metadata": {},
   "source": [
    "To make the model capable of taking raw strings as input, you will create a Keras TextVectorization layer that performs the same steps as your custom preprocessing function. Since you have already trained a vocabulary, you can use TextVectorization.set_vocabulary (instead of TextVectorization.adapt), which trains a new vocabulary."
   ]
  },
  {
   "cell_type": "code",
   "execution_count": 252,
   "id": "35d04540",
   "metadata": {},
   "outputs": [],
   "source": [
    "preprocess_layer = TextVectorization(max_tokens=vocab_size,\n",
    "                                    standardize=tf_text.case_fold_utf8,\n",
    "                                     split=tokenizer.tokenize,\n",
    "                                     output_mode='int',\n",
    "                                     output_sequence_length=MAX_SEQUENCE_LENGTH)"
   ]
  },
  {
   "cell_type": "code",
   "execution_count": 256,
   "id": "5c9ee6a1",
   "metadata": {},
   "outputs": [],
   "source": [
    "preprocess_layer.set_vocabulary(vocab)"
   ]
  },
  {
   "cell_type": "code",
   "execution_count": 301,
   "id": "f3cda17b",
   "metadata": {},
   "outputs": [],
   "source": [
    "export_model = tf.keras.Sequential([preprocess_layer,\n",
    "                                  model,\n",
    "                                  layers.Activation('softmax')])\n",
    "\n",
    "export_model.compile(loss=losses.SparseCategoricalCrossentropy(from_logits=True),\n",
    "                     optimizer='adam',\n",
    "                     metrics=['accuracy'])"
   ]
  },
  {
   "cell_type": "code",
   "execution_count": 302,
   "id": "0b7441b5",
   "metadata": {},
   "outputs": [
    {
     "name": "stderr",
     "output_type": "stream",
     "text": [
      "/Users/rainyseason/miniforge3/envs/tf25/lib/python3.8/site-packages/tensorflow/python/util/dispatch.py:1082: UserWarning: \"`sparse_categorical_crossentropy` received `from_logits=True`, but the `output` argument was produced by a sigmoid or softmax activation and thus does not represent logits. Was this intended?\"\n",
      "  return dispatch_target(*args, **kwargs)\n",
      "2022-08-21 16:00:32.242543: I tensorflow/core/grappler/optimizers/custom_graph_optimizer_registry.cc:113] Plugin optimizer for device_type GPU is enabled.\n",
      "2022-08-21 16:00:32.303988: W tensorflow/core/grappler/optimizers/loop_optimizer.cc:907] Skipping loop optimization for Merge node with control input: sequential_7/text_vectorization_2/UnicodeScriptTokenize/Assert/AssertGuard/branch_executed/_175\n"
     ]
    },
    {
     "name": "stdout",
     "output_type": "stream",
     "text": [
      "79/79 [==============================] - 4s 16ms/step - loss: 0.4787 - accuracy: 0.8094\n",
      "Loss: 0.4787091016769409\n",
      "Accuracy: 80.94%\n"
     ]
    }
   ],
   "source": [
    "# Create a test dataset of raw strings\n",
    "test_ds = all_labeled_data.take(VALIDATION_SIZE).batch(BATCH_SIZE)\n",
    "test_ds = configure_dataset(test_ds)\n",
    "\n",
    "loss, accuracy = export_model.evaluate(test_ds)\n",
    "\n",
    "print(f\"Loss: {loss}\")\n",
    "print(f\"Accuracy: {accuracy:2.2%}\")"
   ]
  },
  {
   "cell_type": "markdown",
   "id": "f06840aa",
   "metadata": {},
   "source": [
    "### Run inference on new data"
   ]
  },
  {
   "cell_type": "code",
   "execution_count": 281,
   "id": "a548b34f",
   "metadata": {},
   "outputs": [],
   "source": [
    "inputs = [\n",
    "    \"Join'd to th' Ionians with their flowing robes,\",  # Label: 1\n",
    "    \"the allies, and his armour flashed about him so that he seemed to all\",  # Label: 2\n",
    "    \"And with loud clangor of his arms he fell.\",  # Label: 0\n",
    "]"
   ]
  },
  {
   "cell_type": "code",
   "execution_count": 285,
   "id": "2da2aea5",
   "metadata": {},
   "outputs": [],
   "source": [
    "predicted_scores = export_model.predict(inputs)\n",
    "predicted_labels = tf.math.argmax(predicted_scores, axis=1)"
   ]
  },
  {
   "cell_type": "code",
   "execution_count": 288,
   "id": "b9c67936",
   "metadata": {},
   "outputs": [
    {
     "name": "stdout",
     "output_type": "stream",
     "text": [
      "Question:        Join'd to th' Ionians with their flowing robes,\n",
      "Predicted Label: 1\n",
      "Question:        the allies, and his armour flashed about him so that he seemed to all\n",
      "Predicted Label: 2\n",
      "Question:        And with loud clangor of his arms he fell.\n",
      "Predicted Label: 0\n"
     ]
    }
   ],
   "source": [
    "for input, label in zip(inputs, predicted_labels):\n",
    "    print(f\"Question:        {input}\")\n",
    "    print(f\"Predicted Label: {label}\")"
   ]
  },
  {
   "cell_type": "markdown",
   "id": "299d561c",
   "metadata": {},
   "source": [
    "## Download more datasets using TensorFlow Datasets (TFDS)"
   ]
  },
  {
   "cell_type": "markdown",
   "id": "a23764f9",
   "metadata": {},
   "source": [
    "You can download many more datasets from TensorFlow Datasets.\n",
    "\n",
    "In this example, you will use the IMDB Large Movie Review dataset to train a model for sentiment classification:"
   ]
  },
  {
   "cell_type": "code",
   "execution_count": 320,
   "id": "6e622bf9",
   "metadata": {},
   "outputs": [],
   "source": [
    "# Training set.\n",
    "train_ds = tfds.load(\n",
    "    'imdb_reviews',\n",
    "    split='train[:80%]',\n",
    "    batch_size=BATCH_SIZE,\n",
    "    shuffle_files=True,\n",
    "    as_supervised=True)"
   ]
  },
  {
   "cell_type": "code",
   "execution_count": 321,
   "id": "543a5e3d",
   "metadata": {},
   "outputs": [],
   "source": [
    "# Validation set.\n",
    "val_ds = tfds.load(\n",
    "    'imdb_reviews',\n",
    "    split='train[80%:]',\n",
    "    batch_size=BATCH_SIZE,\n",
    "    shuffle_files=True,\n",
    "    as_supervised=True)"
   ]
  },
  {
   "cell_type": "code",
   "execution_count": 322,
   "id": "378a157d",
   "metadata": {},
   "outputs": [
    {
     "name": "stdout",
     "output_type": "stream",
     "text": [
      "Review: b\"Instead, go to the zoo, buy some peanuts and feed 'em to the monkeys. Monkeys are funny. People with amnesia who don't say much, just sit there with vacant eyes are not all that funny.<br /><br />Black comedy? There isn't a black person in it, and there isn't one funny thing in it either.<br /><br />Walmart buys these things up somehow and puts them on their dollar rack. It's labeled Unrated. I think they took out the topless scene. They may have taken out other stuff too, who knows? All we know is that whatever they took out, isn't there any more.<br /><br />The acting seemed OK to me. There's a lot of unfathomables tho. It's supposed to be a city? It's supposed to be a big lake? If it's so hot in the church people are fanning themselves, why are they all wearing coats?\"\n",
      "Label: 0\n",
      "Review: b'Well, was Morgan Freeman any more unusual as God than George Burns? This film sure was better than that bore, \"Oh, God\". I was totally engrossed and LMAO all the way through. Carrey was perfect as the out of sorts anchorman wannabe, and Aniston carried off her part as the frustrated girlfriend in her usual well played performance. I, for one, don\\'t consider her to be either ugly or untalented. I think my favorite scene was when Carrey opened up the file cabinet thinking it could never hold his life history. See if you can spot the file in the cabinet that holds the events of his bathroom humor: I was rolling over this one. Well written and even better played out, this comedy will go down as one of this funnyman\\'s best.'\n",
      "Label: 1\n"
     ]
    },
    {
     "name": "stderr",
     "output_type": "stream",
     "text": [
      "2022-08-21 16:16:38.506289: W tensorflow/core/kernels/data/cache_dataset_ops.cc:768] The calling iterator did not fully read the dataset being cached. In order to avoid unexpected truncation of the dataset, the partially cached contents of the dataset  will be discarded. This can happen if you have an input pipeline similar to `dataset.cache().take(k).repeat()`. You should use `dataset.take(k).cache().repeat()` instead.\n"
     ]
    }
   ],
   "source": [
    "for review_batch, label_batch in val_ds.take(1):\n",
    "    for i in range(2):\n",
    "        print(\"Review: {}\".format(review_batch[i].numpy()))\n",
    "        print(\"Label: {}\".format(label_batch[i].numpy()))"
   ]
  },
  {
   "cell_type": "markdown",
   "id": "1f50c681",
   "metadata": {},
   "source": [
    "### Prepare the dataset for training"
   ]
  },
  {
   "cell_type": "code",
   "execution_count": 323,
   "id": "89a7fd15",
   "metadata": {},
   "outputs": [
    {
     "name": "stderr",
     "output_type": "stream",
     "text": [
      "2022-08-21 16:16:38.885700: I tensorflow/core/grappler/optimizers/custom_graph_optimizer_registry.cc:113] Plugin optimizer for device_type GPU is enabled.\n"
     ]
    }
   ],
   "source": [
    "vectorize_layer = TextVectorization(max_tokens=VOCAB_SIZE,\n",
    "                                   output_mode='int',\n",
    "                                   output_sequence_length=MAX_SEQUENCE_LENGTH)\n",
    "\n",
    "# Make a text-only dataset (without labels), then call `TextVectorization.adapt`.\n",
    "train_text = train_ds.map(lambda x, y: x)\n",
    "vectorize_layer.adapt(train_text)"
   ]
  },
  {
   "cell_type": "code",
   "execution_count": 324,
   "id": "9589b6a7",
   "metadata": {},
   "outputs": [],
   "source": [
    "def vectorize_text(text, label):\n",
    "    text = tf.expand_dims(text, -1)\n",
    "    return vectorize_layer(text), label"
   ]
  },
  {
   "cell_type": "code",
   "execution_count": 325,
   "id": "a335041d",
   "metadata": {},
   "outputs": [],
   "source": [
    "train_ds = train_ds.map(vectorize_text)\n",
    "val_ds = val_ds.map(vectorize_text)"
   ]
  },
  {
   "cell_type": "code",
   "execution_count": 326,
   "id": "16081083",
   "metadata": {},
   "outputs": [],
   "source": [
    "train_ds = configure_dataset(train_ds)\n",
    "val_ds = configure_dataset(val_ds)"
   ]
  },
  {
   "cell_type": "markdown",
   "id": "91f17e80",
   "metadata": {},
   "source": [
    "### Create, configure and train the model"
   ]
  },
  {
   "cell_type": "code",
   "execution_count": 328,
   "id": "edff0dab",
   "metadata": {},
   "outputs": [],
   "source": [
    "model = create_model(vocab_size=VOCAB_SIZE + 1, num_labels=1)"
   ]
  },
  {
   "cell_type": "code",
   "execution_count": 329,
   "id": "745a2644",
   "metadata": {},
   "outputs": [
    {
     "name": "stdout",
     "output_type": "stream",
     "text": [
      "Model: \"sequential_8\"\n",
      "_________________________________________________________________\n",
      " Layer (type)                Output Shape              Param #   \n",
      "=================================================================\n",
      " embedding_3 (Embedding)     (None, None, 64)          640064    \n",
      "                                                                 \n",
      " conv1d_3 (Conv1D)           (None, None, 64)          20544     \n",
      "                                                                 \n",
      " global_max_pooling1d_3 (Glo  (None, 64)               0         \n",
      " balMaxPooling1D)                                                \n",
      "                                                                 \n",
      " dense_5 (Dense)             (None, 1)                 65        \n",
      "                                                                 \n",
      "=================================================================\n",
      "Total params: 660,673\n",
      "Trainable params: 660,673\n",
      "Non-trainable params: 0\n",
      "_________________________________________________________________\n"
     ]
    }
   ],
   "source": [
    "model.summary()"
   ]
  },
  {
   "cell_type": "code",
   "execution_count": 331,
   "id": "9c56df3a",
   "metadata": {},
   "outputs": [
    {
     "name": "stdout",
     "output_type": "stream",
     "text": [
      "Epoch 1/3\n"
     ]
    },
    {
     "name": "stderr",
     "output_type": "stream",
     "text": [
      "2022-08-21 16:20:41.187257: I tensorflow/core/grappler/optimizers/custom_graph_optimizer_registry.cc:113] Plugin optimizer for device_type GPU is enabled.\n"
     ]
    },
    {
     "name": "stdout",
     "output_type": "stream",
     "text": [
      "313/313 [==============================] - ETA: 0s - loss: 0.5407 - accuracy: 0.6654"
     ]
    },
    {
     "name": "stderr",
     "output_type": "stream",
     "text": [
      "2022-08-21 16:20:48.100337: I tensorflow/core/grappler/optimizers/custom_graph_optimizer_registry.cc:113] Plugin optimizer for device_type GPU is enabled.\n"
     ]
    },
    {
     "name": "stdout",
     "output_type": "stream",
     "text": [
      "313/313 [==============================] - 8s 22ms/step - loss: 0.5407 - accuracy: 0.6654 - val_loss: 0.3742 - val_accuracy: 0.8278\n",
      "Epoch 2/3\n",
      "313/313 [==============================] - 4s 13ms/step - loss: 0.3004 - accuracy: 0.8686 - val_loss: 0.3143 - val_accuracy: 0.8578\n",
      "Epoch 3/3\n",
      "313/313 [==============================] - 4s 13ms/step - loss: 0.1844 - accuracy: 0.9282 - val_loss: 0.3237 - val_accuracy: 0.8600\n"
     ]
    }
   ],
   "source": [
    "model.compile(loss=losses.BinaryCrossentropy(from_logits=True),\n",
    "             optimizer='adam',\n",
    "             metrics=['accuracy'])\n",
    "\n",
    "history = model.fit(train_ds, validation_data=val_ds, epochs=3)"
   ]
  },
  {
   "cell_type": "code",
   "execution_count": 333,
   "id": "b3da683c",
   "metadata": {},
   "outputs": [
    {
     "name": "stdout",
     "output_type": "stream",
     "text": [
      "79/79 [==============================] - 0s 5ms/step - loss: 0.3237 - accuracy: 0.8600\n",
      "Loss:  0.3236521780490875\n",
      "Accuracy: 86.00%\n"
     ]
    }
   ],
   "source": [
    "loss, accuracy = model.evaluate(val_ds)\n",
    "print(\"Loss: \", loss)\n",
    "print(\"Accuracy: {:2.2%}\".format(accuracy))"
   ]
  },
  {
   "cell_type": "markdown",
   "id": "437b0dd9",
   "metadata": {},
   "source": [
    "### Export the model"
   ]
  },
  {
   "cell_type": "code",
   "execution_count": 334,
   "id": "c76d048e",
   "metadata": {},
   "outputs": [],
   "source": [
    "export_model = tf.keras.Sequential([vectorize_layer,\n",
    "                                   model,\n",
    "                                    layers.Activation('sigmoid')])\n",
    "\n",
    "export_model.compile(loss=losses.BinaryCrossentropy(from_logits=True),\n",
    "                    optimizer='adam',\n",
    "                    metrics=['accuracy'])"
   ]
  },
  {
   "cell_type": "code",
   "execution_count": 357,
   "id": "9283dd55",
   "metadata": {},
   "outputs": [],
   "source": [
    "# 0 --> negative review\n",
    "# 1 --> positive review\n",
    "inputs = [\n",
    "    \"This is a fantastic movie.\",\n",
    "    \"This is a bad movie.\",\n",
    "    \"This movie was so bad that it was good.\",\n",
    "    \"I will never say yes to watching this movie.\",\n",
    "    \"Will I ever see this movie again?\", \n",
    "    \"Why is the time to watch this movie wasted?\"\n",
    "]"
   ]
  },
  {
   "cell_type": "code",
   "execution_count": 358,
   "id": "48082f0b",
   "metadata": {},
   "outputs": [
    {
     "data": {
      "text/plain": [
       "array([[9.9879295e-01],\n",
       "       [6.5448575e-02],\n",
       "       [2.4162711e-01],\n",
       "       [4.0174028e-01],\n",
       "       [9.1728133e-01],\n",
       "       [8.0496364e-04]], dtype=float32)"
      ]
     },
     "execution_count": 358,
     "metadata": {},
     "output_type": "execute_result"
    }
   ],
   "source": [
    "predicted_scores = export_model.predict(inputs)\n",
    "predicted_scores"
   ]
  },
  {
   "cell_type": "code",
   "execution_count": 359,
   "id": "96455572",
   "metadata": {},
   "outputs": [],
   "source": [
    "predicted_labels = [round(x[0]) for x in predicted_scores]"
   ]
  },
  {
   "cell_type": "code",
   "execution_count": 361,
   "id": "7e393b2e",
   "metadata": {},
   "outputs": [
    {
     "name": "stdout",
     "output_type": "stream",
     "text": [
      "Question:  This is a fantastic movie.\n",
      "Predicted label:  1\n",
      "Question:  This is a bad movie.\n",
      "Predicted label:  0\n",
      "Question:  This movie was so bad that it was good.\n",
      "Predicted label:  0\n",
      "Question:  I will never say yes to watching this movie.\n",
      "Predicted label:  0\n",
      "Question:  Will I ever see this movie again?\n",
      "Predicted label:  1\n",
      "Question:  Why is the time to watch this movie wasted?\n",
      "Predicted label:  0\n"
     ]
    }
   ],
   "source": [
    "for input, label in zip(inputs, predicted_labels):\n",
    "    print(\"Question: \", input)\n",
    "    print(\"Predicted label: \", label)"
   ]
  },
  {
   "cell_type": "code",
   "execution_count": null,
   "id": "ccf74529",
   "metadata": {},
   "outputs": [],
   "source": []
  }
 ],
 "metadata": {
  "kernelspec": {
   "display_name": "tf25",
   "language": "python",
   "name": "tf25"
  },
  "language_info": {
   "codemirror_mode": {
    "name": "ipython",
    "version": 3
   },
   "file_extension": ".py",
   "mimetype": "text/x-python",
   "name": "python",
   "nbconvert_exporter": "python",
   "pygments_lexer": "ipython3",
   "version": "3.8.13"
  }
 },
 "nbformat": 4,
 "nbformat_minor": 5
}
