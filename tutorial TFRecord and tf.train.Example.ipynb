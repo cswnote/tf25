{
 "cells": [
  {
   "cell_type": "code",
   "execution_count": 1,
   "id": "9b653812",
   "metadata": {},
   "outputs": [],
   "source": [
    "import tensorflow as tf\n",
    "import numpy as np\n",
    "import IPython.display as display"
   ]
  },
  {
   "cell_type": "code",
   "execution_count": 2,
   "id": "aa12f66b",
   "metadata": {},
   "outputs": [
    {
     "data": {
      "text/plain": [
       "'2.8.0'"
      ]
     },
     "execution_count": 2,
     "metadata": {},
     "output_type": "execute_result"
    }
   ],
   "source": [
    "tf.__version__"
   ]
  },
  {
   "cell_type": "markdown",
   "id": "1504ea9e",
   "metadata": {},
   "source": [
    "### tf.train.Example"
   ]
  },
  {
   "cell_type": "markdown",
   "id": "0a69cacd",
   "metadata": {},
   "source": [
    "#### Data Types for tf.train.Example"
   ]
  },
  {
   "cell_type": "code",
   "execution_count": 3,
   "id": "d35c1b29",
   "metadata": {},
   "outputs": [],
   "source": [
    "# The following functions can be used to convert a value to a type compatible\n",
    "# with tf.train.Example.\n",
    "\n",
    "def _bytes_feature(value):\n",
    "    \"\"\"Returns a bytes_list from a string / byte.\"\"\"\n",
    "    if isinstance(value, type(tf.constant(0))):\n",
    "        value = value.numpy() # BytesList won't unpack a string from an EagerTensor.\n",
    "    return tf.train.Feature(bytes_list=tf.train.BytesList(value=[value]))\n",
    "\n",
    "def _float_feature(value):\n",
    "    \"\"\"Returns a float_list from a float / double.\"\"\"\n",
    "    return tf.train.Feature(float_list=tf.train.FloatList(value=[value]))\n",
    "\n",
    "def _int64_feature(value):\n",
    "    \"\"\"Returns a int64_list from a bool / enum / int / uint.\"\"\"\n",
    "    return tf.train.Feature(int64_list=tf.train.Int64List(value=[value]))"
   ]
  },
  {
   "cell_type": "code",
   "execution_count": 4,
   "id": "9ff7ca36",
   "metadata": {},
   "outputs": [
    {
     "name": "stdout",
     "output_type": "stream",
     "text": [
      "bytes_list {\n",
      "  value: \"test_string\"\n",
      "}\n",
      "\n",
      "bytes_list {\n",
      "  value: \"test_bytes\"\n",
      "}\n",
      "\n",
      "float_list {\n",
      "  value: 2.7182817459106445\n",
      "}\n",
      "\n",
      "int64_list {\n",
      "  value: 1\n",
      "}\n",
      "\n",
      "int64_list {\n",
      "  value: 1\n",
      "}\n",
      "\n"
     ]
    }
   ],
   "source": [
    "print(_bytes_feature(b'test_string'))\n",
    "print(_bytes_feature(u'test_bytes'.encode('utf-8')))\n",
    "\n",
    "print(_float_feature(np.exp(1)))\n",
    "\n",
    "print(_int64_feature(True))\n",
    "print(_int64_feature(1))"
   ]
  },
  {
   "cell_type": "code",
   "execution_count": 5,
   "id": "67952a30",
   "metadata": {},
   "outputs": [
    {
     "name": "stdout",
     "output_type": "stream",
     "text": [
      "float_list {\n",
      "  value: 2.7182817459106445\n",
      "}\n",
      " \n",
      " <class 'tensorflow.core.example.feature_pb2.Feature'>\n",
      "b'\\x12\\x06\\n\\x04T\\xf8-@'\n",
      "b'\\x12\\x06\\n\\x04BD@@'\n"
     ]
    }
   ],
   "source": [
    "feature = _float_feature(np.exp(1))\n",
    "feature1 = _float_feature(np.exp(1.1))\n",
    "print(feature, '\\n', type(feature))\n",
    "print(feature.SerializeToString())\n",
    "print(feature1.SerializeToString())"
   ]
  },
  {
   "cell_type": "markdown",
   "id": "e272cf3c",
   "metadata": {},
   "source": [
    "#### Creating a tf.train."
   ]
  },
  {
   "cell_type": "code",
   "execution_count": 6,
   "id": "142c57d5",
   "metadata": {},
   "outputs": [],
   "source": [
    "n_observations = int(1e4)\n",
    "\n",
    "feature0 = np.random.choice([False, True], n_observations)\n",
    "\n",
    "feature1 = np.random.randint(0, 5, n_observations)\n",
    "\n",
    "strings = np.array([b'cat', b'dog', b'chicken', b'horse', b'goat'])\n",
    "feature2 = strings[feature1] # you can't make random string list if you use list type\n",
    "\n",
    "feature3 = np.random.randn(n_observations)"
   ]
  },
  {
   "cell_type": "code",
   "execution_count": 7,
   "id": "1d01b7fd",
   "metadata": {},
   "outputs": [],
   "source": [
    "def serialize_example(feature0, feature1, feature2, feature3):\n",
    "    feature = {\n",
    "        'feature0': _int64_feature(feature0),\n",
    "        'feature1': _int64_feature(feature1),\n",
    "        'feature2': _bytes_feature(feature2),\n",
    "        'feature3': _float_feature(feature3),\n",
    "    }\n",
    "    \n",
    "    example_proto = tf.train.Example(features=tf.train.Features(feature=feature))\n",
    "    return example_proto.SerializeToString()"
   ]
  },
  {
   "cell_type": "code",
   "execution_count": 8,
   "id": "b0e2a9fe",
   "metadata": {},
   "outputs": [
    {
     "data": {
      "text/plain": [
       "b'\\nR\\n\\x14\\n\\x08feature2\\x12\\x08\\n\\x06\\n\\x04goat\\n\\x14\\n\\x08feature3\\x12\\x08\\x12\\x06\\n\\x04[\\xd3|?\\n\\x11\\n\\x08feature1\\x12\\x05\\x1a\\x03\\n\\x01\\x04\\n\\x11\\n\\x08feature0\\x12\\x05\\x1a\\x03\\n\\x01\\x00'"
      ]
     },
     "execution_count": 8,
     "metadata": {},
     "output_type": "execute_result"
    }
   ],
   "source": [
    "example_observation = []\n",
    "\n",
    "serialized_example = serialize_example(False, 4, b'goat', 0.9876)\n",
    "serialized_example"
   ]
  },
  {
   "cell_type": "code",
   "execution_count": 9,
   "id": "5ce0c4c9",
   "metadata": {},
   "outputs": [
    {
     "data": {
      "text/plain": [
       "features {\n",
       "  feature {\n",
       "    key: \"feature0\"\n",
       "    value {\n",
       "      int64_list {\n",
       "        value: 0\n",
       "      }\n",
       "    }\n",
       "  }\n",
       "  feature {\n",
       "    key: \"feature1\"\n",
       "    value {\n",
       "      int64_list {\n",
       "        value: 4\n",
       "      }\n",
       "    }\n",
       "  }\n",
       "  feature {\n",
       "    key: \"feature2\"\n",
       "    value {\n",
       "      bytes_list {\n",
       "        value: \"goat\"\n",
       "      }\n",
       "    }\n",
       "  }\n",
       "  feature {\n",
       "    key: \"feature3\"\n",
       "    value {\n",
       "      float_list {\n",
       "        value: 0.9876000285148621\n",
       "      }\n",
       "    }\n",
       "  }\n",
       "}"
      ]
     },
     "execution_count": 9,
     "metadata": {},
     "output_type": "execute_result"
    }
   ],
   "source": [
    "example_proto = tf.train.Example.FromString(serialized_example)\n",
    "example_proto"
   ]
  },
  {
   "cell_type": "markdown",
   "id": "dd48e285",
   "metadata": {},
   "source": [
    "### TFRecords format details"
   ]
  },
  {
   "cell_type": "code",
   "execution_count": 10,
   "id": "fbad9ed4",
   "metadata": {},
   "outputs": [],
   "source": [
    "# uint64 length\n",
    "# uint32 masked_crc32_of_length\n",
    "# byte   data[length]\n",
    "# uint32 masked_crc32_of_data"
   ]
  },
  {
   "cell_type": "code",
   "execution_count": 11,
   "id": "295f13dd",
   "metadata": {},
   "outputs": [],
   "source": [
    "# masked_crc = ((crc >> 15) | (crc << 17)) + 0xa282ead8ul"
   ]
  },
  {
   "cell_type": "markdown",
   "id": "8e8c397f",
   "metadata": {},
   "source": [
    "### TFRecord files using tf.data"
   ]
  },
  {
   "cell_type": "markdown",
   "id": "69dc0e62",
   "metadata": {},
   "source": [
    "#### Writing a TFRecord file"
   ]
  },
  {
   "cell_type": "code",
   "execution_count": 12,
   "id": "6e9d6f7f",
   "metadata": {},
   "outputs": [
    {
     "data": {
      "text/plain": [
       "<TensorSliceDataset element_spec=TensorSpec(shape=(), dtype=tf.int32, name=None)>"
      ]
     },
     "execution_count": 12,
     "metadata": {},
     "output_type": "execute_result"
    }
   ],
   "source": [
    "tf.data.Dataset.from_tensor_slices(feature1)"
   ]
  },
  {
   "cell_type": "code",
   "execution_count": 13,
   "id": "7a69792e",
   "metadata": {},
   "outputs": [
    {
     "data": {
      "text/plain": [
       "<TensorSliceDataset element_spec=(TensorSpec(shape=(), dtype=tf.bool, name=None), TensorSpec(shape=(), dtype=tf.int32, name=None), TensorSpec(shape=(), dtype=tf.string, name=None), TensorSpec(shape=(), dtype=tf.float64, name=None))>"
      ]
     },
     "execution_count": 13,
     "metadata": {},
     "output_type": "execute_result"
    }
   ],
   "source": [
    "features_dataset = tf.data.Dataset.from_tensor_slices((feature0, feature1, feature2, feature3))\n",
    "features_dataset"
   ]
  },
  {
   "cell_type": "code",
   "execution_count": 14,
   "id": "fbb75a21",
   "metadata": {},
   "outputs": [
    {
     "name": "stdout",
     "output_type": "stream",
     "text": [
      "tf.Tensor(True, shape=(), dtype=bool) \n",
      " tf.Tensor(0, shape=(), dtype=int32) \n",
      " tf.Tensor(b'cat', shape=(), dtype=string) \n",
      " tf.Tensor(0.318821956338708, shape=(), dtype=float64)\n",
      "True 0 b'cat' 0.318821956338708\n",
      "True 0 b'cat' 0.318821956338708\n"
     ]
    }
   ],
   "source": [
    "for a, b, c, d in features_dataset.take(1):\n",
    "    print(a, '\\n', b, '\\n', c, '\\n', d)\n",
    "    print(a.numpy(),  b.numpy(), c.numpy(), d.numpy())\n",
    "print(feature0[0], feature1[0], feature2[0], feature3[0])"
   ]
  },
  {
   "cell_type": "code",
   "execution_count": 15,
   "id": "b826b20e",
   "metadata": {},
   "outputs": [],
   "source": [
    "def tf_serialize_example(f0, f1, f2, f3):\n",
    "    tf_string = tf.py_function(serialize_example, \n",
    "                              (f0, f1, f2, f3),\n",
    "                              tf.string)\n",
    "    return tf.reshape(tf_string, ())"
   ]
  },
  {
   "cell_type": "code",
   "execution_count": 16,
   "id": "62240cc5",
   "metadata": {},
   "outputs": [
    {
     "data": {
      "text/plain": [
       "<tf.Tensor: shape=(), dtype=string, numpy=b'\\nQ\\n\\x14\\n\\x08feature3\\x12\\x08\\x12\\x06\\n\\x04\\xa2<\\xa3>\\n\\x11\\n\\x08feature1\\x12\\x05\\x1a\\x03\\n\\x01\\x00\\n\\x13\\n\\x08feature2\\x12\\x07\\n\\x05\\n\\x03cat\\n\\x11\\n\\x08feature0\\x12\\x05\\x1a\\x03\\n\\x01\\x01'>"
      ]
     },
     "execution_count": 16,
     "metadata": {},
     "output_type": "execute_result"
    }
   ],
   "source": [
    "tf_serialize_example(a, b, c, d)"
   ]
  },
  {
   "cell_type": "code",
   "execution_count": 17,
   "id": "5ecff267",
   "metadata": {},
   "outputs": [
    {
     "data": {
      "text/plain": [
       "<MapDataset element_spec=TensorSpec(shape=(), dtype=tf.string, name=None)>"
      ]
     },
     "execution_count": 17,
     "metadata": {},
     "output_type": "execute_result"
    }
   ],
   "source": [
    "serialized_features_dataset = features_dataset.map(tf_serialize_example)\n",
    "serialized_features_dataset"
   ]
  },
  {
   "cell_type": "code",
   "execution_count": 18,
   "id": "d35c6796",
   "metadata": {},
   "outputs": [],
   "source": [
    "def generator():\n",
    "    for features in features_dataset:\n",
    "        yield serialize_example(*features)"
   ]
  },
  {
   "cell_type": "code",
   "execution_count": 19,
   "id": "e4163120",
   "metadata": {},
   "outputs": [],
   "source": [
    "serialized_features_dataset = tf.data.Dataset.from_generator(generator,\n",
    "                                                            output_types=tf.string,\n",
    "                                                            output_shapes=())"
   ]
  },
  {
   "cell_type": "code",
   "execution_count": 20,
   "id": "8644efe0",
   "metadata": {},
   "outputs": [
    {
     "data": {
      "text/plain": [
       "<FlatMapDataset element_spec=TensorSpec(shape=(), dtype=tf.string, name=None)>"
      ]
     },
     "execution_count": 20,
     "metadata": {},
     "output_type": "execute_result"
    }
   ],
   "source": [
    "serialized_features_dataset"
   ]
  },
  {
   "cell_type": "markdown",
   "id": "ccc04090",
   "metadata": {},
   "source": [
    "And write them to a TFRecord file:"
   ]
  },
  {
   "cell_type": "code",
   "execution_count": 21,
   "id": "011f13b0",
   "metadata": {},
   "outputs": [
    {
     "name": "stdout",
     "output_type": "stream",
     "text": [
      "WARNING:tensorflow:From C:\\Users\\winston\\AppData\\Local\\Temp\\ipykernel_2488\\3575438268.py:2: TFRecordWriter.__init__ (from tensorflow.python.data.experimental.ops.writers) is deprecated and will be removed in a future version.\n",
      "Instructions for updating:\n",
      "To write TFRecords to disk, use `tf.io.TFRecordWriter`. To save and load the contents of a dataset, use `tf.data.experimental.save` and `tf.data.experimental.load`\n"
     ]
    }
   ],
   "source": [
    "filename = 'test.tfrecord'\n",
    "writer = tf.data.experimental.TFRecordWriter(filename)\n",
    "writer.write(serialized_features_dataset)"
   ]
  },
  {
   "cell_type": "markdown",
   "id": "c00cf41c",
   "metadata": {},
   "source": [
    "#### Reading a TFRecord file"
   ]
  },
  {
   "cell_type": "code",
   "execution_count": 22,
   "id": "a773842f",
   "metadata": {},
   "outputs": [
    {
     "data": {
      "text/plain": [
       "<TFRecordDatasetV2 element_spec=TensorSpec(shape=(), dtype=tf.string, name=None)>"
      ]
     },
     "execution_count": 22,
     "metadata": {},
     "output_type": "execute_result"
    }
   ],
   "source": [
    "filenames = [filename]\n",
    "raw_dataset = tf.data.TFRecordDataset(filenames)\n",
    "raw_dataset"
   ]
  },
  {
   "cell_type": "code",
   "execution_count": null,
   "id": "dda76168",
   "metadata": {},
   "outputs": [],
   "source": []
  },
  {
   "cell_type": "code",
   "execution_count": null,
   "id": "0cf8f415",
   "metadata": {},
   "outputs": [],
   "source": []
  },
  {
   "cell_type": "code",
   "execution_count": null,
   "id": "0daf8b17",
   "metadata": {},
   "outputs": [],
   "source": []
  }
 ],
 "metadata": {
  "kernelspec": {
   "display_name": "tf25",
   "language": "python",
   "name": "tf25"
  },
  "language_info": {
   "codemirror_mode": {
    "name": "ipython",
    "version": 3
   },
   "file_extension": ".py",
   "mimetype": "text/x-python",
   "name": "python",
   "nbconvert_exporter": "python",
   "pygments_lexer": "ipython3",
   "version": "3.9.12"
  }
 },
 "nbformat": 4,
 "nbformat_minor": 5
}
