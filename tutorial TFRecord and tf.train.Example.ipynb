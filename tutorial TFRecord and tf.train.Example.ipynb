{
 "cells": [
  {
   "cell_type": "code",
   "execution_count": 1,
   "id": "9b653812",
   "metadata": {},
   "outputs": [],
   "source": [
    "import tensorflow as tf\n",
    "import numpy as np\n",
    "import IPython.display as display"
   ]
  },
  {
   "cell_type": "code",
   "execution_count": 2,
   "id": "aa12f66b",
   "metadata": {},
   "outputs": [
    {
     "data": {
      "text/plain": [
       "'2.9.0'"
      ]
     },
     "execution_count": 2,
     "metadata": {},
     "output_type": "execute_result"
    }
   ],
   "source": [
    "tf.__version__"
   ]
  },
  {
   "cell_type": "markdown",
   "id": "1504ea9e",
   "metadata": {},
   "source": [
    "### tf.train.Example"
   ]
  },
  {
   "cell_type": "markdown",
   "id": "0a69cacd",
   "metadata": {},
   "source": [
    "#### Data Types for tf.train.Example"
   ]
  },
  {
   "cell_type": "code",
   "execution_count": 3,
   "id": "d35c1b29",
   "metadata": {},
   "outputs": [],
   "source": [
    "# The following functions can be used to convert a value to a type compatible\n",
    "# with tf.train.Example.\n",
    "\n",
    "def _bytes_feature(value):\n",
    "    \"\"\"Returns a bytes_list from a string / byte.\"\"\"\n",
    "    if isinstance(value, type(tf.constant(0))):\n",
    "        value = value.numpy() # BytesList won't unpack a string from an EagerTensor.\n",
    "    return tf.train.Feature(bytes_list=tf.train.BytesList(value=[value]))\n",
    "\n",
    "def _float_feature(value):\n",
    "    \"\"\"Returns a float_list from a float / double.\"\"\"\n",
    "    return tf.train.Feature(float_list=tf.train.FloatList(value=[value]))\n",
    "\n",
    "def _int64_feature(value):\n",
    "    \"\"\"Returns a int64_list from a bool / enum / int / uint.\"\"\"\n",
    "    return tf.train.Feature(int64_list=tf.train.Int64List(value=[value]))"
   ]
  },
  {
   "cell_type": "code",
   "execution_count": 4,
   "id": "9ff7ca36",
   "metadata": {},
   "outputs": [
    {
     "name": "stdout",
     "output_type": "stream",
     "text": [
      "Metal device set to: Apple M1\n",
      "bytes_list {\n",
      "  value: \"test_string\"\n",
      "}\n",
      "\n",
      "bytes_list {\n",
      "  value: \"test_bytes\"\n",
      "}\n",
      "\n",
      "float_list {\n",
      "  value: 2.7182817\n",
      "}\n",
      "\n",
      "int64_list {\n",
      "  value: 1\n",
      "}\n",
      "\n",
      "int64_list {\n",
      "  value: 1\n",
      "}\n",
      "\n"
     ]
    },
    {
     "name": "stderr",
     "output_type": "stream",
     "text": [
      "2022-08-11 08:49:45.984244: I tensorflow/core/common_runtime/pluggable_device/pluggable_device_factory.cc:305] Could not identify NUMA node of platform GPU ID 0, defaulting to 0. Your kernel may not have been built with NUMA support.\n",
      "2022-08-11 08:49:45.984714: I tensorflow/core/common_runtime/pluggable_device/pluggable_device_factory.cc:271] Created TensorFlow device (/job:localhost/replica:0/task:0/device:GPU:0 with 0 MB memory) -> physical PluggableDevice (device: 0, name: METAL, pci bus id: <undefined>)\n"
     ]
    }
   ],
   "source": [
    "print(_bytes_feature(b'test_string'))\n",
    "print(_bytes_feature(u'test_bytes'.encode('utf-8')))\n",
    "\n",
    "print(_float_feature(np.exp(1)))\n",
    "\n",
    "print(_int64_feature(True))\n",
    "print(_int64_feature(1))"
   ]
  },
  {
   "cell_type": "code",
   "execution_count": 5,
   "id": "67952a30",
   "metadata": {},
   "outputs": [
    {
     "name": "stdout",
     "output_type": "stream",
     "text": [
      "float_list {\n",
      "  value: 2.7182817\n",
      "}\n",
      " \n",
      " <class 'tensorflow.core.example.feature_pb2.Feature'>\n",
      "b'\\x12\\x06\\n\\x04T\\xf8-@'\n",
      "b'\\x12\\x06\\n\\x04BD@@'\n"
     ]
    }
   ],
   "source": [
    "feature = _float_feature(np.exp(1))\n",
    "feature1 = _float_feature(np.exp(1.1))\n",
    "print(feature, '\\n', type(feature))\n",
    "print(feature.SerializeToString())\n",
    "print(feature1.SerializeToString())"
   ]
  },
  {
   "cell_type": "markdown",
   "id": "e272cf3c",
   "metadata": {},
   "source": [
    "#### Creating a tf.train."
   ]
  },
  {
   "cell_type": "code",
   "execution_count": 6,
   "id": "142c57d5",
   "metadata": {},
   "outputs": [],
   "source": [
    "n_observations = int(1e4)\n",
    "\n",
    "feature0 = np.random.choice([False, True], n_observations)\n",
    "\n",
    "feature1 = np.random.randint(0, 5, n_observations)\n",
    "\n",
    "strings = np.array([b'cat', b'dog', b'chicken', b'horse', b'goat'])\n",
    "feature2 = strings[feature1] # you can't make random string list if you use list type\n",
    "\n",
    "feature3 = np.random.randn(n_observations)"
   ]
  },
  {
   "cell_type": "code",
   "execution_count": 7,
   "id": "1d01b7fd",
   "metadata": {},
   "outputs": [],
   "source": [
    "def serialize_example(feature0, feature1, feature2, feature3):\n",
    "    feature = {\n",
    "        'feature0': _int64_feature(feature0),\n",
    "        'feature1': _int64_feature(feature1),\n",
    "        'feature2': _bytes_feature(feature2),\n",
    "        'feature3': _float_feature(feature3),\n",
    "    }\n",
    "    \n",
    "    example_proto = tf.train.Example(features=tf.train.Features(feature=feature))\n",
    "    return example_proto.SerializeToString()"
   ]
  },
  {
   "cell_type": "code",
   "execution_count": 8,
   "id": "b0e2a9fe",
   "metadata": {},
   "outputs": [
    {
     "data": {
      "text/plain": [
       "b'\\nR\\n\\x11\\n\\x08feature0\\x12\\x05\\x1a\\x03\\n\\x01\\x00\\n\\x11\\n\\x08feature1\\x12\\x05\\x1a\\x03\\n\\x01\\x04\\n\\x14\\n\\x08feature2\\x12\\x08\\n\\x06\\n\\x04goat\\n\\x14\\n\\x08feature3\\x12\\x08\\x12\\x06\\n\\x04[\\xd3|?'"
      ]
     },
     "execution_count": 8,
     "metadata": {},
     "output_type": "execute_result"
    }
   ],
   "source": [
    "example_observation = []\n",
    "\n",
    "serialized_example = serialize_example(False, 4, b'goat', 0.9876)\n",
    "serialized_example"
   ]
  },
  {
   "cell_type": "code",
   "execution_count": 9,
   "id": "5ce0c4c9",
   "metadata": {},
   "outputs": [
    {
     "data": {
      "text/plain": [
       "features {\n",
       "  feature {\n",
       "    key: \"feature0\"\n",
       "    value {\n",
       "      int64_list {\n",
       "        value: 0\n",
       "      }\n",
       "    }\n",
       "  }\n",
       "  feature {\n",
       "    key: \"feature1\"\n",
       "    value {\n",
       "      int64_list {\n",
       "        value: 4\n",
       "      }\n",
       "    }\n",
       "  }\n",
       "  feature {\n",
       "    key: \"feature2\"\n",
       "    value {\n",
       "      bytes_list {\n",
       "        value: \"goat\"\n",
       "      }\n",
       "    }\n",
       "  }\n",
       "  feature {\n",
       "    key: \"feature3\"\n",
       "    value {\n",
       "      float_list {\n",
       "        value: 0.9876\n",
       "      }\n",
       "    }\n",
       "  }\n",
       "}"
      ]
     },
     "execution_count": 9,
     "metadata": {},
     "output_type": "execute_result"
    }
   ],
   "source": [
    "example_proto = tf.train.Example.FromString(serialized_example)\n",
    "example_proto"
   ]
  },
  {
   "cell_type": "markdown",
   "id": "dd48e285",
   "metadata": {},
   "source": [
    "### TFRecords format details"
   ]
  },
  {
   "cell_type": "code",
   "execution_count": 10,
   "id": "fbad9ed4",
   "metadata": {},
   "outputs": [],
   "source": [
    "# uint64 length\n",
    "# uint32 masked_crc32_of_length\n",
    "# byte   data[length]\n",
    "# uint32 masked_crc32_of_data"
   ]
  },
  {
   "cell_type": "code",
   "execution_count": 11,
   "id": "295f13dd",
   "metadata": {},
   "outputs": [],
   "source": [
    "# masked_crc = ((crc >> 15) | (crc << 17)) + 0xa282ead8ul"
   ]
  },
  {
   "cell_type": "markdown",
   "id": "8e8c397f",
   "metadata": {},
   "source": [
    "### TFRecord files using tf.data"
   ]
  },
  {
   "cell_type": "markdown",
   "id": "69dc0e62",
   "metadata": {},
   "source": [
    "#### Writing a TFRecord file"
   ]
  },
  {
   "cell_type": "code",
   "execution_count": 12,
   "id": "6e9d6f7f",
   "metadata": {},
   "outputs": [
    {
     "data": {
      "text/plain": [
       "<TensorSliceDataset element_spec=TensorSpec(shape=(), dtype=tf.int64, name=None)>"
      ]
     },
     "execution_count": 12,
     "metadata": {},
     "output_type": "execute_result"
    }
   ],
   "source": [
    "tf.data.Dataset.from_tensor_slices(feature1)"
   ]
  },
  {
   "cell_type": "code",
   "execution_count": 13,
   "id": "7a69792e",
   "metadata": {},
   "outputs": [
    {
     "data": {
      "text/plain": [
       "<TensorSliceDataset element_spec=(TensorSpec(shape=(), dtype=tf.bool, name=None), TensorSpec(shape=(), dtype=tf.int64, name=None), TensorSpec(shape=(), dtype=tf.string, name=None), TensorSpec(shape=(), dtype=tf.float64, name=None))>"
      ]
     },
     "execution_count": 13,
     "metadata": {},
     "output_type": "execute_result"
    }
   ],
   "source": [
    "features_dataset = tf.data.Dataset.from_tensor_slices((feature0, feature1, feature2, feature3))\n",
    "features_dataset"
   ]
  },
  {
   "cell_type": "code",
   "execution_count": 14,
   "id": "fbb75a21",
   "metadata": {},
   "outputs": [
    {
     "name": "stdout",
     "output_type": "stream",
     "text": [
      "tf.Tensor(True, shape=(), dtype=bool) \n",
      " tf.Tensor(4, shape=(), dtype=int64) \n",
      " tf.Tensor(b'goat', shape=(), dtype=string) \n",
      " tf.Tensor(1.039732709347987, shape=(), dtype=float64)\n",
      "True 4 b'goat' 1.039732709347987\n",
      "True 4 b'goat' 1.039732709347987\n"
     ]
    }
   ],
   "source": [
    "for a, b, c, d in features_dataset.take(1):\n",
    "    print(a, '\\n', b, '\\n', c, '\\n', d)\n",
    "    print(a.numpy(),  b.numpy(), c.numpy(), d.numpy())\n",
    "print(feature0[0], feature1[0], feature2[0], feature3[0])"
   ]
  },
  {
   "cell_type": "code",
   "execution_count": 15,
   "id": "b826b20e",
   "metadata": {},
   "outputs": [],
   "source": [
    "def tf_serialize_example(f0, f1, f2, f3):\n",
    "    tf_string = tf.py_function(serialize_example, \n",
    "                              (f0, f1, f2, f3),\n",
    "                              tf.string)\n",
    "    return tf.reshape(tf_string, ())"
   ]
  },
  {
   "cell_type": "code",
   "execution_count": 16,
   "id": "62240cc5",
   "metadata": {},
   "outputs": [
    {
     "name": "stderr",
     "output_type": "stream",
     "text": [
      "2022-08-11 08:50:00.367405: W tensorflow/core/framework/op_kernel.cc:1733] INVALID_ARGUMENT: TypeError: <tf.Tensor: shape=(), dtype=bool, numpy=True> has type <class 'tensorflow.python.framework.ops.EagerTensor'>, but expected one of: (<class 'int'>,)\n",
      "Traceback (most recent call last):\n",
      "\n",
      "  File \"/Users/rainyseason/miniforge3/envs/tf29/lib/python3.10/site-packages/tensorflow/python/ops/script_ops.py\", line 268, in __call__\n",
      "    return func(device, token, args)\n",
      "\n",
      "  File \"/Users/rainyseason/miniforge3/envs/tf29/lib/python3.10/site-packages/tensorflow/python/ops/script_ops.py\", line 146, in __call__\n",
      "    outputs = self._call(device, args)\n",
      "\n",
      "  File \"/Users/rainyseason/miniforge3/envs/tf29/lib/python3.10/site-packages/tensorflow/python/ops/script_ops.py\", line 153, in _call\n",
      "    ret = self._func(*args)\n",
      "\n",
      "  File \"/Users/rainyseason/miniforge3/envs/tf29/lib/python3.10/site-packages/tensorflow/python/autograph/impl/api.py\", line 642, in wrapper\n",
      "    return func(*args, **kwargs)\n",
      "\n",
      "  File \"/var/folders/99/s34zzfr57xs9_1q57tnxdmrr0000gn/T/ipykernel_24837/1663365771.py\", line 3, in serialize_example\n",
      "    'feature0': _int64_feature(feature0),\n",
      "\n",
      "  File \"/var/folders/99/s34zzfr57xs9_1q57tnxdmrr0000gn/T/ipykernel_24837/2824841238.py\", line 16, in _int64_feature\n",
      "    return tf.train.Feature(int64_list=tf.train.Int64List(value=[value]))\n",
      "\n",
      "  File \"/Users/rainyseason/miniforge3/envs/tf29/lib/python3.10/site-packages/google/protobuf/internal/python_message.py\", line 542, in init\n",
      "    copy.extend(field_value)\n",
      "\n",
      "  File \"/Users/rainyseason/miniforge3/envs/tf29/lib/python3.10/site-packages/google/protobuf/internal/containers.py\", line 143, in extend\n",
      "    new_values = [self._type_checker.CheckValue(elem) for elem in elem_seq_iter]\n",
      "\n",
      "  File \"/Users/rainyseason/miniforge3/envs/tf29/lib/python3.10/site-packages/google/protobuf/internal/containers.py\", line 143, in <listcomp>\n",
      "    new_values = [self._type_checker.CheckValue(elem) for elem in elem_seq_iter]\n",
      "\n",
      "  File \"/Users/rainyseason/miniforge3/envs/tf29/lib/python3.10/site-packages/google/protobuf/internal/type_checkers.py\", line 155, in CheckValue\n",
      "    raise TypeError(message)\n",
      "\n",
      "TypeError: <tf.Tensor: shape=(), dtype=bool, numpy=True> has type <class 'tensorflow.python.framework.ops.EagerTensor'>, but expected one of: (<class 'int'>,)\n",
      "\n",
      "\n"
     ]
    },
    {
     "ename": "InvalidArgumentError",
     "evalue": "TypeError: <tf.Tensor: shape=(), dtype=bool, numpy=True> has type <class 'tensorflow.python.framework.ops.EagerTensor'>, but expected one of: (<class 'int'>,)\nTraceback (most recent call last):\n\n  File \"/Users/rainyseason/miniforge3/envs/tf29/lib/python3.10/site-packages/tensorflow/python/ops/script_ops.py\", line 268, in __call__\n    return func(device, token, args)\n\n  File \"/Users/rainyseason/miniforge3/envs/tf29/lib/python3.10/site-packages/tensorflow/python/ops/script_ops.py\", line 146, in __call__\n    outputs = self._call(device, args)\n\n  File \"/Users/rainyseason/miniforge3/envs/tf29/lib/python3.10/site-packages/tensorflow/python/ops/script_ops.py\", line 153, in _call\n    ret = self._func(*args)\n\n  File \"/Users/rainyseason/miniforge3/envs/tf29/lib/python3.10/site-packages/tensorflow/python/autograph/impl/api.py\", line 642, in wrapper\n    return func(*args, **kwargs)\n\n  File \"/var/folders/99/s34zzfr57xs9_1q57tnxdmrr0000gn/T/ipykernel_24837/1663365771.py\", line 3, in serialize_example\n    'feature0': _int64_feature(feature0),\n\n  File \"/var/folders/99/s34zzfr57xs9_1q57tnxdmrr0000gn/T/ipykernel_24837/2824841238.py\", line 16, in _int64_feature\n    return tf.train.Feature(int64_list=tf.train.Int64List(value=[value]))\n\n  File \"/Users/rainyseason/miniforge3/envs/tf29/lib/python3.10/site-packages/google/protobuf/internal/python_message.py\", line 542, in init\n    copy.extend(field_value)\n\n  File \"/Users/rainyseason/miniforge3/envs/tf29/lib/python3.10/site-packages/google/protobuf/internal/containers.py\", line 143, in extend\n    new_values = [self._type_checker.CheckValue(elem) for elem in elem_seq_iter]\n\n  File \"/Users/rainyseason/miniforge3/envs/tf29/lib/python3.10/site-packages/google/protobuf/internal/containers.py\", line 143, in <listcomp>\n    new_values = [self._type_checker.CheckValue(elem) for elem in elem_seq_iter]\n\n  File \"/Users/rainyseason/miniforge3/envs/tf29/lib/python3.10/site-packages/google/protobuf/internal/type_checkers.py\", line 155, in CheckValue\n    raise TypeError(message)\n\nTypeError: <tf.Tensor: shape=(), dtype=bool, numpy=True> has type <class 'tensorflow.python.framework.ops.EagerTensor'>, but expected one of: (<class 'int'>,)\n\n [Op:EagerPyFunc]",
     "output_type": "error",
     "traceback": [
      "\u001b[0;31m---------------------------------------------------------------------------\u001b[0m",
      "\u001b[0;31mInvalidArgumentError\u001b[0m                      Traceback (most recent call last)",
      "Input \u001b[0;32mIn [16]\u001b[0m, in \u001b[0;36m<cell line: 1>\u001b[0;34m()\u001b[0m\n\u001b[0;32m----> 1\u001b[0m \u001b[43mtf_serialize_example\u001b[49m\u001b[43m(\u001b[49m\u001b[43ma\u001b[49m\u001b[43m,\u001b[49m\u001b[43m \u001b[49m\u001b[43mb\u001b[49m\u001b[43m,\u001b[49m\u001b[43m \u001b[49m\u001b[43mc\u001b[49m\u001b[43m,\u001b[49m\u001b[43m \u001b[49m\u001b[43md\u001b[49m\u001b[43m)\u001b[49m\n",
      "Input \u001b[0;32mIn [15]\u001b[0m, in \u001b[0;36mtf_serialize_example\u001b[0;34m(f0, f1, f2, f3)\u001b[0m\n\u001b[1;32m      1\u001b[0m \u001b[38;5;28;01mdef\u001b[39;00m \u001b[38;5;21mtf_serialize_example\u001b[39m(f0, f1, f2, f3):\n\u001b[0;32m----> 2\u001b[0m     tf_string \u001b[38;5;241m=\u001b[39m \u001b[43mtf\u001b[49m\u001b[38;5;241;43m.\u001b[39;49m\u001b[43mpy_function\u001b[49m\u001b[43m(\u001b[49m\u001b[43mserialize_example\u001b[49m\u001b[43m,\u001b[49m\u001b[43m \u001b[49m\n\u001b[1;32m      3\u001b[0m \u001b[43m                              \u001b[49m\u001b[43m(\u001b[49m\u001b[43mf0\u001b[49m\u001b[43m,\u001b[49m\u001b[43m \u001b[49m\u001b[43mf1\u001b[49m\u001b[43m,\u001b[49m\u001b[43m \u001b[49m\u001b[43mf2\u001b[49m\u001b[43m,\u001b[49m\u001b[43m \u001b[49m\u001b[43mf3\u001b[49m\u001b[43m)\u001b[49m\u001b[43m,\u001b[49m\n\u001b[1;32m      4\u001b[0m \u001b[43m                              \u001b[49m\u001b[43mtf\u001b[49m\u001b[38;5;241;43m.\u001b[39;49m\u001b[43mstring\u001b[49m\u001b[43m)\u001b[49m\n\u001b[1;32m      5\u001b[0m     \u001b[38;5;28;01mreturn\u001b[39;00m tf\u001b[38;5;241m.\u001b[39mreshape(tf_string, ())\n",
      "File \u001b[0;32m~/miniforge3/envs/tf29/lib/python3.10/site-packages/tensorflow/python/util/traceback_utils.py:153\u001b[0m, in \u001b[0;36mfilter_traceback.<locals>.error_handler\u001b[0;34m(*args, **kwargs)\u001b[0m\n\u001b[1;32m    151\u001b[0m \u001b[38;5;28;01mexcept\u001b[39;00m \u001b[38;5;167;01mException\u001b[39;00m \u001b[38;5;28;01mas\u001b[39;00m e:\n\u001b[1;32m    152\u001b[0m   filtered_tb \u001b[38;5;241m=\u001b[39m _process_traceback_frames(e\u001b[38;5;241m.\u001b[39m__traceback__)\n\u001b[0;32m--> 153\u001b[0m   \u001b[38;5;28;01mraise\u001b[39;00m e\u001b[38;5;241m.\u001b[39mwith_traceback(filtered_tb) \u001b[38;5;28;01mfrom\u001b[39;00m \u001b[38;5;28mNone\u001b[39m\n\u001b[1;32m    154\u001b[0m \u001b[38;5;28;01mfinally\u001b[39;00m:\n\u001b[1;32m    155\u001b[0m   \u001b[38;5;28;01mdel\u001b[39;00m filtered_tb\n",
      "File \u001b[0;32m~/miniforge3/envs/tf29/lib/python3.10/site-packages/tensorflow/python/framework/ops.py:7164\u001b[0m, in \u001b[0;36mraise_from_not_ok_status\u001b[0;34m(e, name)\u001b[0m\n\u001b[1;32m   7162\u001b[0m \u001b[38;5;28;01mdef\u001b[39;00m \u001b[38;5;21mraise_from_not_ok_status\u001b[39m(e, name):\n\u001b[1;32m   7163\u001b[0m   e\u001b[38;5;241m.\u001b[39mmessage \u001b[38;5;241m+\u001b[39m\u001b[38;5;241m=\u001b[39m (\u001b[38;5;124m\"\u001b[39m\u001b[38;5;124m name: \u001b[39m\u001b[38;5;124m\"\u001b[39m \u001b[38;5;241m+\u001b[39m name \u001b[38;5;28;01mif\u001b[39;00m name \u001b[38;5;129;01mis\u001b[39;00m \u001b[38;5;129;01mnot\u001b[39;00m \u001b[38;5;28;01mNone\u001b[39;00m \u001b[38;5;28;01melse\u001b[39;00m \u001b[38;5;124m\"\u001b[39m\u001b[38;5;124m\"\u001b[39m)\n\u001b[0;32m-> 7164\u001b[0m   \u001b[38;5;28;01mraise\u001b[39;00m core\u001b[38;5;241m.\u001b[39m_status_to_exception(e) \u001b[38;5;28;01mfrom\u001b[39;00m \u001b[38;5;28mNone\u001b[39m\n",
      "\u001b[0;31mInvalidArgumentError\u001b[0m: TypeError: <tf.Tensor: shape=(), dtype=bool, numpy=True> has type <class 'tensorflow.python.framework.ops.EagerTensor'>, but expected one of: (<class 'int'>,)\nTraceback (most recent call last):\n\n  File \"/Users/rainyseason/miniforge3/envs/tf29/lib/python3.10/site-packages/tensorflow/python/ops/script_ops.py\", line 268, in __call__\n    return func(device, token, args)\n\n  File \"/Users/rainyseason/miniforge3/envs/tf29/lib/python3.10/site-packages/tensorflow/python/ops/script_ops.py\", line 146, in __call__\n    outputs = self._call(device, args)\n\n  File \"/Users/rainyseason/miniforge3/envs/tf29/lib/python3.10/site-packages/tensorflow/python/ops/script_ops.py\", line 153, in _call\n    ret = self._func(*args)\n\n  File \"/Users/rainyseason/miniforge3/envs/tf29/lib/python3.10/site-packages/tensorflow/python/autograph/impl/api.py\", line 642, in wrapper\n    return func(*args, **kwargs)\n\n  File \"/var/folders/99/s34zzfr57xs9_1q57tnxdmrr0000gn/T/ipykernel_24837/1663365771.py\", line 3, in serialize_example\n    'feature0': _int64_feature(feature0),\n\n  File \"/var/folders/99/s34zzfr57xs9_1q57tnxdmrr0000gn/T/ipykernel_24837/2824841238.py\", line 16, in _int64_feature\n    return tf.train.Feature(int64_list=tf.train.Int64List(value=[value]))\n\n  File \"/Users/rainyseason/miniforge3/envs/tf29/lib/python3.10/site-packages/google/protobuf/internal/python_message.py\", line 542, in init\n    copy.extend(field_value)\n\n  File \"/Users/rainyseason/miniforge3/envs/tf29/lib/python3.10/site-packages/google/protobuf/internal/containers.py\", line 143, in extend\n    new_values = [self._type_checker.CheckValue(elem) for elem in elem_seq_iter]\n\n  File \"/Users/rainyseason/miniforge3/envs/tf29/lib/python3.10/site-packages/google/protobuf/internal/containers.py\", line 143, in <listcomp>\n    new_values = [self._type_checker.CheckValue(elem) for elem in elem_seq_iter]\n\n  File \"/Users/rainyseason/miniforge3/envs/tf29/lib/python3.10/site-packages/google/protobuf/internal/type_checkers.py\", line 155, in CheckValue\n    raise TypeError(message)\n\nTypeError: <tf.Tensor: shape=(), dtype=bool, numpy=True> has type <class 'tensorflow.python.framework.ops.EagerTensor'>, but expected one of: (<class 'int'>,)\n\n [Op:EagerPyFunc]"
     ]
    }
   ],
   "source": [
    "tf_serialize_example(a, b, c, d)"
   ]
  },
  {
   "cell_type": "code",
   "execution_count": null,
   "id": "96dbe6a9",
   "metadata": {},
   "outputs": [],
   "source": [
    "serialize_example(False, 1, b'dog', -0.410451315502222)"
   ]
  },
  {
   "cell_type": "code",
   "execution_count": null,
   "id": "3f3d1579",
   "metadata": {},
   "outputs": [],
   "source": [
    "tf_serialize_example(False, 1, b'dog', -0.410451315502222)"
   ]
  },
  {
   "cell_type": "code",
   "execution_count": null,
   "id": "5ecff267",
   "metadata": {},
   "outputs": [],
   "source": [
    "serialized_features_dataset = features_dataset.map(tf_serialize_example)\n",
    "serialized_features_dataset"
   ]
  },
  {
   "cell_type": "code",
   "execution_count": null,
   "id": "d35c6796",
   "metadata": {},
   "outputs": [],
   "source": [
    "def generator():\n",
    "    for features in features_dataset:\n",
    "        yield serialize_example(*features)"
   ]
  },
  {
   "cell_type": "code",
   "execution_count": null,
   "id": "e4163120",
   "metadata": {},
   "outputs": [],
   "source": [
    "serialized_features_dataset = tf.data.Dataset.from_generator(generator,\n",
    "                                                            output_types=tf.string,\n",
    "                                                            output_shapes=())"
   ]
  },
  {
   "cell_type": "code",
   "execution_count": null,
   "id": "8644efe0",
   "metadata": {},
   "outputs": [],
   "source": [
    "serialized_features_dataset"
   ]
  },
  {
   "cell_type": "markdown",
   "id": "ccc04090",
   "metadata": {},
   "source": [
    "And write them to a TFRecord file:"
   ]
  },
  {
   "cell_type": "code",
   "execution_count": null,
   "id": "011f13b0",
   "metadata": {},
   "outputs": [],
   "source": [
    "filename = 'test.tfrecord'\n",
    "writer = tf.data.experimental.TFRecordWriter(filename)\n",
    "writer.write(serialized_features_dataset)"
   ]
  },
  {
   "cell_type": "markdown",
   "id": "c00cf41c",
   "metadata": {},
   "source": [
    "#### Reading a TFRecord file"
   ]
  },
  {
   "cell_type": "code",
   "execution_count": null,
   "id": "a773842f",
   "metadata": {},
   "outputs": [],
   "source": [
    "filenames = [filename]\n",
    "raw_dataset = tf.data.TFRecordDataset(filenames)\n",
    "raw_dataset"
   ]
  },
  {
   "cell_type": "code",
   "execution_count": null,
   "id": "dda76168",
   "metadata": {},
   "outputs": [],
   "source": []
  },
  {
   "cell_type": "code",
   "execution_count": null,
   "id": "0cf8f415",
   "metadata": {},
   "outputs": [],
   "source": []
  },
  {
   "cell_type": "code",
   "execution_count": null,
   "id": "0daf8b17",
   "metadata": {},
   "outputs": [],
   "source": []
  }
 ],
 "metadata": {
  "kernelspec": {
   "display_name": "tf29",
   "language": "python",
   "name": "tf29"
  },
  "language_info": {
   "codemirror_mode": {
    "name": "ipython",
    "version": 3
   },
   "file_extension": ".py",
   "mimetype": "text/x-python",
   "name": "python",
   "nbconvert_exporter": "python",
   "pygments_lexer": "ipython3",
   "version": "3.10.4"
  }
 },
 "nbformat": 4,
 "nbformat_minor": 5
}
