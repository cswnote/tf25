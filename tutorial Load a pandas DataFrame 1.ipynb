{
 "cells": [
  {
   "cell_type": "code",
   "execution_count": 1,
   "id": "044f59c2",
   "metadata": {},
   "outputs": [],
   "source": [
    "import pandas as pd\n",
    "import numpy as np\n",
    "import tensorflow as tf\n",
    "from tensorflow.keras.layers import Dense, Input, Normalization\n",
    "from tensorflow.keras.models import Sequential, Model"
   ]
  },
  {
   "cell_type": "code",
   "execution_count": 2,
   "id": "4f30a7b6",
   "metadata": {},
   "outputs": [
    {
     "name": "stdout",
     "output_type": "stream",
     "text": [
      "2.8.0\n"
     ]
    }
   ],
   "source": [
    "print(tf.__version__)"
   ]
  },
  {
   "cell_type": "code",
   "execution_count": 3,
   "id": "d13e4962",
   "metadata": {},
   "outputs": [],
   "source": [
    "SHUFFLE_BUFFER = 500\n",
    "BATCH_SIZE = 2"
   ]
  },
  {
   "cell_type": "code",
   "execution_count": 4,
   "id": "f17657a7",
   "metadata": {},
   "outputs": [],
   "source": [
    "csv_file = tf.keras.utils.get_file('heart.csv', 'https://storage.googleapis.com/download.tensorflow.org/data/heart.csv')"
   ]
  },
  {
   "cell_type": "markdown",
   "id": "e55a1b1d",
   "metadata": {},
   "source": [
    "Read the CSV file using pandas"
   ]
  },
  {
   "cell_type": "code",
   "execution_count": 5,
   "id": "2faa2a4a",
   "metadata": {},
   "outputs": [],
   "source": [
    "df = pd.read_csv(csv_file)"
   ]
  },
  {
   "cell_type": "code",
   "execution_count": 6,
   "id": "5d2eb4cb",
   "metadata": {
    "scrolled": true
   },
   "outputs": [
    {
     "data": {
      "text/html": [
       "<div>\n",
       "<style scoped>\n",
       "    .dataframe tbody tr th:only-of-type {\n",
       "        vertical-align: middle;\n",
       "    }\n",
       "\n",
       "    .dataframe tbody tr th {\n",
       "        vertical-align: top;\n",
       "    }\n",
       "\n",
       "    .dataframe thead th {\n",
       "        text-align: right;\n",
       "    }\n",
       "</style>\n",
       "<table border=\"1\" class=\"dataframe\">\n",
       "  <thead>\n",
       "    <tr style=\"text-align: right;\">\n",
       "      <th></th>\n",
       "      <th>age</th>\n",
       "      <th>sex</th>\n",
       "      <th>cp</th>\n",
       "      <th>trestbps</th>\n",
       "      <th>chol</th>\n",
       "      <th>fbs</th>\n",
       "      <th>restecg</th>\n",
       "      <th>thalach</th>\n",
       "      <th>exang</th>\n",
       "      <th>oldpeak</th>\n",
       "      <th>slope</th>\n",
       "      <th>ca</th>\n",
       "      <th>thal</th>\n",
       "      <th>target</th>\n",
       "    </tr>\n",
       "  </thead>\n",
       "  <tbody>\n",
       "    <tr>\n",
       "      <th>0</th>\n",
       "      <td>63</td>\n",
       "      <td>1</td>\n",
       "      <td>1</td>\n",
       "      <td>145</td>\n",
       "      <td>233</td>\n",
       "      <td>1</td>\n",
       "      <td>2</td>\n",
       "      <td>150</td>\n",
       "      <td>0</td>\n",
       "      <td>2.3</td>\n",
       "      <td>3</td>\n",
       "      <td>0</td>\n",
       "      <td>fixed</td>\n",
       "      <td>0</td>\n",
       "    </tr>\n",
       "    <tr>\n",
       "      <th>1</th>\n",
       "      <td>67</td>\n",
       "      <td>1</td>\n",
       "      <td>4</td>\n",
       "      <td>160</td>\n",
       "      <td>286</td>\n",
       "      <td>0</td>\n",
       "      <td>2</td>\n",
       "      <td>108</td>\n",
       "      <td>1</td>\n",
       "      <td>1.5</td>\n",
       "      <td>2</td>\n",
       "      <td>3</td>\n",
       "      <td>normal</td>\n",
       "      <td>1</td>\n",
       "    </tr>\n",
       "    <tr>\n",
       "      <th>2</th>\n",
       "      <td>67</td>\n",
       "      <td>1</td>\n",
       "      <td>4</td>\n",
       "      <td>120</td>\n",
       "      <td>229</td>\n",
       "      <td>0</td>\n",
       "      <td>2</td>\n",
       "      <td>129</td>\n",
       "      <td>1</td>\n",
       "      <td>2.6</td>\n",
       "      <td>2</td>\n",
       "      <td>2</td>\n",
       "      <td>reversible</td>\n",
       "      <td>0</td>\n",
       "    </tr>\n",
       "    <tr>\n",
       "      <th>3</th>\n",
       "      <td>37</td>\n",
       "      <td>1</td>\n",
       "      <td>3</td>\n",
       "      <td>130</td>\n",
       "      <td>250</td>\n",
       "      <td>0</td>\n",
       "      <td>0</td>\n",
       "      <td>187</td>\n",
       "      <td>0</td>\n",
       "      <td>3.5</td>\n",
       "      <td>3</td>\n",
       "      <td>0</td>\n",
       "      <td>normal</td>\n",
       "      <td>0</td>\n",
       "    </tr>\n",
       "    <tr>\n",
       "      <th>4</th>\n",
       "      <td>41</td>\n",
       "      <td>0</td>\n",
       "      <td>2</td>\n",
       "      <td>130</td>\n",
       "      <td>204</td>\n",
       "      <td>0</td>\n",
       "      <td>2</td>\n",
       "      <td>172</td>\n",
       "      <td>0</td>\n",
       "      <td>1.4</td>\n",
       "      <td>1</td>\n",
       "      <td>0</td>\n",
       "      <td>normal</td>\n",
       "      <td>0</td>\n",
       "    </tr>\n",
       "  </tbody>\n",
       "</table>\n",
       "</div>"
      ],
      "text/plain": [
       "   age  sex  cp  trestbps  chol  fbs  restecg  thalach  exang  oldpeak  slope  \\\n",
       "0   63    1   1       145   233    1        2      150      0      2.3      3   \n",
       "1   67    1   4       160   286    0        2      108      1      1.5      2   \n",
       "2   67    1   4       120   229    0        2      129      1      2.6      2   \n",
       "3   37    1   3       130   250    0        0      187      0      3.5      3   \n",
       "4   41    0   2       130   204    0        2      172      0      1.4      1   \n",
       "\n",
       "   ca        thal  target  \n",
       "0   0       fixed       0  \n",
       "1   3      normal       1  \n",
       "2   2  reversible       0  \n",
       "3   0      normal       0  \n",
       "4   0      normal       0  "
      ]
     },
     "execution_count": 6,
     "metadata": {},
     "output_type": "execute_result"
    }
   ],
   "source": [
    "df.head()"
   ]
  },
  {
   "cell_type": "markdown",
   "id": "f1a52d9f",
   "metadata": {},
   "source": [
    "If label data is not devided in data, devide label data and train data"
   ]
  },
  {
   "cell_type": "code",
   "execution_count": 7,
   "id": "e2e200fc",
   "metadata": {},
   "outputs": [
    {
     "data": {
      "text/plain": [
       "age           int64\n",
       "sex           int64\n",
       "cp            int64\n",
       "trestbps      int64\n",
       "chol          int64\n",
       "fbs           int64\n",
       "restecg       int64\n",
       "thalach       int64\n",
       "exang         int64\n",
       "oldpeak     float64\n",
       "slope         int64\n",
       "ca            int64\n",
       "thal         object\n",
       "target        int64\n",
       "dtype: object"
      ]
     },
     "execution_count": 7,
     "metadata": {},
     "output_type": "execute_result"
    }
   ],
   "source": [
    "df.dtypes"
   ]
  },
  {
   "cell_type": "code",
   "execution_count": 8,
   "id": "09c5a8b3",
   "metadata": {},
   "outputs": [],
   "source": [
    "target = df.pop('target')"
   ]
  },
  {
   "cell_type": "markdown",
   "id": "e28847f6",
   "metadata": {},
   "source": [
    "###### distinguish numeric data which is not categorical\n",
    "age, trestbps, chol, thalach, oldpeak"
   ]
  },
  {
   "cell_type": "code",
   "execution_count": 9,
   "id": "3c15b2ed",
   "metadata": {},
   "outputs": [
    {
     "name": "stdout",
     "output_type": "stream",
     "text": [
      "age\n",
      "[63 67 37 41 56 62 57 53 44 52 48 54 49 64 58 60 50 66 43 40 69 59 42 55\n",
      " 61 65 51 45 39 68 47 35 29 70 46 77 38 34 74 76 71]\n",
      "41\n",
      "==================================================================================\n",
      "sex\n",
      "[1 0]\n",
      "2\n",
      "==================================================================================\n",
      "cp\n",
      "[1 4 3 2 0]\n",
      "5\n",
      "==================================================================================\n",
      "trestbps\n",
      "[145 160 120 130 140 172 150 110 132 117 135 155 125 104 180 138 108 128\n",
      " 100 200 124  94 122 170 105 165 112 102 152 115 118 101 126 142 174 134\n",
      " 148 178 158 192 129 144 123 136 146 106 156 154 114 164]\n",
      "50\n",
      "==================================================================================\n",
      "chol\n",
      "[233 286 229 250 204 236 268 354 254 203 192 294 256 263 199 168 239 275\n",
      " 266 211 283 284 224 206 219 340 226 247 167 230 335 234 177 276 353 243\n",
      " 225 269 267 248 197 360 258 308 245 270 208 264 321 274 325 235 257 302\n",
      " 164 231 141 252 255 183 330 222 217 282 288 220 209 227 261 213 174 281\n",
      " 198 221 205 309 240 289 318 298 265 564 246 322 299 300 293 277 304 214\n",
      " 207 160 249 394 212 184 315 409 244 305 195 196 273 126 313 259 200 262\n",
      " 215 228 193 303 271 210 327 149 201 295 306 178 237 218 223 242 319 166\n",
      " 180 311 278 232 253 342 169 187 157 176 241 131 175 417 290 172 216 188\n",
      " 185 326 260 182 307 186 341 407]\n",
      "152\n",
      "==================================================================================\n",
      "fbs\n",
      "[1 0]\n",
      "2\n",
      "==================================================================================\n",
      "restecg\n",
      "[2 0 1]\n",
      "3\n",
      "==================================================================================\n",
      "thalach\n",
      "[150 108 129 187 172 178 160 163 147 155 148 153 142 173 162 174 168 139\n",
      " 171 144 132 158 114 151 161 179 120 112 137  99 177 141 180 111 143 182\n",
      " 156 149 145 146 175  97 165 133 126 170 154 202 186 125 103 130 166 164\n",
      " 159 184 131 152 124 122  96 109 138 157  88 105 194 195 106 115 167  95\n",
      " 169 192 117 121 116  71 118 140 181 134 136  90 123 128 188 113 185 190\n",
      " 127]\n",
      "91\n",
      "==================================================================================\n",
      "exang\n",
      "[0 1]\n",
      "2\n",
      "==================================================================================\n",
      "oldpeak\n",
      "[2.3 1.5 2.6 3.5 1.4 0.8 3.6 0.6 3.1 0.4 1.3 0.  0.5 1.6 1.  1.2 0.2 1.8\n",
      " 3.2 2.4 2.  2.5 2.8 3.  6.2 5.6 4.  2.2 2.9 0.1 2.1 1.9 4.2 0.9 1.1 3.8\n",
      " 0.7 3.4 0.3 4.4]\n",
      "40\n",
      "==================================================================================\n",
      "slope\n",
      "[3 2 1]\n",
      "3\n",
      "==================================================================================\n",
      "ca\n",
      "[0 3 2 1]\n",
      "4\n",
      "==================================================================================\n",
      "thal\n",
      "['fixed' 'normal' 'reversible' '1' '2']\n",
      "5\n",
      "==================================================================================\n"
     ]
    }
   ],
   "source": [
    "for name, values in df.items():\n",
    "    print(name)\n",
    "    print(df[name].unique())\n",
    "    print(df[name].nunique())\n",
    "    print('==================================================================================')"
   ]
  },
  {
   "cell_type": "code",
   "execution_count": 10,
   "id": "215877a1",
   "metadata": {},
   "outputs": [
    {
     "data": {
      "text/html": [
       "<div>\n",
       "<style scoped>\n",
       "    .dataframe tbody tr th:only-of-type {\n",
       "        vertical-align: middle;\n",
       "    }\n",
       "\n",
       "    .dataframe tbody tr th {\n",
       "        vertical-align: top;\n",
       "    }\n",
       "\n",
       "    .dataframe thead th {\n",
       "        text-align: right;\n",
       "    }\n",
       "</style>\n",
       "<table border=\"1\" class=\"dataframe\">\n",
       "  <thead>\n",
       "    <tr style=\"text-align: right;\">\n",
       "      <th></th>\n",
       "      <th>age</th>\n",
       "      <th>thalach</th>\n",
       "      <th>trestbps</th>\n",
       "      <th>chol</th>\n",
       "      <th>oldpeak</th>\n",
       "    </tr>\n",
       "  </thead>\n",
       "  <tbody>\n",
       "    <tr>\n",
       "      <th>0</th>\n",
       "      <td>63</td>\n",
       "      <td>150</td>\n",
       "      <td>145</td>\n",
       "      <td>233</td>\n",
       "      <td>2.3</td>\n",
       "    </tr>\n",
       "    <tr>\n",
       "      <th>1</th>\n",
       "      <td>67</td>\n",
       "      <td>108</td>\n",
       "      <td>160</td>\n",
       "      <td>286</td>\n",
       "      <td>1.5</td>\n",
       "    </tr>\n",
       "    <tr>\n",
       "      <th>2</th>\n",
       "      <td>67</td>\n",
       "      <td>129</td>\n",
       "      <td>120</td>\n",
       "      <td>229</td>\n",
       "      <td>2.6</td>\n",
       "    </tr>\n",
       "    <tr>\n",
       "      <th>3</th>\n",
       "      <td>37</td>\n",
       "      <td>187</td>\n",
       "      <td>130</td>\n",
       "      <td>250</td>\n",
       "      <td>3.5</td>\n",
       "    </tr>\n",
       "    <tr>\n",
       "      <th>4</th>\n",
       "      <td>41</td>\n",
       "      <td>172</td>\n",
       "      <td>130</td>\n",
       "      <td>204</td>\n",
       "      <td>1.4</td>\n",
       "    </tr>\n",
       "  </tbody>\n",
       "</table>\n",
       "</div>"
      ],
      "text/plain": [
       "   age  thalach  trestbps  chol  oldpeak\n",
       "0   63      150       145   233      2.3\n",
       "1   67      108       160   286      1.5\n",
       "2   67      129       120   229      2.6\n",
       "3   37      187       130   250      3.5\n",
       "4   41      172       130   204      1.4"
      ]
     },
     "execution_count": 10,
     "metadata": {},
     "output_type": "execute_result"
    }
   ],
   "source": [
    "numeric_features_names = ['age', 'thalach', 'trestbps', 'chol', 'oldpeak']\n",
    "numeric_features = df[numeric_features_names]\n",
    "numeric_features.head()"
   ]
  },
  {
   "cell_type": "code",
   "execution_count": 11,
   "id": "799da177",
   "metadata": {
    "scrolled": true
   },
   "outputs": [
    {
     "name": "stdout",
     "output_type": "stream",
     "text": [
      "Metal device set to: Apple M1\n"
     ]
    },
    {
     "name": "stderr",
     "output_type": "stream",
     "text": [
      "2022-07-30 11:35:43.733940: I tensorflow/core/common_runtime/pluggable_device/pluggable_device_factory.cc:305] Could not identify NUMA node of platform GPU ID 0, defaulting to 0. Your kernel may not have been built with NUMA support.\n",
      "2022-07-30 11:35:43.734108: I tensorflow/core/common_runtime/pluggable_device/pluggable_device_factory.cc:271] Created TensorFlow device (/job:localhost/replica:0/task:0/device:GPU:0 with 0 MB memory) -> physical PluggableDevice (device: 0, name: METAL, pci bus id: <undefined>)\n"
     ]
    },
    {
     "data": {
      "text/plain": [
       "<tf.Tensor: shape=(303, 5), dtype=float64, numpy=\n",
       "array([[ 63. , 150. , 145. , 233. ,   2.3],\n",
       "       [ 67. , 108. , 160. , 286. ,   1.5],\n",
       "       [ 67. , 129. , 120. , 229. ,   2.6],\n",
       "       ...,\n",
       "       [ 65. , 127. , 135. , 254. ,   2.8],\n",
       "       [ 48. , 150. , 130. , 256. ,   0. ],\n",
       "       [ 63. , 154. , 150. , 407. ,   4. ]])>"
      ]
     },
     "execution_count": 11,
     "metadata": {},
     "output_type": "execute_result"
    }
   ],
   "source": [
    " tf.convert_to_tensor(numeric_features)"
   ]
  },
  {
   "cell_type": "markdown",
   "id": "ec3ed281",
   "metadata": {},
   "source": [
    "##### With Model fit"
   ]
  },
  {
   "cell_type": "code",
   "execution_count": 12,
   "id": "91351ddd",
   "metadata": {},
   "outputs": [
    {
     "name": "stderr",
     "output_type": "stream",
     "text": [
      "2022-07-30 11:35:43.788124: W tensorflow/core/platform/profile_utils/cpu_utils.cc:128] Failed to get CPU frequency: 0 Hz\n",
      "2022-07-30 11:35:43.867753: I tensorflow/core/grappler/optimizers/custom_graph_optimizer_registry.cc:113] Plugin optimizer for device_type GPU is enabled.\n",
      "2022-07-30 11:35:43.891013: I tensorflow/core/grappler/optimizers/custom_graph_optimizer_registry.cc:113] Plugin optimizer for device_type GPU is enabled.\n"
     ]
    },
    {
     "data": {
      "text/plain": [
       "<tf.Tensor: shape=(3, 5), dtype=float32, numpy=\n",
       "array([[ 0.933839  ,  0.03480718,  0.7457807 , -0.26008663,  1.0680454 ],\n",
       "       [ 1.3782104 , -1.7806164 ,  1.5923283 ,  0.75738764,  0.38022867],\n",
       "       [ 1.3782104 , -0.87290466, -0.66513205, -0.33687714,  1.3259766 ]],\n",
       "      dtype=float32)>"
      ]
     },
     "execution_count": 12,
     "metadata": {},
     "output_type": "execute_result"
    }
   ],
   "source": [
    "normalizer = Normalization(axis=-1)\n",
    "normalizer.adapt(numeric_features)\n",
    "normalizer(numeric_features.iloc[:3])"
   ]
  },
  {
   "cell_type": "code",
   "execution_count": 13,
   "id": "be2a5d9b",
   "metadata": {},
   "outputs": [
    {
     "ename": "ValueError",
     "evalue": "in user code:\n\n    File \"/Users/rainyseason/miniforge3/envs/tf25/lib/python3.8/site-packages/keras/engine/base_preprocessing_layer.py\", line 117, in adapt_step  *\n        self._adapt_maybe_build(data)\n    File \"/Users/rainyseason/miniforge3/envs/tf25/lib/python3.8/site-packages/keras/engine/base_preprocessing_layer.py\", line 285, in _adapt_maybe_build  **\n        self.build(data_shape)\n    File \"/Users/rainyseason/miniforge3/envs/tf25/lib/python3.8/site-packages/keras/layers/preprocessing/normalization.py\", line 150, in build\n        raise ValueError(\n\n    ValueError: All `axis` values to be kept must have known shape. Got axis: (0,), input shape: [None, 5], with unknown axis at index: 0\n",
     "output_type": "error",
     "traceback": [
      "\u001b[0;31m---------------------------------------------------------------------------\u001b[0m",
      "\u001b[0;31mValueError\u001b[0m                                Traceback (most recent call last)",
      "Input \u001b[0;32mIn [13]\u001b[0m, in \u001b[0;36m<cell line: 2>\u001b[0;34m()\u001b[0m\n\u001b[1;32m      1\u001b[0m normalizer_axis0 \u001b[38;5;241m=\u001b[39m Normalization(axis\u001b[38;5;241m=\u001b[39m\u001b[38;5;241m0\u001b[39m)\n\u001b[0;32m----> 2\u001b[0m \u001b[43mnormalizer_axis0\u001b[49m\u001b[38;5;241;43m.\u001b[39;49m\u001b[43madapt\u001b[49m\u001b[43m(\u001b[49m\u001b[43mnumeric_features\u001b[49m\u001b[43m)\u001b[49m\n",
      "File \u001b[0;32m~/miniforge3/envs/tf25/lib/python3.8/site-packages/keras/layers/preprocessing/normalization.py:242\u001b[0m, in \u001b[0;36mNormalization.adapt\u001b[0;34m(self, data, batch_size, steps)\u001b[0m\n\u001b[1;32m    197\u001b[0m \u001b[38;5;28;01mdef\u001b[39;00m \u001b[38;5;21madapt\u001b[39m(\u001b[38;5;28mself\u001b[39m, data, batch_size\u001b[38;5;241m=\u001b[39m\u001b[38;5;28;01mNone\u001b[39;00m, steps\u001b[38;5;241m=\u001b[39m\u001b[38;5;28;01mNone\u001b[39;00m):\n\u001b[1;32m    198\u001b[0m   \u001b[38;5;124;03m\"\"\"Computes the mean and variance of values in a dataset.\u001b[39;00m\n\u001b[1;32m    199\u001b[0m \n\u001b[1;32m    200\u001b[0m \u001b[38;5;124;03m  Calling `adapt()` on a `Normalization` layer is an alternative to passing in\u001b[39;00m\n\u001b[0;32m   (...)\u001b[0m\n\u001b[1;32m    240\u001b[0m \u001b[38;5;124;03m        argument is not supported with array inputs.\u001b[39;00m\n\u001b[1;32m    241\u001b[0m \u001b[38;5;124;03m  \"\"\"\u001b[39;00m\n\u001b[0;32m--> 242\u001b[0m   \u001b[38;5;28;43msuper\u001b[39;49m\u001b[43m(\u001b[49m\u001b[43m)\u001b[49m\u001b[38;5;241;43m.\u001b[39;49m\u001b[43madapt\u001b[49m\u001b[43m(\u001b[49m\u001b[43mdata\u001b[49m\u001b[43m,\u001b[49m\u001b[43m \u001b[49m\u001b[43mbatch_size\u001b[49m\u001b[38;5;241;43m=\u001b[39;49m\u001b[43mbatch_size\u001b[49m\u001b[43m,\u001b[49m\u001b[43m \u001b[49m\u001b[43msteps\u001b[49m\u001b[38;5;241;43m=\u001b[39;49m\u001b[43msteps\u001b[49m\u001b[43m)\u001b[49m\n",
      "File \u001b[0;32m~/miniforge3/envs/tf25/lib/python3.8/site-packages/keras/engine/base_preprocessing_layer.py:249\u001b[0m, in \u001b[0;36mPreprocessingLayer.adapt\u001b[0;34m(self, data, batch_size, steps)\u001b[0m\n\u001b[1;32m    247\u001b[0m \u001b[38;5;28;01mwith\u001b[39;00m data_handler\u001b[38;5;241m.\u001b[39mcatch_stop_iteration():\n\u001b[1;32m    248\u001b[0m   \u001b[38;5;28;01mfor\u001b[39;00m _ \u001b[38;5;129;01min\u001b[39;00m data_handler\u001b[38;5;241m.\u001b[39msteps():\n\u001b[0;32m--> 249\u001b[0m     \u001b[38;5;28;43mself\u001b[39;49m\u001b[38;5;241;43m.\u001b[39;49m\u001b[43m_adapt_function\u001b[49m\u001b[43m(\u001b[49m\u001b[43miterator\u001b[49m\u001b[43m)\u001b[49m\n\u001b[1;32m    250\u001b[0m     \u001b[38;5;28;01mif\u001b[39;00m data_handler\u001b[38;5;241m.\u001b[39mshould_sync:\n\u001b[1;32m    251\u001b[0m       context\u001b[38;5;241m.\u001b[39masync_wait()\n",
      "File \u001b[0;32m~/miniforge3/envs/tf25/lib/python3.8/site-packages/tensorflow/python/util/traceback_utils.py:153\u001b[0m, in \u001b[0;36mfilter_traceback.<locals>.error_handler\u001b[0;34m(*args, **kwargs)\u001b[0m\n\u001b[1;32m    151\u001b[0m \u001b[38;5;28;01mexcept\u001b[39;00m \u001b[38;5;167;01mException\u001b[39;00m \u001b[38;5;28;01mas\u001b[39;00m e:\n\u001b[1;32m    152\u001b[0m   filtered_tb \u001b[38;5;241m=\u001b[39m _process_traceback_frames(e\u001b[38;5;241m.\u001b[39m__traceback__)\n\u001b[0;32m--> 153\u001b[0m   \u001b[38;5;28;01mraise\u001b[39;00m e\u001b[38;5;241m.\u001b[39mwith_traceback(filtered_tb) \u001b[38;5;28;01mfrom\u001b[39;00m \u001b[38;5;28mNone\u001b[39m\n\u001b[1;32m    154\u001b[0m \u001b[38;5;28;01mfinally\u001b[39;00m:\n\u001b[1;32m    155\u001b[0m   \u001b[38;5;28;01mdel\u001b[39;00m filtered_tb\n",
      "File \u001b[0;32m~/miniforge3/envs/tf25/lib/python3.8/site-packages/tensorflow/python/framework/func_graph.py:1147\u001b[0m, in \u001b[0;36mfunc_graph_from_py_func.<locals>.autograph_handler\u001b[0;34m(*args, **kwargs)\u001b[0m\n\u001b[1;32m   1145\u001b[0m \u001b[38;5;28;01mexcept\u001b[39;00m \u001b[38;5;167;01mException\u001b[39;00m \u001b[38;5;28;01mas\u001b[39;00m e:  \u001b[38;5;66;03m# pylint:disable=broad-except\u001b[39;00m\n\u001b[1;32m   1146\u001b[0m   \u001b[38;5;28;01mif\u001b[39;00m \u001b[38;5;28mhasattr\u001b[39m(e, \u001b[38;5;124m\"\u001b[39m\u001b[38;5;124mag_error_metadata\u001b[39m\u001b[38;5;124m\"\u001b[39m):\n\u001b[0;32m-> 1147\u001b[0m     \u001b[38;5;28;01mraise\u001b[39;00m e\u001b[38;5;241m.\u001b[39mag_error_metadata\u001b[38;5;241m.\u001b[39mto_exception(e)\n\u001b[1;32m   1148\u001b[0m   \u001b[38;5;28;01melse\u001b[39;00m:\n\u001b[1;32m   1149\u001b[0m     \u001b[38;5;28;01mraise\u001b[39;00m\n",
      "\u001b[0;31mValueError\u001b[0m: in user code:\n\n    File \"/Users/rainyseason/miniforge3/envs/tf25/lib/python3.8/site-packages/keras/engine/base_preprocessing_layer.py\", line 117, in adapt_step  *\n        self._adapt_maybe_build(data)\n    File \"/Users/rainyseason/miniforge3/envs/tf25/lib/python3.8/site-packages/keras/engine/base_preprocessing_layer.py\", line 285, in _adapt_maybe_build  **\n        self.build(data_shape)\n    File \"/Users/rainyseason/miniforge3/envs/tf25/lib/python3.8/site-packages/keras/layers/preprocessing/normalization.py\", line 150, in build\n        raise ValueError(\n\n    ValueError: All `axis` values to be kept must have known shape. Got axis: (0,), input shape: [None, 5], with unknown axis at index: 0\n"
     ]
    }
   ],
   "source": [
    "normalizer_axis0 = Normalization(axis=0)\n",
    "normalizer_axis0.adapt(numeric_features)\n",
    "\n",
    "# ValueError: All `axis` values to be kept must have known shape. \n",
    "# Got axis: (0,), input shape: [None, 5], with unknown axis at index: 0\n",
    "\n",
    "# why is input shape None........\n",
    "# numeric_features shape is [303, 5], \n",
    "# tf.convert_to_tensor(numeric_features) shape is [303, 5]"
   ]
  },
  {
   "cell_type": "code",
   "execution_count": 15,
   "id": "0d8896b5",
   "metadata": {},
   "outputs": [],
   "source": [
    "a = [[ 0.933839  ,  0.03480718,  0.7457807 , -0.26008663,  1.0680454 ]]"
   ]
  },
  {
   "cell_type": "code",
   "execution_count": 16,
   "id": "d9d68eb4",
   "metadata": {},
   "outputs": [
    {
     "name": "stderr",
     "output_type": "stream",
     "text": [
      "2022-07-30 11:37:19.275567: I tensorflow/core/grappler/optimizers/custom_graph_optimizer_registry.cc:113] Plugin optimizer for device_type GPU is enabled.\n",
      "2022-07-30 11:37:19.298216: I tensorflow/core/grappler/optimizers/custom_graph_optimizer_registry.cc:113] Plugin optimizer for device_type GPU is enabled.\n"
     ]
    },
    {
     "data": {
      "text/plain": [
       "<tf.Tensor: shape=(3, 5), dtype=float32, numpy=\n",
       "array([[6.2066163e+08, 1.4996520e+09, 1.4425422e+09, 2.3326008e+09,\n",
       "        1.2319546e+07],\n",
       "       [6.6066163e+08, 1.0796520e+09, 1.5925422e+09, 2.8626010e+09,\n",
       "        4.3195460e+06],\n",
       "       [6.6066163e+08, 1.2896520e+09, 1.1925422e+09, 2.2926008e+09,\n",
       "        1.5319545e+07]], dtype=float32)>"
      ]
     },
     "execution_count": 16,
     "metadata": {},
     "output_type": "execute_result"
    }
   ],
   "source": [
    "normalizer_dogs = Normalization(axis=-1)\n",
    "normalizer_dogs.adapt(a)\n",
    "normalizer_dogs(numeric_features.iloc[:3])\n",
    "\n",
    "# ValueError: All `axis` values to be kept must have known shape. \n",
    "# Got axis: (0,), input shape: [None, 5], with unknown axis at index: 0\n",
    "\n",
    "# why is input shape None........\n",
    "# numeric_features shape is [303, 5], \n",
    "# tf.convert_to_tensor(numeric_features) shape is [303, 5]"
   ]
  },
  {
   "cell_type": "code",
   "execution_count": 17,
   "id": "d9353314",
   "metadata": {},
   "outputs": [],
   "source": [
    "def get_basic_model():\n",
    "    model = Sequential([\n",
    "        normalizer,\n",
    "        Dense(10, activation='relu'),\n",
    "        Dense(10, activation='relu'),\n",
    "        Dense(1)\n",
    "    ])\n",
    "    \n",
    "    model.compile(optimizer='adam',\n",
    "                 loss=tf.keras.losses.BinaryCrossentropy(from_logits=True),\n",
    "                 metrics=['accuracy'])\n",
    "    \n",
    "    return model\n",
    "\n",
    "def get_dogs_model():\n",
    "    model = Sequential([\n",
    "        normalizer_dogs,\n",
    "        Dense(10, activation='relu'),\n",
    "        Dense(10, activation='relu'),\n",
    "        Dense(1)\n",
    "    ])\n",
    "    \n",
    "    model.compile(optimizer='adam',\n",
    "                 loss=tf.keras.losses.BinaryCrossentropy(from_logits=True),\n",
    "                 metrics=['accuracy'])\n",
    "    \n",
    "    return model"
   ]
  },
  {
   "cell_type": "code",
   "execution_count": 18,
   "id": "62793d3b",
   "metadata": {},
   "outputs": [
    {
     "name": "stdout",
     "output_type": "stream",
     "text": [
      "Epoch 1/15\n",
      "  1/152 [..............................] - ETA: 1:12 - loss: 0.7028 - accuracy: 0.5000"
     ]
    },
    {
     "name": "stderr",
     "output_type": "stream",
     "text": [
      "2022-07-30 11:37:20.262369: I tensorflow/core/grappler/optimizers/custom_graph_optimizer_registry.cc:113] Plugin optimizer for device_type GPU is enabled.\n"
     ]
    },
    {
     "name": "stdout",
     "output_type": "stream",
     "text": [
      "152/152 [==============================] - 2s 8ms/step - loss: 0.7046 - accuracy: 0.7063\n",
      "Epoch 2/15\n",
      "152/152 [==============================] - 1s 7ms/step - loss: 0.6225 - accuracy: 0.7360\n",
      "Epoch 3/15\n",
      "152/152 [==============================] - 1s 7ms/step - loss: 0.5346 - accuracy: 0.7525\n",
      "Epoch 4/15\n",
      "152/152 [==============================] - 1s 7ms/step - loss: 0.4798 - accuracy: 0.7492\n",
      "Epoch 5/15\n",
      "152/152 [==============================] - 1s 7ms/step - loss: 0.4516 - accuracy: 0.7789\n",
      "Epoch 6/15\n",
      "152/152 [==============================] - 1s 7ms/step - loss: 0.4384 - accuracy: 0.7855\n",
      "Epoch 7/15\n",
      "152/152 [==============================] - 1s 7ms/step - loss: 0.4310 - accuracy: 0.7855\n",
      "Epoch 8/15\n",
      "152/152 [==============================] - 1s 7ms/step - loss: 0.4271 - accuracy: 0.7888\n",
      "Epoch 9/15\n",
      "152/152 [==============================] - 1s 7ms/step - loss: 0.4239 - accuracy: 0.7921\n",
      "Epoch 10/15\n",
      "152/152 [==============================] - 1s 7ms/step - loss: 0.4209 - accuracy: 0.7822\n",
      "Epoch 11/15\n",
      "152/152 [==============================] - 1s 7ms/step - loss: 0.4198 - accuracy: 0.7855\n",
      "Epoch 12/15\n",
      "152/152 [==============================] - 1s 7ms/step - loss: 0.4184 - accuracy: 0.7987\n",
      "Epoch 13/15\n",
      "152/152 [==============================] - 1s 7ms/step - loss: 0.4170 - accuracy: 0.7954\n",
      "Epoch 14/15\n",
      "152/152 [==============================] - 1s 7ms/step - loss: 0.4158 - accuracy: 0.7954\n",
      "Epoch 15/15\n",
      "152/152 [==============================] - 1s 7ms/step - loss: 0.4148 - accuracy: 0.7954\n"
     ]
    },
    {
     "data": {
      "text/plain": [
       "<keras.callbacks.History at 0x1620ee250>"
      ]
     },
     "execution_count": 18,
     "metadata": {},
     "output_type": "execute_result"
    }
   ],
   "source": [
    "model = get_basic_model()\n",
    "model.fit(numeric_features, target, epochs=15, batch_size=BATCH_SIZE)"
   ]
  },
  {
   "cell_type": "code",
   "execution_count": 19,
   "id": "2ee06cc3",
   "metadata": {},
   "outputs": [
    {
     "name": "stdout",
     "output_type": "stream",
     "text": [
      "Epoch 1/15\n",
      "  8/152 [>.............................] - ETA: 1s - loss: 276997312.0000 - accuracy: 0.2500  "
     ]
    },
    {
     "name": "stderr",
     "output_type": "stream",
     "text": [
      "2022-07-30 11:37:37.065188: I tensorflow/core/grappler/optimizers/custom_graph_optimizer_registry.cc:113] Plugin optimizer for device_type GPU is enabled.\n"
     ]
    },
    {
     "name": "stdout",
     "output_type": "stream",
     "text": [
      "152/152 [==============================] - 2s 7ms/step - loss: 42215180.0000 - accuracy: 0.5545\n",
      "Epoch 2/15\n",
      "152/152 [==============================] - 1s 7ms/step - loss: 8962341.0000 - accuracy: 0.5974\n",
      "Epoch 3/15\n",
      "152/152 [==============================] - 1s 8ms/step - loss: 7467221.0000 - accuracy: 0.6667\n",
      "Epoch 4/15\n",
      "152/152 [==============================] - 1s 7ms/step - loss: 4745821.5000 - accuracy: 0.6865\n",
      "Epoch 5/15\n",
      "152/152 [==============================] - 1s 7ms/step - loss: 5446935.5000 - accuracy: 0.6997\n",
      "Epoch 6/15\n",
      "152/152 [==============================] - 1s 7ms/step - loss: 3377617.2500 - accuracy: 0.7162\n",
      "Epoch 7/15\n",
      "152/152 [==============================] - 1s 7ms/step - loss: 4253352.5000 - accuracy: 0.6766\n",
      "Epoch 8/15\n",
      "152/152 [==============================] - 1s 7ms/step - loss: 3987580.0000 - accuracy: 0.7195\n",
      "Epoch 9/15\n",
      "152/152 [==============================] - 1s 7ms/step - loss: 4644278.0000 - accuracy: 0.6931\n",
      "Epoch 10/15\n",
      "152/152 [==============================] - 1s 7ms/step - loss: 3750641.2500 - accuracy: 0.6964\n",
      "Epoch 11/15\n",
      "152/152 [==============================] - 1s 7ms/step - loss: 2896707.2500 - accuracy: 0.7360\n",
      "Epoch 12/15\n",
      "152/152 [==============================] - 1s 7ms/step - loss: 3038786.2500 - accuracy: 0.7327\n",
      "Epoch 13/15\n",
      "152/152 [==============================] - 1s 7ms/step - loss: 3384343.0000 - accuracy: 0.7129\n",
      "Epoch 14/15\n",
      "152/152 [==============================] - 1s 7ms/step - loss: 3087179.0000 - accuracy: 0.7492\n",
      "Epoch 15/15\n",
      "152/152 [==============================] - 1s 7ms/step - loss: 2968606.2500 - accuracy: 0.7459\n"
     ]
    },
    {
     "data": {
      "text/plain": [
       "<keras.callbacks.History at 0x16b827fa0>"
      ]
     },
     "execution_count": 19,
     "metadata": {},
     "output_type": "execute_result"
    }
   ],
   "source": [
    "model_dogs = get_dogs_model()\n",
    "model_dogs.fit(numeric_features, target, epochs=15, batch_size=BATCH_SIZE)"
   ]
  },
  {
   "cell_type": "markdown",
   "id": "ab707795",
   "metadata": {},
   "source": [
    "##### With tf.data"
   ]
  },
  {
   "cell_type": "code",
   "execution_count": 20,
   "id": "d542d9fc",
   "metadata": {},
   "outputs": [
    {
     "name": "stdout",
     "output_type": "stream",
     "text": [
      "(<tf.Tensor: shape=(5,), dtype=float64, numpy=array([ 63. , 150. , 145. , 233. ,   2.3])>, <tf.Tensor: shape=(), dtype=int64, numpy=0>)\n",
      "(<tf.Tensor: shape=(5,), dtype=float64, numpy=array([ 67. , 108. , 160. , 286. ,   1.5])>, <tf.Tensor: shape=(), dtype=int64, numpy=1>)\n",
      "(<tf.Tensor: shape=(5,), dtype=float64, numpy=array([ 67. , 129. , 120. , 229. ,   2.6])>, <tf.Tensor: shape=(), dtype=int64, numpy=0>)\n"
     ]
    }
   ],
   "source": [
    "numeric_dataset = tf.data.Dataset.from_tensor_slices((numeric_features, target))\n",
    "\n",
    "for row in numeric_dataset.take(3):\n",
    "    print(row)"
   ]
  },
  {
   "cell_type": "code",
   "execution_count": 21,
   "id": "4ad00301",
   "metadata": {},
   "outputs": [
    {
     "name": "stdout",
     "output_type": "stream",
     "text": [
      "Epoch 1/15\n",
      "  8/152 [>.............................] - ETA: 1s - loss: 0.7796 - accuracy: 0.5625 "
     ]
    },
    {
     "name": "stderr",
     "output_type": "stream",
     "text": [
      "2022-07-30 11:37:53.716259: I tensorflow/core/grappler/optimizers/custom_graph_optimizer_registry.cc:113] Plugin optimizer for device_type GPU is enabled.\n"
     ]
    },
    {
     "name": "stdout",
     "output_type": "stream",
     "text": [
      "152/152 [==============================] - 2s 8ms/step - loss: 0.6594 - accuracy: 0.7591\n",
      "Epoch 2/15\n",
      "152/152 [==============================] - 1s 7ms/step - loss: 0.5538 - accuracy: 0.7591\n",
      "Epoch 3/15\n",
      "152/152 [==============================] - 1s 7ms/step - loss: 0.4966 - accuracy: 0.7789\n",
      "Epoch 4/15\n",
      "152/152 [==============================] - 1s 7ms/step - loss: 0.4627 - accuracy: 0.7822\n",
      "Epoch 5/15\n",
      "152/152 [==============================] - 1s 7ms/step - loss: 0.4462 - accuracy: 0.7789\n",
      "Epoch 6/15\n",
      "152/152 [==============================] - 1s 7ms/step - loss: 0.4360 - accuracy: 0.7789\n",
      "Epoch 7/15\n",
      "152/152 [==============================] - 1s 7ms/step - loss: 0.4296 - accuracy: 0.7888\n",
      "Epoch 8/15\n",
      "152/152 [==============================] - 1s 7ms/step - loss: 0.4291 - accuracy: 0.7789\n",
      "Epoch 9/15\n",
      "152/152 [==============================] - 1s 7ms/step - loss: 0.4255 - accuracy: 0.7888\n",
      "Epoch 10/15\n",
      "152/152 [==============================] - 1s 7ms/step - loss: 0.4234 - accuracy: 0.7855\n",
      "Epoch 11/15\n",
      "152/152 [==============================] - 1s 7ms/step - loss: 0.4205 - accuracy: 0.7855\n",
      "Epoch 12/15\n",
      "152/152 [==============================] - 1s 7ms/step - loss: 0.4202 - accuracy: 0.7855\n",
      "Epoch 13/15\n",
      "152/152 [==============================] - 1s 7ms/step - loss: 0.4171 - accuracy: 0.7855\n",
      "Epoch 14/15\n",
      "152/152 [==============================] - 1s 7ms/step - loss: 0.4164 - accuracy: 0.7888\n",
      "Epoch 15/15\n",
      "152/152 [==============================] - 1s 7ms/step - loss: 0.4151 - accuracy: 0.7855\n"
     ]
    },
    {
     "data": {
      "text/plain": [
       "<keras.callbacks.History at 0x169a16400>"
      ]
     },
     "execution_count": 21,
     "metadata": {},
     "output_type": "execute_result"
    }
   ],
   "source": [
    "numeric_batchs = numeric_dataset.shuffle(1000).batch(BATCH_SIZE)\n",
    "\n",
    "model = get_basic_model()\n",
    "model.fit(numeric_batchs, epochs=15)"
   ]
  },
  {
   "cell_type": "code",
   "execution_count": 22,
   "id": "991fcfaa",
   "metadata": {},
   "outputs": [
    {
     "name": "stdout",
     "output_type": "stream",
     "text": [
      "Epoch 1/15\n",
      "  8/152 [>.............................] - ETA: 1s - loss: 313006752.0000 - accuracy: 0.2500     "
     ]
    },
    {
     "name": "stderr",
     "output_type": "stream",
     "text": [
      "2022-07-30 11:38:10.158580: I tensorflow/core/grappler/optimizers/custom_graph_optimizer_registry.cc:113] Plugin optimizer for device_type GPU is enabled.\n"
     ]
    },
    {
     "name": "stdout",
     "output_type": "stream",
     "text": [
      "152/152 [==============================] - 1s 7ms/step - loss: 45198988.0000 - accuracy: 0.5677\n",
      "Epoch 2/15\n",
      "152/152 [==============================] - 1s 7ms/step - loss: 9842363.0000 - accuracy: 0.6172\n",
      "Epoch 3/15\n",
      "152/152 [==============================] - 1s 7ms/step - loss: 6902947.5000 - accuracy: 0.6568\n",
      "Epoch 4/15\n",
      "152/152 [==============================] - 1s 7ms/step - loss: 5347527.0000 - accuracy: 0.6898\n",
      "Epoch 5/15\n",
      "152/152 [==============================] - 1s 7ms/step - loss: 4963303.0000 - accuracy: 0.6568\n",
      "Epoch 6/15\n",
      "152/152 [==============================] - 1s 7ms/step - loss: 4342128.0000 - accuracy: 0.7327\n",
      "Epoch 7/15\n",
      "152/152 [==============================] - 1s 7ms/step - loss: 3238033.5000 - accuracy: 0.6931\n",
      "Epoch 8/15\n",
      "152/152 [==============================] - 1s 7ms/step - loss: 5117220.0000 - accuracy: 0.7030\n",
      "Epoch 9/15\n",
      "152/152 [==============================] - 1s 7ms/step - loss: 4121550.7500 - accuracy: 0.7063\n",
      "Epoch 10/15\n",
      "152/152 [==============================] - 1s 7ms/step - loss: 6423347.0000 - accuracy: 0.6733\n",
      "Epoch 11/15\n",
      "152/152 [==============================] - 1s 7ms/step - loss: 2626875.5000 - accuracy: 0.7228\n",
      "Epoch 12/15\n",
      "152/152 [==============================] - 1s 7ms/step - loss: 2751569.5000 - accuracy: 0.7063\n",
      "Epoch 13/15\n",
      "152/152 [==============================] - 1s 7ms/step - loss: 3586103.5000 - accuracy: 0.7129\n",
      "Epoch 14/15\n",
      "152/152 [==============================] - 1s 7ms/step - loss: 2970949.0000 - accuracy: 0.7162\n",
      "Epoch 15/15\n",
      "152/152 [==============================] - 1s 7ms/step - loss: 2912323.7500 - accuracy: 0.7129\n"
     ]
    },
    {
     "data": {
      "text/plain": [
       "<keras.callbacks.History at 0x176384f10>"
      ]
     },
     "execution_count": 22,
     "metadata": {},
     "output_type": "execute_result"
    }
   ],
   "source": [
    "model_dogs = get_dogs_model()\n",
    "model_dogs.fit(numeric_batchs, epochs=15)"
   ]
  },
  {
   "cell_type": "markdown",
   "id": "b1597b6b",
   "metadata": {},
   "source": [
    "##### A DataFrame as a dictionary"
   ]
  },
  {
   "cell_type": "code",
   "execution_count": 23,
   "id": "a923c558",
   "metadata": {},
   "outputs": [],
   "source": [
    "dict_numeric_features = dict(numeric_features)"
   ]
  },
  {
   "cell_type": "code",
   "execution_count": 24,
   "id": "98d0b277",
   "metadata": {},
   "outputs": [
    {
     "data": {
      "text/plain": [
       "{'age': 0      63\n",
       " 1      67\n",
       " 2      67\n",
       " 3      37\n",
       " 4      41\n",
       "        ..\n",
       " 298    52\n",
       " 299    43\n",
       " 300    65\n",
       " 301    48\n",
       " 302    63\n",
       " Name: age, Length: 303, dtype: int64,\n",
       " 'thalach': 0      150\n",
       " 1      108\n",
       " 2      129\n",
       " 3      187\n",
       " 4      172\n",
       "       ... \n",
       " 298    190\n",
       " 299    136\n",
       " 300    127\n",
       " 301    150\n",
       " 302    154\n",
       " Name: thalach, Length: 303, dtype: int64,\n",
       " 'trestbps': 0      145\n",
       " 1      160\n",
       " 2      120\n",
       " 3      130\n",
       " 4      130\n",
       "       ... \n",
       " 298    118\n",
       " 299    132\n",
       " 300    135\n",
       " 301    130\n",
       " 302    150\n",
       " Name: trestbps, Length: 303, dtype: int64,\n",
       " 'chol': 0      233\n",
       " 1      286\n",
       " 2      229\n",
       " 3      250\n",
       " 4      204\n",
       "       ... \n",
       " 298    186\n",
       " 299    341\n",
       " 300    254\n",
       " 301    256\n",
       " 302    407\n",
       " Name: chol, Length: 303, dtype: int64,\n",
       " 'oldpeak': 0      2.3\n",
       " 1      1.5\n",
       " 2      2.6\n",
       " 3      3.5\n",
       " 4      1.4\n",
       "       ... \n",
       " 298    0.0\n",
       " 299    3.0\n",
       " 300    2.8\n",
       " 301    0.0\n",
       " 302    4.0\n",
       " Name: oldpeak, Length: 303, dtype: float64}"
      ]
     },
     "execution_count": 24,
     "metadata": {},
     "output_type": "execute_result"
    }
   ],
   "source": [
    "dict_numeric_features"
   ]
  },
  {
   "cell_type": "code",
   "execution_count": 25,
   "id": "c7bb7110",
   "metadata": {},
   "outputs": [],
   "source": [
    "numeric_dict_ds = tf.data.Dataset.from_tensor_slices((dict_numeric_features, target))"
   ]
  },
  {
   "cell_type": "code",
   "execution_count": 31,
   "id": "a246d196",
   "metadata": {},
   "outputs": [
    {
     "name": "stdout",
     "output_type": "stream",
     "text": [
      "({'age': <tf.Tensor: shape=(), dtype=int64, numpy=63>, 'thalach': <tf.Tensor: shape=(), dtype=int64, numpy=150>, 'trestbps': <tf.Tensor: shape=(), dtype=int64, numpy=145>, 'chol': <tf.Tensor: shape=(), dtype=int64, numpy=233>, 'oldpeak': <tf.Tensor: shape=(), dtype=float64, numpy=2.3>}, <tf.Tensor: shape=(), dtype=int64, numpy=0>)\n",
      "({'age': <tf.Tensor: shape=(), dtype=int64, numpy=67>, 'thalach': <tf.Tensor: shape=(), dtype=int64, numpy=108>, 'trestbps': <tf.Tensor: shape=(), dtype=int64, numpy=160>, 'chol': <tf.Tensor: shape=(), dtype=int64, numpy=286>, 'oldpeak': <tf.Tensor: shape=(), dtype=float64, numpy=1.5>}, <tf.Tensor: shape=(), dtype=int64, numpy=1>)\n",
      "({'age': <tf.Tensor: shape=(), dtype=int64, numpy=67>, 'thalach': <tf.Tensor: shape=(), dtype=int64, numpy=129>, 'trestbps': <tf.Tensor: shape=(), dtype=int64, numpy=120>, 'chol': <tf.Tensor: shape=(), dtype=int64, numpy=229>, 'oldpeak': <tf.Tensor: shape=(), dtype=float64, numpy=2.6>}, <tf.Tensor: shape=(), dtype=int64, numpy=0>)\n"
     ]
    }
   ],
   "source": [
    "for row in numeric_dict_ds.take(3):\n",
    "    print(row)"
   ]
  },
  {
   "cell_type": "markdown",
   "id": "a63f6ccb",
   "metadata": {},
   "source": [
    "###### Dictionaries with Keras\n",
    "1. The model-subclass style"
   ]
  },
  {
   "cell_type": "code",
   "execution_count": 38,
   "id": "43f201ae",
   "metadata": {},
   "outputs": [],
   "source": [
    "temp = tf.cast(dict_numeric_features['age'], dtype=tf.float32)"
   ]
  },
  {
   "cell_type": "code",
   "execution_count": 43,
   "id": "db68683c",
   "metadata": {},
   "outputs": [
    {
     "data": {
      "text/plain": [
       "<tf.Tensor: shape=(303,), dtype=float32, numpy=\n",
       "array([63., 67., 67., 37., 41., 56., 62., 57., 63., 53., 57., 56., 56.,\n",
       "       44., 52., 57., 48., 54., 48., 49., 64., 58., 58., 58., 60., 50.,\n",
       "       58., 66., 43., 40., 69., 60., 64., 59., 44., 42., 43., 57., 55.,\n",
       "       61., 65., 65., 67., 62., 65., 44., 65., 60., 51., 48., 58., 45.,\n",
       "       53., 39., 68., 52., 44., 47., 53., 51., 66., 62., 62., 44., 63.,\n",
       "       52., 62., 41., 58., 35., 63., 51., 55., 65., 45., 56., 54., 44.,\n",
       "       62., 54., 51., 29., 51., 43., 55., 70., 62., 35., 51., 59., 59.,\n",
       "       52., 64., 58., 47., 57., 41., 45., 60., 52., 42., 67., 55., 64.,\n",
       "       70., 51., 58., 60., 68., 46., 77., 54., 58., 48., 57., 54., 35.,\n",
       "       45., 70., 53., 59., 62., 64., 57., 52., 56., 43., 53., 48., 56.,\n",
       "       42., 59., 60., 63., 42., 66., 54., 69., 50., 51., 62., 68., 67.,\n",
       "       69., 45., 50., 59., 50., 64., 57., 64., 43., 45., 58., 50., 55.,\n",
       "       62., 37., 38., 41., 66., 52., 56., 46., 46., 64., 59., 41., 54.,\n",
       "       39., 53., 63., 34., 47., 67., 54., 66., 52., 55., 49., 74., 54.,\n",
       "       54., 56., 46., 49., 42., 41., 41., 49., 61., 60., 67., 58., 47.,\n",
       "       52., 62., 57., 58., 64., 51., 43., 42., 67., 76., 70., 57., 44.,\n",
       "       58., 60., 44., 61., 42., 59., 40., 42., 61., 66., 46., 71., 59.,\n",
       "       64., 66., 39., 57., 58., 57., 47., 55., 35., 61., 58., 58., 56.,\n",
       "       56., 67., 55., 44., 63., 63., 41., 59., 57., 45., 68., 57., 57.,\n",
       "       59., 57., 45., 68., 57., 57., 40., 71., 59., 61., 58., 51., 50.,\n",
       "       65., 53., 41., 65., 44., 44., 60., 54., 50., 41., 54., 51., 51.,\n",
       "       46., 58., 54., 54., 60., 60., 54., 59., 46., 59., 60., 52., 48.,\n",
       "       45., 34., 57., 71., 49., 54., 59., 57., 61., 39., 61., 56., 52.,\n",
       "       43., 65., 48., 63.], dtype=float32)>"
      ]
     },
     "execution_count": 43,
     "metadata": {},
     "output_type": "execute_result"
    }
   ],
   "source": [
    "temp"
   ]
  },
  {
   "cell_type": "code",
   "execution_count": 51,
   "id": "746cb234",
   "metadata": {},
   "outputs": [],
   "source": [
    "def stack_dict(inputs, fun=tf.stack):\n",
    "    values = []\n",
    "    for key in inputs.keys():\n",
    "        values.append(tf.cast(inputs[key], dtype=tf.float32))\n",
    "    \n",
    "    return fun(values, axis=-1)"
   ]
  },
  {
   "cell_type": "code",
   "execution_count": 52,
   "id": "55e8f5cc",
   "metadata": {
    "scrolled": false
   },
   "outputs": [
    {
     "name": "stdout",
     "output_type": "stream",
     "text": [
      "tf.Tensor([ 63.  150.  145.  233.    2.3], shape=(5,), dtype=float32)\n",
      "tf.Tensor([ 67.  108.  160.  286.    1.5], shape=(5,), dtype=float32)\n",
      "tf.Tensor([ 67.  129.  120.  229.    2.6], shape=(5,), dtype=float32)\n",
      "tf.Tensor([ 37.  187.  130.  250.    3.5], shape=(5,), dtype=float32)\n",
      "tf.Tensor([ 41.  172.  130.  204.    1.4], shape=(5,), dtype=float32)\n",
      "tf.Tensor([ 56.  178.  120.  236.    0.8], shape=(5,), dtype=float32)\n",
      "tf.Tensor([ 62.  160.  140.  268.    3.6], shape=(5,), dtype=float32)\n",
      "tf.Tensor([ 57.  163.  120.  354.    0.6], shape=(5,), dtype=float32)\n",
      "tf.Tensor([ 63.  147.  130.  254.    1.4], shape=(5,), dtype=float32)\n",
      "tf.Tensor([ 53.  155.  140.  203.    3.1], shape=(5,), dtype=float32)\n",
      "tf.Tensor([ 57.  148.  140.  192.    0.4], shape=(5,), dtype=float32)\n",
      "tf.Tensor([ 56.  153.  140.  294.    1.3], shape=(5,), dtype=float32)\n",
      "tf.Tensor([ 56.  142.  130.  256.    0.6], shape=(5,), dtype=float32)\n",
      "tf.Tensor([ 44. 173. 120. 263.   0.], shape=(5,), dtype=float32)\n",
      "tf.Tensor([ 52.  162.  172.  199.    0.5], shape=(5,), dtype=float32)\n",
      "tf.Tensor([ 57.  174.  150.  168.    1.6], shape=(5,), dtype=float32)\n",
      "tf.Tensor([ 48. 168. 110. 229.   1.], shape=(5,), dtype=float32)\n",
      "tf.Tensor([ 54.  160.  140.  239.    1.2], shape=(5,), dtype=float32)\n",
      "tf.Tensor([4.80e+01 1.39e+02 1.30e+02 2.75e+02 2.00e-01], shape=(5,), dtype=float32)\n",
      "tf.Tensor([ 49.  171.  130.  266.    0.6], shape=(5,), dtype=float32)\n",
      "tf.Tensor([ 64.  144.  110.  211.    1.8], shape=(5,), dtype=float32)\n",
      "tf.Tensor([ 58. 162. 150. 283.   1.], shape=(5,), dtype=float32)\n",
      "tf.Tensor([ 58.  160.  120.  284.    1.8], shape=(5,), dtype=float32)\n",
      "tf.Tensor([ 58.  173.  132.  224.    3.2], shape=(5,), dtype=float32)\n",
      "tf.Tensor([ 60.  132.  130.  206.    2.4], shape=(5,), dtype=float32)\n",
      "tf.Tensor([ 50.  158.  120.  219.    1.6], shape=(5,), dtype=float32)\n",
      "tf.Tensor([ 58. 172. 120. 340.   0.], shape=(5,), dtype=float32)\n",
      "tf.Tensor([ 66.  114.  150.  226.    2.6], shape=(5,), dtype=float32)\n",
      "tf.Tensor([ 43.  171.  150.  247.    1.5], shape=(5,), dtype=float32)\n",
      "tf.Tensor([ 40. 114. 110. 167.   2.], shape=(5,), dtype=float32)\n",
      "tf.Tensor([ 69.  151.  140.  239.    1.8], shape=(5,), dtype=float32)\n",
      "tf.Tensor([ 60.  160.  117.  230.    1.4], shape=(5,), dtype=float32)\n",
      "tf.Tensor([ 64. 158. 140. 335.   0.], shape=(5,), dtype=float32)\n",
      "tf.Tensor([ 59.  161.  135.  234.    0.5], shape=(5,), dtype=float32)\n",
      "tf.Tensor([ 44.  179.  130.  233.    0.4], shape=(5,), dtype=float32)\n",
      "tf.Tensor([ 42. 178. 140. 226.   0.], shape=(5,), dtype=float32)\n",
      "tf.Tensor([ 43.  120.  120.  177.    2.5], shape=(5,), dtype=float32)\n",
      "tf.Tensor([ 57.  112.  150.  276.    0.6], shape=(5,), dtype=float32)\n",
      "tf.Tensor([ 55.  132.  132.  353.    1.2], shape=(5,), dtype=float32)\n",
      "tf.Tensor([ 61. 137. 150. 243.   1.], shape=(5,), dtype=float32)\n",
      "tf.Tensor([ 65. 114. 150. 225.   1.], shape=(5,), dtype=float32)\n",
      "tf.Tensor([ 65.  148.  155.  269.    0.8], shape=(5,), dtype=float32)\n",
      "tf.Tensor([6.70e+01 1.63e+02 1.25e+02 2.54e+02 2.00e-01], shape=(5,), dtype=float32)\n",
      "tf.Tensor([ 62.   99.  120.  267.    1.8], shape=(5,), dtype=float32)\n",
      "tf.Tensor([ 65.  158.  110.  248.    0.6], shape=(5,), dtype=float32)\n",
      "tf.Tensor([ 44. 177. 110. 197.   0.], shape=(5,), dtype=float32)\n",
      "tf.Tensor([ 65.  151.  160.  360.    0.8], shape=(5,), dtype=float32)\n",
      "tf.Tensor([ 60.  141.  125.  258.    2.8], shape=(5,), dtype=float32)\n",
      "tf.Tensor([ 51.  142.  140.  308.    1.5], shape=(5,), dtype=float32)\n",
      "tf.Tensor([4.80e+01 1.80e+02 1.30e+02 2.45e+02 2.00e-01], shape=(5,), dtype=float32)\n",
      "tf.Tensor([ 58.  111.  150.  270.    0.8], shape=(5,), dtype=float32)\n",
      "tf.Tensor([ 45. 148. 104. 208.   3.], shape=(5,), dtype=float32)\n",
      "tf.Tensor([ 53.  143.  130.  264.    0.4], shape=(5,), dtype=float32)\n",
      "tf.Tensor([ 39. 182. 140. 321.   0.], shape=(5,), dtype=float32)\n",
      "tf.Tensor([ 68.  150.  180.  274.    1.6], shape=(5,), dtype=float32)\n",
      "tf.Tensor([5.20e+01 1.72e+02 1.20e+02 3.25e+02 2.00e-01], shape=(5,), dtype=float32)\n",
      "tf.Tensor([ 44. 180. 140. 235.   0.], shape=(5,), dtype=float32)\n",
      "tf.Tensor([ 47. 156. 138. 257.   0.], shape=(5,), dtype=float32)\n",
      "tf.Tensor([ 53. 160. 138. 234.   0.], shape=(5,), dtype=float32)\n",
      "tf.Tensor([ 51.  149.  130.  256.    0.5], shape=(5,), dtype=float32)\n",
      "tf.Tensor([ 66.  151.  120.  302.    0.4], shape=(5,), dtype=float32)\n",
      "tf.Tensor([ 62.  145.  160.  164.    6.2], shape=(5,), dtype=float32)\n",
      "tf.Tensor([ 62.  146.  130.  231.    1.8], shape=(5,), dtype=float32)\n",
      "tf.Tensor([ 44.  175.  108.  141.    0.6], shape=(5,), dtype=float32)\n",
      "tf.Tensor([ 63. 172. 135. 252.   0.], shape=(5,), dtype=float32)\n",
      "tf.Tensor([ 52. 161. 128. 255.   0.], shape=(5,), dtype=float32)\n",
      "tf.Tensor([ 62.   97.  130.  263.    1.2], shape=(5,), dtype=float32)\n",
      "tf.Tensor([ 41. 132. 135. 203.   0.], shape=(5,), dtype=float32)\n",
      "tf.Tensor([ 58. 165. 140. 211.   0.], shape=(5,), dtype=float32)\n",
      "tf.Tensor([ 35.  182.  138.  183.    1.4], shape=(5,), dtype=float32)\n",
      "tf.Tensor([ 63.  132.  130.  330.    1.8], shape=(5,), dtype=float32)\n",
      "tf.Tensor([ 51.  143.  100.  222.    1.2], shape=(5,), dtype=float32)\n",
      "tf.Tensor([ 55.  111.  140.  217.    5.6], shape=(5,), dtype=float32)\n",
      "tf.Tensor([ 65.  174.  138.  282.    1.4], shape=(5,), dtype=float32)\n",
      "tf.Tensor([ 45.  175.  130.  234.    0.6], shape=(5,), dtype=float32)\n",
      "tf.Tensor([ 56. 133. 200. 288.   4.], shape=(5,), dtype=float32)\n",
      "tf.Tensor([ 54.  126.  110.  239.    2.8], shape=(5,), dtype=float32)\n",
      "tf.Tensor([ 44. 170. 120. 220.   0.], shape=(5,), dtype=float32)\n",
      "tf.Tensor([ 62. 163. 124. 209.   0.], shape=(5,), dtype=float32)\n",
      "tf.Tensor([ 54.  147.  120.  258.    0.4], shape=(5,), dtype=float32)\n",
      "tf.Tensor([ 51. 154.  94. 227.   0.], shape=(5,), dtype=float32)\n",
      "tf.Tensor([ 29. 202. 130. 204.   0.], shape=(5,), dtype=float32)\n",
      "tf.Tensor([ 51. 186. 140. 261.   0.], shape=(5,), dtype=float32)\n",
      "tf.Tensor([4.30e+01 1.65e+02 1.22e+02 2.13e+02 2.00e-01], shape=(5,), dtype=float32)\n",
      "tf.Tensor([ 55.  161.  135.  250.    1.4], shape=(5,), dtype=float32)\n",
      "tf.Tensor([ 70.  125.  145.  174.    2.6], shape=(5,), dtype=float32)\n",
      "tf.Tensor([ 62.  103.  120.  281.    1.4], shape=(5,), dtype=float32)\n",
      "tf.Tensor([ 35.  130.  120.  198.    1.6], shape=(5,), dtype=float32)\n",
      "tf.Tensor([ 51.  166.  125.  245.    2.4], shape=(5,), dtype=float32)\n",
      "tf.Tensor([ 59. 164. 140. 221.   0.], shape=(5,), dtype=float32)\n",
      "tf.Tensor([5.90e+01 1.59e+02 1.70e+02 2.88e+02 2.00e-01], shape=(5,), dtype=float32)\n",
      "tf.Tensor([ 52. 184. 128. 205.   0.], shape=(5,), dtype=float32)\n",
      "tf.Tensor([ 64.  131.  125.  309.    1.8], shape=(5,), dtype=float32)\n",
      "tf.Tensor([ 58.  154.  105.  240.    0.6], shape=(5,), dtype=float32)\n",
      "tf.Tensor([ 47. 152. 108. 243.   0.], shape=(5,), dtype=float32)\n",
      "tf.Tensor([ 57. 124. 165. 289.   1.], shape=(5,), dtype=float32)\n",
      "tf.Tensor([ 41. 179. 112. 250.   0.], shape=(5,), dtype=float32)\n",
      "tf.Tensor([ 45. 170. 128. 308.   0.], shape=(5,), dtype=float32)\n",
      "tf.Tensor([ 60. 160. 102. 318.   0.], shape=(5,), dtype=float32)\n",
      "tf.Tensor([ 52.  178.  152.  298.    1.2], shape=(5,), dtype=float32)\n",
      "tf.Tensor([ 42.  122.  102.  265.    0.6], shape=(5,), dtype=float32)\n",
      "tf.Tensor([ 67.  160.  115.  564.    1.6], shape=(5,), dtype=float32)\n",
      "tf.Tensor([ 55.  145.  160.  289.    0.8], shape=(5,), dtype=float32)\n",
      "tf.Tensor([ 64.   96.  120.  246.    2.2], shape=(5,), dtype=float32)\n",
      "tf.Tensor([ 70.  109.  130.  322.    2.4], shape=(5,), dtype=float32)\n",
      "tf.Tensor([ 51.  173.  140.  299.    1.6], shape=(5,), dtype=float32)\n",
      "tf.Tensor([ 58. 171. 125. 300.   0.], shape=(5,), dtype=float32)\n",
      "tf.Tensor([ 60.  170.  140.  293.    1.2], shape=(5,), dtype=float32)\n",
      "tf.Tensor([ 68. 151. 118. 277.   1.], shape=(5,), dtype=float32)\n",
      "tf.Tensor([ 46. 156. 101. 197.   0.], shape=(5,), dtype=float32)\n",
      "tf.Tensor([ 77. 162. 125. 304.   0.], shape=(5,), dtype=float32)\n",
      "tf.Tensor([ 54.  158.  110.  214.    1.6], shape=(5,), dtype=float32)\n",
      "tf.Tensor([ 58. 122. 100. 248.   1.], shape=(5,), dtype=float32)\n",
      "tf.Tensor([ 48. 175. 124. 255.   0.], shape=(5,), dtype=float32)\n",
      "tf.Tensor([ 57. 168. 132. 207.   0.], shape=(5,), dtype=float32)\n",
      "tf.Tensor([ 54. 159. 132. 288.   0.], shape=(5,), dtype=float32)\n",
      "tf.Tensor([ 35. 156. 126. 282.   0.], shape=(5,), dtype=float32)\n",
      "tf.Tensor([ 45. 138. 112. 160.   0.], shape=(5,), dtype=float32)\n",
      "tf.Tensor([ 70.  112.  160.  269.    2.9], shape=(5,), dtype=float32)\n",
      "tf.Tensor([ 53. 111. 142. 226.   0.], shape=(5,), dtype=float32)\n",
      "tf.Tensor([ 59. 143. 174. 249.   0.], shape=(5,), dtype=float32)\n",
      "tf.Tensor([ 62.  157.  140.  394.    1.2], shape=(5,), dtype=float32)\n",
      "tf.Tensor([ 64. 132. 145. 212.   2.], shape=(5,), dtype=float32)\n",
      "tf.Tensor([ 57.   88.  152.  274.    1.2], shape=(5,), dtype=float32)\n",
      "tf.Tensor([5.20e+01 1.47e+02 1.08e+02 2.33e+02 1.00e-01], shape=(5,), dtype=float32)\n",
      "tf.Tensor([ 56.  105.  132.  184.    2.1], shape=(5,), dtype=float32)\n",
      "tf.Tensor([ 43.  162.  130.  315.    1.9], shape=(5,), dtype=float32)\n",
      "tf.Tensor([ 53. 173. 130. 246.   0.], shape=(5,), dtype=float32)\n",
      "tf.Tensor([ 48.  166.  124.  274.    0.5], shape=(5,), dtype=float32)\n",
      "tf.Tensor([ 56.  150.  134.  409.    1.9], shape=(5,), dtype=float32)\n",
      "tf.Tensor([ 42.  178.  148.  244.    0.8], shape=(5,), dtype=float32)\n",
      "tf.Tensor([ 59.  145.  178.  270.    4.2], shape=(5,), dtype=float32)\n",
      "tf.Tensor([ 60. 161. 158. 305.   0.], shape=(5,), dtype=float32)\n",
      "tf.Tensor([ 63. 179. 140. 195.   0.], shape=(5,), dtype=float32)\n",
      "tf.Tensor([ 42.  194.  120.  240.    0.8], shape=(5,), dtype=float32)\n",
      "tf.Tensor([ 66. 120. 160. 246.   0.], shape=(5,), dtype=float32)\n",
      "tf.Tensor([ 54. 195. 192. 283.   0.], shape=(5,), dtype=float32)\n",
      "tf.Tensor([ 69. 146. 140. 254.   2.], shape=(5,), dtype=float32)\n",
      "tf.Tensor([ 50. 163. 129. 196.   0.], shape=(5,), dtype=float32)\n",
      "tf.Tensor([ 51.  122.  140.  298.    4.2], shape=(5,), dtype=float32)\n",
      "tf.Tensor([ 62.  106.  138.  294.    1.9], shape=(5,), dtype=float32)\n",
      "tf.Tensor([ 68.  115.  120.  211.    1.5], shape=(5,), dtype=float32)\n",
      "tf.Tensor([ 67.  125.  100.  299.    0.9], shape=(5,), dtype=float32)\n",
      "tf.Tensor([6.90e+01 1.31e+02 1.60e+02 2.34e+02 1.00e-01], shape=(5,), dtype=float32)\n",
      "tf.Tensor([4.50e+01 1.52e+02 1.38e+02 2.36e+02 2.00e-01], shape=(5,), dtype=float32)\n",
      "tf.Tensor([ 50.  162.  120.  244.    1.1], shape=(5,), dtype=float32)\n",
      "tf.Tensor([ 59. 125. 160. 273.   0.], shape=(5,), dtype=float32)\n",
      "tf.Tensor([ 50. 159. 110. 254.   0.], shape=(5,), dtype=float32)\n",
      "tf.Tensor([ 64. 154. 180. 325.   0.], shape=(5,), dtype=float32)\n",
      "tf.Tensor([ 57.  173.  150.  126.    0.2], shape=(5,), dtype=float32)\n",
      "tf.Tensor([6.40e+01 1.33e+02 1.40e+02 3.13e+02 2.00e-01], shape=(5,), dtype=float32)\n",
      "tf.Tensor([ 43. 161. 110. 211.   0.], shape=(5,), dtype=float32)\n",
      "tf.Tensor([ 45. 147. 142. 309.   0.], shape=(5,), dtype=float32)\n",
      "tf.Tensor([ 58. 130. 128. 259.   3.], shape=(5,), dtype=float32)\n",
      "tf.Tensor([ 50.  126.  144.  200.    0.9], shape=(5,), dtype=float32)\n",
      "tf.Tensor([ 55. 155. 130. 262.   0.], shape=(5,), dtype=float32)\n",
      "tf.Tensor([ 62.  154.  150.  244.    1.4], shape=(5,), dtype=float32)\n",
      "tf.Tensor([ 37. 170. 120. 215.   0.], shape=(5,), dtype=float32)\n",
      "tf.Tensor([ 38.  182.  120.  231.    3.8], shape=(5,), dtype=float32)\n",
      "tf.Tensor([ 41. 168. 130. 214.   2.], shape=(5,), dtype=float32)\n",
      "tf.Tensor([ 66. 165. 178. 228.   1.], shape=(5,), dtype=float32)\n",
      "tf.Tensor([ 52. 160. 112. 230.   0.], shape=(5,), dtype=float32)\n",
      "tf.Tensor([ 56.  162.  120.  193.    1.9], shape=(5,), dtype=float32)\n",
      "tf.Tensor([ 46. 172. 105. 204.   0.], shape=(5,), dtype=float32)\n",
      "tf.Tensor([ 46. 152. 138. 243.   0.], shape=(5,), dtype=float32)\n",
      "tf.Tensor([ 64. 122. 130. 303.   2.], shape=(5,), dtype=float32)\n",
      "tf.Tensor([ 59. 182. 138. 271.   0.], shape=(5,), dtype=float32)\n",
      "tf.Tensor([ 41. 172. 112. 268.   0.], shape=(5,), dtype=float32)\n",
      "tf.Tensor([ 54. 167. 108. 267.   0.], shape=(5,), dtype=float32)\n"
     ]
    },
    {
     "name": "stdout",
     "output_type": "stream",
     "text": [
      "tf.Tensor([ 39. 179.  94. 199.   0.], shape=(5,), dtype=float32)\n",
      "tf.Tensor([ 53.  95. 123. 282.   2.], shape=(5,), dtype=float32)\n",
      "tf.Tensor([ 63.  169.  108.  269.    1.8], shape=(5,), dtype=float32)\n",
      "tf.Tensor([ 34.  192.  118.  210.    0.7], shape=(5,), dtype=float32)\n",
      "tf.Tensor([4.70e+01 1.43e+02 1.12e+02 2.04e+02 1.00e-01], shape=(5,), dtype=float32)\n",
      "tf.Tensor([ 67. 172. 152. 277.   0.], shape=(5,), dtype=float32)\n",
      "tf.Tensor([ 54. 108. 110. 206.   0.], shape=(5,), dtype=float32)\n",
      "tf.Tensor([6.60e+01 1.32e+02 1.12e+02 2.12e+02 1.00e-01], shape=(5,), dtype=float32)\n",
      "tf.Tensor([5.20e+01 1.69e+02 1.36e+02 1.96e+02 1.00e-01], shape=(5,), dtype=float32)\n",
      "tf.Tensor([ 55.  117.  180.  327.    3.4], shape=(5,), dtype=float32)\n",
      "tf.Tensor([ 49.  126.  118.  149.    0.8], shape=(5,), dtype=float32)\n",
      "tf.Tensor([7.40e+01 1.21e+02 1.20e+02 2.69e+02 2.00e-01], shape=(5,), dtype=float32)\n",
      "tf.Tensor([ 54. 163. 160. 201.   0.], shape=(5,), dtype=float32)\n",
      "tf.Tensor([ 54.  116.  122.  286.    3.2], shape=(5,), dtype=float32)\n",
      "tf.Tensor([ 56.  103.  130.  283.    1.6], shape=(5,), dtype=float32)\n",
      "tf.Tensor([ 46.  144.  120.  249.    0.8], shape=(5,), dtype=float32)\n",
      "tf.Tensor([ 49. 162. 134. 271.   0.], shape=(5,), dtype=float32)\n",
      "tf.Tensor([ 42. 162. 120. 295.   0.], shape=(5,), dtype=float32)\n",
      "tf.Tensor([ 41. 153. 110. 235.   0.], shape=(5,), dtype=float32)\n",
      "tf.Tensor([ 41. 163. 126. 306.   0.], shape=(5,), dtype=float32)\n",
      "tf.Tensor([ 49. 163. 130. 269.   0.], shape=(5,), dtype=float32)\n",
      "tf.Tensor([ 61.  145.  134.  234.    2.6], shape=(5,), dtype=float32)\n",
      "tf.Tensor([ 60.  96. 120. 178.   0.], shape=(5,), dtype=float32)\n",
      "tf.Tensor([ 67.  71. 120. 237.   1.], shape=(5,), dtype=float32)\n",
      "tf.Tensor([5.80e+01 1.56e+02 1.00e+02 2.34e+02 1.00e-01], shape=(5,), dtype=float32)\n",
      "tf.Tensor([ 47. 118. 110. 275.   1.], shape=(5,), dtype=float32)\n",
      "tf.Tensor([ 52. 168. 125. 212.   1.], shape=(5,), dtype=float32)\n",
      "tf.Tensor([ 62. 140. 128. 208.   0.], shape=(5,), dtype=float32)\n",
      "tf.Tensor([ 57.  126.  110.  201.    1.5], shape=(5,), dtype=float32)\n",
      "tf.Tensor([ 58. 105. 146. 218.   2.], shape=(5,), dtype=float32)\n",
      "tf.Tensor([6.40e+01 1.05e+02 1.28e+02 2.63e+02 2.00e-01], shape=(5,), dtype=float32)\n",
      "tf.Tensor([ 51.  157.  120.  295.    0.6], shape=(5,), dtype=float32)\n",
      "tf.Tensor([ 43.  181.  115.  303.    1.2], shape=(5,), dtype=float32)\n",
      "tf.Tensor([ 42. 173. 120. 209.   0.], shape=(5,), dtype=float32)\n",
      "tf.Tensor([ 67.  142.  106.  223.    0.3], shape=(5,), dtype=float32)\n",
      "tf.Tensor([ 76.  116.  140.  197.    1.1], shape=(5,), dtype=float32)\n",
      "tf.Tensor([ 70. 143. 156. 245.   0.], shape=(5,), dtype=float32)\n",
      "tf.Tensor([ 57.  141.  124.  261.    0.3], shape=(5,), dtype=float32)\n",
      "tf.Tensor([ 44.  149.  118.  242.    0.3], shape=(5,), dtype=float32)\n",
      "tf.Tensor([ 58. 152. 136. 319.   0.], shape=(5,), dtype=float32)\n",
      "tf.Tensor([ 60.  171.  150.  240.    0.9], shape=(5,), dtype=float32)\n",
      "tf.Tensor([ 44. 169. 120. 226.   0.], shape=(5,), dtype=float32)\n",
      "tf.Tensor([ 61.  125.  138.  166.    3.6], shape=(5,), dtype=float32)\n",
      "tf.Tensor([ 42.  125.  136.  315.    1.8], shape=(5,), dtype=float32)\n",
      "tf.Tensor([ 59.  134.  126.  218.    2.2], shape=(5,), dtype=float32)\n",
      "tf.Tensor([ 40. 181. 152. 223.   0.], shape=(5,), dtype=float32)\n",
      "tf.Tensor([ 42. 150. 130. 180.   0.], shape=(5,), dtype=float32)\n",
      "tf.Tensor([ 61.  138.  140.  207.    1.9], shape=(5,), dtype=float32)\n",
      "tf.Tensor([ 66.  138.  160.  228.    2.3], shape=(5,), dtype=float32)\n",
      "tf.Tensor([ 46.  120.  140.  311.    1.8], shape=(5,), dtype=float32)\n",
      "tf.Tensor([ 71.  125.  112.  149.    1.6], shape=(5,), dtype=float32)\n",
      "tf.Tensor([ 59.  162.  134.  204.    0.8], shape=(5,), dtype=float32)\n",
      "tf.Tensor([ 64.  155.  170.  227.    0.6], shape=(5,), dtype=float32)\n",
      "tf.Tensor([ 66. 152. 146. 278.   0.], shape=(5,), dtype=float32)\n",
      "tf.Tensor([ 39. 152. 138. 220.   0.], shape=(5,), dtype=float32)\n",
      "tf.Tensor([ 57. 164. 154. 232.   0.], shape=(5,), dtype=float32)\n",
      "tf.Tensor([ 58.  131.  130.  197.    0.6], shape=(5,), dtype=float32)\n",
      "tf.Tensor([ 57. 143. 110. 335.   3.], shape=(5,), dtype=float32)\n",
      "tf.Tensor([ 47. 179. 130. 253.   0.], shape=(5,), dtype=float32)\n",
      "tf.Tensor([ 55. 130. 128. 205.   2.], shape=(5,), dtype=float32)\n",
      "tf.Tensor([ 35. 174. 122. 192.   0.], shape=(5,), dtype=float32)\n",
      "tf.Tensor([ 61. 161. 148. 203.   0.], shape=(5,), dtype=float32)\n",
      "tf.Tensor([ 58.  140.  114.  318.    4.4], shape=(5,), dtype=float32)\n",
      "tf.Tensor([ 58.  146.  170.  225.    2.8], shape=(5,), dtype=float32)\n",
      "tf.Tensor([ 56. 163. 130. 221.   0.], shape=(5,), dtype=float32)\n",
      "tf.Tensor([ 56. 169. 120. 240.   0.], shape=(5,), dtype=float32)\n",
      "tf.Tensor([ 67.  150.  152.  212.    0.8], shape=(5,), dtype=float32)\n",
      "tf.Tensor([ 55.  166.  132.  342.    1.2], shape=(5,), dtype=float32)\n",
      "tf.Tensor([ 44.  144.  120.  169.    2.8], shape=(5,), dtype=float32)\n",
      "tf.Tensor([ 63. 144. 140. 187.   4.], shape=(5,), dtype=float32)\n",
      "tf.Tensor([ 63. 136. 124. 197.   0.], shape=(5,), dtype=float32)\n",
      "tf.Tensor([ 41. 182. 120. 157.   0.], shape=(5,), dtype=float32)\n",
      "tf.Tensor([ 59.  90. 164. 176.   1.], shape=(5,), dtype=float32)\n",
      "tf.Tensor([5.70e+01 1.23e+02 1.40e+02 2.41e+02 2.00e-01], shape=(5,), dtype=float32)\n",
      "tf.Tensor([ 45.  132.  110.  264.    1.2], shape=(5,), dtype=float32)\n",
      "tf.Tensor([ 68.  141.  144.  193.    3.4], shape=(5,), dtype=float32)\n",
      "tf.Tensor([ 57.  115.  130.  131.    1.2], shape=(5,), dtype=float32)\n",
      "tf.Tensor([ 57. 174. 130. 236.   0.], shape=(5,), dtype=float32)\n",
      "tf.Tensor([ 59.  90. 164. 176.   1.], shape=(5,), dtype=float32)\n",
      "tf.Tensor([5.70e+01 1.23e+02 1.40e+02 2.41e+02 2.00e-01], shape=(5,), dtype=float32)\n",
      "tf.Tensor([ 45.  132.  110.  264.    1.2], shape=(5,), dtype=float32)\n",
      "tf.Tensor([ 68.  141.  144.  193.    3.4], shape=(5,), dtype=float32)\n",
      "tf.Tensor([ 57.  115.  130.  131.    1.2], shape=(5,), dtype=float32)\n",
      "tf.Tensor([ 57. 174. 130. 236.   0.], shape=(5,), dtype=float32)\n",
      "tf.Tensor([ 40.  178.  140.  199.    1.4], shape=(5,), dtype=float32)\n",
      "tf.Tensor([ 71.  162.  160.  302.    0.4], shape=(5,), dtype=float32)\n",
      "tf.Tensor([ 59.  157.  150.  212.    1.6], shape=(5,), dtype=float32)\n",
      "tf.Tensor([ 61. 169. 130. 330.   0.], shape=(5,), dtype=float32)\n",
      "tf.Tensor([ 58.  165.  112.  230.    2.5], shape=(5,), dtype=float32)\n",
      "tf.Tensor([ 51.  123.  110.  175.    0.6], shape=(5,), dtype=float32)\n",
      "tf.Tensor([ 50.  128.  150.  243.    2.6], shape=(5,), dtype=float32)\n",
      "tf.Tensor([ 65.  157.  140.  417.    0.8], shape=(5,), dtype=float32)\n",
      "tf.Tensor([ 53.  152.  130.  197.    1.2], shape=(5,), dtype=float32)\n",
      "tf.Tensor([ 41. 168. 105. 198.   0.], shape=(5,), dtype=float32)\n",
      "tf.Tensor([ 65.  140.  120.  177.    0.4], shape=(5,), dtype=float32)\n",
      "tf.Tensor([ 44. 153. 112. 290.   0.], shape=(5,), dtype=float32)\n",
      "tf.Tensor([ 44. 188. 130. 219.   0.], shape=(5,), dtype=float32)\n",
      "tf.Tensor([ 60.  144.  130.  253.    1.4], shape=(5,), dtype=float32)\n",
      "tf.Tensor([ 54.  109.  124.  266.    2.2], shape=(5,), dtype=float32)\n",
      "tf.Tensor([ 50.  163.  140.  233.    0.6], shape=(5,), dtype=float32)\n",
      "tf.Tensor([ 41. 158. 110. 172.   0.], shape=(5,), dtype=float32)\n",
      "tf.Tensor([ 54.  152.  125.  273.    0.5], shape=(5,), dtype=float32)\n",
      "tf.Tensor([ 51.  125.  125.  213.    1.4], shape=(5,), dtype=float32)\n",
      "tf.Tensor([ 51.  142.  130.  305.    1.2], shape=(5,), dtype=float32)\n",
      "tf.Tensor([ 46.  160.  142.  177.    1.4], shape=(5,), dtype=float32)\n",
      "tf.Tensor([ 58.  131.  128.  216.    2.2], shape=(5,), dtype=float32)\n",
      "tf.Tensor([ 54. 170. 135. 304.   0.], shape=(5,), dtype=float32)\n",
      "tf.Tensor([ 54.  113.  120.  188.    1.4], shape=(5,), dtype=float32)\n",
      "tf.Tensor([ 60.  142.  145.  282.    2.8], shape=(5,), dtype=float32)\n",
      "tf.Tensor([ 60. 155. 140. 185.   3.], shape=(5,), dtype=float32)\n",
      "tf.Tensor([ 54.  165.  150.  232.    1.6], shape=(5,), dtype=float32)\n",
      "tf.Tensor([ 59.  140.  170.  326.    3.4], shape=(5,), dtype=float32)\n",
      "tf.Tensor([ 46.  147.  150.  231.    3.6], shape=(5,), dtype=float32)\n",
      "tf.Tensor([ 59.  142.  110.  239.    1.2], shape=(5,), dtype=float32)\n",
      "tf.Tensor([ 60.  157.  150.  258.    2.6], shape=(5,), dtype=float32)\n",
      "tf.Tensor([ 52.  158.  134.  201.    0.8], shape=(5,), dtype=float32)\n",
      "tf.Tensor([ 48. 186. 122. 222.   0.], shape=(5,), dtype=float32)\n",
      "tf.Tensor([ 45. 185. 115. 260.   0.], shape=(5,), dtype=float32)\n",
      "tf.Tensor([ 34. 174. 118. 182.   0.], shape=(5,), dtype=float32)\n",
      "tf.Tensor([ 57. 159. 128. 303.   0.], shape=(5,), dtype=float32)\n",
      "tf.Tensor([ 71. 130. 110. 265.   0.], shape=(5,), dtype=float32)\n",
      "tf.Tensor([ 49. 139. 120. 188.   2.], shape=(5,), dtype=float32)\n",
      "tf.Tensor([ 54. 156. 108. 309.   0.], shape=(5,), dtype=float32)\n",
      "tf.Tensor([ 59. 162. 140. 177.   0.], shape=(5,), dtype=float32)\n",
      "tf.Tensor([ 57.  150.  128.  229.    0.4], shape=(5,), dtype=float32)\n",
      "tf.Tensor([ 61.  140.  120.  260.    3.6], shape=(5,), dtype=float32)\n",
      "tf.Tensor([ 39.  140.  118.  219.    1.2], shape=(5,), dtype=float32)\n",
      "tf.Tensor([ 61. 146. 145. 307.   1.], shape=(5,), dtype=float32)\n",
      "tf.Tensor([ 56.  144.  125.  249.    1.2], shape=(5,), dtype=float32)\n",
      "tf.Tensor([ 52. 190. 118. 186.   0.], shape=(5,), dtype=float32)\n",
      "tf.Tensor([ 43. 136. 132. 341.   3.], shape=(5,), dtype=float32)\n",
      "tf.Tensor([ 65.  127.  135.  254.    2.8], shape=(5,), dtype=float32)\n",
      "tf.Tensor([ 48. 150. 130. 256.   0.], shape=(5,), dtype=float32)\n",
      "tf.Tensor([ 63. 154. 150. 407.   4.], shape=(5,), dtype=float32)\n"
     ]
    }
   ],
   "source": [
    "temp = stack_dict(dict_numeric_features)\n",
    "for i in temp:\n",
    "    print(i)"
   ]
  },
  {
   "cell_type": "code",
   "execution_count": 53,
   "id": "dbfbc32e",
   "metadata": {},
   "outputs": [
    {
     "data": {
      "text/plain": [
       "<tf.Tensor: shape=(303, 5), dtype=float32, numpy=\n",
       "array([[ 63. , 150. , 145. , 233. ,   2.3],\n",
       "       [ 67. , 108. , 160. , 286. ,   1.5],\n",
       "       [ 67. , 129. , 120. , 229. ,   2.6],\n",
       "       ...,\n",
       "       [ 65. , 127. , 135. , 254. ,   2.8],\n",
       "       [ 48. , 150. , 130. , 256. ,   0. ],\n",
       "       [ 63. , 154. , 150. , 407. ,   4. ]], dtype=float32)>"
      ]
     },
     "execution_count": 53,
     "metadata": {},
     "output_type": "execute_result"
    }
   ],
   "source": [
    "temp"
   ]
  },
  {
   "cell_type": "code",
   "execution_count": 54,
   "id": "d84db8b2",
   "metadata": {},
   "outputs": [],
   "source": [
    "class MyModel(tf.keras.Model):\n",
    "    def __init__(self):\n",
    "        super().__init__(self)\n",
    "        \n",
    "        self.normalizer = Normalization(axis=-1)\n",
    "        \n",
    "        self.seq = Sequential([\n",
    "            self.normalizer,\n",
    "            Dense(10, activation='relu'),\n",
    "            Dense(10, activation='relu'),\n",
    "            Dense(1)\n",
    "        ])\n",
    "        \n",
    "    def adapt(self, inputs):\n",
    "        inputs = stack_dict(inputs)\n",
    "        self.normalizer.adapt(inputs)\n",
    "        \n",
    "    def call(self, inputs):\n",
    "        inputs = stack_dict(inputs)\n",
    "        result = self.seq(inputs)\n",
    "        \n",
    "        return result"
   ]
  },
  {
   "cell_type": "code",
   "execution_count": 56,
   "id": "27984c57",
   "metadata": {},
   "outputs": [
    {
     "name": "stderr",
     "output_type": "stream",
     "text": [
      "2022-07-30 12:07:48.656162: I tensorflow/core/grappler/optimizers/custom_graph_optimizer_registry.cc:113] Plugin optimizer for device_type GPU is enabled.\n",
      "2022-07-30 12:07:48.678578: I tensorflow/core/grappler/optimizers/custom_graph_optimizer_registry.cc:113] Plugin optimizer for device_type GPU is enabled.\n"
     ]
    }
   ],
   "source": [
    "model_general = MyModel()\n",
    "model_general.adapt(dict_numeric_features)\n",
    "model_general.compile(optimizer='adam',\n",
    "                     loss=tf.keras.losses.BinaryCrossentropy(from_logits=True),\n",
    "                     metrics=['accuracy'],\n",
    "                     run_eagerly=True)"
   ]
  },
  {
   "cell_type": "code",
   "execution_count": 69,
   "id": "13010f47",
   "metadata": {},
   "outputs": [
    {
     "data": {
      "text/plain": [
       "{'age': 0    63\n",
       " Name: age, dtype: int64,\n",
       " 'thalach': 0    150\n",
       " Name: thalach, dtype: int64,\n",
       " 'trestbps': 0    145\n",
       " Name: trestbps, dtype: int64,\n",
       " 'chol': 0    233\n",
       " Name: chol, dtype: int64,\n",
       " 'oldpeak': 0    2.3\n",
       " Name: oldpeak, dtype: float64}"
      ]
     },
     "execution_count": 69,
     "metadata": {},
     "output_type": "execute_result"
    }
   ],
   "source": [
    "dict_numeric_one_line = dict(numeric_features.iloc[:1])\n",
    "\n",
    "dict_numeric_one_line"
   ]
  },
  {
   "cell_type": "code",
   "execution_count": 70,
   "id": "11547f58",
   "metadata": {},
   "outputs": [
    {
     "name": "stderr",
     "output_type": "stream",
     "text": [
      "2022-07-30 12:15:13.084610: I tensorflow/core/grappler/optimizers/custom_graph_optimizer_registry.cc:113] Plugin optimizer for device_type GPU is enabled.\n",
      "2022-07-30 12:15:13.106782: I tensorflow/core/grappler/optimizers/custom_graph_optimizer_registry.cc:113] Plugin optimizer for device_type GPU is enabled.\n"
     ]
    }
   ],
   "source": [
    "model_dogs = MyModel()\n",
    "model_dogs.adapt(dict_numeric_one_line)\n",
    "model_dogs.compile(optimizer='adam',\n",
    "                  loss=tf.keras.losses.BinaryCrossentropy(from_logits=True),\n",
    "                  metrics=['accuracy'],\n",
    "                  run_eagerly=True)"
   ]
  },
  {
   "cell_type": "code",
   "execution_count": 72,
   "id": "27f2e16d",
   "metadata": {},
   "outputs": [
    {
     "name": "stdout",
     "output_type": "stream",
     "text": [
      "Epoch 1/5\n",
      "152/152 [==============================] - 4s 23ms/step - loss: 0.6570 - accuracy: 0.7723\n",
      "Epoch 2/5\n",
      "152/152 [==============================] - 3s 21ms/step - loss: 0.5552 - accuracy: 0.7690\n",
      "Epoch 3/5\n",
      "152/152 [==============================] - 3s 21ms/step - loss: 0.4991 - accuracy: 0.7690\n",
      "Epoch 4/5\n",
      "152/152 [==============================] - 3s 22ms/step - loss: 0.4627 - accuracy: 0.7855\n",
      "Epoch 5/5\n",
      "152/152 [==============================] - 3s 22ms/step - loss: 0.4431 - accuracy: 0.7888\n"
     ]
    },
    {
     "data": {
      "text/plain": [
       "<keras.callbacks.History at 0x2bb5f3d30>"
      ]
     },
     "execution_count": 72,
     "metadata": {},
     "output_type": "execute_result"
    }
   ],
   "source": [
    "model_general.fit(dict_numeric_features, target, epochs=5, batch_size=BATCH_SIZE)"
   ]
  },
  {
   "cell_type": "code",
   "execution_count": 75,
   "id": "1bcc46b0",
   "metadata": {},
   "outputs": [
    {
     "name": "stdout",
     "output_type": "stream",
     "text": [
      "Epoch 1/5\n",
      "152/152 [==============================] - 3s 22ms/step - loss: 18971304.0000 - accuracy: 0.4455\n",
      "Epoch 2/5\n",
      "152/152 [==============================] - 3s 21ms/step - loss: 4276564.5000 - accuracy: 0.6205\n",
      "Epoch 3/5\n",
      "152/152 [==============================] - 3s 22ms/step - loss: 3139886.5000 - accuracy: 0.6370\n",
      "Epoch 4/5\n",
      "152/152 [==============================] - 3s 21ms/step - loss: 2368802.7500 - accuracy: 0.6733\n",
      "Epoch 5/5\n",
      "152/152 [==============================] - 3s 22ms/step - loss: 2629194.7500 - accuracy: 0.6766\n"
     ]
    },
    {
     "data": {
      "text/plain": [
       "<keras.callbacks.History at 0x2bf8f99a0>"
      ]
     },
     "execution_count": 75,
     "metadata": {},
     "output_type": "execute_result"
    }
   ],
   "source": [
    "model_dogs.fit(dict_numeric_features, target, epochs=5, batch_size=BATCH_SIZE)"
   ]
  },
  {
   "cell_type": "code",
   "execution_count": 83,
   "id": "8413b54c",
   "metadata": {},
   "outputs": [
    {
     "data": {
      "text/plain": [
       "array([[[-0.19705318]],\n",
       "\n",
       "       [[ 0.60033095]],\n",
       "\n",
       "       [[ 0.24553859]]], dtype=float32)"
      ]
     },
     "execution_count": 83,
     "metadata": {},
     "output_type": "execute_result"
    }
   ],
   "source": [
    "model_general.predict(dict(numeric_features.iloc[:3]))"
   ]
  },
  {
   "cell_type": "code",
   "execution_count": 85,
   "id": "3d879b2f",
   "metadata": {
    "scrolled": true
   },
   "outputs": [
    {
     "data": {
      "text/plain": [
       "array([[[-3.4557015e-01]],\n",
       "\n",
       "       [[-1.0302871e+05]],\n",
       "\n",
       "       [[ 5.4937445e+06]]], dtype=float32)"
      ]
     },
     "execution_count": 85,
     "metadata": {},
     "output_type": "execute_result"
    }
   ],
   "source": [
    "model_dogs.predict(dict(numeric_features.iloc[:3]))"
   ]
  },
  {
   "cell_type": "markdown",
   "id": "913b90c4",
   "metadata": {},
   "source": [
    "2. The keras functional style"
   ]
  },
  {
   "cell_type": "code",
   "execution_count": null,
   "id": "3fc00f4b",
   "metadata": {},
   "outputs": [],
   "source": []
  }
 ],
 "metadata": {
  "kernelspec": {
   "display_name": "tf25",
   "language": "python",
   "name": "tf25"
  },
  "language_info": {
   "codemirror_mode": {
    "name": "ipython",
    "version": 3
   },
   "file_extension": ".py",
   "mimetype": "text/x-python",
   "name": "python",
   "nbconvert_exporter": "python",
   "pygments_lexer": "ipython3",
   "version": "3.8.13"
  }
 },
 "nbformat": 4,
 "nbformat_minor": 5
}
