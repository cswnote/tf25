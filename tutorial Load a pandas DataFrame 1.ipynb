{
 "cells": [
  {
   "cell_type": "code",
   "execution_count": 1,
   "id": "044f59c2",
   "metadata": {},
   "outputs": [],
   "source": [
    "import pandas as pd\n",
    "import numpy as np\n",
    "import tensorflow as tf\n",
    "from tensorflow.keras.layers import Dense, Input, Normalization\n",
    "from tensorflow.keras.models import Sequential, Model"
   ]
  },
  {
   "cell_type": "code",
   "execution_count": 2,
   "id": "4f30a7b6",
   "metadata": {},
   "outputs": [
    {
     "name": "stdout",
     "output_type": "stream",
     "text": [
      "2.8.0\n"
     ]
    }
   ],
   "source": [
    "print(tf.__version__)"
   ]
  },
  {
   "cell_type": "code",
   "execution_count": 3,
   "id": "d13e4962",
   "metadata": {},
   "outputs": [],
   "source": [
    "SHUFFLE_BUFFER = 500\n",
    "BATCH_SIZE = 2"
   ]
  },
  {
   "cell_type": "code",
   "execution_count": 4,
   "id": "f17657a7",
   "metadata": {},
   "outputs": [],
   "source": [
    "csv_file = tf.keras.utils.get_file('heart.csv', 'https://storage.googleapis.com/download.tensorflow.org/data/heart.csv')"
   ]
  },
  {
   "cell_type": "markdown",
   "id": "e55a1b1d",
   "metadata": {},
   "source": [
    "#### Read the CSV file using pandas"
   ]
  },
  {
   "cell_type": "code",
   "execution_count": 5,
   "id": "2faa2a4a",
   "metadata": {},
   "outputs": [],
   "source": [
    "df = pd.read_csv(csv_file)"
   ]
  },
  {
   "cell_type": "code",
   "execution_count": 6,
   "id": "5d2eb4cb",
   "metadata": {
    "scrolled": true
   },
   "outputs": [
    {
     "data": {
      "text/html": [
       "<div>\n",
       "<style scoped>\n",
       "    .dataframe tbody tr th:only-of-type {\n",
       "        vertical-align: middle;\n",
       "    }\n",
       "\n",
       "    .dataframe tbody tr th {\n",
       "        vertical-align: top;\n",
       "    }\n",
       "\n",
       "    .dataframe thead th {\n",
       "        text-align: right;\n",
       "    }\n",
       "</style>\n",
       "<table border=\"1\" class=\"dataframe\">\n",
       "  <thead>\n",
       "    <tr style=\"text-align: right;\">\n",
       "      <th></th>\n",
       "      <th>age</th>\n",
       "      <th>sex</th>\n",
       "      <th>cp</th>\n",
       "      <th>trestbps</th>\n",
       "      <th>chol</th>\n",
       "      <th>fbs</th>\n",
       "      <th>restecg</th>\n",
       "      <th>thalach</th>\n",
       "      <th>exang</th>\n",
       "      <th>oldpeak</th>\n",
       "      <th>slope</th>\n",
       "      <th>ca</th>\n",
       "      <th>thal</th>\n",
       "      <th>target</th>\n",
       "    </tr>\n",
       "  </thead>\n",
       "  <tbody>\n",
       "    <tr>\n",
       "      <th>0</th>\n",
       "      <td>63</td>\n",
       "      <td>1</td>\n",
       "      <td>1</td>\n",
       "      <td>145</td>\n",
       "      <td>233</td>\n",
       "      <td>1</td>\n",
       "      <td>2</td>\n",
       "      <td>150</td>\n",
       "      <td>0</td>\n",
       "      <td>2.3</td>\n",
       "      <td>3</td>\n",
       "      <td>0</td>\n",
       "      <td>fixed</td>\n",
       "      <td>0</td>\n",
       "    </tr>\n",
       "    <tr>\n",
       "      <th>1</th>\n",
       "      <td>67</td>\n",
       "      <td>1</td>\n",
       "      <td>4</td>\n",
       "      <td>160</td>\n",
       "      <td>286</td>\n",
       "      <td>0</td>\n",
       "      <td>2</td>\n",
       "      <td>108</td>\n",
       "      <td>1</td>\n",
       "      <td>1.5</td>\n",
       "      <td>2</td>\n",
       "      <td>3</td>\n",
       "      <td>normal</td>\n",
       "      <td>1</td>\n",
       "    </tr>\n",
       "    <tr>\n",
       "      <th>2</th>\n",
       "      <td>67</td>\n",
       "      <td>1</td>\n",
       "      <td>4</td>\n",
       "      <td>120</td>\n",
       "      <td>229</td>\n",
       "      <td>0</td>\n",
       "      <td>2</td>\n",
       "      <td>129</td>\n",
       "      <td>1</td>\n",
       "      <td>2.6</td>\n",
       "      <td>2</td>\n",
       "      <td>2</td>\n",
       "      <td>reversible</td>\n",
       "      <td>0</td>\n",
       "    </tr>\n",
       "    <tr>\n",
       "      <th>3</th>\n",
       "      <td>37</td>\n",
       "      <td>1</td>\n",
       "      <td>3</td>\n",
       "      <td>130</td>\n",
       "      <td>250</td>\n",
       "      <td>0</td>\n",
       "      <td>0</td>\n",
       "      <td>187</td>\n",
       "      <td>0</td>\n",
       "      <td>3.5</td>\n",
       "      <td>3</td>\n",
       "      <td>0</td>\n",
       "      <td>normal</td>\n",
       "      <td>0</td>\n",
       "    </tr>\n",
       "    <tr>\n",
       "      <th>4</th>\n",
       "      <td>41</td>\n",
       "      <td>0</td>\n",
       "      <td>2</td>\n",
       "      <td>130</td>\n",
       "      <td>204</td>\n",
       "      <td>0</td>\n",
       "      <td>2</td>\n",
       "      <td>172</td>\n",
       "      <td>0</td>\n",
       "      <td>1.4</td>\n",
       "      <td>1</td>\n",
       "      <td>0</td>\n",
       "      <td>normal</td>\n",
       "      <td>0</td>\n",
       "    </tr>\n",
       "  </tbody>\n",
       "</table>\n",
       "</div>"
      ],
      "text/plain": [
       "   age  sex  cp  trestbps  chol  fbs  restecg  thalach  exang  oldpeak  slope  \\\n",
       "0   63    1   1       145   233    1        2      150      0      2.3      3   \n",
       "1   67    1   4       160   286    0        2      108      1      1.5      2   \n",
       "2   67    1   4       120   229    0        2      129      1      2.6      2   \n",
       "3   37    1   3       130   250    0        0      187      0      3.5      3   \n",
       "4   41    0   2       130   204    0        2      172      0      1.4      1   \n",
       "\n",
       "   ca        thal  target  \n",
       "0   0       fixed       0  \n",
       "1   3      normal       1  \n",
       "2   2  reversible       0  \n",
       "3   0      normal       0  \n",
       "4   0      normal       0  "
      ]
     },
     "execution_count": 6,
     "metadata": {},
     "output_type": "execute_result"
    }
   ],
   "source": [
    "df.head()"
   ]
  },
  {
   "cell_type": "markdown",
   "id": "f1a52d9f",
   "metadata": {},
   "source": [
    "If label data is not devided in data, devide label data and train data"
   ]
  },
  {
   "cell_type": "code",
   "execution_count": 7,
   "id": "e2e200fc",
   "metadata": {},
   "outputs": [
    {
     "data": {
      "text/plain": [
       "age           int64\n",
       "sex           int64\n",
       "cp            int64\n",
       "trestbps      int64\n",
       "chol          int64\n",
       "fbs           int64\n",
       "restecg       int64\n",
       "thalach       int64\n",
       "exang         int64\n",
       "oldpeak     float64\n",
       "slope         int64\n",
       "ca            int64\n",
       "thal         object\n",
       "target        int64\n",
       "dtype: object"
      ]
     },
     "execution_count": 7,
     "metadata": {},
     "output_type": "execute_result"
    }
   ],
   "source": [
    "df.dtypes"
   ]
  },
  {
   "cell_type": "code",
   "execution_count": 8,
   "id": "09c5a8b3",
   "metadata": {},
   "outputs": [],
   "source": [
    "target = df.pop('target')"
   ]
  },
  {
   "cell_type": "markdown",
   "id": "e28847f6",
   "metadata": {},
   "source": [
    "###### distinguish numeric data which is not categorical\n",
    "age, trestbps, chol, thalach, oldpeak"
   ]
  },
  {
   "cell_type": "code",
   "execution_count": 9,
   "id": "3c15b2ed",
   "metadata": {},
   "outputs": [
    {
     "name": "stdout",
     "output_type": "stream",
     "text": [
      "age\n",
      "[63 67 37 41 56 62 57 53 44 52 48 54 49 64 58 60 50 66 43 40 69 59 42 55\n",
      " 61 65 51 45 39 68 47 35 29 70 46 77 38 34 74 76 71]\n",
      "41\n",
      "==================================================================================\n",
      "sex\n",
      "[1 0]\n",
      "2\n",
      "==================================================================================\n",
      "cp\n",
      "[1 4 3 2 0]\n",
      "5\n",
      "==================================================================================\n",
      "trestbps\n",
      "[145 160 120 130 140 172 150 110 132 117 135 155 125 104 180 138 108 128\n",
      " 100 200 124  94 122 170 105 165 112 102 152 115 118 101 126 142 174 134\n",
      " 148 178 158 192 129 144 123 136 146 106 156 154 114 164]\n",
      "50\n",
      "==================================================================================\n",
      "chol\n",
      "[233 286 229 250 204 236 268 354 254 203 192 294 256 263 199 168 239 275\n",
      " 266 211 283 284 224 206 219 340 226 247 167 230 335 234 177 276 353 243\n",
      " 225 269 267 248 197 360 258 308 245 270 208 264 321 274 325 235 257 302\n",
      " 164 231 141 252 255 183 330 222 217 282 288 220 209 227 261 213 174 281\n",
      " 198 221 205 309 240 289 318 298 265 564 246 322 299 300 293 277 304 214\n",
      " 207 160 249 394 212 184 315 409 244 305 195 196 273 126 313 259 200 262\n",
      " 215 228 193 303 271 210 327 149 201 295 306 178 237 218 223 242 319 166\n",
      " 180 311 278 232 253 342 169 187 157 176 241 131 175 417 290 172 216 188\n",
      " 185 326 260 182 307 186 341 407]\n",
      "152\n",
      "==================================================================================\n",
      "fbs\n",
      "[1 0]\n",
      "2\n",
      "==================================================================================\n",
      "restecg\n",
      "[2 0 1]\n",
      "3\n",
      "==================================================================================\n",
      "thalach\n",
      "[150 108 129 187 172 178 160 163 147 155 148 153 142 173 162 174 168 139\n",
      " 171 144 132 158 114 151 161 179 120 112 137  99 177 141 180 111 143 182\n",
      " 156 149 145 146 175  97 165 133 126 170 154 202 186 125 103 130 166 164\n",
      " 159 184 131 152 124 122  96 109 138 157  88 105 194 195 106 115 167  95\n",
      " 169 192 117 121 116  71 118 140 181 134 136  90 123 128 188 113 185 190\n",
      " 127]\n",
      "91\n",
      "==================================================================================\n",
      "exang\n",
      "[0 1]\n",
      "2\n",
      "==================================================================================\n",
      "oldpeak\n",
      "[2.3 1.5 2.6 3.5 1.4 0.8 3.6 0.6 3.1 0.4 1.3 0.  0.5 1.6 1.  1.2 0.2 1.8\n",
      " 3.2 2.4 2.  2.5 2.8 3.  6.2 5.6 4.  2.2 2.9 0.1 2.1 1.9 4.2 0.9 1.1 3.8\n",
      " 0.7 3.4 0.3 4.4]\n",
      "40\n",
      "==================================================================================\n",
      "slope\n",
      "[3 2 1]\n",
      "3\n",
      "==================================================================================\n",
      "ca\n",
      "[0 3 2 1]\n",
      "4\n",
      "==================================================================================\n",
      "thal\n",
      "['fixed' 'normal' 'reversible' '1' '2']\n",
      "5\n",
      "==================================================================================\n"
     ]
    }
   ],
   "source": [
    "for name, values in df.items():\n",
    "    print(name)\n",
    "    print(df[name].unique())\n",
    "    print(df[name].nunique())\n",
    "    print('==================================================================================')"
   ]
  },
  {
   "cell_type": "code",
   "execution_count": 10,
   "id": "215877a1",
   "metadata": {},
   "outputs": [
    {
     "data": {
      "text/html": [
       "<div>\n",
       "<style scoped>\n",
       "    .dataframe tbody tr th:only-of-type {\n",
       "        vertical-align: middle;\n",
       "    }\n",
       "\n",
       "    .dataframe tbody tr th {\n",
       "        vertical-align: top;\n",
       "    }\n",
       "\n",
       "    .dataframe thead th {\n",
       "        text-align: right;\n",
       "    }\n",
       "</style>\n",
       "<table border=\"1\" class=\"dataframe\">\n",
       "  <thead>\n",
       "    <tr style=\"text-align: right;\">\n",
       "      <th></th>\n",
       "      <th>age</th>\n",
       "      <th>thalach</th>\n",
       "      <th>trestbps</th>\n",
       "      <th>chol</th>\n",
       "      <th>oldpeak</th>\n",
       "    </tr>\n",
       "  </thead>\n",
       "  <tbody>\n",
       "    <tr>\n",
       "      <th>0</th>\n",
       "      <td>63</td>\n",
       "      <td>150</td>\n",
       "      <td>145</td>\n",
       "      <td>233</td>\n",
       "      <td>2.3</td>\n",
       "    </tr>\n",
       "    <tr>\n",
       "      <th>1</th>\n",
       "      <td>67</td>\n",
       "      <td>108</td>\n",
       "      <td>160</td>\n",
       "      <td>286</td>\n",
       "      <td>1.5</td>\n",
       "    </tr>\n",
       "    <tr>\n",
       "      <th>2</th>\n",
       "      <td>67</td>\n",
       "      <td>129</td>\n",
       "      <td>120</td>\n",
       "      <td>229</td>\n",
       "      <td>2.6</td>\n",
       "    </tr>\n",
       "    <tr>\n",
       "      <th>3</th>\n",
       "      <td>37</td>\n",
       "      <td>187</td>\n",
       "      <td>130</td>\n",
       "      <td>250</td>\n",
       "      <td>3.5</td>\n",
       "    </tr>\n",
       "    <tr>\n",
       "      <th>4</th>\n",
       "      <td>41</td>\n",
       "      <td>172</td>\n",
       "      <td>130</td>\n",
       "      <td>204</td>\n",
       "      <td>1.4</td>\n",
       "    </tr>\n",
       "  </tbody>\n",
       "</table>\n",
       "</div>"
      ],
      "text/plain": [
       "   age  thalach  trestbps  chol  oldpeak\n",
       "0   63      150       145   233      2.3\n",
       "1   67      108       160   286      1.5\n",
       "2   67      129       120   229      2.6\n",
       "3   37      187       130   250      3.5\n",
       "4   41      172       130   204      1.4"
      ]
     },
     "execution_count": 10,
     "metadata": {},
     "output_type": "execute_result"
    }
   ],
   "source": [
    "numeric_features_names = ['age', 'thalach', 'trestbps', 'chol', 'oldpeak']\n",
    "numeric_features = df[numeric_features_names]\n",
    "numeric_features.head()"
   ]
  },
  {
   "cell_type": "code",
   "execution_count": 11,
   "id": "799da177",
   "metadata": {
    "scrolled": true
   },
   "outputs": [
    {
     "name": "stdout",
     "output_type": "stream",
     "text": [
      "Metal device set to: Apple M1\n"
     ]
    },
    {
     "name": "stderr",
     "output_type": "stream",
     "text": [
      "2022-08-04 08:28:02.211261: I tensorflow/core/common_runtime/pluggable_device/pluggable_device_factory.cc:305] Could not identify NUMA node of platform GPU ID 0, defaulting to 0. Your kernel may not have been built with NUMA support.\n",
      "2022-08-04 08:28:02.211486: I tensorflow/core/common_runtime/pluggable_device/pluggable_device_factory.cc:271] Created TensorFlow device (/job:localhost/replica:0/task:0/device:GPU:0 with 0 MB memory) -> physical PluggableDevice (device: 0, name: METAL, pci bus id: <undefined>)\n"
     ]
    },
    {
     "data": {
      "text/plain": [
       "<tf.Tensor: shape=(303, 5), dtype=float64, numpy=\n",
       "array([[ 63. , 150. , 145. , 233. ,   2.3],\n",
       "       [ 67. , 108. , 160. , 286. ,   1.5],\n",
       "       [ 67. , 129. , 120. , 229. ,   2.6],\n",
       "       ...,\n",
       "       [ 65. , 127. , 135. , 254. ,   2.8],\n",
       "       [ 48. , 150. , 130. , 256. ,   0. ],\n",
       "       [ 63. , 154. , 150. , 407. ,   4. ]])>"
      ]
     },
     "execution_count": 11,
     "metadata": {},
     "output_type": "execute_result"
    }
   ],
   "source": [
    " tf.convert_to_tensor(numeric_features)"
   ]
  },
  {
   "cell_type": "markdown",
   "id": "b135c059",
   "metadata": {},
   "source": [
    "##### With model.fit"
   ]
  },
  {
   "cell_type": "code",
   "execution_count": 12,
   "id": "91351ddd",
   "metadata": {
    "scrolled": true
   },
   "outputs": [
    {
     "name": "stderr",
     "output_type": "stream",
     "text": [
      "2022-08-04 08:28:04.728555: W tensorflow/core/platform/profile_utils/cpu_utils.cc:128] Failed to get CPU frequency: 0 Hz\n",
      "2022-08-04 08:28:04.784558: I tensorflow/core/grappler/optimizers/custom_graph_optimizer_registry.cc:113] Plugin optimizer for device_type GPU is enabled.\n",
      "2022-08-04 08:28:04.799277: I tensorflow/core/grappler/optimizers/custom_graph_optimizer_registry.cc:113] Plugin optimizer for device_type GPU is enabled.\n"
     ]
    },
    {
     "data": {
      "text/plain": [
       "<tf.Tensor: shape=(3, 5), dtype=float32, numpy=\n",
       "array([[ 0.933839  ,  0.03480718,  0.7457807 , -0.26008663,  1.0680454 ],\n",
       "       [ 1.3782104 , -1.7806164 ,  1.5923283 ,  0.75738764,  0.38022867],\n",
       "       [ 1.3782104 , -0.87290466, -0.66513205, -0.33687714,  1.3259766 ]],\n",
       "      dtype=float32)>"
      ]
     },
     "execution_count": 12,
     "metadata": {},
     "output_type": "execute_result"
    }
   ],
   "source": [
    "normalizer = Normalization(axis=-1)\n",
    "normalizer.adapt(numeric_features)\n",
    "normalizer(numeric_features.iloc[:3])"
   ]
  },
  {
   "cell_type": "code",
   "execution_count": 13,
   "id": "dc8392e5",
   "metadata": {},
   "outputs": [
    {
     "ename": "ValueError",
     "evalue": "in user code:\n\n    File \"/Users/rainyseason/miniforge3/envs/tf25/lib/python3.8/site-packages/keras/engine/base_preprocessing_layer.py\", line 117, in adapt_step  *\n        self._adapt_maybe_build(data)\n    File \"/Users/rainyseason/miniforge3/envs/tf25/lib/python3.8/site-packages/keras/engine/base_preprocessing_layer.py\", line 285, in _adapt_maybe_build  **\n        self.build(data_shape)\n    File \"/Users/rainyseason/miniforge3/envs/tf25/lib/python3.8/site-packages/keras/layers/preprocessing/normalization.py\", line 150, in build\n        raise ValueError(\n\n    ValueError: All `axis` values to be kept must have known shape. Got axis: (0,), input shape: [None, 5], with unknown axis at index: 0\n",
     "output_type": "error",
     "traceback": [
      "\u001b[0;31m---------------------------------------------------------------------------\u001b[0m",
      "\u001b[0;31mValueError\u001b[0m                                Traceback (most recent call last)",
      "Input \u001b[0;32mIn [13]\u001b[0m, in \u001b[0;36m<cell line: 2>\u001b[0;34m()\u001b[0m\n\u001b[1;32m      1\u001b[0m normalizer_axis0 \u001b[38;5;241m=\u001b[39m Normalization(axis\u001b[38;5;241m=\u001b[39m\u001b[38;5;241m0\u001b[39m)\n\u001b[0;32m----> 2\u001b[0m \u001b[43mnormalizer_axis0\u001b[49m\u001b[38;5;241;43m.\u001b[39;49m\u001b[43madapt\u001b[49m\u001b[43m(\u001b[49m\u001b[43mnumeric_features\u001b[49m\u001b[43m)\u001b[49m\n",
      "File \u001b[0;32m~/miniforge3/envs/tf25/lib/python3.8/site-packages/keras/layers/preprocessing/normalization.py:242\u001b[0m, in \u001b[0;36mNormalization.adapt\u001b[0;34m(self, data, batch_size, steps)\u001b[0m\n\u001b[1;32m    197\u001b[0m \u001b[38;5;28;01mdef\u001b[39;00m \u001b[38;5;21madapt\u001b[39m(\u001b[38;5;28mself\u001b[39m, data, batch_size\u001b[38;5;241m=\u001b[39m\u001b[38;5;28;01mNone\u001b[39;00m, steps\u001b[38;5;241m=\u001b[39m\u001b[38;5;28;01mNone\u001b[39;00m):\n\u001b[1;32m    198\u001b[0m   \u001b[38;5;124;03m\"\"\"Computes the mean and variance of values in a dataset.\u001b[39;00m\n\u001b[1;32m    199\u001b[0m \n\u001b[1;32m    200\u001b[0m \u001b[38;5;124;03m  Calling `adapt()` on a `Normalization` layer is an alternative to passing in\u001b[39;00m\n\u001b[0;32m   (...)\u001b[0m\n\u001b[1;32m    240\u001b[0m \u001b[38;5;124;03m        argument is not supported with array inputs.\u001b[39;00m\n\u001b[1;32m    241\u001b[0m \u001b[38;5;124;03m  \"\"\"\u001b[39;00m\n\u001b[0;32m--> 242\u001b[0m   \u001b[38;5;28;43msuper\u001b[39;49m\u001b[43m(\u001b[49m\u001b[43m)\u001b[49m\u001b[38;5;241;43m.\u001b[39;49m\u001b[43madapt\u001b[49m\u001b[43m(\u001b[49m\u001b[43mdata\u001b[49m\u001b[43m,\u001b[49m\u001b[43m \u001b[49m\u001b[43mbatch_size\u001b[49m\u001b[38;5;241;43m=\u001b[39;49m\u001b[43mbatch_size\u001b[49m\u001b[43m,\u001b[49m\u001b[43m \u001b[49m\u001b[43msteps\u001b[49m\u001b[38;5;241;43m=\u001b[39;49m\u001b[43msteps\u001b[49m\u001b[43m)\u001b[49m\n",
      "File \u001b[0;32m~/miniforge3/envs/tf25/lib/python3.8/site-packages/keras/engine/base_preprocessing_layer.py:249\u001b[0m, in \u001b[0;36mPreprocessingLayer.adapt\u001b[0;34m(self, data, batch_size, steps)\u001b[0m\n\u001b[1;32m    247\u001b[0m \u001b[38;5;28;01mwith\u001b[39;00m data_handler\u001b[38;5;241m.\u001b[39mcatch_stop_iteration():\n\u001b[1;32m    248\u001b[0m   \u001b[38;5;28;01mfor\u001b[39;00m _ \u001b[38;5;129;01min\u001b[39;00m data_handler\u001b[38;5;241m.\u001b[39msteps():\n\u001b[0;32m--> 249\u001b[0m     \u001b[38;5;28;43mself\u001b[39;49m\u001b[38;5;241;43m.\u001b[39;49m\u001b[43m_adapt_function\u001b[49m\u001b[43m(\u001b[49m\u001b[43miterator\u001b[49m\u001b[43m)\u001b[49m\n\u001b[1;32m    250\u001b[0m     \u001b[38;5;28;01mif\u001b[39;00m data_handler\u001b[38;5;241m.\u001b[39mshould_sync:\n\u001b[1;32m    251\u001b[0m       context\u001b[38;5;241m.\u001b[39masync_wait()\n",
      "File \u001b[0;32m~/miniforge3/envs/tf25/lib/python3.8/site-packages/tensorflow/python/util/traceback_utils.py:153\u001b[0m, in \u001b[0;36mfilter_traceback.<locals>.error_handler\u001b[0;34m(*args, **kwargs)\u001b[0m\n\u001b[1;32m    151\u001b[0m \u001b[38;5;28;01mexcept\u001b[39;00m \u001b[38;5;167;01mException\u001b[39;00m \u001b[38;5;28;01mas\u001b[39;00m e:\n\u001b[1;32m    152\u001b[0m   filtered_tb \u001b[38;5;241m=\u001b[39m _process_traceback_frames(e\u001b[38;5;241m.\u001b[39m__traceback__)\n\u001b[0;32m--> 153\u001b[0m   \u001b[38;5;28;01mraise\u001b[39;00m e\u001b[38;5;241m.\u001b[39mwith_traceback(filtered_tb) \u001b[38;5;28;01mfrom\u001b[39;00m \u001b[38;5;28mNone\u001b[39m\n\u001b[1;32m    154\u001b[0m \u001b[38;5;28;01mfinally\u001b[39;00m:\n\u001b[1;32m    155\u001b[0m   \u001b[38;5;28;01mdel\u001b[39;00m filtered_tb\n",
      "File \u001b[0;32m~/miniforge3/envs/tf25/lib/python3.8/site-packages/tensorflow/python/framework/func_graph.py:1147\u001b[0m, in \u001b[0;36mfunc_graph_from_py_func.<locals>.autograph_handler\u001b[0;34m(*args, **kwargs)\u001b[0m\n\u001b[1;32m   1145\u001b[0m \u001b[38;5;28;01mexcept\u001b[39;00m \u001b[38;5;167;01mException\u001b[39;00m \u001b[38;5;28;01mas\u001b[39;00m e:  \u001b[38;5;66;03m# pylint:disable=broad-except\u001b[39;00m\n\u001b[1;32m   1146\u001b[0m   \u001b[38;5;28;01mif\u001b[39;00m \u001b[38;5;28mhasattr\u001b[39m(e, \u001b[38;5;124m\"\u001b[39m\u001b[38;5;124mag_error_metadata\u001b[39m\u001b[38;5;124m\"\u001b[39m):\n\u001b[0;32m-> 1147\u001b[0m     \u001b[38;5;28;01mraise\u001b[39;00m e\u001b[38;5;241m.\u001b[39mag_error_metadata\u001b[38;5;241m.\u001b[39mto_exception(e)\n\u001b[1;32m   1148\u001b[0m   \u001b[38;5;28;01melse\u001b[39;00m:\n\u001b[1;32m   1149\u001b[0m     \u001b[38;5;28;01mraise\u001b[39;00m\n",
      "\u001b[0;31mValueError\u001b[0m: in user code:\n\n    File \"/Users/rainyseason/miniforge3/envs/tf25/lib/python3.8/site-packages/keras/engine/base_preprocessing_layer.py\", line 117, in adapt_step  *\n        self._adapt_maybe_build(data)\n    File \"/Users/rainyseason/miniforge3/envs/tf25/lib/python3.8/site-packages/keras/engine/base_preprocessing_layer.py\", line 285, in _adapt_maybe_build  **\n        self.build(data_shape)\n    File \"/Users/rainyseason/miniforge3/envs/tf25/lib/python3.8/site-packages/keras/layers/preprocessing/normalization.py\", line 150, in build\n        raise ValueError(\n\n    ValueError: All `axis` values to be kept must have known shape. Got axis: (0,), input shape: [None, 5], with unknown axis at index: 0\n"
     ]
    }
   ],
   "source": [
    "normalizer_axis0 = Normalization(axis=0)\n",
    "normalizer_axis0.adapt(numeric_features)\n",
    "\n",
    "# ValueError: All `axis` values to be kept must have known shape. \n",
    "# Got axis: (0,), input shape: [None, 5], with unknown axis at index: 0\n",
    "\n",
    "# why is input shape None........\n",
    "# numeric_features shape is [303, 5], \n",
    "# tf.convert_to_tensor(numeric_features) shape is [303, 5]"
   ]
  },
  {
   "cell_type": "code",
   "execution_count": 14,
   "id": "f263f04d",
   "metadata": {},
   "outputs": [],
   "source": [
    "a = [[ 0.933839  ,  0.03480718,  0.7457807 , -0.26008663,  1.0680454 ]]\n",
    "# a = tf.convert_to_tensor(a, dtype=tf.float32)"
   ]
  },
  {
   "cell_type": "code",
   "execution_count": 15,
   "id": "177eb9ba",
   "metadata": {},
   "outputs": [
    {
     "name": "stderr",
     "output_type": "stream",
     "text": [
      "2022-08-04 08:28:24.321396: I tensorflow/core/grappler/optimizers/custom_graph_optimizer_registry.cc:113] Plugin optimizer for device_type GPU is enabled.\n",
      "2022-08-04 08:28:24.335470: I tensorflow/core/grappler/optimizers/custom_graph_optimizer_registry.cc:113] Plugin optimizer for device_type GPU is enabled.\n"
     ]
    },
    {
     "data": {
      "text/plain": [
       "<tf.Tensor: shape=(3, 5), dtype=float32, numpy=\n",
       "array([[6.2066163e+08, 1.4996520e+09, 1.4425422e+09, 2.3326008e+09,\n",
       "        1.2319546e+07],\n",
       "       [6.6066163e+08, 1.0796520e+09, 1.5925422e+09, 2.8626010e+09,\n",
       "        4.3195460e+06],\n",
       "       [6.6066163e+08, 1.2896520e+09, 1.1925422e+09, 2.2926008e+09,\n",
       "        1.5319545e+07]], dtype=float32)>"
      ]
     },
     "execution_count": 15,
     "metadata": {},
     "output_type": "execute_result"
    }
   ],
   "source": [
    "normalizer_dogs = Normalization(axis=-1)\n",
    "normalizer_dogs.adapt(a)\n",
    "normalizer_dogs(numeric_features.iloc[:3])\n",
    "\n",
    "# ValueError: All `axis` values to be kept must have known shape. \n",
    "# Got axis: (0,), input shape: [None, 5], with unknown axis at index: 0\n",
    "\n",
    "# why is input shape None........\n",
    "# numeric_features shape is [303, 5], \n",
    "# tf.convert_to_tensor(numeric_features) shape is [303, 5]"
   ]
  },
  {
   "cell_type": "code",
   "execution_count": 16,
   "id": "1de6f094",
   "metadata": {},
   "outputs": [],
   "source": [
    "def get_basic_model():\n",
    "    model = Sequential([\n",
    "        normalizer,\n",
    "        Dense(10, activation='relu'),\n",
    "        Dense(10, activation='relu'),\n",
    "        Dense(1)\n",
    "    ])\n",
    "    \n",
    "    model.compile(optimizer='adam',\n",
    "                 loss=tf.keras.losses.BinaryCrossentropy(from_logits=True),\n",
    "                 metrics=['accuracy'])\n",
    "    \n",
    "    return model\n",
    "\n",
    "def get_dogs_model():\n",
    "    model = Sequential([\n",
    "        normalizer_dogs,\n",
    "        Dense(10, activation='relu'),\n",
    "        Dense(10, activation='relu'),\n",
    "        Dense(1)\n",
    "    ])\n",
    "    \n",
    "    model.compile(optimizer='adam',\n",
    "                 loss=tf.keras.losses.BinaryCrossentropy(from_logits=True),\n",
    "                 metrics=['accuracy'])\n",
    "    \n",
    "    return model"
   ]
  },
  {
   "cell_type": "code",
   "execution_count": 17,
   "id": "d09559ec",
   "metadata": {},
   "outputs": [
    {
     "name": "stdout",
     "output_type": "stream",
     "text": [
      "Epoch 1/15\n",
      "  1/152 [..............................] - ETA: 47s - loss: 0.8280 - accuracy: 1.0000"
     ]
    },
    {
     "name": "stderr",
     "output_type": "stream",
     "text": [
      "2022-08-04 08:28:50.040073: I tensorflow/core/grappler/optimizers/custom_graph_optimizer_registry.cc:113] Plugin optimizer for device_type GPU is enabled.\n"
     ]
    },
    {
     "name": "stdout",
     "output_type": "stream",
     "text": [
      "152/152 [==============================] - 1s 6ms/step - loss: 0.6757 - accuracy: 0.6832\n",
      "Epoch 2/15\n",
      "152/152 [==============================] - 1s 5ms/step - loss: 0.5322 - accuracy: 0.7294\n",
      "Epoch 3/15\n",
      "152/152 [==============================] - 1s 5ms/step - loss: 0.4909 - accuracy: 0.7294\n",
      "Epoch 4/15\n",
      "152/152 [==============================] - 1s 5ms/step - loss: 0.4746 - accuracy: 0.7360\n",
      "Epoch 5/15\n",
      "152/152 [==============================] - 1s 5ms/step - loss: 0.4636 - accuracy: 0.7393\n",
      "Epoch 6/15\n",
      "152/152 [==============================] - 1s 5ms/step - loss: 0.4560 - accuracy: 0.7360\n",
      "Epoch 7/15\n",
      "152/152 [==============================] - 1s 5ms/step - loss: 0.4506 - accuracy: 0.7624\n",
      "Epoch 8/15\n",
      "152/152 [==============================] - 1s 5ms/step - loss: 0.4461 - accuracy: 0.7723\n",
      "Epoch 9/15\n",
      "152/152 [==============================] - 1s 5ms/step - loss: 0.4420 - accuracy: 0.7690\n",
      "Epoch 10/15\n",
      "152/152 [==============================] - 1s 5ms/step - loss: 0.4376 - accuracy: 0.7855\n",
      "Epoch 11/15\n",
      "152/152 [==============================] - 1s 5ms/step - loss: 0.4360 - accuracy: 0.7888\n",
      "Epoch 12/15\n",
      "152/152 [==============================] - 1s 5ms/step - loss: 0.4313 - accuracy: 0.7888\n",
      "Epoch 13/15\n",
      "152/152 [==============================] - 1s 5ms/step - loss: 0.4295 - accuracy: 0.7888\n",
      "Epoch 14/15\n",
      "152/152 [==============================] - 1s 5ms/step - loss: 0.4279 - accuracy: 0.8020\n",
      "Epoch 15/15\n",
      "152/152 [==============================] - 1s 5ms/step - loss: 0.4258 - accuracy: 0.7954\n"
     ]
    },
    {
     "data": {
      "text/plain": [
       "<keras.callbacks.History at 0x166fc1850>"
      ]
     },
     "execution_count": 17,
     "metadata": {},
     "output_type": "execute_result"
    }
   ],
   "source": [
    "model = get_basic_model()\n",
    "model.fit(numeric_features, target, epochs=15, batch_size=BATCH_SIZE)"
   ]
  },
  {
   "cell_type": "code",
   "execution_count": 18,
   "id": "26421755",
   "metadata": {},
   "outputs": [
    {
     "name": "stdout",
     "output_type": "stream",
     "text": [
      "Epoch 1/15\n",
      " 20/152 [==>...........................] - ETA: 0s - loss: 224133552.0000 - accuracy: 0.3250   "
     ]
    },
    {
     "name": "stderr",
     "output_type": "stream",
     "text": [
      "2022-08-04 08:29:02.446770: I tensorflow/core/grappler/optimizers/custom_graph_optimizer_registry.cc:113] Plugin optimizer for device_type GPU is enabled.\n"
     ]
    },
    {
     "name": "stdout",
     "output_type": "stream",
     "text": [
      "152/152 [==============================] - 1s 5ms/step - loss: 44790272.0000 - accuracy: 0.5677\n",
      "Epoch 2/15\n",
      "152/152 [==============================] - 1s 5ms/step - loss: 9824284.0000 - accuracy: 0.6040\n",
      "Epoch 3/15\n",
      "152/152 [==============================] - 1s 5ms/step - loss: 7207422.5000 - accuracy: 0.6568\n",
      "Epoch 4/15\n",
      "152/152 [==============================] - 1s 5ms/step - loss: 5669868.5000 - accuracy: 0.6799\n",
      "Epoch 5/15\n",
      "152/152 [==============================] - 1s 6ms/step - loss: 4503743.5000 - accuracy: 0.6964\n",
      "Epoch 6/15\n",
      "152/152 [==============================] - 1s 5ms/step - loss: 4061861.7500 - accuracy: 0.6997\n",
      "Epoch 7/15\n",
      "152/152 [==============================] - 1s 5ms/step - loss: 3635264.0000 - accuracy: 0.7030\n",
      "Epoch 8/15\n",
      "152/152 [==============================] - 1s 5ms/step - loss: 3395364.7500 - accuracy: 0.7393\n",
      "Epoch 9/15\n",
      "152/152 [==============================] - 1s 5ms/step - loss: 3893326.2500 - accuracy: 0.7327\n",
      "Epoch 10/15\n",
      "152/152 [==============================] - 1s 5ms/step - loss: 3758283.7500 - accuracy: 0.6997\n",
      "Epoch 11/15\n",
      "152/152 [==============================] - 1s 5ms/step - loss: 3345201.5000 - accuracy: 0.7228\n",
      "Epoch 12/15\n",
      "152/152 [==============================] - 1s 5ms/step - loss: 3265425.0000 - accuracy: 0.6964\n",
      "Epoch 13/15\n",
      "152/152 [==============================] - 1s 6ms/step - loss: 3262196.5000 - accuracy: 0.7525\n",
      "Epoch 14/15\n",
      "152/152 [==============================] - 1s 5ms/step - loss: 2746420.7500 - accuracy: 0.7459\n",
      "Epoch 15/15\n",
      "152/152 [==============================] - 1s 6ms/step - loss: 3269008.5000 - accuracy: 0.7327\n"
     ]
    },
    {
     "data": {
      "text/plain": [
       "<keras.callbacks.History at 0x169b15d90>"
      ]
     },
     "execution_count": 18,
     "metadata": {},
     "output_type": "execute_result"
    }
   ],
   "source": [
    "model_dogs = get_dogs_model()\n",
    "model_dogs.fit(numeric_features, target, epochs=15, batch_size=BATCH_SIZE)"
   ]
  },
  {
   "cell_type": "markdown",
   "id": "68c49d24",
   "metadata": {},
   "source": [
    "##### With tf.data"
   ]
  },
  {
   "cell_type": "code",
   "execution_count": 19,
   "id": "9746c553",
   "metadata": {},
   "outputs": [
    {
     "name": "stdout",
     "output_type": "stream",
     "text": [
      "(<tf.Tensor: shape=(5,), dtype=float64, numpy=array([ 63. , 150. , 145. , 233. ,   2.3])>, <tf.Tensor: shape=(), dtype=int64, numpy=0>)\n",
      "(<tf.Tensor: shape=(5,), dtype=float64, numpy=array([ 67. , 108. , 160. , 286. ,   1.5])>, <tf.Tensor: shape=(), dtype=int64, numpy=1>)\n",
      "(<tf.Tensor: shape=(5,), dtype=float64, numpy=array([ 67. , 129. , 120. , 229. ,   2.6])>, <tf.Tensor: shape=(), dtype=int64, numpy=0>)\n"
     ]
    }
   ],
   "source": [
    "numeric_dataset = tf.data.Dataset.from_tensor_slices((numeric_features, target))\n",
    "\n",
    "for row in numeric_dataset.take(3):\n",
    "    print(row)"
   ]
  },
  {
   "cell_type": "code",
   "execution_count": 22,
   "id": "fde95196",
   "metadata": {
    "collapsed": true
   },
   "outputs": [
    {
     "name": "stdout",
     "output_type": "stream",
     "text": [
      "Epoch 1/15\n",
      " 20/152 [==>...........................] - ETA: 0s - loss: 0.7353 - accuracy: 0.7500"
     ]
    },
    {
     "name": "stderr",
     "output_type": "stream",
     "text": [
      "2022-08-04 08:33:24.470384: I tensorflow/core/grappler/optimizers/custom_graph_optimizer_registry.cc:113] Plugin optimizer for device_type GPU is enabled.\n"
     ]
    },
    {
     "name": "stdout",
     "output_type": "stream",
     "text": [
      "152/152 [==============================] - 1s 6ms/step - loss: 0.6648 - accuracy: 0.7690\n",
      "Epoch 2/15\n",
      "152/152 [==============================] - 1s 5ms/step - loss: 0.5582 - accuracy: 0.7624\n",
      "Epoch 3/15\n",
      "152/152 [==============================] - 1s 5ms/step - loss: 0.5005 - accuracy: 0.7723\n",
      "Epoch 4/15\n",
      "152/152 [==============================] - 1s 5ms/step - loss: 0.4637 - accuracy: 0.7756\n",
      "Epoch 5/15\n",
      "152/152 [==============================] - 1s 5ms/step - loss: 0.4452 - accuracy: 0.7822\n",
      "Epoch 6/15\n",
      "152/152 [==============================] - 1s 5ms/step - loss: 0.4359 - accuracy: 0.7954\n",
      "Epoch 7/15\n",
      "152/152 [==============================] - 1s 5ms/step - loss: 0.4308 - accuracy: 0.7822\n",
      "Epoch 8/15\n",
      "152/152 [==============================] - 1s 5ms/step - loss: 0.4289 - accuracy: 0.7888\n",
      "Epoch 9/15\n",
      "152/152 [==============================] - 1s 5ms/step - loss: 0.4251 - accuracy: 0.7822\n",
      "Epoch 10/15\n",
      "152/152 [==============================] - 1s 5ms/step - loss: 0.4244 - accuracy: 0.7855\n",
      "Epoch 11/15\n",
      "152/152 [==============================] - 1s 5ms/step - loss: 0.4198 - accuracy: 0.7822\n",
      "Epoch 12/15\n",
      "152/152 [==============================] - 1s 5ms/step - loss: 0.4198 - accuracy: 0.7888\n",
      "Epoch 13/15\n",
      "152/152 [==============================] - 1s 5ms/step - loss: 0.4185 - accuracy: 0.7855\n",
      "Epoch 14/15\n",
      "152/152 [==============================] - 1s 5ms/step - loss: 0.4169 - accuracy: 0.7822\n",
      "Epoch 15/15\n",
      "152/152 [==============================] - 1s 5ms/step - loss: 0.4157 - accuracy: 0.7855\n"
     ]
    },
    {
     "data": {
      "text/plain": [
       "<keras.callbacks.History at 0x16b790a60>"
      ]
     },
     "execution_count": 22,
     "metadata": {},
     "output_type": "execute_result"
    }
   ],
   "source": [
    "numeric_batchs = numeric_dataset.shuffle(1000).batch(BATCH_SIZE)\n",
    "\n",
    "model = get_basic_model()\n",
    "model.fit(numeric_batchs, epochs=15)"
   ]
  },
  {
   "cell_type": "code",
   "execution_count": 23,
   "id": "8b5d07bc",
   "metadata": {},
   "outputs": [
    {
     "name": "stdout",
     "output_type": "stream",
     "text": [
      "Epoch 1/15\n",
      " 10/152 [>.............................] - ETA: 0s - loss: 289200608.0000 - accuracy: 0.1500     "
     ]
    },
    {
     "name": "stderr",
     "output_type": "stream",
     "text": [
      "2022-08-04 08:38:33.962748: I tensorflow/core/grappler/optimizers/custom_graph_optimizer_registry.cc:113] Plugin optimizer for device_type GPU is enabled.\n"
     ]
    },
    {
     "name": "stdout",
     "output_type": "stream",
     "text": [
      "152/152 [==============================] - 1s 6ms/step - loss: 41145652.0000 - accuracy: 0.5545\n",
      "Epoch 2/15\n",
      "152/152 [==============================] - 1s 5ms/step - loss: 9845189.0000 - accuracy: 0.6403\n",
      "Epoch 3/15\n",
      "152/152 [==============================] - 1s 5ms/step - loss: 7996287.0000 - accuracy: 0.6139\n",
      "Epoch 4/15\n",
      "152/152 [==============================] - 1s 5ms/step - loss: 5672151.0000 - accuracy: 0.7096\n",
      "Epoch 5/15\n",
      "152/152 [==============================] - 1s 5ms/step - loss: 4049138.5000 - accuracy: 0.6799\n",
      "Epoch 6/15\n",
      "152/152 [==============================] - 1s 5ms/step - loss: 4161271.7500 - accuracy: 0.6733\n",
      "Epoch 7/15\n",
      "152/152 [==============================] - 1s 5ms/step - loss: 4522093.0000 - accuracy: 0.7162\n",
      "Epoch 8/15\n",
      "152/152 [==============================] - 1s 5ms/step - loss: 3502574.2500 - accuracy: 0.6964\n",
      "Epoch 9/15\n",
      "152/152 [==============================] - 1s 5ms/step - loss: 3862265.2500 - accuracy: 0.7591\n",
      "Epoch 10/15\n",
      "152/152 [==============================] - 1s 5ms/step - loss: 3559221.2500 - accuracy: 0.7195\n",
      "Epoch 11/15\n",
      "152/152 [==============================] - 1s 5ms/step - loss: 4404150.5000 - accuracy: 0.6997\n",
      "Epoch 12/15\n",
      "152/152 [==============================] - 1s 5ms/step - loss: 4531560.5000 - accuracy: 0.7030\n",
      "Epoch 13/15\n",
      "152/152 [==============================] - 1s 5ms/step - loss: 2936892.2500 - accuracy: 0.7129\n",
      "Epoch 14/15\n",
      "152/152 [==============================] - 1s 5ms/step - loss: 2698804.0000 - accuracy: 0.7360\n",
      "Epoch 15/15\n",
      "152/152 [==============================] - 1s 5ms/step - loss: 2863964.2500 - accuracy: 0.7195\n"
     ]
    },
    {
     "data": {
      "text/plain": [
       "<keras.callbacks.History at 0x165216ac0>"
      ]
     },
     "execution_count": 23,
     "metadata": {},
     "output_type": "execute_result"
    }
   ],
   "source": [
    "model_dogs = get_dogs_model()\n",
    "model_dogs.fit(numeric_batchs, epochs=15)"
   ]
  },
  {
   "cell_type": "markdown",
   "id": "20913c2d",
   "metadata": {},
   "source": [
    "#### A Datafram as a Dictionary"
   ]
  },
  {
   "cell_type": "code",
   "execution_count": 28,
   "id": "a9fa288e",
   "metadata": {},
   "outputs": [],
   "source": [
    "numeric_dict_ds = tf.data.Dataset.from_tensor_slices((dict(numeric_features), target))"
   ]
  },
  {
   "cell_type": "code",
   "execution_count": 37,
   "id": "19e807b6",
   "metadata": {
    "collapsed": true
   },
   "outputs": [
    {
     "name": "stdout",
     "output_type": "stream",
     "text": [
      "({'age': <tf.Tensor: shape=(), dtype=int64, numpy=63>, 'thalach': <tf.Tensor: shape=(), dtype=int64, numpy=150>, 'trestbps': <tf.Tensor: shape=(), dtype=int64, numpy=145>, 'chol': <tf.Tensor: shape=(), dtype=int64, numpy=233>, 'oldpeak': <tf.Tensor: shape=(), dtype=float64, numpy=2.3>}, <tf.Tensor: shape=(), dtype=int64, numpy=0>)\n",
      "\n",
      "\n",
      "({'age': <tf.Tensor: shape=(), dtype=int64, numpy=67>, 'thalach': <tf.Tensor: shape=(), dtype=int64, numpy=108>, 'trestbps': <tf.Tensor: shape=(), dtype=int64, numpy=160>, 'chol': <tf.Tensor: shape=(), dtype=int64, numpy=286>, 'oldpeak': <tf.Tensor: shape=(), dtype=float64, numpy=1.5>}, <tf.Tensor: shape=(), dtype=int64, numpy=1>)\n",
      "\n",
      "\n",
      "({'age': <tf.Tensor: shape=(), dtype=int64, numpy=67>, 'thalach': <tf.Tensor: shape=(), dtype=int64, numpy=129>, 'trestbps': <tf.Tensor: shape=(), dtype=int64, numpy=120>, 'chol': <tf.Tensor: shape=(), dtype=int64, numpy=229>, 'oldpeak': <tf.Tensor: shape=(), dtype=float64, numpy=2.6>}, <tf.Tensor: shape=(), dtype=int64, numpy=0>)\n",
      "\n",
      "\n",
      "({'age': <tf.Tensor: shape=(), dtype=int64, numpy=37>, 'thalach': <tf.Tensor: shape=(), dtype=int64, numpy=187>, 'trestbps': <tf.Tensor: shape=(), dtype=int64, numpy=130>, 'chol': <tf.Tensor: shape=(), dtype=int64, numpy=250>, 'oldpeak': <tf.Tensor: shape=(), dtype=float64, numpy=3.5>}, <tf.Tensor: shape=(), dtype=int64, numpy=0>)\n",
      "\n",
      "\n",
      "({'age': <tf.Tensor: shape=(), dtype=int64, numpy=41>, 'thalach': <tf.Tensor: shape=(), dtype=int64, numpy=172>, 'trestbps': <tf.Tensor: shape=(), dtype=int64, numpy=130>, 'chol': <tf.Tensor: shape=(), dtype=int64, numpy=204>, 'oldpeak': <tf.Tensor: shape=(), dtype=float64, numpy=1.4>}, <tf.Tensor: shape=(), dtype=int64, numpy=0>)\n",
      "\n",
      "\n"
     ]
    }
   ],
   "source": [
    "for row in numeric_dict_ds.take(5):\n",
    "    print(row, end='\\n\\n\\n')"
   ]
  },
  {
   "cell_type": "markdown",
   "id": "ab598781",
   "metadata": {},
   "source": [
    "##### Dictionary with Keras\n",
    "There are two equivalent ways you can write a Keras model that accepts a dictionary as input."
   ]
  },
  {
   "cell_type": "markdown",
   "id": "12b264eb",
   "metadata": {},
   "source": [
    "###### 1. The Model-subclass style\n",
    "You write a subclass of tf.keras.Model (or tf.keras.Layer). You directly handle the inputs, and create the outputs:"
   ]
  },
  {
   "cell_type": "code",
   "execution_count": 38,
   "id": "a8cfa3d5",
   "metadata": {},
   "outputs": [],
   "source": [
    "def stack_dict(inputs, fun=tf.stack):\n",
    "    values = []\n",
    "    for key in sorted(inputs.keys()):\n",
    "        values.append(tf.cast(inputs[key], dtype=tf.float32))\n",
    "    \n",
    "    return fun(values, axis=-1)"
   ]
  },
  {
   "cell_type": "code",
   "execution_count": null,
   "id": "5b3000ac",
   "metadata": {},
   "outputs": [],
   "source": []
  },
  {
   "cell_type": "code",
   "execution_count": null,
   "id": "b5ee81d1",
   "metadata": {},
   "outputs": [],
   "source": []
  },
  {
   "cell_type": "code",
   "execution_count": null,
   "id": "2df29b63",
   "metadata": {},
   "outputs": [],
   "source": []
  },
  {
   "cell_type": "code",
   "execution_count": null,
   "id": "8a8c0d7a",
   "metadata": {},
   "outputs": [],
   "source": []
  },
  {
   "cell_type": "code",
   "execution_count": null,
   "id": "7bee6b91",
   "metadata": {},
   "outputs": [],
   "source": []
  },
  {
   "cell_type": "code",
   "execution_count": null,
   "id": "6e2d6609",
   "metadata": {},
   "outputs": [],
   "source": []
  },
  {
   "cell_type": "code",
   "execution_count": null,
   "id": "27305ffc",
   "metadata": {},
   "outputs": [],
   "source": []
  },
  {
   "cell_type": "code",
   "execution_count": null,
   "id": "6daaae61",
   "metadata": {},
   "outputs": [],
   "source": []
  },
  {
   "cell_type": "code",
   "execution_count": null,
   "id": "f6b35dae",
   "metadata": {},
   "outputs": [],
   "source": []
  },
  {
   "cell_type": "code",
   "execution_count": null,
   "id": "689636a6",
   "metadata": {},
   "outputs": [],
   "source": []
  }
 ],
 "metadata": {
  "kernelspec": {
   "display_name": "tf25",
   "language": "python",
   "name": "tf25"
  },
  "language_info": {
   "codemirror_mode": {
    "name": "ipython",
    "version": 3
   },
   "file_extension": ".py",
   "mimetype": "text/x-python",
   "name": "python",
   "nbconvert_exporter": "python",
   "pygments_lexer": "ipython3",
   "version": "3.8.13"
  }
 },
 "nbformat": 4,
 "nbformat_minor": 5
}
