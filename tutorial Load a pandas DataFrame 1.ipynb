{
 "cells": [
  {
   "cell_type": "code",
   "execution_count": 1,
   "id": "044f59c2",
   "metadata": {},
   "outputs": [],
   "source": [
    "import pandas as pd\n",
    "import numpy as np\n",
    "import tensorflow as tf\n",
    "from tensorflow.keras.layers import Dense, Input, Normalization\n",
    "from tensorflow.keras.models import Sequential, Model"
   ]
  },
  {
   "cell_type": "code",
   "execution_count": 2,
   "id": "4f30a7b6",
   "metadata": {},
   "outputs": [
    {
     "name": "stdout",
     "output_type": "stream",
     "text": [
      "2.8.0\n"
     ]
    }
   ],
   "source": [
    "print(tf.__version__)"
   ]
  },
  {
   "cell_type": "code",
   "execution_count": 3,
   "id": "d13e4962",
   "metadata": {},
   "outputs": [],
   "source": [
    "SHUFFLE_BUFFER = 500\n",
    "BATCH_SIZE = 2"
   ]
  },
  {
   "cell_type": "code",
   "execution_count": 4,
   "id": "f17657a7",
   "metadata": {},
   "outputs": [],
   "source": [
    "csv_file = tf.keras.utils.get_file('heart.csv', 'https://storage.googleapis.com/download.tensorflow.org/data/heart.csv')"
   ]
  },
  {
   "cell_type": "markdown",
   "id": "e55a1b1d",
   "metadata": {},
   "source": [
    "Read the CSV file using pandas"
   ]
  },
  {
   "cell_type": "code",
   "execution_count": 5,
   "id": "2faa2a4a",
   "metadata": {},
   "outputs": [],
   "source": [
    "df = pd.read_csv(csv_file)"
   ]
  },
  {
   "cell_type": "code",
   "execution_count": 6,
   "id": "5d2eb4cb",
   "metadata": {
    "scrolled": true
   },
   "outputs": [
    {
     "data": {
      "text/html": [
       "<div>\n",
       "<style scoped>\n",
       "    .dataframe tbody tr th:only-of-type {\n",
       "        vertical-align: middle;\n",
       "    }\n",
       "\n",
       "    .dataframe tbody tr th {\n",
       "        vertical-align: top;\n",
       "    }\n",
       "\n",
       "    .dataframe thead th {\n",
       "        text-align: right;\n",
       "    }\n",
       "</style>\n",
       "<table border=\"1\" class=\"dataframe\">\n",
       "  <thead>\n",
       "    <tr style=\"text-align: right;\">\n",
       "      <th></th>\n",
       "      <th>age</th>\n",
       "      <th>sex</th>\n",
       "      <th>cp</th>\n",
       "      <th>trestbps</th>\n",
       "      <th>chol</th>\n",
       "      <th>fbs</th>\n",
       "      <th>restecg</th>\n",
       "      <th>thalach</th>\n",
       "      <th>exang</th>\n",
       "      <th>oldpeak</th>\n",
       "      <th>slope</th>\n",
       "      <th>ca</th>\n",
       "      <th>thal</th>\n",
       "      <th>target</th>\n",
       "    </tr>\n",
       "  </thead>\n",
       "  <tbody>\n",
       "    <tr>\n",
       "      <th>0</th>\n",
       "      <td>63</td>\n",
       "      <td>1</td>\n",
       "      <td>1</td>\n",
       "      <td>145</td>\n",
       "      <td>233</td>\n",
       "      <td>1</td>\n",
       "      <td>2</td>\n",
       "      <td>150</td>\n",
       "      <td>0</td>\n",
       "      <td>2.3</td>\n",
       "      <td>3</td>\n",
       "      <td>0</td>\n",
       "      <td>fixed</td>\n",
       "      <td>0</td>\n",
       "    </tr>\n",
       "    <tr>\n",
       "      <th>1</th>\n",
       "      <td>67</td>\n",
       "      <td>1</td>\n",
       "      <td>4</td>\n",
       "      <td>160</td>\n",
       "      <td>286</td>\n",
       "      <td>0</td>\n",
       "      <td>2</td>\n",
       "      <td>108</td>\n",
       "      <td>1</td>\n",
       "      <td>1.5</td>\n",
       "      <td>2</td>\n",
       "      <td>3</td>\n",
       "      <td>normal</td>\n",
       "      <td>1</td>\n",
       "    </tr>\n",
       "    <tr>\n",
       "      <th>2</th>\n",
       "      <td>67</td>\n",
       "      <td>1</td>\n",
       "      <td>4</td>\n",
       "      <td>120</td>\n",
       "      <td>229</td>\n",
       "      <td>0</td>\n",
       "      <td>2</td>\n",
       "      <td>129</td>\n",
       "      <td>1</td>\n",
       "      <td>2.6</td>\n",
       "      <td>2</td>\n",
       "      <td>2</td>\n",
       "      <td>reversible</td>\n",
       "      <td>0</td>\n",
       "    </tr>\n",
       "    <tr>\n",
       "      <th>3</th>\n",
       "      <td>37</td>\n",
       "      <td>1</td>\n",
       "      <td>3</td>\n",
       "      <td>130</td>\n",
       "      <td>250</td>\n",
       "      <td>0</td>\n",
       "      <td>0</td>\n",
       "      <td>187</td>\n",
       "      <td>0</td>\n",
       "      <td>3.5</td>\n",
       "      <td>3</td>\n",
       "      <td>0</td>\n",
       "      <td>normal</td>\n",
       "      <td>0</td>\n",
       "    </tr>\n",
       "    <tr>\n",
       "      <th>4</th>\n",
       "      <td>41</td>\n",
       "      <td>0</td>\n",
       "      <td>2</td>\n",
       "      <td>130</td>\n",
       "      <td>204</td>\n",
       "      <td>0</td>\n",
       "      <td>2</td>\n",
       "      <td>172</td>\n",
       "      <td>0</td>\n",
       "      <td>1.4</td>\n",
       "      <td>1</td>\n",
       "      <td>0</td>\n",
       "      <td>normal</td>\n",
       "      <td>0</td>\n",
       "    </tr>\n",
       "  </tbody>\n",
       "</table>\n",
       "</div>"
      ],
      "text/plain": [
       "   age  sex  cp  trestbps  chol  fbs  restecg  thalach  exang  oldpeak  slope  \\\n",
       "0   63    1   1       145   233    1        2      150      0      2.3      3   \n",
       "1   67    1   4       160   286    0        2      108      1      1.5      2   \n",
       "2   67    1   4       120   229    0        2      129      1      2.6      2   \n",
       "3   37    1   3       130   250    0        0      187      0      3.5      3   \n",
       "4   41    0   2       130   204    0        2      172      0      1.4      1   \n",
       "\n",
       "   ca        thal  target  \n",
       "0   0       fixed       0  \n",
       "1   3      normal       1  \n",
       "2   2  reversible       0  \n",
       "3   0      normal       0  \n",
       "4   0      normal       0  "
      ]
     },
     "execution_count": 6,
     "metadata": {},
     "output_type": "execute_result"
    }
   ],
   "source": [
    "df.head()"
   ]
  },
  {
   "cell_type": "markdown",
   "id": "f1a52d9f",
   "metadata": {},
   "source": [
    "If label data is not devided in data, devide label data and train data"
   ]
  },
  {
   "cell_type": "code",
   "execution_count": 7,
   "id": "e2e200fc",
   "metadata": {},
   "outputs": [
    {
     "data": {
      "text/plain": [
       "age           int64\n",
       "sex           int64\n",
       "cp            int64\n",
       "trestbps      int64\n",
       "chol          int64\n",
       "fbs           int64\n",
       "restecg       int64\n",
       "thalach       int64\n",
       "exang         int64\n",
       "oldpeak     float64\n",
       "slope         int64\n",
       "ca            int64\n",
       "thal         object\n",
       "target        int64\n",
       "dtype: object"
      ]
     },
     "execution_count": 7,
     "metadata": {},
     "output_type": "execute_result"
    }
   ],
   "source": [
    "df.dtypes"
   ]
  },
  {
   "cell_type": "code",
   "execution_count": 8,
   "id": "09c5a8b3",
   "metadata": {},
   "outputs": [],
   "source": [
    "target = df.pop('target')"
   ]
  },
  {
   "cell_type": "markdown",
   "id": "e28847f6",
   "metadata": {},
   "source": [
    "###### distinguish numeric data which is not categorical\n",
    "age, trestbps, chol, thalach, oldpeak"
   ]
  },
  {
   "cell_type": "code",
   "execution_count": 9,
   "id": "3c15b2ed",
   "metadata": {},
   "outputs": [
    {
     "name": "stdout",
     "output_type": "stream",
     "text": [
      "age\n",
      "[63 67 37 41 56 62 57 53 44 52 48 54 49 64 58 60 50 66 43 40 69 59 42 55\n",
      " 61 65 51 45 39 68 47 35 29 70 46 77 38 34 74 76 71]\n",
      "41\n",
      "==================================================================================\n",
      "sex\n",
      "[1 0]\n",
      "2\n",
      "==================================================================================\n",
      "cp\n",
      "[1 4 3 2 0]\n",
      "5\n",
      "==================================================================================\n",
      "trestbps\n",
      "[145 160 120 130 140 172 150 110 132 117 135 155 125 104 180 138 108 128\n",
      " 100 200 124  94 122 170 105 165 112 102 152 115 118 101 126 142 174 134\n",
      " 148 178 158 192 129 144 123 136 146 106 156 154 114 164]\n",
      "50\n",
      "==================================================================================\n",
      "chol\n",
      "[233 286 229 250 204 236 268 354 254 203 192 294 256 263 199 168 239 275\n",
      " 266 211 283 284 224 206 219 340 226 247 167 230 335 234 177 276 353 243\n",
      " 225 269 267 248 197 360 258 308 245 270 208 264 321 274 325 235 257 302\n",
      " 164 231 141 252 255 183 330 222 217 282 288 220 209 227 261 213 174 281\n",
      " 198 221 205 309 240 289 318 298 265 564 246 322 299 300 293 277 304 214\n",
      " 207 160 249 394 212 184 315 409 244 305 195 196 273 126 313 259 200 262\n",
      " 215 228 193 303 271 210 327 149 201 295 306 178 237 218 223 242 319 166\n",
      " 180 311 278 232 253 342 169 187 157 176 241 131 175 417 290 172 216 188\n",
      " 185 326 260 182 307 186 341 407]\n",
      "152\n",
      "==================================================================================\n",
      "fbs\n",
      "[1 0]\n",
      "2\n",
      "==================================================================================\n",
      "restecg\n",
      "[2 0 1]\n",
      "3\n",
      "==================================================================================\n",
      "thalach\n",
      "[150 108 129 187 172 178 160 163 147 155 148 153 142 173 162 174 168 139\n",
      " 171 144 132 158 114 151 161 179 120 112 137  99 177 141 180 111 143 182\n",
      " 156 149 145 146 175  97 165 133 126 170 154 202 186 125 103 130 166 164\n",
      " 159 184 131 152 124 122  96 109 138 157  88 105 194 195 106 115 167  95\n",
      " 169 192 117 121 116  71 118 140 181 134 136  90 123 128 188 113 185 190\n",
      " 127]\n",
      "91\n",
      "==================================================================================\n",
      "exang\n",
      "[0 1]\n",
      "2\n",
      "==================================================================================\n",
      "oldpeak\n",
      "[2.3 1.5 2.6 3.5 1.4 0.8 3.6 0.6 3.1 0.4 1.3 0.  0.5 1.6 1.  1.2 0.2 1.8\n",
      " 3.2 2.4 2.  2.5 2.8 3.  6.2 5.6 4.  2.2 2.9 0.1 2.1 1.9 4.2 0.9 1.1 3.8\n",
      " 0.7 3.4 0.3 4.4]\n",
      "40\n",
      "==================================================================================\n",
      "slope\n",
      "[3 2 1]\n",
      "3\n",
      "==================================================================================\n",
      "ca\n",
      "[0 3 2 1]\n",
      "4\n",
      "==================================================================================\n",
      "thal\n",
      "['fixed' 'normal' 'reversible' '1' '2']\n",
      "5\n",
      "==================================================================================\n"
     ]
    }
   ],
   "source": [
    "for name, values in df.items():\n",
    "    print(name)\n",
    "    print(df[name].unique())\n",
    "    print(df[name].nunique())\n",
    "    print('==================================================================================')"
   ]
  },
  {
   "cell_type": "code",
   "execution_count": 10,
   "id": "215877a1",
   "metadata": {},
   "outputs": [
    {
     "data": {
      "text/html": [
       "<div>\n",
       "<style scoped>\n",
       "    .dataframe tbody tr th:only-of-type {\n",
       "        vertical-align: middle;\n",
       "    }\n",
       "\n",
       "    .dataframe tbody tr th {\n",
       "        vertical-align: top;\n",
       "    }\n",
       "\n",
       "    .dataframe thead th {\n",
       "        text-align: right;\n",
       "    }\n",
       "</style>\n",
       "<table border=\"1\" class=\"dataframe\">\n",
       "  <thead>\n",
       "    <tr style=\"text-align: right;\">\n",
       "      <th></th>\n",
       "      <th>age</th>\n",
       "      <th>thalach</th>\n",
       "      <th>trestbps</th>\n",
       "      <th>chol</th>\n",
       "      <th>oldpeak</th>\n",
       "    </tr>\n",
       "  </thead>\n",
       "  <tbody>\n",
       "    <tr>\n",
       "      <th>0</th>\n",
       "      <td>63</td>\n",
       "      <td>150</td>\n",
       "      <td>145</td>\n",
       "      <td>233</td>\n",
       "      <td>2.3</td>\n",
       "    </tr>\n",
       "    <tr>\n",
       "      <th>1</th>\n",
       "      <td>67</td>\n",
       "      <td>108</td>\n",
       "      <td>160</td>\n",
       "      <td>286</td>\n",
       "      <td>1.5</td>\n",
       "    </tr>\n",
       "    <tr>\n",
       "      <th>2</th>\n",
       "      <td>67</td>\n",
       "      <td>129</td>\n",
       "      <td>120</td>\n",
       "      <td>229</td>\n",
       "      <td>2.6</td>\n",
       "    </tr>\n",
       "    <tr>\n",
       "      <th>3</th>\n",
       "      <td>37</td>\n",
       "      <td>187</td>\n",
       "      <td>130</td>\n",
       "      <td>250</td>\n",
       "      <td>3.5</td>\n",
       "    </tr>\n",
       "    <tr>\n",
       "      <th>4</th>\n",
       "      <td>41</td>\n",
       "      <td>172</td>\n",
       "      <td>130</td>\n",
       "      <td>204</td>\n",
       "      <td>1.4</td>\n",
       "    </tr>\n",
       "  </tbody>\n",
       "</table>\n",
       "</div>"
      ],
      "text/plain": [
       "   age  thalach  trestbps  chol  oldpeak\n",
       "0   63      150       145   233      2.3\n",
       "1   67      108       160   286      1.5\n",
       "2   67      129       120   229      2.6\n",
       "3   37      187       130   250      3.5\n",
       "4   41      172       130   204      1.4"
      ]
     },
     "execution_count": 10,
     "metadata": {},
     "output_type": "execute_result"
    }
   ],
   "source": [
    "numeric_features_names = ['age', 'thalach', 'trestbps', 'chol', 'oldpeak']\n",
    "numeric_features = df[numeric_features_names]\n",
    "numeric_features.head()"
   ]
  },
  {
   "cell_type": "code",
   "execution_count": 11,
   "id": "799da177",
   "metadata": {},
   "outputs": [
    {
     "data": {
      "text/plain": [
       "<tf.Tensor: shape=(303, 5), dtype=float64, numpy=\n",
       "array([[ 63. , 150. , 145. , 233. ,   2.3],\n",
       "       [ 67. , 108. , 160. , 286. ,   1.5],\n",
       "       [ 67. , 129. , 120. , 229. ,   2.6],\n",
       "       ...,\n",
       "       [ 65. , 127. , 135. , 254. ,   2.8],\n",
       "       [ 48. , 150. , 130. , 256. ,   0. ],\n",
       "       [ 63. , 154. , 150. , 407. ,   4. ]])>"
      ]
     },
     "execution_count": 11,
     "metadata": {},
     "output_type": "execute_result"
    }
   ],
   "source": [
    " tf.convert_to_tensor(numeric_features)"
   ]
  },
  {
   "cell_type": "code",
   "execution_count": 15,
   "id": "91351ddd",
   "metadata": {
    "scrolled": false
   },
   "outputs": [
    {
     "data": {
      "text/plain": [
       "<tf.Tensor: shape=(3, 5), dtype=float32, numpy=\n",
       "array([[ 0.93383914,  0.03480717,  0.7457807 , -0.26008663,  1.0680453 ],\n",
       "       [ 1.3782105 , -1.7806163 ,  1.5923283 ,  0.75738776,  0.38022864],\n",
       "       [ 1.3782105 , -0.8729046 , -0.66513205, -0.33687717,  1.3259765 ]],\n",
       "      dtype=float32)>"
      ]
     },
     "execution_count": 15,
     "metadata": {},
     "output_type": "execute_result"
    }
   ],
   "source": [
    "normalizer = Normalization(axis=-1)\n",
    "normalizer.adapt(numeric_features)\n",
    "normalizer(numeric_features.iloc[:3])"
   ]
  },
  {
   "cell_type": "code",
   "execution_count": 17,
   "id": "dc8392e5",
   "metadata": {
    "collapsed": true
   },
   "outputs": [
    {
     "ename": "ValueError",
     "evalue": "in user code:\n\n    File \"C:\\Users\\winston\\anaconda3_64\\envs\\tf25\\lib\\site-packages\\keras\\engine\\base_preprocessing_layer.py\", line 117, in adapt_step  *\n        self._adapt_maybe_build(data)\n    File \"C:\\Users\\winston\\anaconda3_64\\envs\\tf25\\lib\\site-packages\\keras\\engine\\base_preprocessing_layer.py\", line 285, in _adapt_maybe_build  **\n        self.build(data_shape)\n    File \"C:\\Users\\winston\\anaconda3_64\\envs\\tf25\\lib\\site-packages\\keras\\layers\\preprocessing\\normalization.py\", line 150, in build\n        raise ValueError(\n\n    ValueError: All `axis` values to be kept must have known shape. Got axis: (0,), input shape: [None, 5], with unknown axis at index: 0\n",
     "output_type": "error",
     "traceback": [
      "\u001b[1;31m---------------------------------------------------------------------------\u001b[0m",
      "\u001b[1;31mValueError\u001b[0m                                Traceback (most recent call last)",
      "Input \u001b[1;32mIn [17]\u001b[0m, in \u001b[0;36m<cell line: 2>\u001b[1;34m()\u001b[0m\n\u001b[0;32m      1\u001b[0m normalizer_axis0 \u001b[38;5;241m=\u001b[39m Normalization(axis\u001b[38;5;241m=\u001b[39m\u001b[38;5;241m0\u001b[39m)\n\u001b[1;32m----> 2\u001b[0m \u001b[43mnormalizer_axis0\u001b[49m\u001b[38;5;241;43m.\u001b[39;49m\u001b[43madapt\u001b[49m\u001b[43m(\u001b[49m\u001b[43mnumeric_features\u001b[49m\u001b[43m)\u001b[49m\n",
      "File \u001b[1;32m~\\anaconda3_64\\envs\\tf25\\lib\\site-packages\\keras\\layers\\preprocessing\\normalization.py:242\u001b[0m, in \u001b[0;36mNormalization.adapt\u001b[1;34m(self, data, batch_size, steps)\u001b[0m\n\u001b[0;32m    197\u001b[0m \u001b[38;5;28;01mdef\u001b[39;00m \u001b[38;5;21madapt\u001b[39m(\u001b[38;5;28mself\u001b[39m, data, batch_size\u001b[38;5;241m=\u001b[39m\u001b[38;5;28;01mNone\u001b[39;00m, steps\u001b[38;5;241m=\u001b[39m\u001b[38;5;28;01mNone\u001b[39;00m):\n\u001b[0;32m    198\u001b[0m   \u001b[38;5;124;03m\"\"\"Computes the mean and variance of values in a dataset.\u001b[39;00m\n\u001b[0;32m    199\u001b[0m \n\u001b[0;32m    200\u001b[0m \u001b[38;5;124;03m  Calling `adapt()` on a `Normalization` layer is an alternative to passing in\u001b[39;00m\n\u001b[1;32m   (...)\u001b[0m\n\u001b[0;32m    240\u001b[0m \u001b[38;5;124;03m        argument is not supported with array inputs.\u001b[39;00m\n\u001b[0;32m    241\u001b[0m \u001b[38;5;124;03m  \"\"\"\u001b[39;00m\n\u001b[1;32m--> 242\u001b[0m   \u001b[38;5;28;43msuper\u001b[39;49m\u001b[43m(\u001b[49m\u001b[43m)\u001b[49m\u001b[38;5;241;43m.\u001b[39;49m\u001b[43madapt\u001b[49m\u001b[43m(\u001b[49m\u001b[43mdata\u001b[49m\u001b[43m,\u001b[49m\u001b[43m \u001b[49m\u001b[43mbatch_size\u001b[49m\u001b[38;5;241;43m=\u001b[39;49m\u001b[43mbatch_size\u001b[49m\u001b[43m,\u001b[49m\u001b[43m \u001b[49m\u001b[43msteps\u001b[49m\u001b[38;5;241;43m=\u001b[39;49m\u001b[43msteps\u001b[49m\u001b[43m)\u001b[49m\n",
      "File \u001b[1;32m~\\anaconda3_64\\envs\\tf25\\lib\\site-packages\\keras\\engine\\base_preprocessing_layer.py:249\u001b[0m, in \u001b[0;36mPreprocessingLayer.adapt\u001b[1;34m(self, data, batch_size, steps)\u001b[0m\n\u001b[0;32m    247\u001b[0m \u001b[38;5;28;01mwith\u001b[39;00m data_handler\u001b[38;5;241m.\u001b[39mcatch_stop_iteration():\n\u001b[0;32m    248\u001b[0m   \u001b[38;5;28;01mfor\u001b[39;00m _ \u001b[38;5;129;01min\u001b[39;00m data_handler\u001b[38;5;241m.\u001b[39msteps():\n\u001b[1;32m--> 249\u001b[0m     \u001b[38;5;28;43mself\u001b[39;49m\u001b[38;5;241;43m.\u001b[39;49m\u001b[43m_adapt_function\u001b[49m\u001b[43m(\u001b[49m\u001b[43miterator\u001b[49m\u001b[43m)\u001b[49m\n\u001b[0;32m    250\u001b[0m     \u001b[38;5;28;01mif\u001b[39;00m data_handler\u001b[38;5;241m.\u001b[39mshould_sync:\n\u001b[0;32m    251\u001b[0m       context\u001b[38;5;241m.\u001b[39masync_wait()\n",
      "File \u001b[1;32m~\\anaconda3_64\\envs\\tf25\\lib\\site-packages\\tensorflow\\python\\util\\traceback_utils.py:153\u001b[0m, in \u001b[0;36mfilter_traceback.<locals>.error_handler\u001b[1;34m(*args, **kwargs)\u001b[0m\n\u001b[0;32m    151\u001b[0m \u001b[38;5;28;01mexcept\u001b[39;00m \u001b[38;5;167;01mException\u001b[39;00m \u001b[38;5;28;01mas\u001b[39;00m e:\n\u001b[0;32m    152\u001b[0m   filtered_tb \u001b[38;5;241m=\u001b[39m _process_traceback_frames(e\u001b[38;5;241m.\u001b[39m__traceback__)\n\u001b[1;32m--> 153\u001b[0m   \u001b[38;5;28;01mraise\u001b[39;00m e\u001b[38;5;241m.\u001b[39mwith_traceback(filtered_tb) \u001b[38;5;28;01mfrom\u001b[39;00m \u001b[38;5;28mNone\u001b[39m\n\u001b[0;32m    154\u001b[0m \u001b[38;5;28;01mfinally\u001b[39;00m:\n\u001b[0;32m    155\u001b[0m   \u001b[38;5;28;01mdel\u001b[39;00m filtered_tb\n",
      "File \u001b[1;32m~\\anaconda3_64\\envs\\tf25\\lib\\site-packages\\tensorflow\\python\\framework\\func_graph.py:1147\u001b[0m, in \u001b[0;36mfunc_graph_from_py_func.<locals>.autograph_handler\u001b[1;34m(*args, **kwargs)\u001b[0m\n\u001b[0;32m   1145\u001b[0m \u001b[38;5;28;01mexcept\u001b[39;00m \u001b[38;5;167;01mException\u001b[39;00m \u001b[38;5;28;01mas\u001b[39;00m e:  \u001b[38;5;66;03m# pylint:disable=broad-except\u001b[39;00m\n\u001b[0;32m   1146\u001b[0m   \u001b[38;5;28;01mif\u001b[39;00m \u001b[38;5;28mhasattr\u001b[39m(e, \u001b[38;5;124m\"\u001b[39m\u001b[38;5;124mag_error_metadata\u001b[39m\u001b[38;5;124m\"\u001b[39m):\n\u001b[1;32m-> 1147\u001b[0m     \u001b[38;5;28;01mraise\u001b[39;00m e\u001b[38;5;241m.\u001b[39mag_error_metadata\u001b[38;5;241m.\u001b[39mto_exception(e)\n\u001b[0;32m   1148\u001b[0m   \u001b[38;5;28;01melse\u001b[39;00m:\n\u001b[0;32m   1149\u001b[0m     \u001b[38;5;28;01mraise\u001b[39;00m\n",
      "\u001b[1;31mValueError\u001b[0m: in user code:\n\n    File \"C:\\Users\\winston\\anaconda3_64\\envs\\tf25\\lib\\site-packages\\keras\\engine\\base_preprocessing_layer.py\", line 117, in adapt_step  *\n        self._adapt_maybe_build(data)\n    File \"C:\\Users\\winston\\anaconda3_64\\envs\\tf25\\lib\\site-packages\\keras\\engine\\base_preprocessing_layer.py\", line 285, in _adapt_maybe_build  **\n        self.build(data_shape)\n    File \"C:\\Users\\winston\\anaconda3_64\\envs\\tf25\\lib\\site-packages\\keras\\layers\\preprocessing\\normalization.py\", line 150, in build\n        raise ValueError(\n\n    ValueError: All `axis` values to be kept must have known shape. Got axis: (0,), input shape: [None, 5], with unknown axis at index: 0\n"
     ]
    }
   ],
   "source": [
    "normalizer_axis0 = Normalization(axis=0)\n",
    "normalizer_axis0.adapt(numeric_features)\n",
    "\n",
    "# ValueError: All `axis` values to be kept must have known shape. \n",
    "# Got axis: (0,), input shape: [None, 5], with unknown axis at index: 0\n",
    "\n",
    "# why is input shape None........\n",
    "# numeric_features shape is [303, 5], \n",
    "# tf.convert_to_tensor(numeric_features) shape is [303, 5]"
   ]
  },
  {
   "cell_type": "code",
   "execution_count": 22,
   "id": "f263f04d",
   "metadata": {},
   "outputs": [],
   "source": [
    "a = [[ 0.933839  ,  0.03480718,  0.7457807 , -0.26008663,  1.0680454 ]]\n",
    "# a = tf.convert_to_tensor(a, dtype=tf.float32)"
   ]
  },
  {
   "cell_type": "code",
   "execution_count": 23,
   "id": "177eb9ba",
   "metadata": {},
   "outputs": [
    {
     "data": {
      "text/plain": [
       "<tf.Tensor: shape=(3, 5), dtype=float32, numpy=\n",
       "array([[6.2066163e+08, 1.4996520e+09, 1.4425422e+09, 2.3326008e+09,\n",
       "        1.2319546e+07],\n",
       "       [6.6066163e+08, 1.0796520e+09, 1.5925422e+09, 2.8626010e+09,\n",
       "        4.3195460e+06],\n",
       "       [6.6066163e+08, 1.2896520e+09, 1.1925422e+09, 2.2926008e+09,\n",
       "        1.5319545e+07]], dtype=float32)>"
      ]
     },
     "execution_count": 23,
     "metadata": {},
     "output_type": "execute_result"
    }
   ],
   "source": [
    "normalizer_dogs = Normalization(axis=-1)\n",
    "normalizer_dogs.adapt(a)\n",
    "normalizer_dogs(numeric_features.iloc[:3])\n",
    "\n",
    "# ValueError: All `axis` values to be kept must have known shape. \n",
    "# Got axis: (0,), input shape: [None, 5], with unknown axis at index: 0\n",
    "\n",
    "# why is input shape None........\n",
    "# numeric_features shape is [303, 5], \n",
    "# tf.convert_to_tensor(numeric_features) shape is [303, 5]"
   ]
  },
  {
   "cell_type": "code",
   "execution_count": null,
   "id": "1de6f094",
   "metadata": {},
   "outputs": [],
   "source": [
    "def get_basic_model():\n",
    "    model = Sequential([\n",
    "        normalizer,\n",
    "        Dense(10, activation='relu'),\n",
    "        Dense(10, activation='relu'),\n",
    "        Dense(1)\n",
    "    ])\n",
    "    \n",
    "    model.compile(optimizer='adam',\n",
    "                 loss=tf.keras.losses.BinaryCrossentropy(from_logits=True),\n",
    "                 metrics=['accuracy'])\n",
    "    \n",
    "    return model\n",
    "\n",
    "def get_dogs_model():\n",
    "    model = Sequential([\n",
    "        normalizer_dogs,\n",
    "        Dense(10, activation='relu'),\n",
    "        Dense(10, activation='relu'),\n",
    "        Dense(1)\n",
    "    ])\n",
    "    \n",
    "    model.compile(optimizer='adam',\n",
    "                 loss=tf.keras.losses.BinaryCrossentropy(from_logits=True),\n",
    "                 metrics=['accuracy'])\n",
    "    \n",
    "    return model"
   ]
  },
  {
   "cell_type": "code",
   "execution_count": null,
   "id": "d09559ec",
   "metadata": {},
   "outputs": [],
   "source": [
    "model = get_basic_model()\n",
    "model.fit(numeric_features, target, epochs=15, batch_size=BATCH_SIZE)"
   ]
  },
  {
   "cell_type": "code",
   "execution_count": null,
   "id": "26421755",
   "metadata": {},
   "outputs": [],
   "source": [
    "model_dogs = get_dogs_model()\n",
    "model_dogs.fit(numeric_features, target, epochs=15, batch_size=BATCH_SIZE)"
   ]
  },
  {
   "cell_type": "code",
   "execution_count": null,
   "id": "9746c553",
   "metadata": {},
   "outputs": [],
   "source": [
    "numeric_dataset = tf.data.Dataset.from_tensor_slices((numeric_features, target))\n",
    "\n",
    "for row in numeric_dataset.take(3):\n",
    "    print(row)"
   ]
  },
  {
   "cell_type": "code",
   "execution_count": null,
   "id": "fde95196",
   "metadata": {},
   "outputs": [],
   "source": [
    "numeric_batchs = numeric_dataset.shuffle(1000).batch(BATCH_SIZE)\n",
    "\n",
    "model = get_basic_model()\n",
    "model.fit(numeric_features)"
   ]
  },
  {
   "cell_type": "code",
   "execution_count": null,
   "id": "2768183e",
   "metadata": {},
   "outputs": [],
   "source": []
  }
 ],
 "metadata": {
  "kernelspec": {
   "display_name": "tf25",
   "language": "python",
   "name": "tf25"
  },
  "language_info": {
   "codemirror_mode": {
    "name": "ipython",
    "version": 3
   },
   "file_extension": ".py",
   "mimetype": "text/x-python",
   "name": "python",
   "nbconvert_exporter": "python",
   "pygments_lexer": "ipython3",
   "version": "3.9.12"
  }
 },
 "nbformat": 4,
 "nbformat_minor": 5
}
