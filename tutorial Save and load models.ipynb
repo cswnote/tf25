{
 "cells": [
  {
   "cell_type": "code",
   "execution_count": 1,
   "id": "953247a0",
   "metadata": {},
   "outputs": [
    {
     "name": "stdout",
     "output_type": "stream",
     "text": [
      "2.8.0\n"
     ]
    }
   ],
   "source": [
    "import os\n",
    "import tensorflow as tf\n",
    "from tensorflow import keras\n",
    "from tensorflow.keras.layers import Dense, Dropout\n",
    "from tensorflow.keras.models import Sequential\n",
    "import numpy as np\n",
    "import matplotlib.pyplot as plt\n",
    "\n",
    "print(tf.__version__)"
   ]
  },
  {
   "cell_type": "code",
   "execution_count": 2,
   "id": "2fdc05d5",
   "metadata": {},
   "outputs": [],
   "source": [
    "(train_images, train_labels), (test_images, test_labels) = keras.datasets.mnist.load_data()"
   ]
  },
  {
   "cell_type": "code",
   "execution_count": 3,
   "id": "f75fc792",
   "metadata": {},
   "outputs": [],
   "source": [
    "train_labels = train_labels[:1000]\n",
    "test_labels = test_labels[:1000]"
   ]
  },
  {
   "cell_type": "code",
   "execution_count": 4,
   "id": "25384074",
   "metadata": {},
   "outputs": [],
   "source": [
    "train_images = train_images[:1000]\n",
    "test_images = test_images[:1000]"
   ]
  },
  {
   "cell_type": "code",
   "execution_count": 5,
   "id": "eb587e76",
   "metadata": {},
   "outputs": [],
   "source": [
    "train_images = train_images.reshape(-1, 28 * 28) / 255."
   ]
  },
  {
   "cell_type": "code",
   "execution_count": 6,
   "id": "c70f659d",
   "metadata": {},
   "outputs": [],
   "source": [
    "test_images = test_images.reshape(-1, 28 * 28) / 255."
   ]
  },
  {
   "cell_type": "code",
   "execution_count": 7,
   "id": "52e1cd43",
   "metadata": {},
   "outputs": [],
   "source": [
    "def create_model(logit):\n",
    "    model = Sequential([\n",
    "        Dense(512, activation='relu', input_shape=(test_images.shape[1:])),\n",
    "        Dropout(0.2),\n",
    "        Dense(10)\n",
    "    ])\n",
    "    \n",
    "    model.compile(optimizer='adam',\n",
    "                 loss=keras.losses.SparseCategoricalCrossentropy(from_logits=logit),\n",
    "                 metrics=[keras.metrics.SparseCategoricalAccuracy()])\n",
    "    return model"
   ]
  },
  {
   "cell_type": "code",
   "execution_count": 8,
   "id": "7b2674f5",
   "metadata": {},
   "outputs": [
    {
     "name": "stdout",
     "output_type": "stream",
     "text": [
      "Metal device set to: Apple M1\n"
     ]
    },
    {
     "name": "stderr",
     "output_type": "stream",
     "text": [
      "2022-07-02 16:42:03.842246: I tensorflow/core/common_runtime/pluggable_device/pluggable_device_factory.cc:305] Could not identify NUMA node of platform GPU ID 0, defaulting to 0. Your kernel may not have been built with NUMA support.\n",
      "2022-07-02 16:42:03.842332: I tensorflow/core/common_runtime/pluggable_device/pluggable_device_factory.cc:271] Created TensorFlow device (/job:localhost/replica:0/task:0/device:GPU:0 with 0 MB memory) -> physical PluggableDevice (device: 0, name: METAL, pci bus id: <undefined>)\n"
     ]
    }
   ],
   "source": [
    "model_logits_true = create_model(True)\n",
    "model_logits_false = create_model(False)"
   ]
  },
  {
   "cell_type": "markdown",
   "id": "817260e1",
   "metadata": {},
   "source": [
    "#### keras.callbacks.ModelCheckpoint saves weights only during traning"
   ]
  },
  {
   "cell_type": "code",
   "execution_count": 9,
   "id": "8096a9d6",
   "metadata": {},
   "outputs": [],
   "source": [
    "checkpoint_path = 'training_from_logits_true/cp.ckpt'\n",
    "checkpoint_dir_true = os.path.dirname(checkpoint_path)\n",
    "checkpoint_path = 'training_from_logits_false/cp.ckpt'\n",
    "checkpoint_dir_false = os.path.dirname(checkpoint_path)"
   ]
  },
  {
   "cell_type": "markdown",
   "id": "6b89467b",
   "metadata": {},
   "source": [
    "#### Create a callback that saves the model's weights"
   ]
  },
  {
   "cell_type": "code",
   "execution_count": 10,
   "id": "99ed2407",
   "metadata": {},
   "outputs": [],
   "source": [
    "cp_callback_true = keras.callbacks.ModelCheckpoint(filepath=checkpoint_dir_true,\n",
    "                                                  save_weights_only=True, verbose=1)\n",
    "cp_callback_false = keras.callbacks.ModelCheckpoint(filepath=checkpoint_dir_false,\n",
    "                                                   save_weights_only=True, verbose=1)"
   ]
  },
  {
   "cell_type": "markdown",
   "id": "fadc2583",
   "metadata": {},
   "source": [
    "#### Train the model with the new callback"
   ]
  },
  {
   "cell_type": "code",
   "execution_count": 11,
   "id": "e8215b03",
   "metadata": {},
   "outputs": [
    {
     "name": "stdout",
     "output_type": "stream",
     "text": [
      "Epoch 1/10\n"
     ]
    },
    {
     "name": "stderr",
     "output_type": "stream",
     "text": [
      "2022-07-02 16:42:03.988870: W tensorflow/core/platform/profile_utils/cpu_utils.cc:128] Failed to get CPU frequency: 0 Hz\n",
      "2022-07-02 16:42:04.123921: I tensorflow/core/grappler/optimizers/custom_graph_optimizer_registry.cc:113] Plugin optimizer for device_type GPU is enabled.\n"
     ]
    },
    {
     "name": "stdout",
     "output_type": "stream",
     "text": [
      "30/32 [===========================>..] - ETA: 0s - loss: 2.5251 - sparse_categorical_accuracy: 0.3865\n",
      "Epoch 1: saving model to training_from_logits_false\n",
      "32/32 [==============================] - 1s 13ms/step - loss: 2.5069 - sparse_categorical_accuracy: 0.3970 - val_loss: 1.8303 - val_sparse_categorical_accuracy: 0.6540\n",
      "Epoch 2/10\n",
      " 1/32 [..............................] - ETA: 0s - loss: 1.3386 - sparse_categorical_accuracy: 0.8125"
     ]
    },
    {
     "name": "stderr",
     "output_type": "stream",
     "text": [
      "2022-07-02 16:42:04.483175: I tensorflow/core/grappler/optimizers/custom_graph_optimizer_registry.cc:113] Plugin optimizer for device_type GPU is enabled.\n"
     ]
    },
    {
     "name": "stdout",
     "output_type": "stream",
     "text": [
      "30/32 [===========================>..] - ETA: 0s - loss: 1.7639 - sparse_categorical_accuracy: 0.7365\n",
      "Epoch 2: saving model to training_from_logits_false\n",
      "32/32 [==============================] - 0s 9ms/step - loss: 1.7810 - sparse_categorical_accuracy: 0.7350 - val_loss: 2.4896 - val_sparse_categorical_accuracy: 0.6060\n",
      "Epoch 3/10\n",
      "31/32 [============================>.] - ETA: 0s - loss: 2.1909 - sparse_categorical_accuracy: 0.5897\n",
      "Epoch 3: saving model to training_from_logits_false\n",
      "32/32 [==============================] - 0s 9ms/step - loss: 2.1895 - sparse_categorical_accuracy: 0.5900 - val_loss: 2.1665 - val_sparse_categorical_accuracy: 0.6010\n",
      "Epoch 4/10\n",
      "30/32 [===========================>..] - ETA: 0s - loss: 2.2562 - sparse_categorical_accuracy: 0.5833\n",
      "Epoch 4: saving model to training_from_logits_false\n",
      "32/32 [==============================] - 0s 9ms/step - loss: 2.2580 - sparse_categorical_accuracy: 0.5770 - val_loss: 2.2750 - val_sparse_categorical_accuracy: 0.5890\n",
      "Epoch 5/10\n",
      "30/32 [===========================>..] - ETA: 0s - loss: 2.2450 - sparse_categorical_accuracy: 0.5563\n",
      "Epoch 5: saving model to training_from_logits_false\n",
      "32/32 [==============================] - 0s 10ms/step - loss: 2.2450 - sparse_categorical_accuracy: 0.5580 - val_loss: 2.2703 - val_sparse_categorical_accuracy: 0.5820\n",
      "Epoch 6/10\n",
      "31/32 [============================>.] - ETA: 0s - loss: 2.2657 - sparse_categorical_accuracy: 0.5423\n",
      "Epoch 6: saving model to training_from_logits_false\n",
      "32/32 [==============================] - 0s 9ms/step - loss: 2.2637 - sparse_categorical_accuracy: 0.5430 - val_loss: 2.2773 - val_sparse_categorical_accuracy: 0.6190\n",
      "Epoch 7/10\n",
      "29/32 [==========================>...] - ETA: 0s - loss: 2.2579 - sparse_categorical_accuracy: 0.6627\n",
      "Epoch 7: saving model to training_from_logits_false\n",
      "32/32 [==============================] - 0s 10ms/step - loss: 2.2588 - sparse_categorical_accuracy: 0.6620 - val_loss: 2.2796 - val_sparse_categorical_accuracy: 0.6840\n",
      "Epoch 8/10\n",
      "31/32 [============================>.] - ETA: 0s - loss: 2.2654 - sparse_categorical_accuracy: 0.6966\n",
      "Epoch 8: saving model to training_from_logits_false\n",
      "32/32 [==============================] - 0s 10ms/step - loss: 2.2657 - sparse_categorical_accuracy: 0.6920 - val_loss: 2.2796 - val_sparse_categorical_accuracy: 0.6860\n",
      "Epoch 9/10\n",
      "31/32 [============================>.] - ETA: 0s - loss: 2.2608 - sparse_categorical_accuracy: 0.6835\n",
      "Epoch 9: saving model to training_from_logits_false\n",
      "32/32 [==============================] - 0s 9ms/step - loss: 2.2611 - sparse_categorical_accuracy: 0.6840 - val_loss: 2.2796 - val_sparse_categorical_accuracy: 0.6860\n",
      "Epoch 10/10\n",
      "31/32 [============================>.] - ETA: 0s - loss: 2.2562 - sparse_categorical_accuracy: 0.6714\n",
      "Epoch 10: saving model to training_from_logits_false\n",
      "32/32 [==============================] - 0s 9ms/step - loss: 2.2565 - sparse_categorical_accuracy: 0.6710 - val_loss: 2.2796 - val_sparse_categorical_accuracy: 0.6860\n"
     ]
    },
    {
     "data": {
      "text/plain": [
       "<keras.callbacks.History at 0x16534afa0>"
      ]
     },
     "execution_count": 11,
     "metadata": {},
     "output_type": "execute_result"
    }
   ],
   "source": [
    "model_logits_false.fit(train_images,\n",
    "                      train_labels,\n",
    "                      epochs=10,\n",
    "                      validation_data=(test_images, test_labels),\n",
    "                      callbacks=[cp_callback_false])"
   ]
  },
  {
   "cell_type": "code",
   "execution_count": 12,
   "id": "3af52415",
   "metadata": {
    "scrolled": false
   },
   "outputs": [
    {
     "name": "stdout",
     "output_type": "stream",
     "text": [
      "Epoch 1/10\n",
      "19/32 [================>.............] - ETA: 0s - loss: 1.4526 - sparse_categorical_accuracy: 0.5822   "
     ]
    },
    {
     "name": "stderr",
     "output_type": "stream",
     "text": [
      "2022-07-02 16:42:07.503704: I tensorflow/core/grappler/optimizers/custom_graph_optimizer_registry.cc:113] Plugin optimizer for device_type GPU is enabled.\n"
     ]
    },
    {
     "name": "stdout",
     "output_type": "stream",
     "text": [
      "30/32 [===========================>..] - ETA: 0s - loss: 1.1858 - sparse_categorical_accuracy: 0.6719\n",
      "Epoch 1: saving model to training_from_logits_true\n",
      "32/32 [==============================] - 1s 12ms/step - loss: 1.1674 - sparse_categorical_accuracy: 0.6740 - val_loss: 0.7119 - val_sparse_categorical_accuracy: 0.7790\n",
      "Epoch 2/10\n",
      " 1/32 [..............................] - ETA: 0s - loss: 0.4055 - sparse_categorical_accuracy: 0.9375"
     ]
    },
    {
     "name": "stderr",
     "output_type": "stream",
     "text": [
      "2022-07-02 16:42:07.789825: I tensorflow/core/grappler/optimizers/custom_graph_optimizer_registry.cc:113] Plugin optimizer for device_type GPU is enabled.\n"
     ]
    },
    {
     "name": "stdout",
     "output_type": "stream",
     "text": [
      "31/32 [============================>.] - ETA: 0s - loss: 0.4304 - sparse_categorical_accuracy: 0.8810\n",
      "Epoch 2: saving model to training_from_logits_true\n",
      "32/32 [==============================] - 0s 9ms/step - loss: 0.4298 - sparse_categorical_accuracy: 0.8810 - val_loss: 0.6251 - val_sparse_categorical_accuracy: 0.7980\n",
      "Epoch 3/10\n",
      "32/32 [==============================] - ETA: 0s - loss: 0.2897 - sparse_categorical_accuracy: 0.9280\n",
      "Epoch 3: saving model to training_from_logits_true\n",
      "32/32 [==============================] - 0s 9ms/step - loss: 0.2897 - sparse_categorical_accuracy: 0.9280 - val_loss: 0.4967 - val_sparse_categorical_accuracy: 0.8370\n",
      "Epoch 4/10\n",
      "31/32 [============================>.] - ETA: 0s - loss: 0.1928 - sparse_categorical_accuracy: 0.9556\n",
      "Epoch 4: saving model to training_from_logits_true\n",
      "32/32 [==============================] - 0s 9ms/step - loss: 0.1937 - sparse_categorical_accuracy: 0.9550 - val_loss: 0.4541 - val_sparse_categorical_accuracy: 0.8560\n",
      "Epoch 5/10\n",
      "31/32 [============================>.] - ETA: 0s - loss: 0.1484 - sparse_categorical_accuracy: 0.9708\n",
      "Epoch 5: saving model to training_from_logits_true\n",
      "32/32 [==============================] - 0s 9ms/step - loss: 0.1489 - sparse_categorical_accuracy: 0.9710 - val_loss: 0.4255 - val_sparse_categorical_accuracy: 0.8600\n",
      "Epoch 6/10\n",
      "22/32 [===================>..........] - ETA: 0s - loss: 0.1159 - sparse_categorical_accuracy: 0.9744\n",
      "Epoch 6: saving model to training_from_logits_true\n",
      "32/32 [==============================] - 0s 9ms/step - loss: 0.1171 - sparse_categorical_accuracy: 0.9730 - val_loss: 0.4242 - val_sparse_categorical_accuracy: 0.8600\n",
      "Epoch 7/10\n",
      "32/32 [==============================] - ETA: 0s - loss: 0.0818 - sparse_categorical_accuracy: 0.9900\n",
      "Epoch 7: saving model to training_from_logits_true\n",
      "32/32 [==============================] - 0s 9ms/step - loss: 0.0818 - sparse_categorical_accuracy: 0.9900 - val_loss: 0.4267 - val_sparse_categorical_accuracy: 0.8610\n",
      "Epoch 8/10\n",
      "22/32 [===================>..........] - ETA: 0s - loss: 0.0580 - sparse_categorical_accuracy: 0.9972\n",
      "Epoch 8: saving model to training_from_logits_true\n",
      "32/32 [==============================] - 0s 9ms/step - loss: 0.0589 - sparse_categorical_accuracy: 0.9960 - val_loss: 0.4170 - val_sparse_categorical_accuracy: 0.8610\n",
      "Epoch 9/10\n",
      "32/32 [==============================] - ETA: 0s - loss: 0.0476 - sparse_categorical_accuracy: 0.9980\n",
      "Epoch 9: saving model to training_from_logits_true\n",
      "32/32 [==============================] - 0s 9ms/step - loss: 0.0476 - sparse_categorical_accuracy: 0.9980 - val_loss: 0.4274 - val_sparse_categorical_accuracy: 0.8630\n",
      "Epoch 10/10\n",
      "22/32 [===================>..........] - ETA: 0s - loss: 0.0383 - sparse_categorical_accuracy: 0.9986\n",
      "Epoch 10: saving model to training_from_logits_true\n",
      "32/32 [==============================] - 0s 9ms/step - loss: 0.0381 - sparse_categorical_accuracy: 0.9990 - val_loss: 0.4273 - val_sparse_categorical_accuracy: 0.8690\n"
     ]
    },
    {
     "data": {
      "text/plain": [
       "<keras.callbacks.History at 0x16ad36a30>"
      ]
     },
     "execution_count": 12,
     "metadata": {},
     "output_type": "execute_result"
    }
   ],
   "source": [
    "model_logits_true.fit(train_images,\n",
    "                      train_labels,\n",
    "                      epochs=10,\n",
    "                      validation_data=(test_images, test_labels),\n",
    "                      callbacks=[cp_callback_true])"
   ]
  },
  {
   "cell_type": "markdown",
   "id": "5db3baf4",
   "metadata": {},
   "source": [
    "#### from_logits의 경우 class 분류의 경우 true가 regression 같은 경우는 false가 나은 듯"
   ]
  },
  {
   "cell_type": "code",
   "execution_count": 13,
   "id": "58fa00ff",
   "metadata": {},
   "outputs": [
    {
     "ename": "FileNotFoundError",
     "evalue": "[Errno 2] No such file or directory: 'training_from_logits_true'",
     "output_type": "error",
     "traceback": [
      "\u001b[0;31m---------------------------------------------------------------------------\u001b[0m",
      "\u001b[0;31mFileNotFoundError\u001b[0m                         Traceback (most recent call last)",
      "Input \u001b[0;32mIn [13]\u001b[0m, in \u001b[0;36m<cell line: 1>\u001b[0;34m()\u001b[0m\n\u001b[0;32m----> 1\u001b[0m \u001b[43mos\u001b[49m\u001b[38;5;241;43m.\u001b[39;49m\u001b[43mlistdir\u001b[49m\u001b[43m(\u001b[49m\u001b[43mcheckpoint_dir_true\u001b[49m\u001b[43m)\u001b[49m\n",
      "\u001b[0;31mFileNotFoundError\u001b[0m: [Errno 2] No such file or directory: 'training_from_logits_true'"
     ]
    }
   ],
   "source": [
    "os.listdir(checkpoint_dir_true)"
   ]
  }
 ],
 "metadata": {
  "kernelspec": {
   "display_name": "tf25",
   "language": "python",
   "name": "tf25"
  },
  "language_info": {
   "codemirror_mode": {
    "name": "ipython",
    "version": 3
   },
   "file_extension": ".py",
   "mimetype": "text/x-python",
   "name": "python",
   "nbconvert_exporter": "python",
   "pygments_lexer": "ipython3",
   "version": "3.8.13"
  }
 },
 "nbformat": 4,
 "nbformat_minor": 5
}
