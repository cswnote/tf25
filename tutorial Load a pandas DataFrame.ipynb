{
 "cells": [
  {
   "cell_type": "code",
   "execution_count": 1,
   "id": "886e280c",
   "metadata": {},
   "outputs": [
    {
     "name": "stdout",
     "output_type": "stream",
     "text": [
      "Metal device set to: Apple M1\n"
     ]
    },
    {
     "name": "stderr",
     "output_type": "stream",
     "text": [
      "2022-07-25 01:37:34.003769: I tensorflow/core/common_runtime/pluggable_device/pluggable_device_factory.cc:305] Could not identify NUMA node of platform GPU ID 0, defaulting to 0. Your kernel may not have been built with NUMA support.\n",
      "2022-07-25 01:37:34.003863: I tensorflow/core/common_runtime/pluggable_device/pluggable_device_factory.cc:271] Created TensorFlow device (/job:localhost/replica:0/task:0/device:GPU:0 with 0 MB memory) -> physical PluggableDevice (device: 0, name: METAL, pci bus id: <undefined>)\n",
      "2022-07-25 01:37:34.030524: W tensorflow/core/platform/profile_utils/cpu_utils.cc:128] Failed to get CPU frequency: 0 Hz\n",
      "2022-07-25 01:37:34.080160: I tensorflow/core/grappler/optimizers/custom_graph_optimizer_registry.cc:113] Plugin optimizer for device_type GPU is enabled.\n",
      "2022-07-25 01:37:34.094983: I tensorflow/core/grappler/optimizers/custom_graph_optimizer_registry.cc:113] Plugin optimizer for device_type GPU is enabled.\n"
     ]
    },
    {
     "name": "stdout",
     "output_type": "stream",
     "text": [
      "Epoch 1/15\n",
      " 10/152 [>.............................] - ETA: 0s - loss: 0.6819 - accuracy: 0.7500 "
     ]
    },
    {
     "name": "stderr",
     "output_type": "stream",
     "text": [
      "2022-07-25 01:37:34.420799: I tensorflow/core/grappler/optimizers/custom_graph_optimizer_registry.cc:113] Plugin optimizer for device_type GPU is enabled.\n"
     ]
    },
    {
     "name": "stdout",
     "output_type": "stream",
     "text": [
      "152/152 [==============================] - 1s 6ms/step - loss: 0.6757 - accuracy: 0.7129\n",
      "Epoch 2/15\n",
      "152/152 [==============================] - 1s 5ms/step - loss: 0.5242 - accuracy: 0.7525\n",
      "Epoch 3/15\n",
      "152/152 [==============================] - 1s 5ms/step - loss: 0.4656 - accuracy: 0.7690\n",
      "Epoch 4/15\n",
      "152/152 [==============================] - 1s 5ms/step - loss: 0.4445 - accuracy: 0.7921\n",
      "Epoch 5/15\n",
      "152/152 [==============================] - 1s 5ms/step - loss: 0.4348 - accuracy: 0.7954\n",
      "Epoch 6/15\n",
      "152/152 [==============================] - 1s 6ms/step - loss: 0.4290 - accuracy: 0.7921\n",
      "Epoch 7/15\n",
      "152/152 [==============================] - 1s 5ms/step - loss: 0.4271 - accuracy: 0.7921\n",
      "Epoch 8/15\n",
      "152/152 [==============================] - 1s 6ms/step - loss: 0.4252 - accuracy: 0.7921\n",
      "Epoch 9/15\n",
      "152/152 [==============================] - 1s 5ms/step - loss: 0.4221 - accuracy: 0.8020\n",
      "Epoch 10/15\n",
      "152/152 [==============================] - 1s 5ms/step - loss: 0.4216 - accuracy: 0.7954\n",
      "Epoch 11/15\n",
      "152/152 [==============================] - 1s 6ms/step - loss: 0.4200 - accuracy: 0.7987\n",
      "Epoch 12/15\n",
      "152/152 [==============================] - 1s 5ms/step - loss: 0.4179 - accuracy: 0.8020\n",
      "Epoch 13/15\n",
      "152/152 [==============================] - 1s 6ms/step - loss: 0.4173 - accuracy: 0.7987\n",
      "Epoch 14/15\n",
      "152/152 [==============================] - 1s 5ms/step - loss: 0.4153 - accuracy: 0.8020\n",
      "Epoch 15/15\n",
      "152/152 [==============================] - 1s 5ms/step - loss: 0.4154 - accuracy: 0.7888\n"
     ]
    },
    {
     "data": {
      "text/plain": [
       "<keras.callbacks.History at 0x16a70f040>"
      ]
     },
     "execution_count": 1,
     "metadata": {},
     "output_type": "execute_result"
    }
   ],
   "source": [
    "import pandas as pd\n",
    "import tensorflow as tf\n",
    "from tensorflow.keras.layers import Input, InputLayer, Dense, Flatten, Normalization\n",
    "\n",
    "SHUFFLE_BUFFER = 500\n",
    "BATCH_SIZE = 2\n",
    "\n",
    "csv_file = tf.keras.utils.get_file('heart.csv', 'https://storage.googleapis.com/download.tensorflow.org/data/heart.csv')\n",
    "\n",
    "df = pd.read_csv(csv_file)\n",
    "\n",
    "target = df.pop('target')\n",
    "\n",
    "numeric_feature_names = ['age', 'thalach', 'trestbps', 'chol', 'oldpeak']\n",
    "numeric_features = df[numeric_feature_names]\n",
    "\n",
    "normalizer = tf.keras.layers.Normalization(axis=-1)\n",
    "normalizer.adapt(numeric_features)\n",
    "\n",
    "def get_basic_model():\n",
    "    model = tf.keras.Sequential([\n",
    "                                 normalizer,\n",
    "                                 tf.keras.layers.Dense(10, activation='relu'),\n",
    "                                 tf.keras.layers.Dense(10, activation='relu'),\n",
    "                                 tf.keras.layers.Dense(1)\n",
    "    ])\n",
    "\n",
    "    model.compile(optimizer='adam',\n",
    "                  loss=tf.keras.losses.BinaryCrossentropy(from_logits=True),\n",
    "                  metrics=['accuracy'])\n",
    "\n",
    "    return model\n",
    "\n",
    "model = get_basic_model()\n",
    "model.fit(numeric_features, target, epochs=15, batch_size=BATCH_SIZE)"
   ]
  },
  {
   "cell_type": "code",
   "execution_count": null,
   "id": "9a3fc3d2",
   "metadata": {},
   "outputs": [],
   "source": []
  }
 ],
 "metadata": {
  "kernelspec": {
   "display_name": "tf25",
   "language": "python",
   "name": "tf25"
  },
  "language_info": {
   "codemirror_mode": {
    "name": "ipython",
    "version": 3
   },
   "file_extension": ".py",
   "mimetype": "text/x-python",
   "name": "python",
   "nbconvert_exporter": "python",
   "pygments_lexer": "ipython3",
   "version": "3.8.13"
  }
 },
 "nbformat": 4,
 "nbformat_minor": 5
}
