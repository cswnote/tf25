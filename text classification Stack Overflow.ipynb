{
 "cells": [
  {
   "cell_type": "code",
   "execution_count": 1,
   "id": "4d6fdd44",
   "metadata": {
    "scrolled": true
   },
   "outputs": [],
   "source": [
    "import tensorflow as tf\n",
    "from tensorflow.keras.utils import plot_model\n",
    "from tensorflow.keras.optimizers import Adam\n",
    "from tensorflow.keras.layers import InputLayer, Dense, Flatten, Conv2D, MaxPool2D, Dropout, Embedding, GlobalAveragePooling1D, Activation\n",
    "from tensorflow.keras.models import Sequential, Model\n",
    "from tensorflow.keras.losses import SparseCategoricalCrossentropy, CategoricalCrossentropy, BinaryCrossentropy\n",
    "\n",
    "import os\n",
    "import re\n",
    "import shutil\n",
    "import string\n",
    "import numpy as np\n",
    "import matplotlib.pyplot as plt"
   ]
  },
  {
   "cell_type": "code",
   "execution_count": 2,
   "id": "7c367e12",
   "metadata": {},
   "outputs": [
    {
     "name": "stdout",
     "output_type": "stream",
     "text": [
      "tensorflow version is 2.8.0\n"
     ]
    }
   ],
   "source": [
    "print('tensorflow version is {}'.format(tf.__version__))"
   ]
  },
  {
   "cell_type": "code",
   "execution_count": 3,
   "id": "e08adc84",
   "metadata": {},
   "outputs": [],
   "source": [
    "file='stack_overflow_16k'\n",
    "url = 'https://storage.googleapis.com/download.tensorflow.org/data/stack_overflow_16k.tar.gz'"
   ]
  },
  {
   "cell_type": "code",
   "execution_count": 4,
   "id": "de189b93",
   "metadata": {
    "scrolled": false
   },
   "outputs": [],
   "source": [
    "# # 뭔가 이상함, cache_subdir=file로 한 후 '' 해야 directory 구조가 원하는 대로 됨\n",
    "dataset = tf.keras.utils.get_file(file, origin=url, untar=True, cache_dir='.' , cache_subdir=file)"
   ]
  },
  {
   "cell_type": "code",
   "execution_count": 5,
   "id": "984f4cd3",
   "metadata": {
    "scrolled": false
   },
   "outputs": [],
   "source": [
    "# # 뭔가 이상함, cache_subdir=file로 한 후 '' 해야 directory 구조가 원하는 대로 됨\n",
    "dataset = tf.keras.utils.get_file(file, origin=url, untar=True, cache_dir='.' , cache_subdir='')"
   ]
  },
  {
   "cell_type": "code",
   "execution_count": 6,
   "id": "bc92b2b2",
   "metadata": {
    "scrolled": true
   },
   "outputs": [
    {
     "data": {
      "text/plain": [
       "['.DS_Store', 'test', 'stack_overflow_16k.tar.gz', 'README.md', 'train']"
      ]
     },
     "execution_count": 6,
     "metadata": {},
     "output_type": "execute_result"
    }
   ],
   "source": [
    "os.listdir(dataset)"
   ]
  },
  {
   "cell_type": "code",
   "execution_count": 7,
   "id": "d3afdcc9",
   "metadata": {},
   "outputs": [],
   "source": [
    "train_dir = os.path.join(dataset, 'train')\n",
    "train_dir_list = os.listdir(train_dir)"
   ]
  },
  {
   "cell_type": "code",
   "execution_count": 8,
   "id": "c8b0fed3",
   "metadata": {},
   "outputs": [
    {
     "data": {
      "text/plain": [
       "['.DS_Store', 'python', 'java', 'csharp', 'javascript']"
      ]
     },
     "execution_count": 8,
     "metadata": {},
     "output_type": "execute_result"
    }
   ],
   "source": [
    "train_dir_list"
   ]
  },
  {
   "cell_type": "code",
   "execution_count": 9,
   "id": "70c9a0a7",
   "metadata": {},
   "outputs": [],
   "source": [
    "train_dir_list = [i for i in train_dir_list if '.' != i[0]]"
   ]
  },
  {
   "cell_type": "code",
   "execution_count": 10,
   "id": "d81d203c",
   "metadata": {},
   "outputs": [
    {
     "data": {
      "text/plain": [
       "['python', 'java', 'csharp', 'javascript']"
      ]
     },
     "execution_count": 10,
     "metadata": {},
     "output_type": "execute_result"
    }
   ],
   "source": [
    "train_dir_list"
   ]
  },
  {
   "cell_type": "code",
   "execution_count": 11,
   "id": "d0468497",
   "metadata": {},
   "outputs": [
    {
     "name": "stdout",
     "output_type": "stream",
     "text": [
      "./stack_overflow_16k/train/python/33.txt\n",
      "\"return the smallest element value in a list of lists given a list of lists like this :..[[\"\"filea\"\",7],[\"\"fileb\"\",4],[\"\"filec\"\",17],[\"\"filed\"\",15]]...how would you return the first element associated to the smallest value ? in this instance \"\"fileb\"\" since it has the smallest value (4). i'm guessing the shortest way would be using list comprehension .\"\n",
      "\n",
      "./stack_overflow_16k/train/java/302.txt\n",
      "\"basic blank program questions public class a { //some fields (may not only primitive types) and methods here}..   public class b {// some fields (may not only primitive types) and methods here, may also have a class a reference }...questions are followed :..    public class test{ ..public static void main(string[] args){ ..a a = new a();//1. it will allocate memory for one object of a and a is the reference points to that space? ..arraylist&lt;b&gt; blist = new arraylist&lt;b&gt;(10);//2. it will allocate memory for 10 objects of b?..arraylist&lt;b&gt; blist2 = blist;//3. blist2 reference to the same location as blist?..arraylist&lt;b&gt; blist3 = new arraylist&lt;b&gt;(20);//4. blist3 points to a memory location which can hold 20 objects of b?..blist3 = blist;//5. blist3 now points to the same location as blist, and the space allocated in question 4 will be cleaned by  garbage collector later?..arraylist&lt;b&gt; blist4 = new arraylist&lt;b&gt;(10);.blist4.addall(blist);//6. it is the same as blist4 = blist;? and the memory created in above line will be cleaned by garbage collector later?..method1(blist3);//7.after this function call blist3 will point to memory space created for blista inside the method1? and we can modify the content of that space via blist3..} ..public void method1(arraylist&lt;b&gt; list){.//do something here.arraylist&lt;b&gt; blista = new arraylist&lt;b&gt;();.list = blista;.}..}\"\n",
      "\n",
      "./stack_overflow_16k/train/csharp/1449.txt\n",
      "\"by design why is it mandatory to specify parameter names when declaring delegate type? why must we specify the parameter name x as follows..public delegate void xxx(int x);...when declaring a delegate type?..for me, the parameter name x is unused so it will be simpler if we can rewrite as follows:..public delegate void xxx(int);...please let me know why the blank designer \"\"forced\"\" us to specify the parameter names...edit1:..is public delegate tresult func&lt;t1,tresult&gt;(t1 arg1) more readable than public delegate tresult func&lt;t1,tresult&gt;(t1) ?\"\n",
      "\n",
      "./stack_overflow_16k/train/javascript/1808.txt\n",
      "\"i wanted my image to insertbefore to the \"\"li\"\" but it just inserted after the ul closing tag i wanted my image to insertbefore to the \"\"li\"\" but it just inserted after the ul closing tag..&lt;ul id=\"\"inputid\"\"&gt;.        &lt;li&gt;&lt;input type=\"\"radio\"\" name=\"\"radiogroup\"\" /&gt;a.&lt;/li&gt;.        &lt;li&gt;&lt;input type=\"\"radio\"\" name=\"\"radiogroup\"\" /&gt;b.&lt;/li&gt;.        &lt;li&gt;&lt;input type=\"\"radio\"\" name=\"\"radiogroup\"\" /&gt;c.&lt;/li&gt;.        &lt;li&gt;&lt;input type=\"\"radio\"\" name=\"\"radiogroup\"\" /&gt;d.&lt;/li&gt;.&lt;/ul&gt;.&lt;script&gt;.var img = document.createelement(\"\"img\"\");.    img.setattribute(\"\"id\"\", \"\"imgcheck\"\");.    img.setattribute(\"\"src\"\", \"\"image.jpg\"\");..    var bar = document.queryselector(\"\"ul li\"\");.    document.body.insertbefore(img, bar[0]);.&lt;/script&gt;\"\n",
      "\n"
     ]
    }
   ],
   "source": [
    "indexs = np.random.randint(0, 2000, len(train_dir_list))\n",
    "\n",
    "for idx, kind in enumerate(train_dir_list):\n",
    "  file = os.listdir(os.path.join(train_dir, kind))[indexs[idx]]\n",
    "  file = os.path.join(os.path.join(train_dir, kind), file)\n",
    "  print(file)\n",
    "  with open(file) as f:\n",
    "    print(f.read())"
   ]
  },
  {
   "cell_type": "code",
   "execution_count": 12,
   "id": "189f894c",
   "metadata": {},
   "outputs": [
    {
     "name": "stdout",
     "output_type": "stream",
     "text": [
      "Found 8000 files belonging to 4 classes.\n",
      "Using 6400 files for training.\n",
      "Metal device set to: Apple M1\n"
     ]
    },
    {
     "name": "stderr",
     "output_type": "stream",
     "text": [
      "2022-06-09 17:01:21.685858: I tensorflow/core/common_runtime/pluggable_device/pluggable_device_factory.cc:305] Could not identify NUMA node of platform GPU ID 0, defaulting to 0. Your kernel may not have been built with NUMA support.\n",
      "2022-06-09 17:01:21.686016: I tensorflow/core/common_runtime/pluggable_device/pluggable_device_factory.cc:271] Created TensorFlow device (/job:localhost/replica:0/task:0/device:GPU:0 with 0 MB memory) -> physical PluggableDevice (device: 0, name: METAL, pci bus id: <undefined>)\n"
     ]
    }
   ],
   "source": [
    "batch_size = 32\n",
    "seed = 42\n",
    "\n",
    "raw_train = tf.keras.utils.text_dataset_from_directory(\n",
    "    'stack_overflow_16k/train',\n",
    "    batch_size=batch_size, \n",
    "    validation_split=0.2, \n",
    "    subset='training', \n",
    "    seed=seed\n",
    ")"
   ]
  },
  {
   "cell_type": "code",
   "execution_count": null,
   "id": "9c290164",
   "metadata": {},
   "outputs": [],
   "source": []
  },
  {
   "cell_type": "code",
   "execution_count": null,
   "id": "d1ea87dd",
   "metadata": {},
   "outputs": [],
   "source": []
  },
  {
   "cell_type": "code",
   "execution_count": null,
   "id": "0b53c5c9",
   "metadata": {},
   "outputs": [],
   "source": []
  }
 ],
 "metadata": {
  "kernelspec": {
   "display_name": "tf25",
   "language": "python",
   "name": "tf25"
  },
  "language_info": {
   "codemirror_mode": {
    "name": "ipython",
    "version": 3
   },
   "file_extension": ".py",
   "mimetype": "text/x-python",
   "name": "python",
   "nbconvert_exporter": "python",
   "pygments_lexer": "ipython3",
   "version": "3.8.13"
  }
 },
 "nbformat": 4,
 "nbformat_minor": 5
}
