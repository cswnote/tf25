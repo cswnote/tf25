{
 "cells": [
  {
   "cell_type": "code",
   "execution_count": 1,
   "id": "4d6fdd44",
   "metadata": {
    "scrolled": true
   },
   "outputs": [],
   "source": [
    "import tensorflow as tf\n",
    "from tensorflow.keras.utils import plot_model\n",
    "from tensorflow.keras.optimizers import Adam\n",
    "from tensorflow.keras.layers import InputLayer, Dense, Flatten, Conv2D, MaxPool2D, Dropout, Embedding, GlobalAveragePooling1D, Activation\n",
    "from tensorflow.keras.models import Sequential, Model\n",
    "from tensorflow.keras.losses import SparseCategoricalCrossentropy, CategoricalCrossentropy, BinaryCrossentropy\n",
    "\n",
    "import os\n",
    "import re\n",
    "import shutil\n",
    "import string\n",
    "import numpy as np\n",
    "import matplotlib.pyplot as plt"
   ]
  },
  {
   "cell_type": "code",
   "execution_count": 2,
   "id": "7c367e12",
   "metadata": {},
   "outputs": [
    {
     "name": "stdout",
     "output_type": "stream",
     "text": [
      "tensorflow version is 2.8.0\n"
     ]
    }
   ],
   "source": [
    "print('tensorflow version is {}'.format(tf.__version__))"
   ]
  },
  {
   "cell_type": "code",
   "execution_count": 3,
   "id": "e08adc84",
   "metadata": {},
   "outputs": [],
   "source": [
    "file='stack_overflow_16k'\n",
    "url = 'https://storage.googleapis.com/download.tensorflow.org/data/stack_overflow_16k.tar.gz'"
   ]
  },
  {
   "cell_type": "code",
   "execution_count": 4,
   "id": "de189b93",
   "metadata": {
    "scrolled": false
   },
   "outputs": [],
   "source": [
    "# # 뭔가 이상함, cache_subdir=file로 한 후 '' 해야 directory 구조가 원하는 대로 됨\n",
    "dataset = tf.keras.utils.get_file(file, origin=url, untar=True, cache_dir='.' , cache_subdir=file)"
   ]
  },
  {
   "cell_type": "code",
   "execution_count": 5,
   "id": "984f4cd3",
   "metadata": {
    "scrolled": false
   },
   "outputs": [],
   "source": [
    "# # 뭔가 이상함, cache_subdir=file로 한 후 '' 해야 directory 구조가 원하는 대로 됨\n",
    "dataset = tf.keras.utils.get_file(file, origin=url, untar=True, cache_dir='.' , cache_subdir='')"
   ]
  },
  {
   "cell_type": "code",
   "execution_count": 15,
   "id": "bc92b2b2",
   "metadata": {
    "scrolled": false
   },
   "outputs": [
    {
     "data": {
      "text/plain": [
       "['test', 'stack_overflow_16k.tar.gz', 'README.md', 'train']"
      ]
     },
     "execution_count": 15,
     "metadata": {},
     "output_type": "execute_result"
    }
   ],
   "source": [
    "os.listdir(dataset)"
   ]
  },
  {
   "cell_type": "code",
   "execution_count": 16,
   "id": "d3afdcc9",
   "metadata": {},
   "outputs": [],
   "source": [
    "train_dir = os.path.join(dataset, 'train')\n",
    "train_dir_list = os.listdir(train_dir)"
   ]
  },
  {
   "cell_type": "code",
   "execution_count": 17,
   "id": "c8b0fed3",
   "metadata": {},
   "outputs": [
    {
     "data": {
      "text/plain": [
       "['python', 'java', 'csharp', 'javascript']"
      ]
     },
     "execution_count": 17,
     "metadata": {},
     "output_type": "execute_result"
    }
   ],
   "source": [
    "train_dir_list"
   ]
  },
  {
   "cell_type": "code",
   "execution_count": 18,
   "id": "70c9a0a7",
   "metadata": {},
   "outputs": [],
   "source": [
    "train_dir_list = [i for i in train_dir_list if '.' != i[0]]"
   ]
  },
  {
   "cell_type": "code",
   "execution_count": 19,
   "id": "d81d203c",
   "metadata": {},
   "outputs": [
    {
     "data": {
      "text/plain": [
       "['python', 'java', 'csharp', 'javascript']"
      ]
     },
     "execution_count": 19,
     "metadata": {},
     "output_type": "execute_result"
    }
   ],
   "source": [
    "train_dir_list"
   ]
  },
  {
   "cell_type": "code",
   "execution_count": 20,
   "id": "d0468497",
   "metadata": {},
   "outputs": [
    {
     "name": "stdout",
     "output_type": "stream",
     "text": [
      "\"why isn't my blank code seeing the condition? my blank code isn't working. i have tried many ways of doing it but i can't seem to make this work. could anyone tell me what's wrong?..if not dead:.   time.sleep(2).   print('').   print('\"\"ok next question.\"\" she looked at a paper in front of her.').   time.sleep(2).   print('\"\"where on earth do they a day with 24 hours and a night with 24 hours?\"\"').   time.sleep(2).if ally:.   print('').   print('\"\"small hint, it starts with a and is a cold desert.\"\"').   print('').   answer = input('which place?:'). else:.   answer = input('which place?:').   if answer == 'antarctica' or answer == 'antarctica':.      time.sleep(2).      print('').      print('she nods. \"\"correct. two more.').   if answer != 'antarctica' and answer != 'antarctica' and ally:.      time.sleep(2).      print('').      print('shaking her head with wide eyes, she looks around carefully.').      time.sleep(2).      print('\"\"the answer is antarctica.\"\" she says, mimicking your voice.').      dead = false.      time.sleep(2).      print(''\"\"i can't do that much, so please try to refrain from getting it wrong.\"\"'').   if answer != 'antarctica' and answer != 'antarctica' and not ally:.      time.sleep(2).      print('').      print('she sighs. '\"\"i'm sorry.\"\"' the fire below comes closer and closer as you fall.').      dead = true...the code just seems to end if i put in a wrong answer, whereas i would like it to see that if the user has an ally, it will give out a different answer, if they don't have an ally they give a different answer etc. .any help would be highly appreciated!\"\n",
      "\n",
      "=========================================================\n",
      "\"how to generate 4 digit random numbers in blank from 0000 to 9999 i tried the following..int number = threadlocalrandom.current().nextint(1000, 9999 + 1);...but it won't generate 4 digit numbers like 0004,0035 and so on.....i searched for similar questions but none solved, they were different from what i need, if there's already an existing question please let me know...i need no genarate numbers like 1485 and 0180, not only numbers starting with 0.\"\n",
      "\n",
      "=========================================================\n",
      "\"basic math problems using blank i'm currently learning blank and i wanted to do simple math problems using blank to sharpen my skills. can someone tell me what am i missing in this code? i want the user to enter a specific length, width, and height and then the code will multiply it and then divide by 1728 and then display however it does not function properly. can someone please assist me, thank you..        console.write(\"\"enter your length: \"\");.        int length = new int();.        console.readline();..        console.write(\"\"enter your width: \"\");.        int width = new int();.        console.readline();..        console.write(\"\"enter your height: \"\");.        int height = new int();.        console.readline();..        int totaldims = new int();.        totaldims = length * width * height;.        int cubicfeet = new int();.        cubicfeet = totaldims/1728;..        console.writeline(\"\"your total cubic feet is \"\" + cubicfeet);.        console.readline();\"\n",
      "\n",
      "=========================================================\n",
      "\"how can i execute a js function from the top of the stack? i'd like to execute a function from the top of the stack.  that is, any variables defined with \"\"var\"\" should be defined in the global sense.  is this possible?  fn.call(window) doesn't work...&lt;script&gt;.  var foo = \"\"i am top level foo.\"\";..  var fn = function(){.    var foo = \"\"setting foo from in a function\"\";.  }..  fn.call(window);  //doesn't work, var is still set locally in fn..  alert(foo);  //desired effect will alert \"\"setting foo from in a function\"\".&lt;/script&gt;...please note:  i am fully aware that not specifying \"\"var\"\" makes an item a global variable.  the problem is that i can not specify the contents of \"\"fn\"\", it is user-defined, but expected to be run from the top level...i'm willing to use eval if necessary.\"\n",
      "\n",
      "=========================================================\n"
     ]
    }
   ],
   "source": [
    "indexs = np.random.randint(0, 2000, len(train_dir_list))\n",
    "\n",
    "for idx, kind in enumerate(train_dir_list):\n",
    "    file = os.listdir(os.path.join(train_dir, kind))[indexs[idx]]\n",
    "    file = os.path.join(os.path.join(train_dir, kind), file)\n",
    "    with open(file) as f:\n",
    "        print(f.read())\n",
    "    print('=========================================================')\n",
    "    "
   ]
  },
  {
   "cell_type": "code",
   "execution_count": 23,
   "id": "189f894c",
   "metadata": {},
   "outputs": [
    {
     "name": "stdout",
     "output_type": "stream",
     "text": [
      "Found 8000 files belonging to 4 classes.\n",
      "Using 6400 files for training.\n"
     ]
    }
   ],
   "source": [
    "raw_train = tf.keras.utils.text_dataset_from_directory(\n",
    "    train_dir, batch_size=batch_size, validation_split=0.2, subset='training', seed=seed)"
   ]
  },
  {
   "cell_type": "code",
   "execution_count": 35,
   "id": "9c290164",
   "metadata": {
    "scrolled": false
   },
   "outputs": [
    {
     "data": {
      "text/plain": [
       "['csharp', 'java', 'javascript', 'python']"
      ]
     },
     "execution_count": 35,
     "metadata": {},
     "output_type": "execute_result"
    }
   ],
   "source": [
    "raw_train.class_names"
   ]
  },
  {
   "cell_type": "code",
   "execution_count": 38,
   "id": "d1ea87dd",
   "metadata": {},
   "outputs": [
    {
     "ename": "AttributeError",
     "evalue": "'BatchDataset' object has no attribute 'shape'",
     "output_type": "error",
     "traceback": [
      "\u001b[0;31m---------------------------------------------------------------------------\u001b[0m",
      "\u001b[0;31mAttributeError\u001b[0m                            Traceback (most recent call last)",
      "Input \u001b[0;32mIn [38]\u001b[0m, in \u001b[0;36m<cell line: 1>\u001b[0;34m()\u001b[0m\n\u001b[0;32m----> 1\u001b[0m \u001b[43mraw_train\u001b[49m\u001b[38;5;241;43m.\u001b[39;49m\u001b[43mshape\u001b[49m()\n",
      "\u001b[0;31mAttributeError\u001b[0m: 'BatchDataset' object has no attribute 'shape'"
     ]
    }
   ],
   "source": [
    "ra"
   ]
  },
  {
   "cell_type": "code",
   "execution_count": null,
   "id": "0b53c5c9",
   "metadata": {},
   "outputs": [],
   "source": []
  }
 ],
 "metadata": {
  "kernelspec": {
   "display_name": "tf25",
   "language": "python",
   "name": "tf25"
  },
  "language_info": {
   "codemirror_mode": {
    "name": "ipython",
    "version": 3
   },
   "file_extension": ".py",
   "mimetype": "text/x-python",
   "name": "python",
   "nbconvert_exporter": "python",
   "pygments_lexer": "ipython3",
   "version": "3.8.13"
  }
 },
 "nbformat": 4,
 "nbformat_minor": 5
}
