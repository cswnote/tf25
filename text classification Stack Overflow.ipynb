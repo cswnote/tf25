{
 "cells": [
  {
   "cell_type": "code",
   "execution_count": 18,
   "id": "409fc073",
   "metadata": {},
   "outputs": [],
   "source": [
    "import tensorflow as tf\n",
    "from tensorflow.keras.utils import plot_model, text_dataset_from_directory\n",
    "from tensorflow.keras.optimizers import Adam\n",
    "from tensorflow.keras.layers import InputLayer, Dense, Flatten, Conv2D, MaxPool2D, Dropout, Embedding, GlobalAveragePooling1D, Activation\n",
    "from tensorflow.keras.models import Sequential, Model\n",
    "from tensorflow.keras.losses import SparseCategoricalCrossentropy, CategoricalCrossentropy, BinaryCrossentropy\n",
    "\n",
    "import os\n",
    "import re\n",
    "import shutil\n",
    "import string\n",
    "import numpy as np\n",
    "import matplotlib.pyplot as plt"
   ]
  },
  {
   "cell_type": "code",
   "execution_count": 2,
   "id": "cffe2607",
   "metadata": {},
   "outputs": [
    {
     "name": "stdout",
     "output_type": "stream",
     "text": [
      "tensorflow version is 2.9.0\n"
     ]
    }
   ],
   "source": [
    "print('tensorflow version is {}'.format(tf.__version__))"
   ]
  },
  {
   "cell_type": "code",
   "execution_count": 3,
   "id": "f956b44b",
   "metadata": {},
   "outputs": [],
   "source": [
    "file='stack_overflow_16k'\n",
    "url = 'https://storage.googleapis.com/download.tensorflow.org/data/stack_overflow_16k.tar.gz'"
   ]
  },
  {
   "cell_type": "code",
   "execution_count": 5,
   "id": "dcdcd04f",
   "metadata": {},
   "outputs": [],
   "source": [
    "# # 뭔가 이상함, cache_subdir=file로 한 후 '' 해야 directory 구조가 원하는 대로 됨\n",
    "dataset = tf.keras.utils.get_file(file, origin=url, untar=True, cache_dir='.' , cache_subdir=file)"
   ]
  },
  {
   "cell_type": "code",
   "execution_count": 6,
   "id": "4f81f0c8",
   "metadata": {},
   "outputs": [],
   "source": [
    "# # 뭔가 이상함, cache_subdir=file로 한 후 '' 해야 directory 구조가 원하는 대로 됨\n",
    "dataset = tf.keras.utils.get_file(file, origin=url, untar=True, cache_dir='.' , cache_subdir='')"
   ]
  },
  {
   "cell_type": "code",
   "execution_count": 7,
   "id": "010711ef",
   "metadata": {},
   "outputs": [
    {
     "data": {
      "text/plain": [
       "'./stack_overflow_16k'"
      ]
     },
     "execution_count": 7,
     "metadata": {},
     "output_type": "execute_result"
    }
   ],
   "source": [
    "dataset"
   ]
  },
  {
   "cell_type": "code",
   "execution_count": 11,
   "id": "20d92c70",
   "metadata": {},
   "outputs": [
    {
     "data": {
      "text/plain": [
       "['test', 'stack_overflow_16k.tar.gz', 'README.md', 'train']"
      ]
     },
     "execution_count": 11,
     "metadata": {},
     "output_type": "execute_result"
    }
   ],
   "source": [
    "os.listdir(dataset)"
   ]
  },
  {
   "cell_type": "code",
   "execution_count": 12,
   "id": "6bb14760",
   "metadata": {},
   "outputs": [],
   "source": [
    "train_dir = os.path.join(dataset, 'train')"
   ]
  },
  {
   "cell_type": "code",
   "execution_count": 13,
   "id": "584d3d9b",
   "metadata": {},
   "outputs": [],
   "source": [
    "test_dir = os.path.join(dataset, 'test')"
   ]
  },
  {
   "cell_type": "code",
   "execution_count": 16,
   "id": "179a6e4a",
   "metadata": {},
   "outputs": [
    {
     "data": {
      "text/plain": [
       "'./stack_overflow_16k/train'"
      ]
     },
     "execution_count": 16,
     "metadata": {},
     "output_type": "execute_result"
    }
   ],
   "source": [
    "train_dir"
   ]
  },
  {
   "cell_type": "code",
   "execution_count": 20,
   "id": "34979689",
   "metadata": {},
   "outputs": [],
   "source": [
    "seed = 111\n",
    "batch_size = 32"
   ]
  },
  {
   "cell_type": "code",
   "execution_count": 22,
   "id": "be9a1e48",
   "metadata": {},
   "outputs": [
    {
     "name": "stdout",
     "output_type": "stream",
     "text": [
      "Found 8000 files belonging to 4 classes.\n",
      "Using 6400 files for training.\n",
      "Found 8000 files belonging to 4 classes.\n",
      "Using 1600 files for validation.\n",
      "Found 8000 files belonging to 4 classes.\n"
     ]
    }
   ],
   "source": [
    "raw_train = text_dataset_from_directory(\n",
    "    train_dir, batch_size=batch_size, validation_split=0.2, subset='training', seed=seed)\n",
    "raw_val = text_dataset_from_directory(\n",
    "    train_dir, batch_size=batch_size, validation_split=0.2, subset='validation', seed=seed)\n",
    "raw_test = text_dataset_from_directory(\n",
    "    test_dir, batch_size=batch_size)"
   ]
  },
  {
   "cell_type": "code",
   "execution_count": 23,
   "id": "bfaf0c35",
   "metadata": {},
   "outputs": [],
   "source": [
    "def custom_standardization(input_data):\n",
    "    lowercase = tf.strings.lower(input_data)\n",
    "    stripped_html = tf.strings.regex_replace(lowercase, '<br />', ' ')\n",
    "    return tf.strings.regex_replace(stripped_html,\n",
    "                                  '[%s]' % re.escape(string.punctuation),\n",
    "                                  '')"
   ]
  },
  {
   "cell_type": "code",
   "execution_count": 24,
   "id": "0f118998",
   "metadata": {},
   "outputs": [],
   "source": [
    "max_features = 10000\n",
    "sequence_length = 250\n",
    "\n",
    "vectorize_layer = tf.keras.layers.TextVectorization(\n",
    "    standardize=custom_standardization,\n",
    "    max_tokens=max_features,\n",
    "    output_mode='int',\n",
    "    output_sequence_length=sequence_length)"
   ]
  },
  {
   "cell_type": "code",
   "execution_count": 26,
   "id": "26d33d4a",
   "metadata": {},
   "outputs": [],
   "source": [
    "def vectorize_text(text, label):\n",
    "  text = tf.expand_dims(text, -1)\n",
    "  return vectorize_layer(text), label"
   ]
  },
  {
   "cell_type": "code",
   "execution_count": 27,
   "id": "6121d987",
   "metadata": {},
   "outputs": [
    {
     "name": "stderr",
     "output_type": "stream",
     "text": [
      "2022-06-15 08:19:10.729291: W tensorflow/core/platform/profile_utils/cpu_utils.cc:128] Failed to get CPU frequency: 0 Hz\n"
     ]
    }
   ],
   "source": [
    "text_batch, label_batch = next(iter(raw_train))"
   ]
  },
  {
   "cell_type": "code",
   "execution_count": 40,
   "id": "442ddcbc",
   "metadata": {
    "scrolled": true
   },
   "outputs": [
    {
     "name": "stdout",
     "output_type": "stream",
     "text": [
      "first riview:  b'\"comparing 2 int arrays can anyone tell me whats wrong in this method and why it gives a nullpointerexception ?..public boolean check(){..    scanner scan = new scanner(system.in);..    int[] arr1 = new int []{1,2,3};.    int[] arr2 = new int[]{};..    for(int i = 0;i&lt;arr1.length;i++).    {.        system.out.println(\"\"enter numbers to check\"\");.        arr2[i] = scan.nextint();.    }..    if(arr1 == arr2).        return true;..    return false;.}\"\\n'\n",
      "first label:  java\n"
     ]
    }
   ],
   "source": [
    "first_review = text_batch[0]\n",
    "first_label = label_batch[0]\n",
    "print('first riview: ', first_review.numpy())\n",
    "print('first label: ', raw_train.class_names[first_label])"
   ]
  },
  {
   "cell_type": "code",
   "execution_count": 48,
   "id": "c89909cf",
   "metadata": {},
   "outputs": [
    {
     "name": "stderr",
     "output_type": "stream",
     "text": [
      "2022-06-15 12:35:12.831138: I tensorflow/core/grappler/optimizers/custom_graph_optimizer_registry.cc:113] Plugin optimizer for device_type GPU is enabled.\n"
     ]
    }
   ],
   "source": [
    "text_for_word_tabel = raw_train.map(lambda x, y: x)\n",
    "vectorize_layer.adapt(text_for_word_tabel)"
   ]
  },
  {
   "cell_type": "code",
   "execution_count": 49,
   "id": "5f6ba037",
   "metadata": {},
   "outputs": [
    {
     "data": {
      "text/plain": [
       "(<tf.Tensor: shape=(1, 250), dtype=int64, numpy=\n",
       " array([[1031,   59,   29,  657,   34,  289,  414,   74,  476,  149,    7,\n",
       "           13,   66,    8,  109,   10,  400,    5, 1790,   19,  264,  184,\n",
       "          245, 1267,   15,  442,   29,    1,   15,   29, 1118,   29, 5994,\n",
       "           15,   29,  410,    3,    1,  547,  188,    4,  184,    1, 2154,\n",
       "            1, 5994,   25,   91,   25,  101,    0,    0,    0,    0,    0,\n",
       "            0,    0,    0,    0,    0,    0,    0,    0,    0,    0,    0,\n",
       "            0,    0,    0,    0,    0,    0,    0,    0,    0,    0,    0,\n",
       "            0,    0,    0,    0,    0,    0,    0,    0,    0,    0,    0,\n",
       "            0,    0,    0,    0,    0,    0,    0,    0,    0,    0,    0,\n",
       "            0,    0,    0,    0,    0,    0,    0,    0,    0,    0,    0,\n",
       "            0,    0,    0,    0,    0,    0,    0,    0,    0,    0,    0,\n",
       "            0,    0,    0,    0,    0,    0,    0,    0,    0,    0,    0,\n",
       "            0,    0,    0,    0,    0,    0,    0,    0,    0,    0,    0,\n",
       "            0,    0,    0,    0,    0,    0,    0,    0,    0,    0,    0,\n",
       "            0,    0,    0,    0,    0,    0,    0,    0,    0,    0,    0,\n",
       "            0,    0,    0,    0,    0,    0,    0,    0,    0,    0,    0,\n",
       "            0,    0,    0,    0,    0,    0,    0,    0,    0,    0,    0,\n",
       "            0,    0,    0,    0,    0,    0,    0,    0,    0,    0,    0,\n",
       "            0,    0,    0,    0,    0,    0,    0,    0,    0,    0,    0,\n",
       "            0,    0,    0,    0,    0,    0,    0,    0,    0,    0,    0,\n",
       "            0,    0,    0,    0,    0,    0,    0,    0,    0,    0,    0,\n",
       "            0,    0,    0,    0,    0,    0,    0,    0,    0,    0,    0,\n",
       "            0,    0,    0,    0,    0,    0,    0,    0]])>,\n",
       " <tf.Tensor: shape=(), dtype=int32, numpy=1>)"
      ]
     },
     "execution_count": 49,
     "metadata": {},
     "output_type": "execute_result"
    }
   ],
   "source": [
    "vectorize_text(first_review, first_label)"
   ]
  },
  {
   "cell_type": "code",
   "execution_count": 50,
   "id": "c0ad4021",
   "metadata": {},
   "outputs": [
    {
     "data": {
      "text/plain": [
       "<tf.Tensor: shape=(), dtype=int32, numpy=1>"
      ]
     },
     "execution_count": 50,
     "metadata": {},
     "output_type": "execute_result"
    }
   ],
   "source": [
    "first_label"
   ]
  },
  {
   "cell_type": "code",
   "execution_count": null,
   "id": "fcd830cc",
   "metadata": {},
   "outputs": [],
   "source": []
  },
  {
   "cell_type": "code",
   "execution_count": null,
   "id": "df0add64",
   "metadata": {},
   "outputs": [],
   "source": []
  },
  {
   "cell_type": "code",
   "execution_count": null,
   "id": "1ed7e545",
   "metadata": {},
   "outputs": [],
   "source": []
  }
 ],
 "metadata": {
  "kernelspec": {
   "display_name": "tf29",
   "language": "python",
   "name": "tf29"
  },
  "language_info": {
   "codemirror_mode": {
    "name": "ipython",
    "version": 3
   },
   "file_extension": ".py",
   "mimetype": "text/x-python",
   "name": "python",
   "nbconvert_exporter": "python",
   "pygments_lexer": "ipython3",
   "version": "3.10.4"
  }
 },
 "nbformat": 4,
 "nbformat_minor": 5
}
