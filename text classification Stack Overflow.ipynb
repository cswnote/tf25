{
 "cells": [
  {
   "cell_type": "code",
   "execution_count": 1,
   "id": "4d6fdd44",
   "metadata": {
    "scrolled": true
   },
   "outputs": [],
   "source": [
    "import tensorflow as tf\n",
    "from tensorflow.keras.utils import plot_model\n",
    "from tensorflow.keras.optimizers import Adam\n",
    "from tensorflow.keras.layers import InputLayer, Dense, Flatten, Conv2D, MaxPool2D, Dropout, Embedding, GlobalAveragePooling1D, Activation\n",
    "from tensorflow.keras.models import Sequential, Model\n",
    "from tensorflow.keras.losses import SparseCategoricalCrossentropy, CategoricalCrossentropy, BinaryCrossentropy\n",
    "\n",
    "import os\n",
    "import re\n",
    "import shutil\n",
    "import string\n",
    "import numpy as np\n",
    "import matplotlib.pyplot as plt"
   ]
  },
  {
   "cell_type": "code",
   "execution_count": 2,
   "id": "7c367e12",
   "metadata": {},
   "outputs": [
    {
     "name": "stdout",
     "output_type": "stream",
     "text": [
      "tensorflow version is 2.8.0\n"
     ]
    }
   ],
   "source": [
    "print('tensorflow version is {}'.format(tf.__version__))"
   ]
  },
  {
   "cell_type": "code",
   "execution_count": 3,
   "id": "e08adc84",
   "metadata": {},
   "outputs": [],
   "source": [
    "file='stack_overflow_16k'\n",
    "url = 'https://storage.googleapis.com/download.tensorflow.org/data/stack_overflow_16k.tar.gz'"
   ]
  },
  {
   "cell_type": "code",
   "execution_count": 4,
   "id": "de189b93",
   "metadata": {
    "scrolled": false
   },
   "outputs": [],
   "source": [
    "# # 뭔가 이상함, cache_subdir=file로 한 후 '' 해야 directory 구조가 원하는 대로 됨\n",
    "dataset = tf.keras.utils.get_file(file, origin=url, untar=True, cache_dir='.' , cache_subdir=file)"
   ]
  },
  {
   "cell_type": "code",
   "execution_count": 5,
   "id": "984f4cd3",
   "metadata": {
    "scrolled": false
   },
   "outputs": [],
   "source": [
    "# # 뭔가 이상함, cache_subdir=file로 한 후 '' 해야 directory 구조가 원하는 대로 됨\n",
    "dataset = tf.keras.utils.get_file(file, origin=url, untar=True, cache_dir='.' , cache_subdir='')"
   ]
  },
  {
   "cell_type": "code",
   "execution_count": 6,
   "id": "bc92b2b2",
   "metadata": {
    "scrolled": false
   },
   "outputs": [
    {
     "data": {
      "text/plain": [
       "['test', 'stack_overflow_16k.tar.gz', 'README.md', 'train']"
      ]
     },
     "execution_count": 6,
     "metadata": {},
     "output_type": "execute_result"
    }
   ],
   "source": [
    "os.listdir(dataset)"
   ]
  },
  {
   "cell_type": "code",
   "execution_count": 7,
   "id": "d3afdcc9",
   "metadata": {},
   "outputs": [],
   "source": [
    "train_dir = os.path.join(dataset, 'train')\n",
    "train_dir_list = os.listdir(train_dir)"
   ]
  },
  {
   "cell_type": "code",
   "execution_count": 8,
   "id": "c8b0fed3",
   "metadata": {},
   "outputs": [
    {
     "data": {
      "text/plain": [
       "['python', 'java', 'csharp', 'javascript']"
      ]
     },
     "execution_count": 8,
     "metadata": {},
     "output_type": "execute_result"
    }
   ],
   "source": [
    "train_dir_list"
   ]
  },
  {
   "cell_type": "code",
   "execution_count": 9,
   "id": "70c9a0a7",
   "metadata": {},
   "outputs": [],
   "source": [
    "train_dir_list = [i for i in train_dir_list if '.' != i[0]]"
   ]
  },
  {
   "cell_type": "code",
   "execution_count": 10,
   "id": "d81d203c",
   "metadata": {},
   "outputs": [
    {
     "data": {
      "text/plain": [
       "['python', 'java', 'csharp', 'javascript']"
      ]
     },
     "execution_count": 10,
     "metadata": {},
     "output_type": "execute_result"
    }
   ],
   "source": [
    "train_dir_list"
   ]
  },
  {
   "cell_type": "code",
   "execution_count": 11,
   "id": "d0468497",
   "metadata": {},
   "outputs": [
    {
     "name": "stdout",
     "output_type": "stream",
     "text": [
      "\"how to iterate a file in chunks? i have a file (foo.txt) that is sorted like so (column 0 is grouped):..1  foo     bar.1  lorem   ipsum   gypsum.1  baba    loo     too.2  hello   goodbye seeya.3  kobe    magic   wilt.3  foo     sneaks  bar.3  more    stuff.3  last    line    in      file...how can i iterate the file in chunks of line.split()[0]?  i know that generators can do this but i'm not entirely sure how.  essentially, i would like to do this:..def first_column_grouping(file):.    yield some_list ## how?..with open(\"\"foo.txt\"\") as file:.    for group in first_column_grouping(file): ## 3 values.        print group...expected output:..[\"\"1 foo bar\"\", \"\"1 lorem ipsum gypsum\"\", \"\"1 baba loo too\"\"].[\"\"2 hello goodbye seeya\"\"].[\"\"3 kobe magic wilt\"\", 3 foo sneaks bar\"\", \"\"3 more stuff\"\", \"\"3 last line in file\"\"]\"\n",
      "\n",
      "=========================================================\n",
      "\"can't get the method to work i have this method here, which converts an image to a byte array...public byte[] imagetocompressedbytearray(image image) throws ioexception {.//load the image.string f = \"\"c:\\users\\mamed\\documents\\netbeansprojects\\main\\src\\resources\\accept.png\"\";.image = imageio.read(new fileinputstream(new file(f)));...// get image size.int width = image.getwidth(null);.int height = image.getheight(null);...try {.  int[] imagesource = new int[width * height];.  pixelgrabber pg = new pixelgrabber(image, 0, 0, width, height, imagesource, 0, width);.  pg.grabpixels();...  bytearrayoutputstream bytestream = new bytearrayoutputstream(); .  gzipoutputstream zippedstream = new gzipoutputstream(bytestream);.  objectoutputstream objectstream = new objectoutputstream(zippedstream);.  objectstream.writeshort(width);.  objectstream.writeshort(height);.  objectstream.writeobject(imagesource);.  objectstream.flush();.  objectstream.close();.  return bytestream.tobytearray();.}.catch (exception e) {.  throw new ioexception(\"\"error storing image in object: \"\" + e);.}...}..however, i can't get this to work, i mean, it can't load the image and convert it, and i don't have an idea what the problem can be.\"\n",
      "\n",
      "=========================================================\n",
      "\"static class, static constructors and static properties i have a static class that has only static properties and a static constructor. when i try to access or set the value of property (with a backing field) the static constructor is not called. however, if i define a static method and try to call it the constructor is executed...i believe properties are just syntactical sugar and are internally translated as methods. so why does the runtime treats them differently? my class define is given below:..edit: i have removed the code where i was initializing the value of _fileencodingtext inline...edit: the constructor is called but the property is not set. this is probably because \"\"a static constructor runs exactly zero or one times, and runs before a static method call or instance creation in its type\"\". igor ostrovsky and eric lippert have explained it in their blogs...http://blogs.msdn.com/b/pfxteam/archive/2011/05/03/10159682.aspx.http://ericlippert.com/2013/01/31/the-no-lock-deadlock/..internal static class appsettings.{.    static appsettings().    {.        fileencodingtext = \"\"utf8\"\";.    }..private static string _fileencodingtext;.public static string fileencodingtext.{.    get { return _fileencodingtext; }.    set.    {.        string oldvalue = _fileencodingtext;.        _fileencodingtext = value;..        try.        {.            fileencoding = encoding.getencoding(value);.        }.        catch (system.exception).        {.            _fileencodingtext = oldvalue;.            fileencoding = encoding.utf8;.        }.    }.}..public static encoding fileencoding { get; private set; }...}\"\n",
      "\n",
      "=========================================================\n",
      "\"a user does something but stays at the same page a user is clicking the button with id continuebutton. if they stay on the same page upon after clicking the button, then i trigger uk-awesomeevent...my effort so far ..bootstrapper.on('click', '#continuebutton', function() {.  settimeout(function() {.    //if nothing happens then trigger this event.    if (document.title === 'current address' &amp;&amp; donotgetredirectedtoanotherpagewhenbuttonisclicked) {.      bootstrapper.ensevent.trigger(\"\"uk-awesomeevent\"\");.    }.  }, 250);.});...desired outcome..in place of donotgetredirectedtoanotherpagewhenbuttonisclicked i want a method that basically states that a user is not redirected to another page. i couldn't find anything online.\"\n",
      "\n",
      "=========================================================\n"
     ]
    }
   ],
   "source": [
    "indexs = np.random.randint(0, 2000, len(train_dir_list))\n",
    "\n",
    "for idx, kind in enumerate(train_dir_list):\n",
    "    file = os.listdir(os.path.join(train_dir, kind))[indexs[idx]]\n",
    "    file = os.path.join(os.path.join(train_dir, kind), file)\n",
    "    with open(file) as f:\n",
    "        print(f.read())\n",
    "    print('=========================================================')\n",
    "    "
   ]
  },
  {
   "cell_type": "code",
   "execution_count": 12,
   "id": "028dc5e7",
   "metadata": {},
   "outputs": [],
   "source": [
    "batch_size = 32\n",
    "seed = 42"
   ]
  },
  {
   "cell_type": "code",
   "execution_count": 13,
   "id": "189f894c",
   "metadata": {},
   "outputs": [
    {
     "name": "stdout",
     "output_type": "stream",
     "text": [
      "Found 8000 files belonging to 4 classes.\n",
      "Using 6400 files for training.\n",
      "Metal device set to: Apple M1\n"
     ]
    },
    {
     "name": "stderr",
     "output_type": "stream",
     "text": [
      "2022-06-10 10:58:09.641943: I tensorflow/core/common_runtime/pluggable_device/pluggable_device_factory.cc:305] Could not identify NUMA node of platform GPU ID 0, defaulting to 0. Your kernel may not have been built with NUMA support.\n",
      "2022-06-10 10:58:09.642048: I tensorflow/core/common_runtime/pluggable_device/pluggable_device_factory.cc:271] Created TensorFlow device (/job:localhost/replica:0/task:0/device:GPU:0 with 0 MB memory) -> physical PluggableDevice (device: 0, name: METAL, pci bus id: <undefined>)\n"
     ]
    }
   ],
   "source": [
    "raw_train = tf.keras.utils.text_dataset_from_directory(\n",
    "    train_dir, batch_size=batch_size, validation_split=0.2, subset='training', seed=seed)"
   ]
  },
  {
   "cell_type": "code",
   "execution_count": 14,
   "id": "9c290164",
   "metadata": {
    "scrolled": false
   },
   "outputs": [
    {
     "name": "stdout",
     "output_type": "stream",
     "text": [
      "tf.Tensor(b'\"my tester is going to the wrong constructor i am new to programming so if i ask a question that can be easily fixed, please forgive me. my program has a tester class with a main. when i send that to my regularpolygon class, it sends it to the wrong constructor. i have two constructors. 1 without perameters..public regularpolygon().    {.       mynumsides = 5;.       mysidelength = 30;.    }//end default constructor...and my second, with perameters. ..public regularpolygon(int numsides, double sidelength).    {.        mynumsides = numsides;.        mysidelength = sidelength;.    }// end constructor...in my tester class i have these two lines:..regularpolygon shape = new regularpolygon(numsides, sidelength);.        shape.menu();...numsides and sidelength were declared and initialized earlier in the testing class...so what i want to happen, is the tester class sends numsides and sidelength to the second constructor and use it in that class. but it only uses the default constructor, which therefor ruins the whole rest of the program. can somebody help me?..for those of you who want to see more of my code: here you go..public double vertexangle().    {.        system.out.println(\"\"the vertex angle method: \"\" + mynumsides);// prints out 5.        system.out.println(\"\"the vertex angle method: \"\" + mysidelength); // prints out 30..        double vertexangle;.        vertexangle = ((mynumsides - 2.0) / mynumsides) * 180.0;.        return vertexangle;.    }//end method vertexangle..public void menu().{.    system.out.println(mynumsides); // prints out what the user puts in.    system.out.println(mysidelength); // prints out what the user puts in.    gotographic();.    calcr(mynumsides, mysidelength);.    calcr(mynumsides, mysidelength);.    print(); .}// end menu...this is my entire tester class:..public static void main(string[] arg).{.    int numsides;.    double sidelength;.    scanner keyboard = new scanner(system.in);..    system.out.println(\"\"welcome to the regular polygon program!\"\");.    system.out.println();..    system.out.print(\"\"enter the number of sides of the polygon ==&gt; \"\");.    numsides = keyboard.nextint();.    system.out.println();..    system.out.print(\"\"enter the side length of each side ==&gt; \"\");.    sidelength = keyboard.nextdouble();.    system.out.println();..    regularpolygon shape = new regularpolygon(numsides, sidelength);.    shape.menu();.}//end main...for testing it i sent it numsides 4 and sidelength 100.\"\\n', shape=(), dtype=string)\n",
      "java\n",
      "tf.Tensor(1, shape=(), dtype=int32)\n"
     ]
    },
    {
     "name": "stderr",
     "output_type": "stream",
     "text": [
      "2022-06-10 10:58:10.548965: W tensorflow/core/platform/profile_utils/cpu_utils.cc:128] Failed to get CPU frequency: 0 Hz\n"
     ]
    }
   ],
   "source": [
    "a = next(iter(raw_train.take(1)))\n",
    "print(a[0][0])\n",
    "print(raw_train.class_names[a[1][0]])\n",
    "print(a[1][0])"
   ]
  },
  {
   "cell_type": "code",
   "execution_count": 15,
   "id": "d1ea87dd",
   "metadata": {},
   "outputs": [
    {
     "name": "stdout",
     "output_type": "stream",
     "text": [
      "=================================\n",
      "java\n",
      "=================================\n",
      "b'\"blank8 why is my solution faster than the neat solution? (hackerrank chocolate feast) edit: simplified my solution..edit: removed opinion based secondary question...background: atarted learning blank a week or two ago using hackerranks problems as exercises and stackoverflow search + google as my teacher, i\\'ve had some limited experience learning other languages...i did the exercise my own \"\"noobish learner way\"\" which i can\\'t help but feel is a \"\"botched job\"\" when i see \"\"neat &amp; short\"\" solutions...however, when submitting both solutions one after another a couple of times i found the \"\"neat\"\" solution was quite a bit slower. ..i vaguely remember something about % operations being costly, is mine faster because of no % operations or is there more to it than just that?..exercise: https://www.hackerrank.com/challenges/chocolate-feast..neat solution from discussion:..import blank.io.*;.import blank.util.*;..public class solution {.    static int cc; .    public static void main(string[] args) {.        scanner in = new scanner(system.in);.        int t,n,c,m,r;.            t = in.nextint();.            while(t--&gt;0){.             n = in.nextint();.            c = in.nextint();.             m = in.nextint();.                r=n/c;.                cc=r;..                    while(r&gt;=m){.                        cc=cc+r/m;.                        r=r%m+r/m;.                    }..                system.out.println(cc); .            }..    }.}...my solution:..import blank.io.*;.import blank.util.*;..public class solution {..    public static void main(string[] args) {..        scanner sc = new scanner(system.in);.        int t = integer.parseint(sc.nextline());    //t = number of test cases.        int[][] tc = readinput(sc, t);              //tc[t][0] = money. tc[t][1] = price. tc[t][2] = wrappers per free bar..        for (int i = 0; i&lt;t; i++){                  //loop for all test cases.            int choc = calcchoc(tc,i);              //work out how much choc can be bought.            system.out.println(choc);               //print result for the test case.        }.    }.    //calculate how much choc he can buy with m $ at p price with w wrappers needed for a free bar.    public static int calcchoc(int[][] tc,int i){..        int m = tc[i][0];       //money he has.        int p = tc[i][1];       //price of choc.        int w = tc[i][2];       //wrappers per free bar..        int bars = m/p;         //how many bars he can buy initially.        int wrappers = bars;    //each bar is a wrapper from initial purpose..        //loop to turn in all wrappers while it is possible to do so.        while (w&lt;=wrappers){..            int barsfromturnin = wrappers/w;                //bars from turning in current wrappers..            bars = bars + barsfromturnin;                   //new bar count.            wrappers = wrappers - (barsfromturnin * (w-1)); //wrapper count reduced by amount of wrappers turned in -1 wrapper per bar recieved from turn in...            if (w==1){ //break out of infinite loop when you get 1 bar for 1 wrapper!.                system.out.print(\"\"infinite bars, exiting infinite loop at bars = \"\");.                break;.            }.        }.        return bars;.    }.    //read input for each test case and make 2d array of the info.    public static int[][] readinput(scanner sc, int t){..        int[][] input = new int[t][3];..        for (int i = 0; i&lt;t; i++){.            string[] inputline = sc.nextline().split(\"\" \"\");..            input[i][0] = integer.parseint(inputline[0]);.            input[i][1] = integer.parseint(inputline[1]);.            input[i][2] = integer.parseint(inputline[2]);.        }.        return input;.    }.}\"\\n'\n",
      "=================================\n",
      "tf.Tensor(b'\"blank8 why is my solution faster than the neat solution? (hackerrank chocolate feast) edit: simplified my solution..edit: removed opinion based secondary question...background: atarted learning blank a week or two ago using hackerranks problems as exercises and stackoverflow search + google as my teacher, i\\'ve had some limited experience learning other languages...i did the exercise my own \"\"noobish learner way\"\" which i can\\'t help but feel is a \"\"botched job\"\" when i see \"\"neat &amp; short\"\" solutions...however, when submitting both solutions one after another a couple of times i found the \"\"neat\"\" solution was quite a bit slower. ..i vaguely remember something about % operations being costly, is mine faster because of no % operations or is there more to it than just that?..exercise: https://www.hackerrank.com/challenges/chocolate-feast..neat solution from discussion:..import blank.io.*;.import blank.util.*;..public class solution {.    static int cc; .    public static void main(string[] args) {.        scanner in = new scanner(system.in);.        int t,n,c,m,r;.            t = in.nextint();.            while(t--&gt;0){.             n = in.nextint();.            c = in.nextint();.             m = in.nextint();.                r=n/c;.                cc=r;..                    while(r&gt;=m){.                        cc=cc+r/m;.                        r=r%m+r/m;.                    }..                system.out.println(cc); .            }..    }.}...my solution:..import blank.io.*;.import blank.util.*;..public class solution {..    public static void main(string[] args) {..        scanner sc = new scanner(system.in);.        int t = integer.parseint(sc.nextline());    //t = number of test cases.        int[][] tc = readinput(sc, t);              //tc[t][0] = money. tc[t][1] = price. tc[t][2] = wrappers per free bar..        for (int i = 0; i&lt;t; i++){                  //loop for all test cases.            int choc = calcchoc(tc,i);              //work out how much choc can be bought.            system.out.println(choc);               //print result for the test case.        }.    }.    //calculate how much choc he can buy with m $ at p price with w wrappers needed for a free bar.    public static int calcchoc(int[][] tc,int i){..        int m = tc[i][0];       //money he has.        int p = tc[i][1];       //price of choc.        int w = tc[i][2];       //wrappers per free bar..        int bars = m/p;         //how many bars he can buy initially.        int wrappers = bars;    //each bar is a wrapper from initial purpose..        //loop to turn in all wrappers while it is possible to do so.        while (w&lt;=wrappers){..            int barsfromturnin = wrappers/w;                //bars from turning in current wrappers..            bars = bars + barsfromturnin;                   //new bar count.            wrappers = wrappers - (barsfromturnin * (w-1)); //wrapper count reduced by amount of wrappers turned in -1 wrapper per bar recieved from turn in...            if (w==1){ //break out of infinite loop when you get 1 bar for 1 wrapper!.                system.out.print(\"\"infinite bars, exiting infinite loop at bars = \"\");.                break;.            }.        }.        return bars;.    }.    //read input for each test case and make 2d array of the info.    public static int[][] readinput(scanner sc, int t){..        int[][] input = new int[t][3];..        for (int i = 0; i&lt;t; i++){.            string[] inputline = sc.nextline().split(\"\" \"\");..            input[i][0] = integer.parseint(inputline[0]);.            input[i][1] = integer.parseint(inputline[1]);.            input[i][2] = integer.parseint(inputline[2]);.        }.        return input;.    }.}\"\\n', shape=(), dtype=string)\n",
      "=================================\n"
     ]
    }
   ],
   "source": [
    "for text, label in raw_train.take(1):\n",
    "    for i in range(1):\n",
    "        print('=================================')\n",
    "        print(raw_train.class_names[label[i]])\n",
    "        print('=================================')\n",
    "        print(text[i].numpy())\n",
    "        print('=================================')\n",
    "        print(text[i])\n",
    "        print('=================================')"
   ]
  },
  {
   "cell_type": "code",
   "execution_count": 16,
   "id": "865755fe",
   "metadata": {},
   "outputs": [
    {
     "name": "stdout",
     "output_type": "stream",
     "text": [
      "Found 8000 files belonging to 4 classes.\n",
      "Using 1600 files for validation.\n"
     ]
    }
   ],
   "source": [
    "val_train = tf.keras.utils.text_dataset_from_directory(\n",
    "    'stack_overflow_16k/train',\n",
    "    batch_size=batch_size, \n",
    "    validation_split=0.2, \n",
    "    subset='validation', \n",
    "    seed=seed)"
   ]
  },
  {
   "cell_type": "code",
   "execution_count": 17,
   "id": "1d4d3860",
   "metadata": {},
   "outputs": [
    {
     "data": {
      "text/plain": [
       "'./stack_overflow_16k/test'"
      ]
     },
     "execution_count": 17,
     "metadata": {},
     "output_type": "execute_result"
    }
   ],
   "source": [
    "test_dir = os.path.join(dataset + '/test')\n",
    "test_dir"
   ]
  },
  {
   "cell_type": "code",
   "execution_count": 18,
   "id": "10d0aa68",
   "metadata": {},
   "outputs": [
    {
     "name": "stdout",
     "output_type": "stream",
     "text": [
      "Found 8000 files belonging to 4 classes.\n"
     ]
    }
   ],
   "source": [
    "test = tf.keras.utils.text_dataset_from_directory(test_dir, batch_size=batch_size)"
   ]
  },
  {
   "cell_type": "code",
   "execution_count": 24,
   "id": "87aed5db",
   "metadata": {},
   "outputs": [],
   "source": [
    "sub_dir = os.listdir(train_dir)[1]\n",
    "sample_dir = os.path.join(train_dir, sub_dir)\n",
    "file = os.listdir(sample_dir)[1]"
   ]
  },
  {
   "cell_type": "code",
   "execution_count": 25,
   "id": "1529aab1",
   "metadata": {},
   "outputs": [
    {
     "data": {
      "text/plain": [
       "'./stack_overflow_16k/train/java/1735.txt'"
      ]
     },
     "execution_count": 25,
     "metadata": {},
     "output_type": "execute_result"
    }
   ],
   "source": [
    "sample_file = os.path.join(sample_dir, file)\n",
    "sample_file"
   ]
  },
  {
   "cell_type": "code",
   "execution_count": 26,
   "id": "8de35da6",
   "metadata": {},
   "outputs": [
    {
     "name": "stdout",
     "output_type": "stream",
     "text": [
      "tf.Tensor(b'./stack_overflow_16k/train/java/1735.txt', shape=(), dtype=string)\n"
     ]
    }
   ],
   "source": [
    "print(tf.strings.lower(sample_file))"
   ]
  },
  {
   "cell_type": "code",
   "execution_count": 27,
   "id": "06119fed",
   "metadata": {},
   "outputs": [
    {
     "name": "stdout",
     "output_type": "stream",
     "text": [
      "b'./stack_overflow_16k/train/java/1735.txt'\n"
     ]
    }
   ],
   "source": [
    "print(tf.strings.lower(sample_file).numpy())"
   ]
  },
  {
   "cell_type": "code",
   "execution_count": 28,
   "id": "5a3c75a8",
   "metadata": {},
   "outputs": [
    {
     "name": "stdout",
     "output_type": "stream",
     "text": [
      "\"how to adjust the speed of objects moving over a 2d playing field? i'm writing a tower defence game and my main component is a grid divided into 40x40 fields (an object of the class field). when the game starts the sortest way to the nearest base is found for every spawn (which is a special kind of field) and saved in its field int[] path, which represents a sequence of directions which the monster must follow to reach the base...i have created a thread that has a loop which moves every monster 1px forward  and increases its field distance in each pass. every time the monster moves i also check if it hasn't stepped on the center of a field. i do it using:..if ((monster.getdistance() % field_size /*which is 40*/) == 0)...and when it returns 0 the monster changes its direction (reading the position of the next field to reach from its spawn field path)...this works when every enemy moves 1px per pass. but i want them to move with different speed. i found 2 solutions:...move every enemy in a different thread. the higher it's speed is, the shorter would be the thread.sleep() duration..move them in loop with different distance....i prefer the 2. solution but don't know how to implement it. my problem is that most of themonsters would never step on the center of a field and therfore never change direction. if a monster would move with 0.33 speed the distances covered would be: 0.33, 0.66, 0.99 (...) 39.63 (...) 40.13. so it would never reach 40. if i would use ceil, round or floor then it would reach 40 but multiple times what would cause an exception in my app. so my question is how to implement the moving with a float value as the distance and provide that it would reach a multiple of 40 every time but just once per checking?\"\n",
      "\n"
     ]
    }
   ],
   "source": [
    "with open(sample_file) as f:\n",
    "    sample_file = f.read()\n",
    "    print(sample_file)"
   ]
  },
  {
   "cell_type": "code",
   "execution_count": 44,
   "id": "98f64bf3",
   "metadata": {},
   "outputs": [
    {
     "name": "stdout",
     "output_type": "stream",
     "text": [
      "b'\"how to adjust the speed of objects moving over a 2d playing field? i\\'m writing a tower defence game and my main component is a grid divided into 40x40 fields (an object of the class field). when the game starts the sortest way to the nearest base is found for every spawn (which is a special kind of field) and saved in its field int[] path, which represents a sequence of directions which the monster must follow to reach the base...i have created a thread that has a loop which moves every monster 1px forward  and increases its field distance in each pass. every time the monster moves i also check if it hasn\\'t stepped on the center of a field. i do it using:..if ((monster.getdistance() % field_size /*which is 40*/) == 0)...and when it returns 0 the monster changes its direction (reading the position of the next field to reach from its spawn field path)...this works when every enemy moves 1px per pass. but i want them to move with different speed. i found 2 solutions:...move every enemy in a different thread. the higher it\\'s speed is, the shorter would be the thread.sleep() duration..move them in loop with different distance....i prefer the 2. solution but don\\'t know how to implement it. my problem is that most of themonsters would never step on the center of a field and therfore never change direction. if a monster would move with 0.33 speed the distances covered would be: 0.33, 0.66, 0.99 (...) 39.63 (...) 40.13. so it would never reach 40. if i would use ceil, round or floor then it would reach 40 but multiple times what would cause an exception in my app. so my question is how to implement the moving with a float value as the distance and provide that it would reach a multiple of 40 every time but just once per checking?\"\\n'\n"
     ]
    }
   ],
   "source": [
    "lowercase = tf.strings.lower(sample_file)\n",
    "print(lowercase.numpy())"
   ]
  },
  {
   "cell_type": "code",
   "execution_count": 45,
   "id": "0b2823f1",
   "metadata": {},
   "outputs": [
    {
     "name": "stdout",
     "output_type": "stream",
     "text": [
      "b'\"how to adjust the speed of objects moving over a 2d playing field? i\\'m writing a tower defence game and my main component is a grid divided into 40x40 fields (an object of the class field). when the game starts the sortest way to the nearest base is found for every spawn (which is a special kind of field) and saved in its field int[] path, which represents a sequence of directions which the monster must follow to reach the base...i have created a thread that has a loop which moves every monster 1px forward  and increases its field distance in each pass. every time the monster moves i also check if it hasn\\'t stepped on the center of a field. i do it using:..if ((monster.getdistance() % field_size /*which is 40*/) == 0)...and when it returns 0 the monster changes its direction (reading the position of the next field to reach from its spawn field path)...this works when every enemy moves 1px per pass. but i want them to move with different speed. i found 2 solutions:...move every enemy in a different thread. the higher it\\'s speed is, the shorter would be the thread.sleep() duration..move them in loop with different distance....i prefer the 2. solution but don\\'t know how to implement it. my problem is that most of themonsters would never step on the center of a field and therfore never change direction. if a monster would move with 0.33 speed the distances covered would be: 0.33, 0.66, 0.99 (...) 39.63 (...) 40.13. so it would never reach 40. if i would use ceil, round or floor then it would reach 40 but multiple times what would cause an exception in my app. so my question is how to implement the moving with a float value as the distance and provide that it would reach a multiple of 40 every time but just once per checking?\"\\n'\n"
     ]
    }
   ],
   "source": [
    "stripped_html = tf.strings.regex_replace(lowercase, '<br />', ' ')\n",
    "print(stripped_html.numpy())"
   ]
  },
  {
   "cell_type": "code",
   "execution_count": 46,
   "id": "c79f9b5c",
   "metadata": {},
   "outputs": [
    {
     "name": "stdout",
     "output_type": "stream",
     "text": [
      "b'how to adjust the speed of objects moving over a 2d playing field im writing a tower defence game and my main component is a grid divided into 40x40 fields an object of the class field when the game starts the sortest way to the nearest base is found for every spawn which is a special kind of field and saved in its field int path which represents a sequence of directions which the monster must follow to reach the basei have created a thread that has a loop which moves every monster 1px forward  and increases its field distance in each pass every time the monster moves i also check if it hasnt stepped on the center of a field i do it usingif monstergetdistance  fieldsize which is 40  0and when it returns 0 the monster changes its direction reading the position of the next field to reach from its spawn field paththis works when every enemy moves 1px per pass but i want them to move with different speed i found 2 solutionsmove every enemy in a different thread the higher its speed is the shorter would be the threadsleep durationmove them in loop with different distancei prefer the 2 solution but dont know how to implement it my problem is that most of themonsters would never step on the center of a field and therfore never change direction if a monster would move with 033 speed the distances covered would be 033 066 099  3963  4013 so it would never reach 40 if i would use ceil round or floor then it would reach 40 but multiple times what would cause an exception in my app so my question is how to implement the moving with a float value as the distance and provide that it would reach a multiple of 40 every time but just once per checking\\n'\n"
     ]
    }
   ],
   "source": [
    "stripped_html2 = tf.strings.regex_replace(stripped_html, '[%s]' % re.escape(string.punctuation), '')\n",
    "print(stripped_html2.numpy())"
   ]
  },
  {
   "cell_type": "code",
   "execution_count": 42,
   "id": "50b76d46",
   "metadata": {},
   "outputs": [
    {
     "name": "stdout",
     "output_type": "stream",
     "text": [
      "[!\"\\#\\$%\\&'\\(\\)\\*\\+,\\-\\./:;<=>\\?@\\[\\\\\\]\\^_`\\{\\|\\}\\~]\n"
     ]
    }
   ],
   "source": []
  },
  {
   "cell_type": "code",
   "execution_count": null,
   "id": "95e6d878",
   "metadata": {},
   "outputs": [],
   "source": []
  }
 ],
 "metadata": {
  "kernelspec": {
   "display_name": "tf25",
   "language": "python",
   "name": "tf25"
  },
  "language_info": {
   "codemirror_mode": {
    "name": "ipython",
    "version": 3
   },
   "file_extension": ".py",
   "mimetype": "text/x-python",
   "name": "python",
   "nbconvert_exporter": "python",
   "pygments_lexer": "ipython3",
   "version": "3.8.13"
  }
 },
 "nbformat": 4,
 "nbformat_minor": 5
}
