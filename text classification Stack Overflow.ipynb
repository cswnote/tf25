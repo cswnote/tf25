{
 "cells": [
  {
   "cell_type": "code",
   "execution_count": 5,
   "id": "4d6fdd44",
   "metadata": {
    "scrolled": true
   },
   "outputs": [
    {
     "ename": "ModuleNotFoundError",
     "evalue": "No module named 'matplotlib'",
     "output_type": "error",
     "traceback": [
      "\u001b[1;31m---------------------------------------------------------------------------\u001b[0m",
      "\u001b[1;31mModuleNotFoundError\u001b[0m                       Traceback (most recent call last)",
      "Input \u001b[1;32mIn [5]\u001b[0m, in \u001b[0;36m<cell line: 13>\u001b[1;34m()\u001b[0m\n\u001b[0;32m     11\u001b[0m \u001b[38;5;28;01mimport\u001b[39;00m \u001b[38;5;21;01mstring\u001b[39;00m\n\u001b[0;32m     12\u001b[0m \u001b[38;5;28;01mimport\u001b[39;00m \u001b[38;5;21;01mnumpy\u001b[39;00m \u001b[38;5;28;01mas\u001b[39;00m \u001b[38;5;21;01mnp\u001b[39;00m\n\u001b[1;32m---> 13\u001b[0m \u001b[38;5;28;01mimport\u001b[39;00m \u001b[38;5;21;01mmatplotlib\u001b[39;00m\u001b[38;5;21;01m.\u001b[39;00m\u001b[38;5;21;01mpyplot\u001b[39;00m \u001b[38;5;28;01mas\u001b[39;00m \u001b[38;5;21;01mplt\u001b[39;00m\n",
      "\u001b[1;31mModuleNotFoundError\u001b[0m: No module named 'matplotlib'"
     ]
    }
   ],
   "source": [
    "import tensorflow as tf\n",
    "from tensorflow.keras.utils import plot_model\n",
    "from tensorflow.keras.optimizers import Adam\n",
    "from tensorflow.keras.layers import InputLayer, Dense, Flatten, Conv2D, MaxPool2D, Dropout, Embedding, GlobalAveragePooling1D, Activation\n",
    "from tensorflow.keras.models import Sequential, Model\n",
    "from tensorflow.keras.losses import SparseCategoricalCrossentropy, CategoricalCrossentropy, BinaryCrossentropy\n",
    "\n",
    "import os\n",
    "import re\n",
    "import shutil\n",
    "import string\n",
    "import numpy as np\n",
    "import matplotlib.pyplot as plt"
   ]
  },
  {
   "cell_type": "code",
   "execution_count": null,
   "id": "7c367e12",
   "metadata": {},
   "outputs": [],
   "source": [
    "print('tensorflow version is {}'.format(tf.__version__))"
   ]
  },
  {
   "cell_type": "code",
   "execution_count": null,
   "id": "e08adc84",
   "metadata": {},
   "outputs": [],
   "source": [
    "file='stack_overflow_16k'\n",
    "url = 'https://storage.googleapis.com/download.tensorflow.org/data/stack_overflow_16k.tar.gz'"
   ]
  },
  {
   "cell_type": "code",
   "execution_count": null,
   "id": "de189b93",
   "metadata": {
    "scrolled": false
   },
   "outputs": [],
   "source": [
    "# # 뭔가 이상함, cache_subdir=file로 한 후 '' 해야 directory 구조가 원하는 대로 됨\n",
    "dataset = tf.keras.utils.get_file(file, origin=url, untar=True, cache_dir='.' , cache_subdir=file)"
   ]
  },
  {
   "cell_type": "code",
   "execution_count": null,
   "id": "984f4cd3",
   "metadata": {
    "scrolled": false
   },
   "outputs": [],
   "source": [
    "# # 뭔가 이상함, cache_subdir=file로 한 후 '' 해야 directory 구조가 원하는 대로 됨\n",
    "dataset = tf.keras.utils.get_file(file, origin=url, untar=True, cache_dir='.' , cache_subdir='')"
   ]
  },
  {
   "cell_type": "code",
   "execution_count": null,
   "id": "bc92b2b2",
   "metadata": {
    "scrolled": false
   },
   "outputs": [],
   "source": [
    "os.listdir(dataset)"
   ]
  },
  {
   "cell_type": "code",
   "execution_count": null,
   "id": "d3afdcc9",
   "metadata": {},
   "outputs": [],
   "source": [
    "train_dir = os.path.join(dataset, 'train')\n",
    "train_dir_list = os.listdir(train_dir)"
   ]
  },
  {
   "cell_type": "code",
   "execution_count": null,
   "id": "c8b0fed3",
   "metadata": {},
   "outputs": [],
   "source": [
    "train_dir_list"
   ]
  },
  {
   "cell_type": "code",
   "execution_count": null,
   "id": "70c9a0a7",
   "metadata": {},
   "outputs": [],
   "source": [
    "train_dir_list = [i for i in train_dir_list if '.' != i[0]]"
   ]
  },
  {
   "cell_type": "code",
   "execution_count": null,
   "id": "d81d203c",
   "metadata": {},
   "outputs": [],
   "source": [
    "train_dir_list"
   ]
  },
  {
   "cell_type": "code",
   "execution_count": null,
   "id": "d0468497",
   "metadata": {},
   "outputs": [],
   "source": [
    "indexs = np.random.randint(0, 2000, len(train_dir_list))\n",
    "\n",
    "for idx, kind in enumerate(train_dir_list):\n",
    "    file = os.listdir(os.path.join(train_dir, kind))[indexs[idx]]\n",
    "    file = os.path.join(os.path.join(train_dir, kind), file)\n",
    "    with open(file) as f:\n",
    "        print(f.read())\n",
    "    print('=========================================================')\n",
    "    "
   ]
  },
  {
   "cell_type": "code",
   "execution_count": null,
   "id": "028dc5e7",
   "metadata": {},
   "outputs": [],
   "source": [
    "batch_size = 32\n",
    "seed = 42"
   ]
  },
  {
   "cell_type": "code",
   "execution_count": null,
   "id": "189f894c",
   "metadata": {},
   "outputs": [],
   "source": [
    "raw_train = tf.keras.utils.text_dataset_from_directory(\n",
    "    train_dir, batch_size=batch_size, validation_split=0.2, subset='training', seed=seed)"
   ]
  },
  {
   "cell_type": "code",
   "execution_count": null,
   "id": "9c290164",
   "metadata": {
    "scrolled": false
   },
   "outputs": [],
   "source": [
    "a = next(iter(raw_train.take(1)))\n",
    "print(a[0][0])\n",
    "print(raw_train.class_names[a[1][0]])\n",
    "print(a[1][0])"
   ]
  },
  {
   "cell_type": "code",
   "execution_count": null,
   "id": "d1ea87dd",
   "metadata": {},
   "outputs": [],
   "source": [
    "for text, label in raw_train.take(1):\n",
    "    for i in range(1):\n",
    "        print('=================================')\n",
    "        print(raw_train.class_names[label[i]])\n",
    "        print('=================================')\n",
    "        print(text[i].numpy())\n",
    "        print('=================================')\n",
    "        print(text[i])\n",
    "        print('=================================')"
   ]
  },
  {
   "cell_type": "code",
   "execution_count": null,
   "id": "865755fe",
   "metadata": {},
   "outputs": [],
   "source": [
    "val_train = tf.keras.utils.text_dataset_from_directory(\n",
    "    'stack_overflow_16k/train',\n",
    "    batch_size=batch_size, \n",
    "    validation_split=0.2, \n",
    "    subset='validation', \n",
    "    seed=seed)"
   ]
  },
  {
   "cell_type": "code",
   "execution_count": null,
   "id": "1d4d3860",
   "metadata": {},
   "outputs": [],
   "source": [
    "test_dir = os.path.join(dataset + '/test')\n",
    "test_dir"
   ]
  },
  {
   "cell_type": "code",
   "execution_count": null,
   "id": "10d0aa68",
   "metadata": {},
   "outputs": [],
   "source": [
    "test = tf.keras.utils.text_dataset_from_directory(test_dir, batch_size=batch_size)"
   ]
  },
  {
   "cell_type": "code",
   "execution_count": null,
   "id": "87aed5db",
   "metadata": {},
   "outputs": [],
   "source": [
    "sub_dir = os.listdir(train_dir)[1]\n",
    "sample_dir = os.path.join(train_dir, sub_dir)\n",
    "file = os.listdir(sample_dir)[1]"
   ]
  },
  {
   "cell_type": "code",
   "execution_count": null,
   "id": "1529aab1",
   "metadata": {},
   "outputs": [],
   "source": [
    "sample_file = os.path.join(sample_dir, file)\n",
    "sample_file"
   ]
  },
  {
   "cell_type": "code",
   "execution_count": null,
   "id": "8de35da6",
   "metadata": {},
   "outputs": [],
   "source": [
    "print(tf.strings.lower(sample_file))"
   ]
  },
  {
   "cell_type": "code",
   "execution_count": null,
   "id": "06119fed",
   "metadata": {},
   "outputs": [],
   "source": [
    "print(tf.strings.lower(sample_file).numpy())"
   ]
  },
  {
   "cell_type": "code",
   "execution_count": null,
   "id": "5a3c75a8",
   "metadata": {},
   "outputs": [],
   "source": [
    "with open(sample_file) as f:\n",
    "    sample_file = f.read()\n",
    "    print(sample_file)"
   ]
  },
  {
   "cell_type": "code",
   "execution_count": null,
   "id": "98f64bf3",
   "metadata": {},
   "outputs": [],
   "source": [
    "lowercase = tf.strings.lower(sample_file)\n",
    "print(lowercase.numpy())"
   ]
  },
  {
   "cell_type": "code",
   "execution_count": null,
   "id": "0b2823f1",
   "metadata": {},
   "outputs": [],
   "source": [
    "stripped_html = tf.strings.regex_replace(lowercase, '<br />', ' ')\n",
    "print(stripped_html.numpy())"
   ]
  },
  {
   "cell_type": "code",
   "execution_count": null,
   "id": "c79f9b5c",
   "metadata": {},
   "outputs": [],
   "source": [
    "stripped_html2 = tf.strings.regex_replace(stripped_html, '[%s]' % re.escape(string.punctuation), '')\n",
    "print(stripped_html2.numpy())"
   ]
  },
  {
   "cell_type": "code",
   "execution_count": null,
   "id": "50b76d46",
   "metadata": {},
   "outputs": [],
   "source": [
    "def vectorize_text(text, label):\n",
    "  text = tf.expand_dims(text, -1)\n",
    "  return vectorize_layer(text), label"
   ]
  },
  {
   "cell_type": "code",
   "execution_count": null,
   "id": "95e6d878",
   "metadata": {},
   "outputs": [],
   "source": []
  }
 ],
 "metadata": {
  "kernelspec": {
   "display_name": "tf25",
   "language": "python",
   "name": "tf25"
  },
  "language_info": {
   "codemirror_mode": {
    "name": "ipython",
    "version": 3
   },
   "file_extension": ".py",
   "mimetype": "text/x-python",
   "name": "python",
   "nbconvert_exporter": "python",
   "pygments_lexer": "ipython3",
   "version": "3.8.13"
  }
 },
 "nbformat": 4,
 "nbformat_minor": 5
}
