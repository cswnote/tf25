{
 "cells": [
  {
   "cell_type": "code",
   "execution_count": null,
   "id": "4fe98eb0",
   "metadata": {},
   "outputs": [],
   "source": [
    "import pathlib\n",
    "import os\n",
    "import pprint"
   ]
  },
  {
   "cell_type": "code",
   "execution_count": null,
   "id": "6dda5b65",
   "metadata": {},
   "outputs": [],
   "source": [
    "p_file = pathlib.Path('/Users/temp/file.txt')"
   ]
  },
  {
   "cell_type": "code",
   "execution_count": null,
   "id": "98c523f1",
   "metadata": {},
   "outputs": [],
   "source": [
    "print(p_file)"
   ]
  },
  {
   "cell_type": "code",
   "execution_count": null,
   "id": "0bc29493",
   "metadata": {},
   "outputs": [],
   "source": [
    "p_file.is_file()"
   ]
  },
  {
   "cell_type": "code",
   "execution_count": null,
   "id": "13a9b008",
   "metadata": {},
   "outputs": [],
   "source": [
    "print(type(p_file))"
   ]
  },
  {
   "cell_type": "code",
   "execution_count": null,
   "id": "7517c2b7",
   "metadata": {},
   "outputs": [],
   "source": [
    "p_dir = pathlib.Path('/Users/temp/dir')"
   ]
  },
  {
   "cell_type": "code",
   "execution_count": null,
   "id": "de622abc",
   "metadata": {},
   "outputs": [],
   "source": [
    "print(p_dir)"
   ]
  },
  {
   "cell_type": "code",
   "execution_count": null,
   "id": "4dde3765",
   "metadata": {},
   "outputs": [],
   "source": [
    "print(type(p_dir))"
   ]
  },
  {
   "cell_type": "code",
   "execution_count": null,
   "id": "77f2989c",
   "metadata": {},
   "outputs": [],
   "source": [
    "p_new_file = pathlib.Path('/Users/temp/new_file.txt')\n",
    "print(p_new_file.exists())"
   ]
  },
  {
   "cell_type": "code",
   "execution_count": null,
   "id": "e91e84de",
   "metadata": {},
   "outputs": [],
   "source": [
    "pathlib.Path('/Users/temp/new_file2.txt').touch()"
   ]
  },
  {
   "cell_type": "code",
   "execution_count": null,
   "id": "1728fe7c",
   "metadata": {},
   "outputs": [],
   "source": [
    "list(pathlib.Path('/Users/temp').iterdir())"
   ]
  },
  {
   "cell_type": "code",
   "execution_count": null,
   "id": "003fa3eb",
   "metadata": {},
   "outputs": [],
   "source": [
    "p_dir.exists()"
   ]
  },
  {
   "cell_type": "code",
   "execution_count": null,
   "id": "547d8ad5",
   "metadata": {},
   "outputs": [],
   "source": [
    "p_sub_dir_file = p_dir / 'sub_dir' / 'file2.txt'"
   ]
  },
  {
   "cell_type": "code",
   "execution_count": null,
   "id": "b0e17723",
   "metadata": {},
   "outputs": [],
   "source": [
    "p_sub_dir_file.is_file()"
   ]
  },
  {
   "cell_type": "code",
   "execution_count": null,
   "id": "a289cb70",
   "metadata": {},
   "outputs": [],
   "source": [
    "p_sub_dir_file"
   ]
  },
  {
   "cell_type": "code",
   "execution_count": null,
   "id": "d05c0b91",
   "metadata": {},
   "outputs": [],
   "source": [
    "p_file"
   ]
  },
  {
   "cell_type": "code",
   "execution_count": null,
   "id": "bc95d512",
   "metadata": {},
   "outputs": [],
   "source": [
    "p_file.samefile(p_file_join)"
   ]
  },
  {
   "cell_type": "code",
   "execution_count": null,
   "id": "bbe7e69b",
   "metadata": {},
   "outputs": [],
   "source": []
  }
 ],
 "metadata": {
  "kernelspec": {
   "display_name": "tf25",
   "language": "python",
   "name": "tf25"
  },
  "language_info": {
   "codemirror_mode": {
    "name": "ipython",
    "version": 3
   },
   "file_extension": ".py",
   "mimetype": "text/x-python",
   "name": "python",
   "nbconvert_exporter": "python",
   "pygments_lexer": "ipython3",
   "version": "3.8.13"
  }
 },
 "nbformat": 4,
 "nbformat_minor": 5
}
