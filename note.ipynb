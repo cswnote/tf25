{
 "cells": [
  {
   "cell_type": "code",
   "execution_count": 1,
   "id": "25716bc5",
   "metadata": {},
   "outputs": [],
   "source": [
    "import tensorflow as tf"
   ]
  },
  {
   "cell_type": "code",
   "execution_count": 24,
   "id": "e530fedc",
   "metadata": {},
   "outputs": [],
   "source": [
    "t1 = tf.random.normal([3, 3, 2])\n",
    "t2 = tf.random.normal([3, 3, 2])"
   ]
  },
  {
   "cell_type": "code",
   "execution_count": 25,
   "id": "5953d51e",
   "metadata": {},
   "outputs": [
    {
     "data": {
      "text/plain": [
       "<tf.Tensor: shape=(3, 3, 2), dtype=float32, numpy=\n",
       "array([[[-0.26434615, -0.6805235 ],\n",
       "        [-0.97812   ,  0.35514578],\n",
       "        [-0.03363752, -1.1262499 ]],\n",
       "\n",
       "       [[ 2.0834806 ,  0.6468455 ],\n",
       "        [ 0.92016   , -0.79960084],\n",
       "        [ 0.22740962,  0.51522946]],\n",
       "\n",
       "       [[ 0.5849644 ,  0.7644525 ],\n",
       "        [ 0.7018904 , -0.8432159 ],\n",
       "        [-0.41014498, -1.1248293 ]]], dtype=float32)>"
      ]
     },
     "execution_count": 25,
     "metadata": {},
     "output_type": "execute_result"
    }
   ],
   "source": [
    "t1"
   ]
  },
  {
   "cell_type": "code",
   "execution_count": 26,
   "id": "7139c912",
   "metadata": {},
   "outputs": [
    {
     "data": {
      "text/plain": [
       "<tf.Tensor: shape=(3, 3, 2), dtype=float32, numpy=\n",
       "array([[[-0.5813757 ,  1.6184088 ],\n",
       "        [-0.24274835,  0.38060433],\n",
       "        [ 0.6311598 , -1.2493638 ]],\n",
       "\n",
       "       [[ 1.5842286 ,  0.5239691 ],\n",
       "        [-0.56721383,  0.2700439 ],\n",
       "        [ 0.90118647, -0.62104625]],\n",
       "\n",
       "       [[ 0.08610526, -0.41170973],\n",
       "        [-0.3615915 ,  1.1801256 ],\n",
       "        [ 0.00383392, -1.9785084 ]]], dtype=float32)>"
      ]
     },
     "execution_count": 26,
     "metadata": {},
     "output_type": "execute_result"
    }
   ],
   "source": [
    "t2"
   ]
  },
  {
   "cell_type": "code",
   "execution_count": 31,
   "id": "5dde4ba1",
   "metadata": {},
   "outputs": [
    {
     "data": {
      "text/plain": [
       "<tf.Tensor: shape=(3, 3, 4), dtype=float32, numpy=\n",
       "array([[[-0.26434615, -0.6805235 , -0.5813757 ,  1.6184088 ],\n",
       "        [-0.97812   ,  0.35514578, -0.24274835,  0.38060433],\n",
       "        [-0.03363752, -1.1262499 ,  0.6311598 , -1.2493638 ]],\n",
       "\n",
       "       [[ 2.0834806 ,  0.6468455 ,  1.5842286 ,  0.5239691 ],\n",
       "        [ 0.92016   , -0.79960084, -0.56721383,  0.2700439 ],\n",
       "        [ 0.22740962,  0.51522946,  0.90118647, -0.62104625]],\n",
       "\n",
       "       [[ 0.5849644 ,  0.7644525 ,  0.08610526, -0.41170973],\n",
       "        [ 0.7018904 , -0.8432159 , -0.3615915 ,  1.1801256 ],\n",
       "        [-0.41014498, -1.1248293 ,  0.00383392, -1.9785084 ]]],\n",
       "      dtype=float32)>"
      ]
     },
     "execution_count": 31,
     "metadata": {},
     "output_type": "execute_result"
    }
   ],
   "source": [
    "tf.concat((t1, t2), axis=-1)"
   ]
  },
  {
   "cell_type": "code",
   "execution_count": null,
   "id": "cf4443ae",
   "metadata": {},
   "outputs": [],
   "source": []
  }
 ],
 "metadata": {
  "kernelspec": {
   "display_name": "tf25",
   "language": "python",
   "name": "tf25"
  },
  "language_info": {
   "codemirror_mode": {
    "name": "ipython",
    "version": 3
   },
   "file_extension": ".py",
   "mimetype": "text/x-python",
   "name": "python",
   "nbconvert_exporter": "python",
   "pygments_lexer": "ipython3",
   "version": "3.8.13"
  }
 },
 "nbformat": 4,
 "nbformat_minor": 5
}
