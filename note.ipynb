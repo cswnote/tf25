{
 "cells": [
  {
   "cell_type": "code",
   "execution_count": 1,
   "id": "20781530",
   "metadata": {},
   "outputs": [],
   "source": [
    "import os"
   ]
  },
  {
   "cell_type": "code",
   "execution_count": 5,
   "id": "5a73db06",
   "metadata": {},
   "outputs": [],
   "source": [
    "path = 'D:/winston/Desktop/새 폴더/'"
   ]
  },
  {
   "cell_type": "code",
   "execution_count": 6,
   "id": "355146d9",
   "metadata": {},
   "outputs": [],
   "source": []
  },
  {
   "cell_type": "code",
   "execution_count": 10,
   "id": "a477a1d3",
   "metadata": {},
   "outputs": [],
   "source": [
    "files = os.listdir(path)\n",
    "files = [file for file in files if 'tek' in file]\n",
    "files.sort()"
   ]
  },
  {
   "cell_type": "code",
   "execution_count": 13,
   "id": "0e61cac5",
   "metadata": {},
   "outputs": [],
   "source": [
    "for file in files:\n",
    "    num = int(file[3:8])\n",
    "    if 27750 <= num <= 30099:\n",
    "        src = path + file\n",
    "        dst = path + 'test69/' + file\n",
    "        os.rename(src, dst)"
   ]
  },
  {
   "cell_type": "code",
   "execution_count": null,
   "id": "c12456f5",
   "metadata": {},
   "outputs": [],
   "source": []
  }
 ],
 "metadata": {
  "kernelspec": {
   "display_name": "tf25",
   "language": "python",
   "name": "tf25"
  },
  "language_info": {
   "codemirror_mode": {
    "name": "ipython",
    "version": 3
   },
   "file_extension": ".py",
   "mimetype": "text/x-python",
   "name": "python",
   "nbconvert_exporter": "python",
   "pygments_lexer": "ipython3",
   "version": "3.9.12"
  }
 },
 "nbformat": 4,
 "nbformat_minor": 5
}
