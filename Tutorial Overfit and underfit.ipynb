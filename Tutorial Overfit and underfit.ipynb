{
 "cells": [
  {
   "cell_type": "code",
   "execution_count": 2,
   "id": "4c14faba",
   "metadata": {},
   "outputs": [],
   "source": [
    "import tensorflow as tf\n",
    "from tensorflow.keras.models import Sequential, Model\n",
    "from tensorflow.keras.layers import InputLayer, Input, Dense\n",
    "from tensorflow.keras.optimizers import Adam, SGD\n",
    "from tensorflow.keras.losses import SparseCategoricalCrossentropy, BinaryCrossentropy\n",
    "from tensorflow.keras.utils import plot_model\n",
    "# from tensorflow.keras.regularizers import Regularizer\n",
    "import pandas as pd\n",
    "import numpy as np"
   ]
  },
  {
   "cell_type": "code",
   "execution_count": 3,
   "id": "53b67cff",
   "metadata": {},
   "outputs": [
    {
     "name": "stdout",
     "output_type": "stream",
     "text": [
      "2.8.0\n"
     ]
    }
   ],
   "source": [
    "print(tf.__version__)"
   ]
  },
  {
   "cell_type": "code",
   "execution_count": 4,
   "id": "e2f9c98e",
   "metadata": {},
   "outputs": [],
   "source": [
    "# !pip install git+https://github.com/tensorflow/docs\n",
    "\n",
    "import tensorflow_docs as tfdocs\n",
    "import tensorflow_docs.modeling\n",
    "import tensorflow_docs.plots"
   ]
  },
  {
   "cell_type": "code",
   "execution_count": 5,
   "id": "c9deb477",
   "metadata": {},
   "outputs": [],
   "source": [
    "from IPython import display\n",
    "from matplotlib import pyplot as plt\n",
    "\n",
    "import pathlib\n",
    "import shutil\n",
    "import tempfile"
   ]
  },
  {
   "cell_type": "code",
   "execution_count": 6,
   "id": "6c4dfa97",
   "metadata": {},
   "outputs": [],
   "source": [
    "logdir = pathlib.Path(tempfile.mkdtemp())/'tensorboard_logs'"
   ]
  },
  {
   "cell_type": "code",
   "execution_count": 7,
   "id": "3505e018",
   "metadata": {},
   "outputs": [],
   "source": [
    "shutil.rmtree(logdir, ignore_errors=True)"
   ]
  },
  {
   "cell_type": "code",
   "execution_count": 8,
   "id": "cc00c1cf",
   "metadata": {},
   "outputs": [],
   "source": [
    "gz = tf.keras.utils.get_file('HIGGS.csv.gz', 'http://mlphysics.ics.uci.edu/data/higgs/HIGGS.csv.gz')"
   ]
  },
  {
   "cell_type": "code",
   "execution_count": 9,
   "id": "b19aef94",
   "metadata": {},
   "outputs": [],
   "source": [
    "FEATURES = 28"
   ]
  },
  {
   "cell_type": "code",
   "execution_count": 10,
   "id": "7fc8b76c",
   "metadata": {},
   "outputs": [
    {
     "name": "stdout",
     "output_type": "stream",
     "text": [
      "Metal device set to: Apple M1\n"
     ]
    },
    {
     "name": "stderr",
     "output_type": "stream",
     "text": [
      "2022-06-29 10:05:20.740325: I tensorflow/core/common_runtime/pluggable_device/pluggable_device_factory.cc:305] Could not identify NUMA node of platform GPU ID 0, defaulting to 0. Your kernel may not have been built with NUMA support.\n",
      "2022-06-29 10:05:20.740713: I tensorflow/core/common_runtime/pluggable_device/pluggable_device_factory.cc:271] Created TensorFlow device (/job:localhost/replica:0/task:0/device:GPU:0 with 0 MB memory) -> physical PluggableDevice (device: 0, name: METAL, pci bus id: <undefined>)\n"
     ]
    }
   ],
   "source": [
    "ds = tf.data.experimental.CsvDataset(gz, [float(),]*(FEATURES+1), compression_type='GZIP')"
   ]
  },
  {
   "cell_type": "code",
   "execution_count": 11,
   "id": "9789a6a4",
   "metadata": {},
   "outputs": [],
   "source": [
    "def pack_row(*row):\n",
    "    label = row[0]\n",
    "    features = tf.stack(row[1:], 1)\n",
    "    return features, label"
   ]
  },
  {
   "cell_type": "code",
   "execution_count": 26,
   "id": "54345992",
   "metadata": {},
   "outputs": [],
   "source": [
    "packed_ds = ds.batch(10000).map(pack_row).unbatch()"
   ]
  },
  {
   "cell_type": "code",
   "execution_count": 30,
   "id": "151d87c3",
   "metadata": {},
   "outputs": [
    {
     "data": {
      "text/plain": [
       "<TakeDataset element_spec=(TensorSpec(shape=(None, None), dtype=tf.float32, name=None), TensorSpec(shape=(None, None), dtype=tf.float32, name=None), TensorSpec(shape=(None, None), dtype=tf.float32, name=None), TensorSpec(shape=(None, None), dtype=tf.float32, name=None), TensorSpec(shape=(None, None), dtype=tf.float32, name=None), TensorSpec(shape=(None, None), dtype=tf.float32, name=None), TensorSpec(shape=(None, None), dtype=tf.float32, name=None), TensorSpec(shape=(None, None), dtype=tf.float32, name=None), TensorSpec(shape=(None, None), dtype=tf.float32, name=None), TensorSpec(shape=(None, None), dtype=tf.float32, name=None), TensorSpec(shape=(None, None), dtype=tf.float32, name=None), TensorSpec(shape=(None, None), dtype=tf.float32, name=None), TensorSpec(shape=(None, None), dtype=tf.float32, name=None), TensorSpec(shape=(None, None), dtype=tf.float32, name=None), TensorSpec(shape=(None, None), dtype=tf.float32, name=None), TensorSpec(shape=(None, None), dtype=tf.float32, name=None), TensorSpec(shape=(None, None), dtype=tf.float32, name=None), TensorSpec(shape=(None, None), dtype=tf.float32, name=None), TensorSpec(shape=(None, None), dtype=tf.float32, name=None), TensorSpec(shape=(None, None), dtype=tf.float32, name=None), TensorSpec(shape=(None, None), dtype=tf.float32, name=None), TensorSpec(shape=(None, None), dtype=tf.float32, name=None), TensorSpec(shape=(None, None), dtype=tf.float32, name=None), TensorSpec(shape=(None, None), dtype=tf.float32, name=None), TensorSpec(shape=(None, None), dtype=tf.float32, name=None), TensorSpec(shape=(None, None), dtype=tf.float32, name=None), TensorSpec(shape=(None, None), dtype=tf.float32, name=None), TensorSpec(shape=(None, None), dtype=tf.float32, name=None), TensorSpec(shape=(None, None), dtype=tf.float32, name=None))>"
      ]
     },
     "execution_count": 30,
     "metadata": {},
     "output_type": "execute_result"
    }
   ],
   "source": [
    "a = packed_ds.batch(1).take(1)\n",
    "a"
   ]
  },
  {
   "cell_type": "code",
   "execution_count": null,
   "id": "14eaaced",
   "metadata": {},
   "outputs": [],
   "source": []
  },
  {
   "cell_type": "code",
   "execution_count": null,
   "id": "1ece07db",
   "metadata": {},
   "outputs": [],
   "source": []
  },
  {
   "cell_type": "code",
   "execution_count": null,
   "id": "26bbc9ff",
   "metadata": {},
   "outputs": [],
   "source": []
  },
  {
   "cell_type": "code",
   "execution_count": 12,
   "id": "997e4d75",
   "metadata": {},
   "outputs": [
    {
     "name": "stdout",
     "output_type": "stream",
     "text": [
      "tf.Tensor(\n",
      "[ 0.8692932  -0.6350818   0.22569026  0.32747006 -0.6899932   0.75420225\n",
      " -0.24857314 -1.0920639   0.          1.3749921  -0.6536742   0.9303491\n",
      "  1.1074361   1.1389043  -1.5781983  -1.0469854   0.          0.65792954\n",
      " -0.01045457 -0.04576717  3.1019614   1.35376     0.9795631   0.97807616\n",
      "  0.92000484  0.72165745  0.98875093  0.87667835], shape=(28,), dtype=float32)\n"
     ]
    },
    {
     "data": {
      "image/png": "[encoded data removed]",
      "text/plain": [
       "<Figure size 432x288 with 1 Axes>"
      ]
     },
     "metadata": {
      "needs_background": "light"
     },
     "output_type": "display_data"
    }
   ],
   "source": [
    "for features,label in packed_ds.batch(1000).take(1):\n",
    "    print(features[0])\n",
    "    plt.hist(features.numpy().flatten(), bins = 101)"
   ]
  },
  {
   "cell_type": "code",
   "execution_count": 13,
   "id": "38a1d32c",
   "metadata": {},
   "outputs": [],
   "source": [
    "N_VALIDATION = int(1e3)\n",
    "N_TRAIN = int(1e4)\n",
    "BUFFER_SIZE = int(1e4)\n",
    "BATCH_SIZE = 500\n",
    "STEPS_PER_EPOCH = N_TRAIN / BATCH_SIZE"
   ]
  },
  {
   "cell_type": "code",
   "execution_count": 14,
   "id": "4f1e8a9f",
   "metadata": {},
   "outputs": [],
   "source": [
    "validate_ds = packed_ds.take(N_VALIDATION).cache()\n",
    "train_ds = packed_ds.take(N_TRAIN).cache()\n",
    "validate_ds = validate_ds.batch(BATCH_SIZE)\n",
    "train_ds = train_ds.shuffle(BUFFER_SIZE).repeat().batch(BATCH_SIZE)"
   ]
  },
  {
   "cell_type": "code",
   "execution_count": 15,
   "id": "a79e04bb",
   "metadata": {},
   "outputs": [],
   "source": [
    "lr_schedule = tf.keras.optimizers.schedules.InverseTimeDecay(\n",
    "    0.001,\n",
    "    decay_steps=STEPS_PER_EPOCH*1000,\n",
    "    decay_rate=1,\n",
    "    staircase=False)\n",
    "\n",
    "def get_optimizer():\n",
    "    return tf.keras.optimizers.Adam(lr_schedule)"
   ]
  },
  {
   "cell_type": "code",
   "execution_count": 16,
   "id": "93683963",
   "metadata": {},
   "outputs": [
    {
     "data": {
      "image/png": "[encoded data removed]",
      "text/plain": [
       "<Figure size 576x432 with 1 Axes>"
      ]
     },
     "metadata": {
      "needs_background": "light"
     },
     "output_type": "display_data"
    }
   ],
   "source": [
    "step = np.linspace(0,100000)\n",
    "lr = lr_schedule(step)\n",
    "plt.figure(figsize = (8,6))\n",
    "plt.plot(step/STEPS_PER_EPOCH, lr)\n",
    "plt.ylim([0,max(plt.ylim())])\n",
    "plt.xlabel('Epoch')\n",
    "_ = plt.ylabel('Learning Rate')"
   ]
  },
  {
   "cell_type": "code",
   "execution_count": 17,
   "id": "cc192d74",
   "metadata": {},
   "outputs": [],
   "source": [
    "def get_optimizer():\n",
    "    return Adam(lr_schedule)"
   ]
  },
  {
   "cell_type": "code",
   "execution_count": 18,
   "id": "974dd853",
   "metadata": {},
   "outputs": [],
   "source": [
    "def get_callbacks(name):\n",
    "    return [\n",
    "          tfdocs.modeling.EpochDots(),\n",
    "          tf.keras.callbacks.EarlyStopping(monitor='val_binary_crossentropy', patience=200),\n",
    "          tf.keras.callbacks.TensorBoard(logdir/name)\n",
    "    ]"
   ]
  },
  {
   "cell_type": "code",
   "execution_count": 19,
   "id": "2e86a151",
   "metadata": {},
   "outputs": [],
   "source": [
    "def compile_and_fit(model, name, optimizer=None, max_epochs=10000):\n",
    "    if optimizer is None:\n",
    "        optimizer = get_optimizer()\n",
    "    model.compile(optimizer=optimizer,\n",
    "                loss=BinaryCrossentropy(from_logits=True),\n",
    "                metrics=[BinaryCrossentropy(from_logits=True,\n",
    "                                            name='binary_crossentropy'),\n",
    "                         'accuracy']\n",
    "    )\n",
    "\n",
    "    model.summary()\n",
    "\n",
    "    history = model.fit(train_ds,\n",
    "                      steps_per_epoch = STEPS_PER_EPOCH,\n",
    "                      epochs=max_epochs,\n",
    "                      validation_data=validate_ds,\n",
    "                      callbacks=get_callbacks(name),\n",
    "                      verbose=0)\n",
    "    return history"
   ]
  },
  {
   "cell_type": "code",
   "execution_count": 20,
   "id": "3c15cace",
   "metadata": {},
   "outputs": [],
   "source": [
    "tiny_model = tf.keras.Sequential([\n",
    "    Dense(16, activation='elu', input_shape=(FEATURES,)),\n",
    "    Dense(1)\n",
    "])"
   ]
  },
  {
   "cell_type": "code",
   "execution_count": 21,
   "id": "415ba063",
   "metadata": {},
   "outputs": [],
   "source": [
    "size_histories = {}"
   ]
  },
  {
   "cell_type": "code",
   "execution_count": 22,
   "id": "028fa310",
   "metadata": {},
   "outputs": [
    {
     "name": "stdout",
     "output_type": "stream",
     "text": [
      "Model: \"sequential\"\n",
      "_________________________________________________________________\n",
      " Layer (type)                Output Shape              Param #   \n",
      "=================================================================\n",
      " dense (Dense)               (None, 16)                464       \n",
      "                                                                 \n",
      " dense_1 (Dense)             (None, 1)                 17        \n",
      "                                                                 \n",
      "=================================================================\n",
      "Total params: 481\n",
      "Trainable params: 481\n",
      "Non-trainable params: 0\n",
      "_________________________________________________________________\n",
      "\n",
      "Epoch: 0, accuracy:0.4713,  binary_crossentropy:0.8059,  loss:0.8059,  val_accuracy:0.4710,  val_binary_crossentropy:0.7750,  val_loss:0.7750,  \n",
      "....................................................................................................\n",
      "Epoch: 100, accuracy:0.5958,  binary_crossentropy:0.6302,  loss:0.6302,  val_accuracy:0.5890,  val_binary_crossentropy:0.6173,  val_loss:0.6173,  \n",
      "....................................................................................................\n",
      "Epoch: 200, accuracy:0.6102,  binary_crossentropy:0.6196,  loss:0.6196,  val_accuracy:0.6250,  val_binary_crossentropy:0.6009,  val_loss:0.6009,  \n",
      "....................................................................................................\n",
      "Epoch: 300, accuracy:0.6231,  binary_crossentropy:0.6114,  loss:0.6114,  val_accuracy:0.6190,  val_binary_crossentropy:0.5894,  val_loss:0.5894,  \n",
      "....................................................................................................\n",
      "Epoch: 400, accuracy:0.6405,  binary_crossentropy:0.5999,  loss:0.5999,  val_accuracy:0.6710,  val_binary_crossentropy:0.5729,  val_loss:0.5729,  \n",
      "....................................................................................................\n",
      "Epoch: 500, accuracy:0.6555,  binary_crossentropy:0.5918,  loss:0.5918,  val_accuracy:0.6780,  val_binary_crossentropy:0.5614,  val_loss:0.5614,  \n",
      "....................................................................................................\n",
      "Epoch: 600, accuracy:0.6649,  binary_crossentropy:0.5865,  loss:0.5865,  val_accuracy:0.6910,  val_binary_crossentropy:0.5545,  val_loss:0.5545,  \n",
      "....................................................................................................\n",
      "Epoch: 700, accuracy:0.6695,  binary_crossentropy:0.5829,  loss:0.5829,  val_accuracy:0.6870,  val_binary_crossentropy:0.5500,  val_loss:0.5500,  \n",
      "....................................................................................................\n",
      "Epoch: 800, accuracy:0.6685,  binary_crossentropy:0.5809,  loss:0.5809,  val_accuracy:0.6950,  val_binary_crossentropy:0.5467,  val_loss:0.5467,  \n",
      "....................................................................................................\n",
      "Epoch: 900, accuracy:0.6701,  binary_crossentropy:0.5790,  loss:0.5790,  val_accuracy:0.6950,  val_binary_crossentropy:0.5438,  val_loss:0.5438,  \n",
      "....................................................................................................\n",
      "Epoch: 1000, accuracy:0.6749,  binary_crossentropy:0.5766,  loss:0.5766,  val_accuracy:0.7060,  val_binary_crossentropy:0.5405,  val_loss:0.5405,  \n",
      "....................................................................................................\n",
      "Epoch: 1100, accuracy:0.6761,  binary_crossentropy:0.5753,  loss:0.5753,  val_accuracy:0.7160,  val_binary_crossentropy:0.5386,  val_loss:0.5386,  \n",
      "....................................................................................................\n",
      "Epoch: 1200, accuracy:0.6771,  binary_crossentropy:0.5737,  loss:0.5737,  val_accuracy:0.7150,  val_binary_crossentropy:0.5373,  val_loss:0.5373,  \n",
      "....................................................................................................\n",
      "Epoch: 1300, accuracy:0.6830,  binary_crossentropy:0.5725,  loss:0.5725,  val_accuracy:0.6930,  val_binary_crossentropy:0.5384,  val_loss:0.5384,  \n",
      "....................................................................................................\n",
      "Epoch: 1400, accuracy:0.6766,  binary_crossentropy:0.5724,  loss:0.5724,  val_accuracy:0.7180,  val_binary_crossentropy:0.5345,  val_loss:0.5345,  \n",
      "....................................................................................................\n",
      "Epoch: 1500, accuracy:0.6802,  binary_crossentropy:0.5707,  loss:0.5707,  val_accuracy:0.7230,  val_binary_crossentropy:0.5332,  val_loss:0.5332,  \n",
      "....................................................................................................\n",
      "Epoch: 1600, accuracy:0.6820,  binary_crossentropy:0.5695,  loss:0.5695,  val_accuracy:0.7140,  val_binary_crossentropy:0.5333,  val_loss:0.5333,  \n",
      "....................................................................................................\n",
      "Epoch: 1700, accuracy:0.6833,  binary_crossentropy:0.5693,  loss:0.5693,  val_accuracy:0.7190,  val_binary_crossentropy:0.5319,  val_loss:0.5319,  \n",
      "....................................................................................................\n",
      "Epoch: 1800, accuracy:0.6860,  binary_crossentropy:0.5679,  loss:0.5679,  val_accuracy:0.7100,  val_binary_crossentropy:0.5324,  val_loss:0.5324,  \n",
      "....................................................................................................\n",
      "Epoch: 1900, accuracy:0.6869,  binary_crossentropy:0.5672,  loss:0.5672,  val_accuracy:0.7110,  val_binary_crossentropy:0.5320,  val_loss:0.5320,  \n",
      "....................................................................................................\n",
      "Epoch: 2000, accuracy:0.6871,  binary_crossentropy:0.5667,  loss:0.5667,  val_accuracy:0.7230,  val_binary_crossentropy:0.5305,  val_loss:0.5305,  \n",
      "....................................................................................................\n",
      "Epoch: 2100, accuracy:0.6911,  binary_crossentropy:0.5661,  loss:0.5661,  val_accuracy:0.7010,  val_binary_crossentropy:0.5324,  val_loss:0.5324,  \n",
      "....................................................................................................\n",
      "Epoch: 2200, accuracy:0.6896,  binary_crossentropy:0.5651,  loss:0.5651,  val_accuracy:0.7090,  val_binary_crossentropy:0.5317,  val_loss:0.5317,  \n",
      "....................................................................................................\n",
      "Epoch: 2300, accuracy:0.6886,  binary_crossentropy:0.5642,  loss:0.5642,  val_accuracy:0.7100,  val_binary_crossentropy:0.5298,  val_loss:0.5298,  \n",
      "....................................................................................................\n",
      "Epoch: 2400, accuracy:0.6897,  binary_crossentropy:0.5637,  loss:0.5637,  val_accuracy:0.7140,  val_binary_crossentropy:0.5297,  val_loss:0.5297,  \n",
      "....................................................................................................\n",
      "Epoch: 2500, accuracy:0.6941,  binary_crossentropy:0.5630,  loss:0.5630,  val_accuracy:0.7120,  val_binary_crossentropy:0.5302,  val_loss:0.5302,  \n",
      "....................................................................................................\n",
      "Epoch: 2600, accuracy:0.6911,  binary_crossentropy:0.5625,  loss:0.5625,  val_accuracy:0.7180,  val_binary_crossentropy:0.5289,  val_loss:0.5289,  \n",
      "....................................................................................................\n",
      "Epoch: 2700, accuracy:0.6916,  binary_crossentropy:0.5620,  loss:0.5620,  val_accuracy:0.7120,  val_binary_crossentropy:0.5293,  val_loss:0.5293,  \n",
      "....................................................................................................\n",
      "Epoch: 2800, accuracy:0.6937,  binary_crossentropy:0.5613,  loss:0.5613,  val_accuracy:0.7200,  val_binary_crossentropy:0.5286,  val_loss:0.5286,  \n",
      "....................................................................................................\n",
      "Epoch: 2900, accuracy:0.6930,  binary_crossentropy:0.5609,  loss:0.5609,  val_accuracy:0.7120,  val_binary_crossentropy:0.5290,  val_loss:0.5290,  \n",
      "....................................................................................................\n",
      "Epoch: 3000, accuracy:0.6935,  binary_crossentropy:0.5603,  loss:0.5603,  val_accuracy:0.7170,  val_binary_crossentropy:0.5284,  val_loss:0.5284,  \n"
     ]
    },
    {
     "name": "stdout",
     "output_type": "stream",
     "text": [
      "....................................................................................................\n",
      "Epoch: 3100, accuracy:0.6940,  binary_crossentropy:0.5603,  loss:0.5603,  val_accuracy:0.7150,  val_binary_crossentropy:0.5289,  val_loss:0.5289,  \n",
      "....................................................................................................\n",
      "Epoch: 3200, accuracy:0.6950,  binary_crossentropy:0.5595,  loss:0.5595,  val_accuracy:0.7160,  val_binary_crossentropy:0.5280,  val_loss:0.5280,  \n",
      "....................................................................................................\n",
      "Epoch: 3300, accuracy:0.6925,  binary_crossentropy:0.5596,  loss:0.5596,  val_accuracy:0.7100,  val_binary_crossentropy:0.5286,  val_loss:0.5286,  \n",
      "....................................................................................................\n",
      "Epoch: 3400, accuracy:0.6892,  binary_crossentropy:0.5595,  loss:0.5595,  val_accuracy:0.7180,  val_binary_crossentropy:0.5278,  val_loss:0.5278,  \n",
      "....................................................................................................\n",
      "Epoch: 3500, accuracy:0.6975,  binary_crossentropy:0.5586,  loss:0.5586,  val_accuracy:0.7130,  val_binary_crossentropy:0.5287,  val_loss:0.5287,  \n",
      "....................................................................................................\n",
      "Epoch: 3600, accuracy:0.6932,  binary_crossentropy:0.5582,  loss:0.5582,  val_accuracy:0.7100,  val_binary_crossentropy:0.5275,  val_loss:0.5275,  \n",
      "....................................................................................................\n",
      "Epoch: 3700, accuracy:0.6952,  binary_crossentropy:0.5579,  loss:0.5579,  val_accuracy:0.7170,  val_binary_crossentropy:0.5270,  val_loss:0.5269,  \n",
      "....................................................................................................\n",
      "Epoch: 3800, accuracy:0.6979,  binary_crossentropy:0.5575,  loss:0.5575,  val_accuracy:0.7110,  val_binary_crossentropy:0.5277,  val_loss:0.5277,  \n",
      "....................................................................................................\n",
      "Epoch: 3900, accuracy:0.6991,  binary_crossentropy:0.5573,  loss:0.5573,  val_accuracy:0.7110,  val_binary_crossentropy:0.5280,  val_loss:0.5280,  \n",
      "....................................................................................................\n",
      "Epoch: 4000, accuracy:0.6973,  binary_crossentropy:0.5574,  loss:0.5574,  val_accuracy:0.7130,  val_binary_crossentropy:0.5270,  val_loss:0.5270,  \n",
      "....................................................................................................\n",
      "Epoch: 4100, accuracy:0.6974,  binary_crossentropy:0.5568,  loss:0.5568,  val_accuracy:0.7110,  val_binary_crossentropy:0.5275,  val_loss:0.5275,  \n",
      "....................................................................................................\n",
      "Epoch: 4200, accuracy:0.6982,  binary_crossentropy:0.5566,  loss:0.5566,  val_accuracy:0.7090,  val_binary_crossentropy:0.5270,  val_loss:0.5270,  \n",
      "....................................................................................................\n",
      "Epoch: 4300, accuracy:0.6981,  binary_crossentropy:0.5563,  loss:0.5563,  val_accuracy:0.7110,  val_binary_crossentropy:0.5267,  val_loss:0.5267,  \n",
      "....................................................................................................\n",
      "Epoch: 4400, accuracy:0.6981,  binary_crossentropy:0.5560,  loss:0.5560,  val_accuracy:0.7130,  val_binary_crossentropy:0.5263,  val_loss:0.5263,  \n",
      "....................................................................................................\n",
      "Epoch: 4500, accuracy:0.6963,  binary_crossentropy:0.5559,  loss:0.5559,  val_accuracy:0.7160,  val_binary_crossentropy:0.5258,  val_loss:0.5258,  \n",
      "....................................................................................................\n",
      "Epoch: 4600, accuracy:0.6960,  binary_crossentropy:0.5558,  loss:0.5558,  val_accuracy:0.7180,  val_binary_crossentropy:0.5254,  val_loss:0.5254,  \n",
      "....................................................................................................\n",
      "Epoch: 4700, accuracy:0.7031,  binary_crossentropy:0.5558,  loss:0.5558,  val_accuracy:0.7100,  val_binary_crossentropy:0.5263,  val_loss:0.5263,  \n",
      "....................................................................................................\n",
      "Epoch: 4800, accuracy:0.6991,  binary_crossentropy:0.5553,  loss:0.5553,  val_accuracy:0.7130,  val_binary_crossentropy:0.5259,  val_loss:0.5259,  \n",
      "....................................................................................................\n",
      "Epoch: 4900, accuracy:0.6986,  binary_crossentropy:0.5551,  loss:0.5551,  val_accuracy:0.7130,  val_binary_crossentropy:0.5254,  val_loss:0.5254,  \n",
      "....................................................................................................\n",
      "Epoch: 5000, accuracy:0.6990,  binary_crossentropy:0.5549,  loss:0.5549,  val_accuracy:0.7140,  val_binary_crossentropy:0.5254,  val_loss:0.5254,  \n",
      "..............................."
     ]
    }
   ],
   "source": [
    "size_histories['Tiny'] = compile_and_fit(tiny_model, 'sizes/Tiny')"
   ]
  },
  {
   "cell_type": "code",
   "execution_count": 23,
   "id": "f1e12537",
   "metadata": {},
   "outputs": [
    {
     "data": {
      "image/png": "[encoded data removed]",
      "text/plain": [
       "<Figure size 432x288 with 1 Axes>"
      ]
     },
     "metadata": {
      "needs_background": "light"
     },
     "output_type": "display_data"
    }
   ],
   "source": [
    "plotter = tfdocs.plots.HistoryPlotter(metric = 'binary_crossentropy', smoothing_std=10)\n",
    "plotter.plot(size_histories)"
   ]
  },
  {
   "cell_type": "code",
   "execution_count": 27,
   "id": "8e7e8c40",
   "metadata": {},
   "outputs": [
    {
     "ename": "AttributeError",
     "evalue": "'dict' object has no attribute 'key'",
     "output_type": "error",
     "traceback": [
      "\u001b[1;31m---------------------------------------------------------------------------\u001b[0m",
      "\u001b[1;31mAttributeError\u001b[0m                            Traceback (most recent call last)",
      "Input \u001b[1;32mIn [27]\u001b[0m, in \u001b[0;36m<cell line: 1>\u001b[1;34m()\u001b[0m\n\u001b[1;32m----> 1\u001b[0m \u001b[43msize_histories\u001b[49m\u001b[43m[\u001b[49m\u001b[38;5;124;43m'\u001b[39;49m\u001b[38;5;124;43mTiny\u001b[39;49m\u001b[38;5;124;43m'\u001b[39;49m\u001b[43m]\u001b[49m\u001b[38;5;241;43m.\u001b[39;49m\u001b[43mhistory\u001b[49m\u001b[38;5;241;43m.\u001b[39;49m\u001b[43mkey\u001b[49m()\n",
      "\u001b[1;31mAttributeError\u001b[0m: 'dict' object has no attribute 'key'"
     ]
    }
   ],
   "source": [
    "size_histories['Tiny'].history.key()"
   ]
  },
  {
   "cell_type": "code",
   "execution_count": 2,
   "id": "663e4293",
   "metadata": {},
   "outputs": [],
   "source": [
    "a = '....................................................................................................'"
   ]
  },
  {
   "cell_type": "code",
   "execution_count": 3,
   "id": "588b7d6b",
   "metadata": {},
   "outputs": [
    {
     "ename": "TypeError",
     "evalue": "string indices must be integers",
     "output_type": "error",
     "traceback": [
      "\u001b[0;31m---------------------------------------------------------------------------\u001b[0m",
      "\u001b[0;31mTypeError\u001b[0m                                 Traceback (most recent call last)",
      "Input \u001b[0;32mIn [3]\u001b[0m, in \u001b[0;36m<cell line: 2>\u001b[0;34m()\u001b[0m\n\u001b[1;32m      1\u001b[0m counts \u001b[38;5;241m=\u001b[39m \u001b[38;5;241m0\u001b[39m\n\u001b[1;32m      2\u001b[0m \u001b[38;5;28;01mfor\u001b[39;00m i \u001b[38;5;129;01min\u001b[39;00m a:\n\u001b[0;32m----> 3\u001b[0m     \u001b[38;5;28;01mif\u001b[39;00m \u001b[43ma\u001b[49m\u001b[43m[\u001b[49m\u001b[43mi\u001b[49m\u001b[43m]\u001b[49m \u001b[38;5;241m==\u001b[39m \u001b[38;5;124m'\u001b[39m\u001b[38;5;124m.\u001b[39m\u001b[38;5;124m'\u001b[39m:\n\u001b[1;32m      4\u001b[0m         counts \u001b[38;5;241m+\u001b[39m\u001b[38;5;241m=\u001b[39m \u001b[38;5;241m1\u001b[39m\n\u001b[1;32m      5\u001b[0m counts\n",
      "\u001b[0;31mTypeError\u001b[0m: string indices must be integers"
     ]
    }
   ],
   "source": [
    "counts = 0\n",
    "for i in a:\n",
    "    if a[i] == '.':\n",
    "        counts += 1\n",
    "counts"
   ]
  },
  {
   "cell_type": "code",
   "execution_count": 5,
   "id": "4bf8a630",
   "metadata": {},
   "outputs": [
    {
     "data": {
      "text/plain": [
       "100"
      ]
     },
     "execution_count": 5,
     "metadata": {},
     "output_type": "execute_result"
    }
   ],
   "source": []
  },
  {
   "cell_type": "code",
   "execution_count": null,
   "id": "b041eb43",
   "metadata": {},
   "outputs": [],
   "source": []
  },
  {
   "cell_type": "code",
   "execution_count": null,
   "id": "542e1125",
   "metadata": {},
   "outputs": [],
   "source": []
  },
  {
   "cell_type": "code",
   "execution_count": null,
   "id": "d4fb005f",
   "metadata": {},
   "outputs": [],
   "source": []
  }
 ],
 "metadata": {
  "kernelspec": {
   "display_name": "tf25",
   "language": "python",
   "name": "tf25"
  },
  "language_info": {
   "codemirror_mode": {
    "name": "ipython",
    "version": 3
   },
   "file_extension": ".py",
   "mimetype": "text/x-python",
   "name": "python",
   "nbconvert_exporter": "python",
   "pygments_lexer": "ipython3",
   "version": "3.8.13"
  }
 },
 "nbformat": 4,
 "nbformat_minor": 5
}
