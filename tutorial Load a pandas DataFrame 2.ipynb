{
 "cells": [
  {
   "cell_type": "code",
   "execution_count": 1,
   "id": "bd7d49f2",
   "metadata": {},
   "outputs": [],
   "source": [
    "import tensorflow as tf\n",
    "import numpy as np"
   ]
  },
  {
   "cell_type": "code",
   "execution_count": 2,
   "id": "5249c247",
   "metadata": {},
   "outputs": [
    {
     "name": "stdout",
     "output_type": "stream",
     "text": [
      "2.8.0\n"
     ]
    }
   ],
   "source": [
    "print(tf.__version__)"
   ]
  },
  {
   "cell_type": "code",
   "execution_count": 3,
   "id": "89ead083",
   "metadata": {},
   "outputs": [],
   "source": [
    "adapt_data = np.array([1., 2., 3., 4., 5.], dtype='float32')"
   ]
  },
  {
   "cell_type": "code",
   "execution_count": 4,
   "id": "9acc847e",
   "metadata": {},
   "outputs": [],
   "source": [
    "input_data = np.array([1., 2., 3.], dtype='float32')"
   ]
  },
  {
   "cell_type": "code",
   "execution_count": 5,
   "id": "08744f21",
   "metadata": {},
   "outputs": [],
   "source": [
    "layer = tf.keras.layers.Normalization(axis=None)"
   ]
  },
  {
   "cell_type": "code",
   "execution_count": 6,
   "id": "7852c8e0",
   "metadata": {},
   "outputs": [],
   "source": [
    "layer.adapt(adapt_data)"
   ]
  },
  {
   "cell_type": "code",
   "execution_count": 7,
   "id": "e27b3819",
   "metadata": {},
   "outputs": [
    {
     "data": {
      "text/plain": [
       "<tf.Tensor: shape=(3,), dtype=float32, numpy=array([-1.4142135 , -0.70710677,  0.        ], dtype=float32)>"
      ]
     },
     "execution_count": 7,
     "metadata": {},
     "output_type": "execute_result"
    }
   ],
   "source": [
    "layer(input_data)"
   ]
  },
  {
   "cell_type": "code",
   "execution_count": null,
   "id": "c881cc4d",
   "metadata": {},
   "outputs": [],
   "source": []
  }
 ],
 "metadata": {
  "kernelspec": {
   "display_name": "tf25",
   "language": "python",
   "name": "tf25"
  },
  "language_info": {
   "codemirror_mode": {
    "name": "ipython",
    "version": 3
   },
   "file_extension": ".py",
   "mimetype": "text/x-python",
   "name": "python",
   "nbconvert_exporter": "python",
   "pygments_lexer": "ipython3",
   "version": "3.9.12"
  }
 },
 "nbformat": 4,
 "nbformat_minor": 5
}
