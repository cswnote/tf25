{
 "cells": [
  {
   "cell_type": "markdown",
   "id": "5e133f64",
   "metadata": {},
   "source": [
    "### Full example\n",
    "#### Build the preprocessing head"
   ]
  },
  {
   "cell_type": "code",
   "execution_count": 68,
   "id": "bd7d49f2",
   "metadata": {},
   "outputs": [],
   "source": [
    "import tensorflow as tf\n",
    "import numpy as np\n",
    "import pandas as pd\n",
    "\n",
    "from tensorflow.keras import Input, Sequential\n",
    "from tensorflow.keras.layers import Dense, Normalization"
   ]
  },
  {
   "cell_type": "code",
   "execution_count": 46,
   "id": "5249c247",
   "metadata": {},
   "outputs": [
    {
     "name": "stdout",
     "output_type": "stream",
     "text": [
      "2.8.0\n"
     ]
    }
   ],
   "source": [
    "print(tf.__version__)"
   ]
  },
  {
   "cell_type": "code",
   "execution_count": 47,
   "id": "2b7641e8",
   "metadata": {},
   "outputs": [],
   "source": [
    "SHUFFLE_BUFFER = 500\n",
    "BATCH_SIZE = 2"
   ]
  },
  {
   "cell_type": "code",
   "execution_count": 48,
   "id": "53481a88",
   "metadata": {},
   "outputs": [],
   "source": [
    "csv_file = tf.keras.utils.get_file('heart.csv', 'https://storage.googleapis.com/download.tensorflow.org/data/heart.csv')"
   ]
  },
  {
   "cell_type": "code",
   "execution_count": 49,
   "id": "c328d53e",
   "metadata": {},
   "outputs": [],
   "source": [
    "df = pd.read_csv(csv_file)"
   ]
  },
  {
   "cell_type": "code",
   "execution_count": 50,
   "id": "967565df",
   "metadata": {},
   "outputs": [
    {
     "data": {
      "text/html": [
       "<div>\n",
       "<style scoped>\n",
       "    .dataframe tbody tr th:only-of-type {\n",
       "        vertical-align: middle;\n",
       "    }\n",
       "\n",
       "    .dataframe tbody tr th {\n",
       "        vertical-align: top;\n",
       "    }\n",
       "\n",
       "    .dataframe thead th {\n",
       "        text-align: right;\n",
       "    }\n",
       "</style>\n",
       "<table border=\"1\" class=\"dataframe\">\n",
       "  <thead>\n",
       "    <tr style=\"text-align: right;\">\n",
       "      <th></th>\n",
       "      <th>age</th>\n",
       "      <th>sex</th>\n",
       "      <th>cp</th>\n",
       "      <th>trestbps</th>\n",
       "      <th>chol</th>\n",
       "      <th>fbs</th>\n",
       "      <th>restecg</th>\n",
       "      <th>thalach</th>\n",
       "      <th>exang</th>\n",
       "      <th>oldpeak</th>\n",
       "      <th>slope</th>\n",
       "      <th>ca</th>\n",
       "      <th>thal</th>\n",
       "      <th>target</th>\n",
       "    </tr>\n",
       "  </thead>\n",
       "  <tbody>\n",
       "    <tr>\n",
       "      <th>0</th>\n",
       "      <td>63</td>\n",
       "      <td>1</td>\n",
       "      <td>1</td>\n",
       "      <td>145</td>\n",
       "      <td>233</td>\n",
       "      <td>1</td>\n",
       "      <td>2</td>\n",
       "      <td>150</td>\n",
       "      <td>0</td>\n",
       "      <td>2.3</td>\n",
       "      <td>3</td>\n",
       "      <td>0</td>\n",
       "      <td>fixed</td>\n",
       "      <td>0</td>\n",
       "    </tr>\n",
       "    <tr>\n",
       "      <th>1</th>\n",
       "      <td>67</td>\n",
       "      <td>1</td>\n",
       "      <td>4</td>\n",
       "      <td>160</td>\n",
       "      <td>286</td>\n",
       "      <td>0</td>\n",
       "      <td>2</td>\n",
       "      <td>108</td>\n",
       "      <td>1</td>\n",
       "      <td>1.5</td>\n",
       "      <td>2</td>\n",
       "      <td>3</td>\n",
       "      <td>normal</td>\n",
       "      <td>1</td>\n",
       "    </tr>\n",
       "    <tr>\n",
       "      <th>2</th>\n",
       "      <td>67</td>\n",
       "      <td>1</td>\n",
       "      <td>4</td>\n",
       "      <td>120</td>\n",
       "      <td>229</td>\n",
       "      <td>0</td>\n",
       "      <td>2</td>\n",
       "      <td>129</td>\n",
       "      <td>1</td>\n",
       "      <td>2.6</td>\n",
       "      <td>2</td>\n",
       "      <td>2</td>\n",
       "      <td>reversible</td>\n",
       "      <td>0</td>\n",
       "    </tr>\n",
       "    <tr>\n",
       "      <th>3</th>\n",
       "      <td>37</td>\n",
       "      <td>1</td>\n",
       "      <td>3</td>\n",
       "      <td>130</td>\n",
       "      <td>250</td>\n",
       "      <td>0</td>\n",
       "      <td>0</td>\n",
       "      <td>187</td>\n",
       "      <td>0</td>\n",
       "      <td>3.5</td>\n",
       "      <td>3</td>\n",
       "      <td>0</td>\n",
       "      <td>normal</td>\n",
       "      <td>0</td>\n",
       "    </tr>\n",
       "    <tr>\n",
       "      <th>4</th>\n",
       "      <td>41</td>\n",
       "      <td>0</td>\n",
       "      <td>2</td>\n",
       "      <td>130</td>\n",
       "      <td>204</td>\n",
       "      <td>0</td>\n",
       "      <td>2</td>\n",
       "      <td>172</td>\n",
       "      <td>0</td>\n",
       "      <td>1.4</td>\n",
       "      <td>1</td>\n",
       "      <td>0</td>\n",
       "      <td>normal</td>\n",
       "      <td>0</td>\n",
       "    </tr>\n",
       "  </tbody>\n",
       "</table>\n",
       "</div>"
      ],
      "text/plain": [
       "   age  sex  cp  trestbps  chol  fbs  restecg  thalach  exang  oldpeak  slope  \\\n",
       "0   63    1   1       145   233    1        2      150      0      2.3      3   \n",
       "1   67    1   4       160   286    0        2      108      1      1.5      2   \n",
       "2   67    1   4       120   229    0        2      129      1      2.6      2   \n",
       "3   37    1   3       130   250    0        0      187      0      3.5      3   \n",
       "4   41    0   2       130   204    0        2      172      0      1.4      1   \n",
       "\n",
       "   ca        thal  target  \n",
       "0   0       fixed       0  \n",
       "1   3      normal       1  \n",
       "2   2  reversible       0  \n",
       "3   0      normal       0  \n",
       "4   0      normal       0  "
      ]
     },
     "execution_count": 50,
     "metadata": {},
     "output_type": "execute_result"
    }
   ],
   "source": [
    "df.head()"
   ]
  },
  {
   "cell_type": "code",
   "execution_count": 53,
   "id": "a083a9ac",
   "metadata": {},
   "outputs": [
    {
     "data": {
      "text/plain": [
       "age           int64\n",
       "sex           int64\n",
       "cp            int64\n",
       "trestbps      int64\n",
       "chol          int64\n",
       "fbs           int64\n",
       "restecg       int64\n",
       "thalach       int64\n",
       "exang         int64\n",
       "oldpeak     float64\n",
       "slope         int64\n",
       "ca            int64\n",
       "thal         object\n",
       "target        int64\n",
       "dtype: object"
      ]
     },
     "execution_count": 53,
     "metadata": {},
     "output_type": "execute_result"
    }
   ],
   "source": [
    "df.dtypes"
   ]
  },
  {
   "cell_type": "code",
   "execution_count": 54,
   "id": "d6d0801a",
   "metadata": {},
   "outputs": [],
   "source": [
    "target = df.pop('target')"
   ]
  },
  {
   "cell_type": "code",
   "execution_count": 125,
   "id": "22d18107",
   "metadata": {},
   "outputs": [
    {
     "name": "stdout",
     "output_type": "stream",
     "text": [
      "age       : 41\trecommand to numerical\n",
      "sex       : 2\trecommand to Binary\n",
      "cp        : 5\trecommand to Categorical\n",
      "trestbps  : 50\trecommand to numerical\n",
      "chol      : 152\trecommand to numerical\n",
      "fbs       : 2\trecommand to Binary\n",
      "restecg   : 3\trecommand to Categorical\n",
      "thalach   : 91\trecommand to numerical\n",
      "exang     : 2\trecommand to Binary\n",
      "oldpeak   : 40\trecommand to numerical\n",
      "slope     : 3\trecommand to Categorical\n",
      "ca        : 4\trecommand to Categorical\n",
      "thal      : 5\trecommand to Categorical\n"
     ]
    }
   ],
   "source": [
    "binary_feature_names = []\n",
    "categorical_feature_names = []\n",
    "numeric_feature_names= []\n",
    "\n",
    "for name, values in df.items():\n",
    "    nunique = df[name].nunique()\n",
    "    print(f\"{name:10s}: {nunique}\", end='\\t')\n",
    "    if nunique == 2:\n",
    "        print(f\"recommand to Binary\")\n",
    "        binary_feature_names.append(name)\n",
    "    elif nunique <= 10:\n",
    "        print(f\"recommand to Categorical\")\n",
    "        categorical_feature_names.append(name)\n",
    "    else:\n",
    "        print(f\"recommand to numerical\")\n",
    "        numeric_feature_names.append(name)"
   ]
  },
  {
   "cell_type": "code",
   "execution_count": 126,
   "id": "8e98dc4b",
   "metadata": {},
   "outputs": [
    {
     "data": {
      "text/plain": [
       "['sex', 'fbs', 'exang']"
      ]
     },
     "execution_count": 126,
     "metadata": {},
     "output_type": "execute_result"
    }
   ],
   "source": [
    "binary_feature_names"
   ]
  },
  {
   "cell_type": "code",
   "execution_count": 127,
   "id": "997a3469",
   "metadata": {
    "scrolled": true
   },
   "outputs": [
    {
     "data": {
      "text/plain": [
       "['cp', 'restecg', 'slope', 'ca', 'thal']"
      ]
     },
     "execution_count": 127,
     "metadata": {},
     "output_type": "execute_result"
    }
   ],
   "source": [
    "categorical_feature_names"
   ]
  },
  {
   "cell_type": "code",
   "execution_count": 128,
   "id": "23e7e256",
   "metadata": {},
   "outputs": [
    {
     "data": {
      "text/plain": [
       "['age', 'trestbps', 'chol', 'thalach', 'oldpeak']"
      ]
     },
     "execution_count": 128,
     "metadata": {},
     "output_type": "execute_result"
    }
   ],
   "source": [
    "numeric_feature_names"
   ]
  },
  {
   "cell_type": "code",
   "execution_count": 130,
   "id": "1399bce7",
   "metadata": {},
   "outputs": [],
   "source": [
    "numeric_features = df[numeric_feature_names]"
   ]
  },
  {
   "cell_type": "code",
   "execution_count": 131,
   "id": "d362009e",
   "metadata": {},
   "outputs": [
    {
     "data": {
      "text/html": [
       "<div>\n",
       "<style scoped>\n",
       "    .dataframe tbody tr th:only-of-type {\n",
       "        vertical-align: middle;\n",
       "    }\n",
       "\n",
       "    .dataframe tbody tr th {\n",
       "        vertical-align: top;\n",
       "    }\n",
       "\n",
       "    .dataframe thead th {\n",
       "        text-align: right;\n",
       "    }\n",
       "</style>\n",
       "<table border=\"1\" class=\"dataframe\">\n",
       "  <thead>\n",
       "    <tr style=\"text-align: right;\">\n",
       "      <th></th>\n",
       "      <th>age</th>\n",
       "      <th>trestbps</th>\n",
       "      <th>chol</th>\n",
       "      <th>thalach</th>\n",
       "      <th>oldpeak</th>\n",
       "    </tr>\n",
       "  </thead>\n",
       "  <tbody>\n",
       "    <tr>\n",
       "      <th>0</th>\n",
       "      <td>63</td>\n",
       "      <td>145</td>\n",
       "      <td>233</td>\n",
       "      <td>150</td>\n",
       "      <td>2.3</td>\n",
       "    </tr>\n",
       "    <tr>\n",
       "      <th>1</th>\n",
       "      <td>67</td>\n",
       "      <td>160</td>\n",
       "      <td>286</td>\n",
       "      <td>108</td>\n",
       "      <td>1.5</td>\n",
       "    </tr>\n",
       "    <tr>\n",
       "      <th>2</th>\n",
       "      <td>67</td>\n",
       "      <td>120</td>\n",
       "      <td>229</td>\n",
       "      <td>129</td>\n",
       "      <td>2.6</td>\n",
       "    </tr>\n",
       "    <tr>\n",
       "      <th>3</th>\n",
       "      <td>37</td>\n",
       "      <td>130</td>\n",
       "      <td>250</td>\n",
       "      <td>187</td>\n",
       "      <td>3.5</td>\n",
       "    </tr>\n",
       "    <tr>\n",
       "      <th>4</th>\n",
       "      <td>41</td>\n",
       "      <td>130</td>\n",
       "      <td>204</td>\n",
       "      <td>172</td>\n",
       "      <td>1.4</td>\n",
       "    </tr>\n",
       "    <tr>\n",
       "      <th>...</th>\n",
       "      <td>...</td>\n",
       "      <td>...</td>\n",
       "      <td>...</td>\n",
       "      <td>...</td>\n",
       "      <td>...</td>\n",
       "    </tr>\n",
       "    <tr>\n",
       "      <th>298</th>\n",
       "      <td>52</td>\n",
       "      <td>118</td>\n",
       "      <td>186</td>\n",
       "      <td>190</td>\n",
       "      <td>0.0</td>\n",
       "    </tr>\n",
       "    <tr>\n",
       "      <th>299</th>\n",
       "      <td>43</td>\n",
       "      <td>132</td>\n",
       "      <td>341</td>\n",
       "      <td>136</td>\n",
       "      <td>3.0</td>\n",
       "    </tr>\n",
       "    <tr>\n",
       "      <th>300</th>\n",
       "      <td>65</td>\n",
       "      <td>135</td>\n",
       "      <td>254</td>\n",
       "      <td>127</td>\n",
       "      <td>2.8</td>\n",
       "    </tr>\n",
       "    <tr>\n",
       "      <th>301</th>\n",
       "      <td>48</td>\n",
       "      <td>130</td>\n",
       "      <td>256</td>\n",
       "      <td>150</td>\n",
       "      <td>0.0</td>\n",
       "    </tr>\n",
       "    <tr>\n",
       "      <th>302</th>\n",
       "      <td>63</td>\n",
       "      <td>150</td>\n",
       "      <td>407</td>\n",
       "      <td>154</td>\n",
       "      <td>4.0</td>\n",
       "    </tr>\n",
       "  </tbody>\n",
       "</table>\n",
       "<p>303 rows × 5 columns</p>\n",
       "</div>"
      ],
      "text/plain": [
       "     age  trestbps  chol  thalach  oldpeak\n",
       "0     63       145   233      150      2.3\n",
       "1     67       160   286      108      1.5\n",
       "2     67       120   229      129      2.6\n",
       "3     37       130   250      187      3.5\n",
       "4     41       130   204      172      1.4\n",
       "..   ...       ...   ...      ...      ...\n",
       "298   52       118   186      190      0.0\n",
       "299   43       132   341      136      3.0\n",
       "300   65       135   254      127      2.8\n",
       "301   48       130   256      150      0.0\n",
       "302   63       150   407      154      4.0\n",
       "\n",
       "[303 rows x 5 columns]"
      ]
     },
     "execution_count": 131,
     "metadata": {},
     "output_type": "execute_result"
    }
   ],
   "source": [
    "numeric_features"
   ]
  },
  {
   "cell_type": "code",
   "execution_count": 132,
   "id": "a0b3c1ec",
   "metadata": {},
   "outputs": [],
   "source": [
    "inputs = {}\n",
    "for name, column in df.items():\n",
    "    if type(column[0]) == str:\n",
    "        dtype = tf.string\n",
    "    elif (name in categorical_feature_names or \n",
    "          name in binary_feature_names):\n",
    "        dtype = tf.int64\n",
    "    else:\n",
    "        dtype = tf.float32\n",
    "        \n",
    "    inputs[name] = Input(shape=(), name=name, dtype=dtype)"
   ]
  },
  {
   "cell_type": "code",
   "execution_count": 133,
   "id": "884b9fd1",
   "metadata": {},
   "outputs": [
    {
     "data": {
      "text/plain": [
       "{'age': <KerasTensor: shape=(None,) dtype=float32 (created by layer 'age')>,\n",
       " 'sex': <KerasTensor: shape=(None,) dtype=int64 (created by layer 'sex')>,\n",
       " 'cp': <KerasTensor: shape=(None,) dtype=int64 (created by layer 'cp')>,\n",
       " 'trestbps': <KerasTensor: shape=(None,) dtype=float32 (created by layer 'trestbps')>,\n",
       " 'chol': <KerasTensor: shape=(None,) dtype=float32 (created by layer 'chol')>,\n",
       " 'fbs': <KerasTensor: shape=(None,) dtype=int64 (created by layer 'fbs')>,\n",
       " 'restecg': <KerasTensor: shape=(None,) dtype=int64 (created by layer 'restecg')>,\n",
       " 'thalach': <KerasTensor: shape=(None,) dtype=float32 (created by layer 'thalach')>,\n",
       " 'exang': <KerasTensor: shape=(None,) dtype=int64 (created by layer 'exang')>,\n",
       " 'oldpeak': <KerasTensor: shape=(None,) dtype=float32 (created by layer 'oldpeak')>,\n",
       " 'slope': <KerasTensor: shape=(None,) dtype=int64 (created by layer 'slope')>,\n",
       " 'ca': <KerasTensor: shape=(None,) dtype=int64 (created by layer 'ca')>,\n",
       " 'thal': <KerasTensor: shape=(None,) dtype=string (created by layer 'thal')>}"
      ]
     },
     "execution_count": 133,
     "metadata": {},
     "output_type": "execute_result"
    }
   ],
   "source": [
    "inputs"
   ]
  },
  {
   "cell_type": "markdown",
   "id": "dc00f4b2",
   "metadata": {},
   "source": [
    "##### Binary inputs"
   ]
  },
  {
   "cell_type": "code",
   "execution_count": 134,
   "id": "501bea93",
   "metadata": {},
   "outputs": [
    {
     "data": {
      "text/plain": [
       "[<KerasTensor: shape=(None, 1) dtype=float32 (created by layer 'tf.cast_3')>,\n",
       " <KerasTensor: shape=(None, 1) dtype=float32 (created by layer 'tf.cast_4')>,\n",
       " <KerasTensor: shape=(None, 1) dtype=float32 (created by layer 'tf.cast_5')>]"
      ]
     },
     "execution_count": 134,
     "metadata": {},
     "output_type": "execute_result"
    }
   ],
   "source": [
    "preprocessed = []\n",
    "\n",
    "for name in binary_feature_names:\n",
    "    inp = inputs[name]\n",
    "    inp = inp[:, tf.newaxis]\n",
    "    float_value = tf.cast(inp, tf.float32)\n",
    "    preprocessed.append(float_value)\n",
    "\n",
    "preprocessed"
   ]
  },
  {
   "cell_type": "markdown",
   "id": "475237fd",
   "metadata": {},
   "source": [
    "##### Numeric inputs"
   ]
  },
  {
   "cell_type": "code",
   "execution_count": 135,
   "id": "1f2b004a",
   "metadata": {},
   "outputs": [],
   "source": [
    "def stack_dict(inputs, fun=tf.stack):\n",
    "    values = []\n",
    "    for key in sorted(inputs.keys()):\n",
    "        values.append(tf.cast(inputs[key], dtype=tf.float32))\n",
    "    \n",
    "    return fun(values, axis=-1)"
   ]
  },
  {
   "cell_type": "code",
   "execution_count": 136,
   "id": "28763b14",
   "metadata": {},
   "outputs": [
    {
     "name": "stderr",
     "output_type": "stream",
     "text": [
      "2022-08-06 15:41:00.112854: I tensorflow/core/grappler/optimizers/custom_graph_optimizer_registry.cc:113] Plugin optimizer for device_type GPU is enabled.\n",
      "2022-08-06 15:41:00.127217: I tensorflow/core/grappler/optimizers/custom_graph_optimizer_registry.cc:113] Plugin optimizer for device_type GPU is enabled.\n"
     ]
    }
   ],
   "source": [
    "normalizer = tf.keras.layers.Normalization(axis=-1)\n",
    "normalizer.adapt(stack_dict(dict(numeric_features)))"
   ]
  },
  {
   "cell_type": "code",
   "execution_count": 139,
   "id": "3bfb5b23",
   "metadata": {},
   "outputs": [
    {
     "ename": "NameError",
     "evalue": "name 'nemeric_normalized' is not defined",
     "output_type": "error",
     "traceback": [
      "\u001b[0;31m---------------------------------------------------------------------------\u001b[0m",
      "\u001b[0;31mNameError\u001b[0m                                 Traceback (most recent call last)",
      "Input \u001b[0;32mIn [139]\u001b[0m, in \u001b[0;36m<cell line: 8>\u001b[0;34m()\u001b[0m\n\u001b[1;32m      5\u001b[0m numeric_inputs \u001b[38;5;241m=\u001b[39m stack_dict(numeric_inputs)\n\u001b[1;32m      6\u001b[0m numeric_normalized \u001b[38;5;241m=\u001b[39m normalizer(numeric_inputs)\n\u001b[0;32m----> 8\u001b[0m preprocessed\u001b[38;5;241m.\u001b[39mappend(\u001b[43mnemeric_normalized\u001b[49m)\n\u001b[1;32m     10\u001b[0m preprocessed\n",
      "\u001b[0;31mNameError\u001b[0m: name 'nemeric_normalized' is not defined"
     ]
    }
   ],
   "source": [
    "numeric_inputs = {}\n",
    "for name in numeric_feature_names:\n",
    "    numeric_inputs[name] = inputs[name]\n",
    "\n",
    "numeric_inputs = stack_dict(numeric_inputs)\n",
    "numeric_normalized = normalizer(numeric_inputs)\n",
    "\n",
    "preprocessed.append(nemeric_normalized)\n",
    "\n",
    "preprocessed"
   ]
  },
  {
   "cell_type": "code",
   "execution_count": 138,
   "id": "7135d5f2",
   "metadata": {},
   "outputs": [
    {
     "data": {
      "text/plain": [
       "['age', 'trestbps', 'chol', 'thalach', 'oldpeak']"
      ]
     },
     "execution_count": 138,
     "metadata": {},
     "output_type": "execute_result"
    }
   ],
   "source": [
    "numeric_feature_names"
   ]
  },
  {
   "cell_type": "code",
   "execution_count": null,
   "id": "aa2f8263",
   "metadata": {},
   "outputs": [],
   "source": []
  },
  {
   "cell_type": "code",
   "execution_count": null,
   "id": "811f77a4",
   "metadata": {},
   "outputs": [],
   "source": []
  },
  {
   "cell_type": "code",
   "execution_count": null,
   "id": "2b748af8",
   "metadata": {},
   "outputs": [],
   "source": []
  },
  {
   "cell_type": "code",
   "execution_count": null,
   "id": "1b672a26",
   "metadata": {},
   "outputs": [],
   "source": []
  },
  {
   "cell_type": "code",
   "execution_count": null,
   "id": "42076660",
   "metadata": {},
   "outputs": [],
   "source": []
  },
  {
   "cell_type": "code",
   "execution_count": null,
   "id": "d0498b3b",
   "metadata": {},
   "outputs": [],
   "source": []
  },
  {
   "cell_type": "code",
   "execution_count": null,
   "id": "a83708eb",
   "metadata": {},
   "outputs": [],
   "source": []
  },
  {
   "cell_type": "code",
   "execution_count": null,
   "id": "701c0c46",
   "metadata": {},
   "outputs": [],
   "source": []
  },
  {
   "cell_type": "code",
   "execution_count": null,
   "id": "4cb5ca28",
   "metadata": {},
   "outputs": [],
   "source": []
  }
 ],
 "metadata": {
  "kernelspec": {
   "display_name": "tf25",
   "language": "python",
   "name": "tf25"
  },
  "language_info": {
   "codemirror_mode": {
    "name": "ipython",
    "version": 3
   },
   "file_extension": ".py",
   "mimetype": "text/x-python",
   "name": "python",
   "nbconvert_exporter": "python",
   "pygments_lexer": "ipython3",
   "version": "3.8.13"
  }
 },
 "nbformat": 4,
 "nbformat_minor": 5
}
